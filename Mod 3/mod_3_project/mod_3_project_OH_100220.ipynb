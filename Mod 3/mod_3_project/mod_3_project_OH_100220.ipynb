{
 "cells": [
  {
   "cell_type": "markdown",
   "metadata": {},
   "source": [
    "# Mod 3 Project Office Hours: 10/02/20"
   ]
  },
  {
   "cell_type": "markdown",
   "metadata": {},
   "source": [
    "## Announcements & Reminders"
   ]
  },
  {
   "cell_type": "markdown",
   "metadata": {},
   "source": [
    "### Project Deadlines\n",
    "> - Soft Deadline: Saturday 10/03/20\n",
    "- Project Reviews 10/05 - 10/17\n",
    "- Hard Deadline: 10/17\n",
    "\n",
    "- Please **schedule your project review** for a day next week 10/05 - 10/10 \n",
    " - https://go.oncehub.com/OfficeHoursfor041320PT\n"
   ]
  },
  {
   "cell_type": "markdown",
   "metadata": {},
   "source": [
    "### Announcements"
   ]
  },
  {
   "cell_type": "markdown",
   "metadata": {},
   "source": [
    "> - **All recurring one on ones for the week of 10/05 - 10/10 are canceled** (to make room for project reviews.)\n"
   ]
  },
  {
   "cell_type": "markdown",
   "metadata": {},
   "source": [
    "> - **We will be kicking off Mod 4 on Wednesday.** with Section 33 - Principal Component Analysis.\n",
    "    - [Learn Study Group](https://learn.co/study-groups/041320pt-section-33-principal-component-analys)\n",
    "    - ***Remember:  study groups for Mod 4 will only show up if you are on the Module 4 course track.***    <br><br>\n",
    "- [ ] **Fill out the End-of-Mod Survey for Mod 3**\n",
    "    - [Link](https://flatironschoolforms.formstack.com/forms/student_survey?Discipline=Data+Science&batch_uuid=0e649233-9103-4a71-ad04-6400a472d4d1&learn_uuid=c8f54c29-d996-4ef0-9809-2aa8d4b061cb&lesson_uuid=f7f29ecf-cc18-481c-972a-fea2c69dd507) (Also pinned to Slack channel. )"
   ]
  },
  {
   "cell_type": "markdown",
   "metadata": {},
   "source": [
    "# Questions?"
   ]
  },
  {
   "cell_type": "code",
   "execution_count": null,
   "metadata": {},
   "outputs": [],
   "source": []
  }
 ],
 "metadata": {
  "kernelspec": {
   "display_name": "learn-env",
   "language": "python",
   "name": "learn-env"
  },
  "language_info": {
   "codemirror_mode": {
    "name": "ipython",
    "version": 3
   },
   "file_extension": ".py",
   "mimetype": "text/x-python",
   "name": "python",
   "nbconvert_exporter": "python",
   "pygments_lexer": "ipython3",
   "version": "3.6.11"
  },
  "toc": {
   "base_numbering": 1,
   "nav_menu": {},
   "number_sections": false,
   "sideBar": true,
   "skip_h1_title": false,
   "title_cell": "Table of Contents",
   "title_sidebar": "Contents",
   "toc_cell": false,
   "toc_position": {},
   "toc_section_display": true,
   "toc_window_display": true
  }
 },
 "nbformat": 4,
 "nbformat_minor": 4
}
