{
 "cells": [
  {
   "cell_type": "markdown",
   "metadata": {},
   "source": [
    "# Section 39: Foundations of Natural Language Processing"
   ]
  },
  {
   "cell_type": "markdown",
   "metadata": {},
   "source": [
    "- xx/xx/xx\n",
    "- my-best-lesson-plans"
   ]
  },
  {
   "cell_type": "markdown",
   "metadata": {},
   "source": [
    "## Learning Objectives"
   ]
  },
  {
   "cell_type": "markdown",
   "metadata": {},
   "source": [
    "- Introduce the field of Natural Language Processing\n",
    "- Learn about the extensive preprocessing involved with text data\n",
    "- Walk through text classification - Finding Trump \n"
   ]
  },
  {
   "cell_type": "markdown",
   "metadata": {},
   "source": [
    "## Questions"
   ]
  },
  {
   "cell_type": "markdown",
   "metadata": {},
   "source": [
    "### Questions from Gdoc"
   ]
  },
  {
   "cell_type": "markdown",
   "metadata": {},
   "source": [
    "### Additional Questions?\n"
   ]
  },
  {
   "cell_type": "markdown",
   "metadata": {},
   "source": []
  },
  {
   "cell_type": "markdown",
   "metadata": {},
   "source": [
    "# Natural Language Processing"
   ]
  },
  {
   "cell_type": "markdown",
   "metadata": {},
   "source": [
    "> **_Natural Language Processing_**, or **_NLP_**, is the study of how computers can interact with humans through the use of human language.  Although this is a field that is quite important to Data Scientists, it does not belong to Data Science alone.  NLP has been around for quite a while, and sits at the intersection of *Computer Science*, *Artificial Intelligence*, *Linguistics*, and *Information Theory*. "
   ]
  },
  {
   "cell_type": "markdown",
   "metadata": {},
   "source": [
    "## Where is NLP Used?"
   ]
  },
  {
   "cell_type": "markdown",
   "metadata": {},
   "source": [
    "\n",
    "- Reviews (i.e. Amazon)\n",
    "- Stock market trading\n",
    "- AI Assistants\n",
    "- Spam Detection"
   ]
  },
  {
   "cell_type": "markdown",
   "metadata": {},
   "source": [
    "- **Demonstration:**\n",
    "    - [Google Duplex AI Assistant](https://youtu.be/D5VN56jQMWM)"
   ]
  },
  {
   "cell_type": "markdown",
   "metadata": {},
   "source": [
    "# Working with Text Data"
   ]
  },
  {
   "cell_type": "markdown",
   "metadata": {},
   "source": [
    "## Preprocessing"
   ]
  },
  {
   "cell_type": "markdown",
   "metadata": {},
   "source": [
    "**Preparing text data requires more processing than normal data.**\n",
    "1. We must remove things like:\n",
    "    - punctuation\n",
    "    - numbers\n",
    "    - upper vs lowercase letters\n",
    "    \n",
    "    \n",
    "2. It is always recommended that go a step beyond this and remove **commonly used words that contain little information (called \"stopwords\")** for our machine learning algorithms. Words like: the,was,he,she, it,etc.\n",
    "\n",
    "\n",
    "3. Additionally, most analyses **need the text tokenzied** into a list of words and not in a natural sentence format. Instead, they are a list of words (**tokens**) separated by \"`,`\", which tells the algorithm what should be considered one word.\n",
    "\n",
    "\n",
    "4. While not always required, it is often a good idea to reduce similar words down to a shared core.\n",
    "There are often **multiple variants of the same word with the same/simiar meaning**,<br> but one may plural **(i.e. \"democrat\" and \"democrats\")**, or form of words is different **(i.e. run, running).**<br> Simplifying words down to the basic core word (or word *stem*) is referred to as **\"stemming\"**. <br><br> A more advanced form of this also understands things like words that are just in a **different tense** such as  i.e.  **\"ran\", \"run\", \"running\"**. This process is called  **\"lemmatization**, where the words are reduced to their simplest form, called \"**lemmas**\"<br>  \n",
    "    - Stemming<br><img src=\"https://raw.githubusercontent.com/learn-co-students/dsc-nlp-and-word-vectorization-online-ds-ft-100719/master/images/new_stemming.png\" width=40%>\n",
    "    - Lemmatization\n",
    "    \n",
    "|   Word   |  Stem | Lemma |\n",
    "|:--------:|:-----:|:-----:|\n",
    "|  Studies | Studi | Study |\n",
    "| Studying | Study | Study |\n",
    "\n",
    "5. Finally, we have to convert our text data into numeric form for our machine learning models to analyze, a process called **vectorization**."
   ]
  },
  {
   "cell_type": "markdown",
   "metadata": {},
   "source": [
    "## Vectorization"
   ]
  },
  {
   "cell_type": "markdown",
   "metadata": {},
   "source": [
    "- For computers to process text it needs to be converted to a numerical representation of the text.\n",
    "- **There are several different ways we can vectorize our text:**\n",
    "    - Count vectorization\n",
    "    - Term Frequency-Inverse Document Frequency (TF-IDF)\n",
    "        -  Used for multiple texts\n",
    "    - Word Embeddings (Deep NLP)\n",
    "    \n",
    "    \n",
    ">- **_Term Frequency_** is calculated with the following formula:\n",
    "$$ \\text{Term Frequency}(t) = \\frac{\\text{number of times it appears in a document}} {\\text{total number of terms in the document}} $$ <br>\n",
    "- Which can also be represented as:\n",
    "$$\\begin{align}\n",
    " \\text{tf}_{i,j} = \\dfrac{n_{i,j}}{\\displaystyle \\sum_k n_{i,j} }\n",
    "\\end{align} $$\n",
    "\n",
    "> - **_Inverse Document Frequency_** is calculated with the following formula:\n",
    "$$ IDF(t) = log_e(\\frac{\\text{Total Number of Documents}}{\\text{Number of Documents with it in it}})$$<br>\n",
    "- Which can also be represented as: \n",
    "$$\\begin{align}\n",
    "idf(w) = \\log \\dfrac{N}{df_t}\n",
    "\\end{align} $$\n",
    "\n",
    "> The **_TF-IDF_** value for a given word in a given document is just found by multiplying the two!\n",
    "$$ \\begin{align}\n",
    "w_{i,j} = tf_{i,j} \\times \\log \\dfrac{N}{df_i} \\\\\n",
    "tf_{i,j} = \\text{number of occurences of } i \\text{ in} j \\\\\n",
    "df_i = \\text{number of documents containing } i \\\\\n",
    "N = \\text{total number of documents}\n",
    "\\end{align} $$\n",
    "\n",
    "- There are additional ways to vectorize using Deep Neural Networks to create Word Embeddings (see Module 4 > Appendix: Deep NLP)"
   ]
  },
  {
   "cell_type": "markdown",
   "metadata": {},
   "source": [
    "## Feature Engineering for Text Data"
   ]
  },
  {
   "cell_type": "markdown",
   "metadata": {},
   "source": [
    "\n",
    "* Do we remove stop words or not?    \n",
    "* Do we stem or lemmatize our text data, or leave the words as is?   \n",
    "* Is basic tokenization enough, or do we need to support special edge cases through the use of regex?  \n",
    "* Do we use the entire vocabulary, or just limit the model to a subset of the most frequently used words? If so, how many?  \n",
    "* Do we engineer other features, such as bigrams, or POS tags, or Mutual Information Scores?   \n",
    "* What sort of vectorization should we use in our model? Boolean Vectorization? Count Vectorization? TF-IDF? More advanced vectorization strategies such as Word2Vec?  \n"
   ]
  },
  {
   "cell_type": "markdown",
   "metadata": {},
   "source": [
    "# Practicing Text Preprocessing - Finding Trump "
   ]
  },
  {
   "cell_type": "markdown",
   "metadata": {},
   "source": [
    "## Tweet Natural Language Processing Overview"
   ]
  },
  {
   "cell_type": "markdown",
   "metadata": {},
   "source": [
    "To prepare Donal Trump's tweets for modeling, **it is essential to preprocess the text** and simplify its contents.\n",
    "<br><br>\n",
    "1. **At a minimum, things like:**\n",
    "    - punctuation\n",
    "    - numbers\n",
    "    - upper vs lowercase letters<br>\n",
    "    ***must*** be addressed before any initial analyses. I refer tho this initial cleaning as **\"minimal cleaning\"** of the text content<br>\n",
    "    \n",
    "> Version 1 of the tweet processing removes these items, as well as the removal of any urls in a tweet. The resulting data column is referred to here as \"content_min_clean\".\n",
    "\n",
    "<br><br>\n",
    "2. It is **always recommended** that go a step beyond this and<br> remove **commonly used words that contain little information** <br>for our machine learning algorithms. Words like: (the,was,he,she, it,etc.)<br> are called **\"stopwords\"**, and it is critical to address them as well.\n",
    "\n",
    "> Version 2 of the tweet processing removes these items and the resulting data column is referred here as `cleaned_stopped_content`\n",
    "\n",
    "<br>\n",
    "\n",
    "3. Additionally, many analyses **need the text tokenzied** into a list of words<br> and not in a natural sentence format. Instead, they are a list of words (**tokens**) separated by \",\", which tells the algorithm what should be considered one word.<br><br>For the tweet processing, I used a version of tokenization, called `regexp_tokenziation` <br>which uses pattern of letters and symbols (the `expression`) <br>that indicate what combination of alpha numeric characters should be considered a single token.<br><br>The pattern I used was `\"([a-zA-Z]+(?:'[a-z]+)?)\"`, which allows for words such as \"can't\" that contain \"'\" in the middle of word. This processes was actually applied in order to process Version 1 and 2 of the Tweets, but the resulting text was put back into sentence form. \n",
    "\n",
    "> Version 3 of the tweets keeps the text in their regexp-tokenized form and is reffered to as `cleaned_stopped_tokens`\n",
    "<br>\n",
    "\n",
    "4. While not always required, it is often a good idea to reduce similar words down to a shared core.\n",
    "There are often **multiple variants of the same word with the same/simiar meaning**,<br> but one may plural **(i.e. \"democrat\" and \"democrats\")**, or form of words is different **(i.e. run, running).**<br> Simplifying words down to the basic core word (or word *stem*) is referred to as **\"stemming\"**. <br><br> A more advanced form of this also understands things like words that are just in a **different tense** such as  i.e.  **\"ran\", \"run\", \"running\"**. This process is called  **\"lemmatization**, where the words are reduced to their simplest form, called \"**lemmas**\"<br>  \n",
    "\n",
    "> Version 4 of the tweets are all reduced down to their word lemmas, futher aiding the algorithm in learning the meaning of the texts.\n",
    "<!-- \n",
    "\n",
    "#### EXAMPLE TWEETS AND PROCESSING STEPS:\n",
    "\n",
    "**TWEET FROM 08-25-2017 12:25:10:**\n",
    "* **[\"content\"] column:**<p><blockquote>***\"Strange statement by Bob Corker considering that he is constantly asking me whether or not he should run again in '18. Tennessee not happy!\"***\n",
    "    \n",
    "    \n",
    "* **[\"content_min_clean\"] column:**<p><blockquote>***\"strange statement by bob corker considering that he is constantly asking me whether or not he should run again in  18  tennessee not happy \"***\n",
    "    \n",
    "    \n",
    "* **[\"cleaned_stopped_content\"] column:**<p><blockquote>***\"strange statement bob corker considering constantly asking whether run tennessee happy\"***\n",
    "    \n",
    "    \n",
    "* **[\"cleaned_stopped_tokens\"] column:**<p><blockquote>***\"['strange', 'statement', 'bob', 'corker', 'considering', 'constantly', 'asking', 'whether', 'run', 'tennessee', 'happy']\"***\n",
    "    \n",
    "    \n",
    "* **[\"cleaned_stopped_lemmas\"] column:**<p><blockquote>***\"strange statement bob corker considering constantly asking whether run tennessee happy\"*** -->"
   ]
  },
  {
   "cell_type": "markdown",
   "metadata": {},
   "source": [
    "## Finding Trump - Code"
   ]
  },
  {
   "cell_type": "code",
   "execution_count": 97,
   "metadata": {
    "ExecuteTime": {
     "end_time": "2020-10-24T19:14:34.725321Z",
     "start_time": "2020-10-24T19:14:34.723190Z"
    }
   },
   "outputs": [],
   "source": [
    "# !pip install -U fsds\n",
    "from fsds.imports import *"
   ]
  },
  {
   "cell_type": "code",
   "execution_count": 98,
   "metadata": {
    "ExecuteTime": {
     "end_time": "2020-10-24T19:14:35.919659Z",
     "start_time": "2020-10-24T19:14:34.729539Z"
    }
   },
   "outputs": [
    {
     "data": {
      "text/html": [
       "<div>\n",
       "<style scoped>\n",
       "    .dataframe tbody tr th:only-of-type {\n",
       "        vertical-align: middle;\n",
       "    }\n",
       "\n",
       "    .dataframe tbody tr th {\n",
       "        vertical-align: top;\n",
       "    }\n",
       "\n",
       "    .dataframe thead th {\n",
       "        text-align: right;\n",
       "    }\n",
       "</style>\n",
       "<table border=\"1\" class=\"dataframe\">\n",
       "  <thead>\n",
       "    <tr style=\"text-align: right;\">\n",
       "      <th></th>\n",
       "      <th>source</th>\n",
       "      <th>text</th>\n",
       "      <th>retweet_count</th>\n",
       "      <th>favorite_count</th>\n",
       "      <th>is_retweet</th>\n",
       "      <th>id_str</th>\n",
       "    </tr>\n",
       "    <tr>\n",
       "      <th>created_at</th>\n",
       "      <th></th>\n",
       "      <th></th>\n",
       "      <th></th>\n",
       "      <th></th>\n",
       "      <th></th>\n",
       "      <th></th>\n",
       "    </tr>\n",
       "  </thead>\n",
       "  <tbody>\n",
       "    <tr>\n",
       "      <th>2016-12-01 14:37:57</th>\n",
       "      <td>Twitter for iPhone</td>\n",
       "      <td>My thoughts and prayers are with those affecte...</td>\n",
       "      <td>12077</td>\n",
       "      <td>65724</td>\n",
       "      <td>False</td>\n",
       "      <td>804333718999539712</td>\n",
       "    </tr>\n",
       "    <tr>\n",
       "      <th>2016-12-01 14:38:09</th>\n",
       "      <td>Twitter for Android</td>\n",
       "      <td>Getting ready to leave for the Great State of ...</td>\n",
       "      <td>9834</td>\n",
       "      <td>57249</td>\n",
       "      <td>False</td>\n",
       "      <td>804333771021570048</td>\n",
       "    </tr>\n",
       "    <tr>\n",
       "      <th>2016-12-01 22:52:10</th>\n",
       "      <td>Twitter for iPhone</td>\n",
       "      <td>Heading to U.S. Bank Arena in Cincinnati Ohio ...</td>\n",
       "      <td>5564</td>\n",
       "      <td>31256</td>\n",
       "      <td>False</td>\n",
       "      <td>804458095569158144</td>\n",
       "    </tr>\n",
       "    <tr>\n",
       "      <th>2016-12-02 02:45:18</th>\n",
       "      <td>Twitter for iPhone</td>\n",
       "      <td>Thank you Ohio! Together we made history – and...</td>\n",
       "      <td>17283</td>\n",
       "      <td>72196</td>\n",
       "      <td>False</td>\n",
       "      <td>804516764562374656</td>\n",
       "    </tr>\n",
       "    <tr>\n",
       "      <th>2016-12-03 00:44:20</th>\n",
       "      <td>Twitter for Android</td>\n",
       "      <td>The President of Taiwan CALLED ME today to wis...</td>\n",
       "      <td>24700</td>\n",
       "      <td>111106</td>\n",
       "      <td>False</td>\n",
       "      <td>804848711599882240</td>\n",
       "    </tr>\n",
       "  </tbody>\n",
       "</table>\n",
       "</div>"
      ],
      "text/plain": [
       "                                  source  \\\n",
       "created_at                                 \n",
       "2016-12-01 14:37:57   Twitter for iPhone   \n",
       "2016-12-01 14:38:09  Twitter for Android   \n",
       "2016-12-01 22:52:10   Twitter for iPhone   \n",
       "2016-12-02 02:45:18   Twitter for iPhone   \n",
       "2016-12-03 00:44:20  Twitter for Android   \n",
       "\n",
       "                                                                  text  \\\n",
       "created_at                                                               \n",
       "2016-12-01 14:37:57  My thoughts and prayers are with those affecte...   \n",
       "2016-12-01 14:38:09  Getting ready to leave for the Great State of ...   \n",
       "2016-12-01 22:52:10  Heading to U.S. Bank Arena in Cincinnati Ohio ...   \n",
       "2016-12-02 02:45:18  Thank you Ohio! Together we made history – and...   \n",
       "2016-12-03 00:44:20  The President of Taiwan CALLED ME today to wis...   \n",
       "\n",
       "                     retweet_count  favorite_count is_retweet  \\\n",
       "created_at                                                      \n",
       "2016-12-01 14:37:57          12077           65724      False   \n",
       "2016-12-01 14:38:09           9834           57249      False   \n",
       "2016-12-01 22:52:10           5564           31256      False   \n",
       "2016-12-02 02:45:18          17283           72196      False   \n",
       "2016-12-03 00:44:20          24700          111106      False   \n",
       "\n",
       "                                 id_str  \n",
       "created_at                               \n",
       "2016-12-01 14:37:57  804333718999539712  \n",
       "2016-12-01 14:38:09  804333771021570048  \n",
       "2016-12-01 22:52:10  804458095569158144  \n",
       "2016-12-02 02:45:18  804516764562374656  \n",
       "2016-12-03 00:44:20  804848711599882240  "
      ]
     },
     "execution_count": 98,
     "metadata": {},
     "output_type": "execute_result"
    }
   ],
   "source": [
    "import pandas as pd\n",
    "finding_trump = '../finding-trump.csv'#'https://raw.githubusercontent.com/jirvingphd/online-ds-pt-1007109-text-classification-finding-trump/master/finding-trump.csv'\n",
    "\n",
    "df = pd.read_csv(finding_trump,#'https://raw.githubusercontent.com/jirvingphd/capstone-project-using-trumps-tweets-to-predict-stock-market/master/data/trump_tweets_12012016_to_01012020.csv',\n",
    "                index_col='created_at',parse_dates=['created_at'])\n",
    "df.sort_index(inplace=True)\n",
    "\n",
    "df.head()"
   ]
  },
  {
   "cell_type": "code",
   "execution_count": 99,
   "metadata": {
    "ExecuteTime": {
     "end_time": "2020-10-24T19:14:35.926753Z",
     "start_time": "2020-10-24T19:14:35.922136Z"
    }
   },
   "outputs": [
    {
     "data": {
      "text/plain": [
       "['My thoughts and prayers are with those affected by the tragic storms and tornadoes in the Southeastern United States. Stay safe!',\n",
       " 'Getting ready to leave for the Great State of Indiana and meet the hard working and wonderful people of Carrier A.C.',\n",
       " 'Heading to U.S. Bank Arena in Cincinnati Ohio for a 7pm rally. Join me! Tickets: https://t.co/HiWqZvHv6M',\n",
       " 'Thank you Ohio! Together we made history – and now the real work begins. America will start winning again!… https://t.co/sVNSNJE7Uf',\n",
       " 'The President of Taiwan CALLED ME today to wish me congratulations on winning the Presidency. Thank you!',\n",
       " 'Interesting how the U.S. sells Taiwan billions of dollars of military equipment but I should not accept a congratulatory call.',\n",
       " 'Rexnord of Indiana is moving to Mexico and rather viciously firing all of its 300 workers. This is happening all over our country. No more!',\n",
       " '@TigerWoods: Can’t wait to get back out there and mix it up with the boys. –TW #heroworldchallenge Great to have you back Tiger - Special!',\n",
       " 'State Treasurer John Kennedy is my choice for US Senator from Louisiana. Early voting today; election next Saturday.',\n",
       " 'Our great VPE @mike_pence is in Louisiana campaigning for John Kennedy for US Senate. John will be a tremendous help to us in Washington.']"
      ]
     },
     "execution_count": 99,
     "metadata": {},
     "output_type": "execute_result"
    }
   ],
   "source": [
    "## Create a variable \"corpus\" containing all text\n",
    "corpus = df['text'].to_list()\n",
    "corpus[:10]"
   ]
  },
  {
   "cell_type": "markdown",
   "metadata": {},
   "source": [
    "### Make a Bag-of-Words Frequency Distribution "
   ]
  },
  {
   "cell_type": "markdown",
   "metadata": {},
   "source": [
    "- \"bag-of-words\": collection of all words from a corpus and their frequencies\n"
   ]
  },
  {
   "cell_type": "code",
   "execution_count": 100,
   "metadata": {
    "ExecuteTime": {
     "end_time": "2020-10-24T19:14:35.933481Z",
     "start_time": "2020-10-24T19:14:35.929545Z"
    }
   },
   "outputs": [
    {
     "data": {
      "text/plain": [
       "['My thoughts and prayers are with those affected by the tragic storms and tornadoes in the Southeastern United States. Stay safe!',\n",
       " 'Getting ready to leave for the Great State of Indiana and meet the hard working and wonderful people of Carrier A.C.',\n",
       " 'Heading to U.S. Bank Arena in Cincinnati Ohio for a 7pm rally. Join me! Tickets: https://t.co/HiWqZvHv6M',\n",
       " 'Thank you Ohio! Together we made history – and now the real work begins. America will start winning again!… https://t.co/sVNSNJE7Uf',\n",
       " 'The President of Taiwan CALLED ME today to wish me congratulations on winning the Presidency. Thank you!']"
      ]
     },
     "execution_count": 100,
     "metadata": {},
     "output_type": "execute_result"
    }
   ],
   "source": [
    "from nltk import FreqDist\n",
    "corpus[:5]"
   ]
  },
  {
   "cell_type": "code",
   "execution_count": 101,
   "metadata": {
    "ExecuteTime": {
     "end_time": "2020-10-24T19:14:37.365275Z",
     "start_time": "2020-10-24T19:14:35.935426Z"
    }
   },
   "outputs": [
    {
     "data": {
      "text/plain": [
       "[(' ', 355279),\n",
       " ('e', 193636),\n",
       " ('t', 151004),\n",
       " ('a', 133814),\n",
       " ('o', 132306),\n",
       " ('n', 115782),\n",
       " ('i', 111789),\n",
       " ('r', 107277),\n",
       " ('s', 97228),\n",
       " ('h', 76548),\n",
       " ('l', 67415),\n",
       " ('d', 57543),\n",
       " ('u', 46550),\n",
       " ('c', 45746),\n",
       " ('m', 43554),\n",
       " ('p', 37247),\n",
       " ('g', 35477),\n",
       " ('y', 33375),\n",
       " ('.', 32244),\n",
       " ('w', 30005),\n",
       " ('f', 29211),\n",
       " ('b', 22246),\n",
       " ('T', 19911),\n",
       " ('v', 17186),\n",
       " (',', 14545),\n",
       " ('k', 13783),\n",
       " ('/', 13588),\n",
       " ('S', 12999),\n",
       " ('A', 12922),\n",
       " ('R', 12294),\n",
       " ('C', 10866),\n",
       " ('I', 10743),\n",
       " (':', 9821),\n",
       " ('N', 9009),\n",
       " ('!', 8861),\n",
       " ('D', 8787),\n",
       " ('@', 8646),\n",
       " ('M', 8063),\n",
       " ('E', 8008),\n",
       " ('P', 7726),\n",
       " ('W', 7249),\n",
       " ('O', 6828),\n",
       " ('H', 6614),\n",
       " ('B', 6115),\n",
       " ('G', 5937),\n",
       " ('F', 5701),\n",
       " ('L', 4774),\n",
       " ('U', 4765),\n",
       " ('0', 4659),\n",
       " ('x', 4068),\n",
       " ('J', 4060),\n",
       " ('’', 3445),\n",
       " ('1', 3191),\n",
       " ('j', 3084),\n",
       " ('…', 2956),\n",
       " ('2', 2812),\n",
       " ('-', 2672),\n",
       " ('K', 2622),\n",
       " ('V', 2460),\n",
       " ('Y', 2194),\n",
       " (';', 2105),\n",
       " ('z', 2082),\n",
       " ('&', 2079),\n",
       " ('“', 1993),\n",
       " ('”', 1890),\n",
       " ('5', 1848),\n",
       " ('#', 1785),\n",
       " ('3', 1730),\n",
       " ('4', 1620),\n",
       " ('7', 1534),\n",
       " ('6', 1491),\n",
       " ('8', 1468),\n",
       " ('9', 1437),\n",
       " ('q', 1346),\n",
       " ('(', 1181),\n",
       " (')', 1174),\n",
       " (\"'\", 1145),\n",
       " ('?', 1007),\n",
       " ('Z', 922),\n",
       " ('X', 862),\n",
       " ('Q', 828),\n",
       " ('\"', 797),\n",
       " ('%', 487),\n",
       " ('_', 469),\n",
       " ('🇺', 308),\n",
       " ('🇸', 305),\n",
       " ('$', 257),\n",
       " ('–', 166),\n",
       " ('—', 148),\n",
       " ('️', 131),\n",
       " ('\\n', 80),\n",
       " ('‘', 60),\n",
       " ('➡', 59),\n",
       " ('\\u2066', 52),\n",
       " ('\\u2069', 47),\n",
       " ('🚨', 45),\n",
       " ('*', 43),\n",
       " ('✅', 36),\n",
       " ('+', 33),\n",
       " ('、', 30)]"
      ]
     },
     "execution_count": 101,
     "metadata": {},
     "output_type": "execute_result"
    }
   ],
   "source": [
    "## Make a FreqDist from the corpus\n",
    "freq= FreqDist(','.join(corpus))\n",
    "\n",
    "## Display 100 most common words\n",
    "freq.most_common(100)"
   ]
  },
  {
   "cell_type": "markdown",
   "metadata": {},
   "source": [
    "> That's not quite right..."
   ]
  },
  {
   "cell_type": "code",
   "execution_count": 102,
   "metadata": {
    "ExecuteTime": {
     "end_time": "2020-10-24T19:14:40.332247Z",
     "start_time": "2020-10-24T19:14:37.366910Z"
    }
   },
   "outputs": [
    {
     "data": {
      "text/plain": [
       "[('the', 15560),\n",
       " (',', 14160),\n",
       " ('.', 13705),\n",
       " (':', 9462),\n",
       " ('to', 9308),\n",
       " ('!', 8861),\n",
       " ('@', 8646),\n",
       " ('and', 8497),\n",
       " ('of', 7176),\n",
       " ('a', 5658),\n",
       " ('is', 5096),\n",
       " ('in', 4996),\n",
       " ('https', 4265),\n",
       " ('for', 4081),\n",
       " ('RT', 3819),\n",
       " ('’', 3445),\n",
       " ('on', 3150),\n",
       " ('I', 3132),\n",
       " ('that', 3031),\n",
       " ('are', 2825),\n",
       " ('with', 2650),\n",
       " ('...', 2620),\n",
       " ('be', 2501),\n",
       " ('will', 2486),\n",
       " ('our', 2418),\n",
       " ('The', 2367),\n",
       " ('have', 2116),\n",
       " (';', 2105),\n",
       " ('&', 2079),\n",
       " ('amp', 2070),\n",
       " ('“', 1993),\n",
       " ('it', 1932),\n",
       " ('”', 1890),\n",
       " ('you', 1834),\n",
       " ('was', 1789),\n",
       " ('#', 1785),\n",
       " ('at', 1621),\n",
       " ('has', 1600),\n",
       " ('they', 1553),\n",
       " ('s', 1517),\n",
       " ('great', 1501),\n",
       " ('President', 1492),\n",
       " ('not', 1415),\n",
       " ('we', 1389),\n",
       " ('by', 1375),\n",
       " ('this', 1336),\n",
       " ('all', 1304),\n",
       " ('t', 1289),\n",
       " ('(', 1181),\n",
       " (')', 1174),\n",
       " ('Trump', 1154),\n",
       " ('Democrats', 1145),\n",
       " ('people', 1124),\n",
       " ('very', 1084),\n",
       " ('-', 1079),\n",
       " ('We', 1072),\n",
       " ('who', 1040),\n",
       " ('?', 1007),\n",
       " ('realDonaldTrump', 996),\n",
       " ('from', 979),\n",
       " ('my', 966),\n",
       " ('as', 956),\n",
       " ('he', 943),\n",
       " ('their', 918),\n",
       " ('been', 838),\n",
       " ('so', 833),\n",
       " ('more', 824),\n",
       " ('about', 801),\n",
       " ('his', 796),\n",
       " ('but', 787),\n",
       " ('now', 784),\n",
       " ('do', 784),\n",
       " ('or', 776),\n",
       " ('out', 769),\n",
       " ('just', 762),\n",
       " ('It', 737),\n",
       " ('an', 736),\n",
       " ('no', 733),\n",
       " ('Thank', 715),\n",
       " ('They', 692),\n",
       " ('up', 686),\n",
       " ('than', 681),\n",
       " ('me', 680),\n",
       " ('would', 678),\n",
       " ('Fake', 653),\n",
       " ('many', 645),\n",
       " ('get', 637),\n",
       " ('Great', 636),\n",
       " ('News', 628),\n",
       " ('U.S.', 626),\n",
       " ('can', 619),\n",
       " ('He', 613),\n",
       " ('time', 612),\n",
       " ('This', 603),\n",
       " ('should', 589),\n",
       " ('what', 583),\n",
       " ('Border', 578),\n",
       " ('there', 576),\n",
       " ('American', 571),\n",
       " ('want', 570)]"
      ]
     },
     "execution_count": 102,
     "metadata": {},
     "output_type": "execute_result"
    }
   ],
   "source": [
    "## Tokenize corpus then generate FreqDist\n",
    "from nltk import word_tokenize\n",
    "\n",
    "## Convert Corpus to Tokens\n",
    "tokens = word_tokenize(','.join(corpus))\n",
    "\n",
    "## Get FreqDist and most_common 100 for tokens\n",
    "freq=FreqDist(tokens)\n",
    "freq.most_common(100)"
   ]
  },
  {
   "cell_type": "markdown",
   "metadata": {},
   "source": [
    "> Better...but what's our next issue?"
   ]
  },
  {
   "cell_type": "code",
   "execution_count": 103,
   "metadata": {
    "ExecuteTime": {
     "end_time": "2020-10-24T19:14:40.336854Z",
     "start_time": "2020-10-24T19:14:40.334385Z"
    }
   },
   "outputs": [],
   "source": [
    "## Make a list of stopwords to remove\n",
    "from nltk.corpus import stopwords\n",
    "import string"
   ]
  },
  {
   "cell_type": "code",
   "execution_count": 104,
   "metadata": {
    "ExecuteTime": {
     "end_time": "2020-10-24T19:14:40.342985Z",
     "start_time": "2020-10-24T19:14:40.338760Z"
    }
   },
   "outputs": [
    {
     "data": {
      "text/plain": [
       "['i', 'me', 'my', 'myself', 'we', 'our', 'ours', 'ourselves', 'you', \"you're\"]"
      ]
     },
     "execution_count": 104,
     "metadata": {},
     "output_type": "execute_result"
    }
   ],
   "source": [
    "# Get all the stop words in the English language and preview first 10\n",
    "stopwords_list = stopwords.words('english')\n",
    "stopwords_list[:10]"
   ]
  },
  {
   "cell_type": "code",
   "execution_count": 105,
   "metadata": {
    "ExecuteTime": {
     "end_time": "2020-10-24T19:14:40.349016Z",
     "start_time": "2020-10-24T19:14:40.346041Z"
    }
   },
   "outputs": [
    {
     "data": {
      "text/plain": [
       "['[', '\\\\', ']', '^', '_', '`', '{', '|', '}', '~']"
      ]
     },
     "execution_count": 105,
     "metadata": {},
     "output_type": "execute_result"
    }
   ],
   "source": [
    "## Add punctuation to stopwords_list\n",
    "stopwords_list.extend( string.punctuation)\n",
    "stopwords_list[-10:]"
   ]
  },
  {
   "cell_type": "code",
   "execution_count": 106,
   "metadata": {
    "ExecuteTime": {
     "end_time": "2020-10-24T19:14:40.353372Z",
     "start_time": "2020-10-24T19:14:40.351146Z"
    }
   },
   "outputs": [],
   "source": [
    "## Add the additional Tweet Punctuation below to stopwords_list\n",
    "additional_punc = ['“','”','...',\"''\",'’','``']\n",
    "stopwords_list.extend(additional_punc)#['“','”'])#'...'"
   ]
  },
  {
   "cell_type": "code",
   "execution_count": 107,
   "metadata": {
    "ExecuteTime": {
     "end_time": "2020-10-24T19:14:40.356820Z",
     "start_time": "2020-10-24T19:14:40.354712Z"
    }
   },
   "outputs": [
    {
     "name": "stdout",
     "output_type": "stream",
     "text": [
      "True\n"
     ]
    }
   ],
   "source": [
    "## Commentary on not always accepting what is or isn't in stopwords\n",
    "print('until' in stopwords_list)"
   ]
  },
  {
   "cell_type": "code",
   "execution_count": 108,
   "metadata": {
    "ExecuteTime": {
     "end_time": "2020-10-24T19:14:40.360299Z",
     "start_time": "2020-10-24T19:14:40.358026Z"
    }
   },
   "outputs": [
    {
     "name": "stdout",
     "output_type": "stream",
     "text": [
      "False\n"
     ]
    }
   ],
   "source": [
    "## Remove until from stopwords_list and check for it again\n",
    "stopwords_list.remove('until')\n",
    "print('until' in stopwords_list)"
   ]
  },
  {
   "cell_type": "code",
   "execution_count": 109,
   "metadata": {
    "ExecuteTime": {
     "end_time": "2020-10-24T19:14:41.312116Z",
     "start_time": "2020-10-24T19:14:40.361512Z"
    }
   },
   "outputs": [],
   "source": [
    "## Remove stopwords \n",
    "stopped_tokens = [w.lower() for w in tokens if w.lower() not in stopwords_list]"
   ]
  },
  {
   "cell_type": "code",
   "execution_count": 110,
   "metadata": {
    "ExecuteTime": {
     "end_time": "2020-10-24T19:14:41.496400Z",
     "start_time": "2020-10-24T19:14:41.313883Z"
    }
   },
   "outputs": [
    {
     "data": {
      "text/plain": [
       "[('https', 4265),\n",
       " ('rt', 3819),\n",
       " ('great', 2552),\n",
       " ('amp', 2070),\n",
       " ('president', 1605),\n",
       " ('people', 1309),\n",
       " ('trump', 1193),\n",
       " ('democrats', 1166),\n",
       " ('realdonaldtrump', 1045),\n",
       " ('country', 947),\n",
       " ('news', 931),\n",
       " ('thank', 929),\n",
       " ('big', 832),\n",
       " ('fake', 802),\n",
       " ('new', 791),\n",
       " ('many', 749),\n",
       " ('today', 747),\n",
       " ('get', 741),\n",
       " ('would', 714),\n",
       " ('border', 711),\n",
       " ('america', 699),\n",
       " ('never', 676),\n",
       " ('time', 666),\n",
       " ('u.s.', 626),\n",
       " ('american', 611),\n",
       " ('much', 594),\n",
       " ('want', 591),\n",
       " ('one', 588),\n",
       " ('years', 587),\n",
       " ('media', 582),\n",
       " ('good', 567),\n",
       " ('united', 543),\n",
       " ('even', 525),\n",
       " ('house', 523),\n",
       " ('states', 509),\n",
       " ('back', 492),\n",
       " ('done', 485),\n",
       " (\"'s\", 479),\n",
       " ('make', 478),\n",
       " ('must', 478),\n",
       " ('china', 474),\n",
       " ('like', 465),\n",
       " ('going', 460),\n",
       " ('vote', 458),\n",
       " ('nothing', 455),\n",
       " ('dems', 452),\n",
       " ('job', 440),\n",
       " ('impeachment', 435),\n",
       " ('jobs', 431),\n",
       " ('state', 413),\n",
       " ('day', 407),\n",
       " ('first', 406),\n",
       " ('us', 404),\n",
       " ('bad', 402),\n",
       " ('whitehouse', 398),\n",
       " ('made', 391),\n",
       " ('military', 386),\n",
       " ('deal', 386),\n",
       " ('election', 382),\n",
       " ('ever', 377),\n",
       " ('trade', 375),\n",
       " ('said', 373),\n",
       " ('way', 366),\n",
       " ('see', 365),\n",
       " ('republican', 362),\n",
       " ('crime', 359),\n",
       " ('fbi', 352),\n",
       " ('win', 351),\n",
       " ('wall', 348),\n",
       " ('working', 344),\n",
       " ('republicans', 342),\n",
       " ('world', 337),\n",
       " ('witch', 336),\n",
       " ('history', 333),\n",
       " ('hunt', 332),\n",
       " ('collusion', 331),\n",
       " ('know', 330),\n",
       " ('russia', 329),\n",
       " ('security', 327),\n",
       " ('also', 323),\n",
       " ('strong', 322),\n",
       " ('work', 320),\n",
       " ('last', 320),\n",
       " ('congress', 319),\n",
       " ('go', 318),\n",
       " ('obama', 314),\n",
       " ('hard', 312),\n",
       " ('year', 311),\n",
       " ('economy', 311),\n",
       " ('north', 310),\n",
       " ('foxnews', 303),\n",
       " ('really', 301),\n",
       " ('two', 300),\n",
       " ('tax', 299),\n",
       " ('look', 295),\n",
       " ('democrat', 291),\n",
       " ('far', 289),\n",
       " ('mueller', 286),\n",
       " ('report', 281),\n",
       " ('senate', 279)]"
      ]
     },
     "execution_count": 110,
     "metadata": {},
     "output_type": "execute_result"
    }
   ],
   "source": [
    "## Remake the FreqDist from stopped_tokens\n",
    "freq = FreqDist(stopped_tokens)\n",
    "freq.most_common(100)"
   ]
  },
  {
   "cell_type": "code",
   "execution_count": 111,
   "metadata": {
    "ExecuteTime": {
     "end_time": "2020-10-24T19:14:41.500609Z",
     "start_time": "2020-10-24T19:14:41.498003Z"
    }
   },
   "outputs": [],
   "source": [
    "## Sometimes we need to add more punctuation ourselves\n",
    "add_punc= [\"''\",'’','``']\n",
    "stopwords_list.extend(add_punc)"
   ]
  },
  {
   "cell_type": "code",
   "execution_count": 112,
   "metadata": {
    "ExecuteTime": {
     "end_time": "2020-10-24T19:14:42.770011Z",
     "start_time": "2020-10-24T19:14:41.502297Z"
    }
   },
   "outputs": [
    {
     "data": {
      "text/plain": [
       "[('https', 4265),\n",
       " ('rt', 3819),\n",
       " ('great', 2552),\n",
       " ('amp', 2070),\n",
       " ('president', 1605),\n",
       " ('people', 1309),\n",
       " ('trump', 1193),\n",
       " ('democrats', 1166),\n",
       " ('realdonaldtrump', 1045),\n",
       " ('country', 947),\n",
       " ('news', 931),\n",
       " ('thank', 929),\n",
       " ('big', 832),\n",
       " ('fake', 802),\n",
       " ('new', 791),\n",
       " ('many', 749),\n",
       " ('today', 747),\n",
       " ('get', 741),\n",
       " ('would', 714),\n",
       " ('border', 711),\n",
       " ('america', 699),\n",
       " ('never', 676),\n",
       " ('time', 666),\n",
       " ('u.s.', 626),\n",
       " ('american', 611),\n",
       " ('much', 594),\n",
       " ('want', 591),\n",
       " ('one', 588),\n",
       " ('years', 587),\n",
       " ('media', 582),\n",
       " ('good', 567),\n",
       " ('united', 543),\n",
       " ('even', 525),\n",
       " ('house', 523),\n",
       " ('states', 509),\n",
       " ('back', 492),\n",
       " ('done', 485),\n",
       " (\"'s\", 479),\n",
       " ('make', 478),\n",
       " ('must', 478),\n",
       " ('china', 474),\n",
       " ('like', 465),\n",
       " ('going', 460),\n",
       " ('vote', 458),\n",
       " ('nothing', 455),\n",
       " ('dems', 452),\n",
       " ('job', 440),\n",
       " ('impeachment', 435),\n",
       " ('jobs', 431),\n",
       " ('state', 413),\n",
       " ('day', 407),\n",
       " ('first', 406),\n",
       " ('us', 404),\n",
       " ('bad', 402),\n",
       " ('whitehouse', 398),\n",
       " ('made', 391),\n",
       " ('military', 386),\n",
       " ('deal', 386),\n",
       " ('election', 382),\n",
       " ('ever', 377),\n",
       " ('trade', 375),\n",
       " ('said', 373),\n",
       " ('way', 366),\n",
       " ('see', 365),\n",
       " ('republican', 362),\n",
       " ('crime', 359),\n",
       " ('fbi', 352),\n",
       " ('win', 351),\n",
       " ('wall', 348),\n",
       " ('working', 344),\n",
       " ('republicans', 342),\n",
       " ('world', 337),\n",
       " ('witch', 336),\n",
       " ('history', 333),\n",
       " ('hunt', 332),\n",
       " ('collusion', 331),\n",
       " ('know', 330),\n",
       " ('russia', 329),\n",
       " ('security', 327),\n",
       " ('also', 323),\n",
       " ('strong', 322),\n",
       " ('work', 320),\n",
       " ('last', 320),\n",
       " ('congress', 319),\n",
       " ('go', 318),\n",
       " ('obama', 314),\n",
       " ('hard', 312),\n",
       " ('year', 311),\n",
       " ('economy', 311),\n",
       " ('north', 310),\n",
       " ('foxnews', 303),\n",
       " ('really', 301),\n",
       " ('two', 300),\n",
       " ('tax', 299),\n",
       " ('look', 295),\n",
       " ('democrat', 291),\n",
       " ('far', 289),\n",
       " ('mueller', 286),\n",
       " ('report', 281),\n",
       " ('senate', 279)]"
      ]
     },
     "execution_count": 112,
     "metadata": {},
     "output_type": "execute_result"
    }
   ],
   "source": [
    "## Let's try that one last time\n",
    "stopped_tokens = [w.lower() for w in tokens if w.lower() not in stopwords_list]\n",
    "freq = FreqDist(stopped_tokens)\n",
    "freq.most_common(100)"
   ]
  },
  {
   "cell_type": "markdown",
   "metadata": {},
   "source": [
    "### Additional Ways to Show Frequency"
   ]
  },
  {
   "cell_type": "markdown",
   "metadata": {},
   "source": [
    "- [Word Clouds](https://www.geeksforgeeks.org/generating-word-cloud-python/)"
   ]
  },
  {
   "cell_type": "code",
   "execution_count": 113,
   "metadata": {
    "ExecuteTime": {
     "end_time": "2020-10-24T19:14:43.502085Z",
     "start_time": "2020-10-24T19:14:42.771496Z"
    }
   },
   "outputs": [
    {
     "data": {
      "text/plain": [
       "(-0.5, 399.5, 199.5, -0.5)"
      ]
     },
     "execution_count": 113,
     "metadata": {},
     "output_type": "execute_result"
    },
    {
     "data": {
      "image/png": "[encoded data removed]",
      "text/plain": [
       "<Figure size 864x864 with 1 Axes>"
      ]
     },
     "metadata": {
      "needs_background": "light"
     },
     "output_type": "display_data"
    }
   ],
   "source": [
    "from wordcloud import WordCloud\n",
    "wordcloud = WordCloud(stopwords=stopwords_list,collocations=False)\n",
    "wordcloud.generate(','.join(stopped_tokens))\n",
    "plt.figure(figsize = (12, 12), facecolor = None) \n",
    "plt.imshow(wordcloud) \n",
    "plt.axis('off')"
   ]
  },
  {
   "cell_type": "markdown",
   "metadata": {},
   "source": [
    "### Comparing Phases of Proprocessing/Tokenization"
   ]
  },
  {
   "cell_type": "code",
   "execution_count": 114,
   "metadata": {
    "ExecuteTime": {
     "end_time": "2020-10-24T19:14:43.532072Z",
     "start_time": "2020-10-24T19:14:43.503877Z"
    }
   },
   "outputs": [
    {
     "data": {
      "application/vnd.jupyter.widget-view+json": {
       "model_id": "8ff93a64bddf4e00a616e1f3bab01e6c",
       "version_major": 2,
       "version_minor": 0
      },
      "text/plain": [
       "interactive(children=(IntSlider(value=7032, description='i', max=14065), Output()), _dom_classes=('widget-inte…"
      ]
     },
     "metadata": {},
     "output_type": "display_data"
    }
   ],
   "source": [
    "from nltk import word_tokenize\n",
    "from ipywidgets import interact\n",
    "\n",
    "@interact\n",
    "def tokenize_tweet(i=(0,len(corpus)-1)):\n",
    "    from nltk.corpus import stopwords\n",
    "    import string\n",
    "    from nltk import word_tokenize,regexp_tokenize\n",
    "    \n",
    "    print(f\"- Tweet #{i}:\\n\")\n",
    "    print(corpus[i],'\\n')\n",
    "    tokens = word_tokenize(corpus[i])\n",
    "\n",
    "    # Get all the stop words in the English language\n",
    "    stopwords_list = stopwords.words('english')\n",
    "    stopwords_list += string.punctuation\n",
    "    stopped_tokens = [w.lower() for w in tokens if w not in stopwords_list]\n",
    "    \n",
    "    print(tokens,end='\\n\\n')\n",
    "    print(stopped_tokens)"
   ]
  },
  {
   "cell_type": "markdown",
   "metadata": {},
   "source": [
    "> What recognizable pattern of characters is high on the frequency list?"
   ]
  },
  {
   "cell_type": "markdown",
   "metadata": {},
   "source": [
    "## Other Bag of Words Statistics"
   ]
  },
  {
   "cell_type": "markdown",
   "metadata": {},
   "source": [
    "### Bigrams"
   ]
  },
  {
   "cell_type": "code",
   "execution_count": 115,
   "metadata": {
    "ExecuteTime": {
     "end_time": "2020-10-24T19:14:44.803783Z",
     "start_time": "2020-10-24T19:14:43.533518Z"
    }
   },
   "outputs": [
    {
     "data": {
      "text/html": [
       "<div>\n",
       "<style scoped>\n",
       "    .dataframe tbody tr th:only-of-type {\n",
       "        vertical-align: middle;\n",
       "    }\n",
       "\n",
       "    .dataframe tbody tr th {\n",
       "        vertical-align: top;\n",
       "    }\n",
       "\n",
       "    .dataframe thead th {\n",
       "        text-align: right;\n",
       "    }\n",
       "</style>\n",
       "<table border=\"1\" class=\"dataframe\">\n",
       "  <thead>\n",
       "    <tr style=\"text-align: right;\">\n",
       "      <th></th>\n",
       "      <th>Words</th>\n",
       "      <th>Frequency</th>\n",
       "    </tr>\n",
       "  </thead>\n",
       "  <tbody>\n",
       "    <tr>\n",
       "      <th>0</th>\n",
       "      <td>(fake, news)</td>\n",
       "      <td>0.002831</td>\n",
       "    </tr>\n",
       "    <tr>\n",
       "      <th>1</th>\n",
       "      <td>(united, states)</td>\n",
       "      <td>0.001992</td>\n",
       "    </tr>\n",
       "    <tr>\n",
       "      <th>2</th>\n",
       "      <td>(rt, realdonaldtrump)</td>\n",
       "      <td>0.001878</td>\n",
       "    </tr>\n",
       "    <tr>\n",
       "      <th>3</th>\n",
       "      <td>(witch, hunt)</td>\n",
       "      <td>0.001488</td>\n",
       "    </tr>\n",
       "    <tr>\n",
       "      <th>4</th>\n",
       "      <td>(president, trump)</td>\n",
       "      <td>0.001397</td>\n",
       "    </tr>\n",
       "    <tr>\n",
       "      <th>5</th>\n",
       "      <td>(rt, whitehouse)</td>\n",
       "      <td>0.001143</td>\n",
       "    </tr>\n",
       "    <tr>\n",
       "      <th>6</th>\n",
       "      <td>(america, great)</td>\n",
       "      <td>0.001021</td>\n",
       "    </tr>\n",
       "    <tr>\n",
       "      <th>7</th>\n",
       "      <td>(white, house)</td>\n",
       "      <td>0.000998</td>\n",
       "    </tr>\n",
       "    <tr>\n",
       "      <th>8</th>\n",
       "      <td>(news, media)</td>\n",
       "      <td>0.000930</td>\n",
       "    </tr>\n",
       "    <tr>\n",
       "      <th>9</th>\n",
       "      <td>(president, realdonaldtrump)</td>\n",
       "      <td>0.000894</td>\n",
       "    </tr>\n",
       "    <tr>\n",
       "      <th>10</th>\n",
       "      <td>(north, korea)</td>\n",
       "      <td>0.000835</td>\n",
       "    </tr>\n",
       "    <tr>\n",
       "      <th>11</th>\n",
       "      <td>(new, york)</td>\n",
       "      <td>0.000789</td>\n",
       "    </tr>\n",
       "    <tr>\n",
       "      <th>12</th>\n",
       "      <td>(make, america)</td>\n",
       "      <td>0.000730</td>\n",
       "    </tr>\n",
       "    <tr>\n",
       "      <th>13</th>\n",
       "      <td>(great, job)</td>\n",
       "      <td>0.000699</td>\n",
       "    </tr>\n",
       "    <tr>\n",
       "      <th>14</th>\n",
       "      <td>(border, security)</td>\n",
       "      <td>0.000662</td>\n",
       "    </tr>\n",
       "    <tr>\n",
       "      <th>15</th>\n",
       "      <td>(great, state)</td>\n",
       "      <td>0.000653</td>\n",
       "    </tr>\n",
       "    <tr>\n",
       "      <th>16</th>\n",
       "      <td>(nancy, pelosi)</td>\n",
       "      <td>0.000649</td>\n",
       "    </tr>\n",
       "    <tr>\n",
       "      <th>17</th>\n",
       "      <td>(crooked, hillary)</td>\n",
       "      <td>0.000640</td>\n",
       "    </tr>\n",
       "    <tr>\n",
       "      <th>18</th>\n",
       "      <td>(southern, border)</td>\n",
       "      <td>0.000631</td>\n",
       "    </tr>\n",
       "    <tr>\n",
       "      <th>19</th>\n",
       "      <td>(american, people)</td>\n",
       "      <td>0.000617</td>\n",
       "    </tr>\n",
       "  </tbody>\n",
       "</table>\n",
       "</div>"
      ],
      "text/plain": [
       "                           Words  Frequency\n",
       "0                   (fake, news)   0.002831\n",
       "1               (united, states)   0.001992\n",
       "2          (rt, realdonaldtrump)   0.001878\n",
       "3                  (witch, hunt)   0.001488\n",
       "4             (president, trump)   0.001397\n",
       "5               (rt, whitehouse)   0.001143\n",
       "6               (america, great)   0.001021\n",
       "7                 (white, house)   0.000998\n",
       "8                  (news, media)   0.000930\n",
       "9   (president, realdonaldtrump)   0.000894\n",
       "10                (north, korea)   0.000835\n",
       "11                   (new, york)   0.000789\n",
       "12               (make, america)   0.000730\n",
       "13                  (great, job)   0.000699\n",
       "14            (border, security)   0.000662\n",
       "15                (great, state)   0.000653\n",
       "16               (nancy, pelosi)   0.000649\n",
       "17            (crooked, hillary)   0.000640\n",
       "18            (southern, border)   0.000631\n",
       "19            (american, people)   0.000617"
      ]
     },
     "execution_count": 115,
     "metadata": {},
     "output_type": "execute_result"
    }
   ],
   "source": [
    "import nltk\n",
    "bigram_measures = nltk.collocations.BigramAssocMeasures()\n",
    "tweet_finder = nltk.BigramCollocationFinder.from_words(stopped_tokens)\n",
    "\n",
    "tweets_scored = tweet_finder.score_ngrams(bigram_measures.raw_freq)\n",
    "pd.DataFrame.from_records(tweets_scored,columns=['Words','Frequency']).head(20)"
   ]
  },
  {
   "cell_type": "markdown",
   "metadata": {},
   "source": [
    "### Mutual Information Scores"
   ]
  },
  {
   "cell_type": "code",
   "execution_count": 116,
   "metadata": {
    "ExecuteTime": {
     "end_time": "2020-10-24T19:14:45.421886Z",
     "start_time": "2020-10-24T19:14:44.805497Z"
    }
   },
   "outputs": [
    {
     "data": {
      "text/html": [
       "<div>\n",
       "<style scoped>\n",
       "    .dataframe tbody tr th:only-of-type {\n",
       "        vertical-align: middle;\n",
       "    }\n",
       "\n",
       "    .dataframe tbody tr th {\n",
       "        vertical-align: top;\n",
       "    }\n",
       "\n",
       "    .dataframe thead th {\n",
       "        text-align: right;\n",
       "    }\n",
       "</style>\n",
       "<table border=\"1\" class=\"dataframe\">\n",
       "  <thead>\n",
       "    <tr style=\"text-align: right;\">\n",
       "      <th></th>\n",
       "      <th>Words</th>\n",
       "      <th>PMI</th>\n",
       "    </tr>\n",
       "  </thead>\n",
       "  <tbody>\n",
       "    <tr>\n",
       "      <th>0</th>\n",
       "      <td>(da, nang)</td>\n",
       "      <td>15.427981</td>\n",
       "    </tr>\n",
       "    <tr>\n",
       "      <th>1</th>\n",
       "      <td>(idlib, province)</td>\n",
       "      <td>15.427981</td>\n",
       "    </tr>\n",
       "    <tr>\n",
       "      <th>2</th>\n",
       "      <td>(madame, peng)</td>\n",
       "      <td>15.427981</td>\n",
       "    </tr>\n",
       "    <tr>\n",
       "      <th>3</th>\n",
       "      <td>(peng, liyuan)</td>\n",
       "      <td>15.427981</td>\n",
       "    </tr>\n",
       "    <tr>\n",
       "      <th>4</th>\n",
       "      <td>(catherine, herridge)</td>\n",
       "      <td>15.164946</td>\n",
       "    </tr>\n",
       "    <tr>\n",
       "      <th>5</th>\n",
       "      <td>(sri, lanka)</td>\n",
       "      <td>15.164946</td>\n",
       "    </tr>\n",
       "    <tr>\n",
       "      <th>6</th>\n",
       "      <td>(fred, keller)</td>\n",
       "      <td>14.942554</td>\n",
       "    </tr>\n",
       "    <tr>\n",
       "      <th>7</th>\n",
       "      <td>(hong, kong)</td>\n",
       "      <td>14.942554</td>\n",
       "    </tr>\n",
       "    <tr>\n",
       "      <th>8</th>\n",
       "      <td>(jonathan, turley)</td>\n",
       "      <td>14.942554</td>\n",
       "    </tr>\n",
       "    <tr>\n",
       "      <th>9</th>\n",
       "      <td>(401, k)</td>\n",
       "      <td>14.749909</td>\n",
       "    </tr>\n",
       "    <tr>\n",
       "      <th>10</th>\n",
       "      <td>(gina, haspel)</td>\n",
       "      <td>14.749909</td>\n",
       "    </tr>\n",
       "    <tr>\n",
       "      <th>11</th>\n",
       "      <td>(jimhagedornmn, petestauber)</td>\n",
       "      <td>14.749909</td>\n",
       "    </tr>\n",
       "    <tr>\n",
       "      <th>12</th>\n",
       "      <td>(kimberley, strassel)</td>\n",
       "      <td>14.679519</td>\n",
       "    </tr>\n",
       "    <tr>\n",
       "      <th>13</th>\n",
       "      <td>(susan, rice)</td>\n",
       "      <td>14.679519</td>\n",
       "    </tr>\n",
       "    <tr>\n",
       "      <th>14</th>\n",
       "      <td>(davis, hanson)</td>\n",
       "      <td>14.579984</td>\n",
       "    </tr>\n",
       "    <tr>\n",
       "      <th>15</th>\n",
       "      <td>(easter, egg)</td>\n",
       "      <td>14.579984</td>\n",
       "    </tr>\n",
       "    <tr>\n",
       "      <th>16</th>\n",
       "      <td>(egg, roll)</td>\n",
       "      <td>14.579984</td>\n",
       "    </tr>\n",
       "    <tr>\n",
       "      <th>17</th>\n",
       "      <td>(jesse, watters)</td>\n",
       "      <td>14.486874</td>\n",
       "    </tr>\n",
       "    <tr>\n",
       "      <th>18</th>\n",
       "      <td>(ballot, box)</td>\n",
       "      <td>14.427981</td>\n",
       "    </tr>\n",
       "    <tr>\n",
       "      <th>19</th>\n",
       "      <td>(derangement, syndrome)</td>\n",
       "      <td>14.427981</td>\n",
       "    </tr>\n",
       "  </tbody>\n",
       "</table>\n",
       "</div>"
      ],
      "text/plain": [
       "                           Words        PMI\n",
       "0                     (da, nang)  15.427981\n",
       "1              (idlib, province)  15.427981\n",
       "2                 (madame, peng)  15.427981\n",
       "3                 (peng, liyuan)  15.427981\n",
       "4          (catherine, herridge)  15.164946\n",
       "5                   (sri, lanka)  15.164946\n",
       "6                 (fred, keller)  14.942554\n",
       "7                   (hong, kong)  14.942554\n",
       "8             (jonathan, turley)  14.942554\n",
       "9                       (401, k)  14.749909\n",
       "10                (gina, haspel)  14.749909\n",
       "11  (jimhagedornmn, petestauber)  14.749909\n",
       "12         (kimberley, strassel)  14.679519\n",
       "13                 (susan, rice)  14.679519\n",
       "14               (davis, hanson)  14.579984\n",
       "15                 (easter, egg)  14.579984\n",
       "16                   (egg, roll)  14.579984\n",
       "17              (jesse, watters)  14.486874\n",
       "18                 (ballot, box)  14.427981\n",
       "19       (derangement, syndrome)  14.427981"
      ]
     },
     "execution_count": 116,
     "metadata": {},
     "output_type": "execute_result"
    }
   ],
   "source": [
    "import nltk\n",
    "bigram_measures = nltk.collocations.BigramAssocMeasures()\n",
    "\n",
    "tweet_pmi_finder = nltk.BigramCollocationFinder.from_words(stopped_tokens)\n",
    "tweet_pmi_finder.apply_freq_filter(5)\n",
    "\n",
    "tweet_pmi_scored = tweet_pmi_finder.score_ngrams(bigram_measures.pmi)\n",
    "pd.DataFrame.from_records(tweet_pmi_scored,columns=['Words','PMI']).head(20)"
   ]
  },
  {
   "cell_type": "markdown",
   "metadata": {},
   "source": [
    "# Regular Expressions"
   ]
  },
  {
   "cell_type": "markdown",
   "metadata": {},
   "source": [
    "- Regular expressions can help us capture/remove complicated patterns in our text.\n",
    "- Best regexp resource and tester: https://regex101.com/\n",
    "\n",
    "    - Make sure to check \"Python\" under Flavor menu on left side.\n",
    "    \n",
    "    \n",
    "- Let's use regular expressions to remove URLs"
   ]
  },
  {
   "cell_type": "code",
   "execution_count": 117,
   "metadata": {
    "ExecuteTime": {
     "end_time": "2020-10-24T19:14:45.426173Z",
     "start_time": "2020-10-24T19:14:45.423420Z"
    }
   },
   "outputs": [
    {
     "data": {
      "text/plain": [
       "'I am pleased to announce that David Bernhardt Acting Secretary of the Interior will be nominated as Secretary of the Interior. David has done a fantastic job from the day he arrived and we look forward to having his nomination officially confirmed!'"
      ]
     },
     "execution_count": 117,
     "metadata": {},
     "output_type": "execute_result"
    }
   ],
   "source": [
    "## Select an example tweet\n",
    "text =  corpus[6615]\n",
    "text"
   ]
  },
  {
   "cell_type": "code",
   "execution_count": 118,
   "metadata": {
    "ExecuteTime": {
     "end_time": "2020-10-24T19:14:45.430333Z",
     "start_time": "2020-10-24T19:14:45.427421Z"
    }
   },
   "outputs": [
    {
     "data": {
      "text/plain": [
       "'RT @TeamTrump: BIGGER paychecks under President @realDonaldTrump! 💰 https://t.co/GAezgi2RI5'"
      ]
     },
     "execution_count": 118,
     "metadata": {},
     "output_type": "execute_result"
    }
   ],
   "source": [
    "## Select a second example tweet\n",
    "text2=corpus[7347]\n",
    "text2"
   ]
  },
  {
   "cell_type": "code",
   "execution_count": 119,
   "metadata": {
    "ExecuteTime": {
     "end_time": "2020-10-24T19:14:45.435441Z",
     "start_time": "2020-10-24T19:14:45.431686Z"
    }
   },
   "outputs": [
    {
     "data": {
      "text/plain": [
       "['I',\n",
       " 'am',\n",
       " 'pleased',\n",
       " 'to',\n",
       " 'announce',\n",
       " 'that',\n",
       " 'David',\n",
       " 'Bernhardt',\n",
       " 'Acting',\n",
       " 'Secretary',\n",
       " 'of',\n",
       " 'the',\n",
       " 'Interior',\n",
       " 'will',\n",
       " 'be',\n",
       " 'nominated',\n",
       " 'as',\n",
       " 'Secretary',\n",
       " 'of',\n",
       " 'the',\n",
       " 'Interior',\n",
       " 'David',\n",
       " 'has',\n",
       " 'done',\n",
       " 'a',\n",
       " 'fantastic',\n",
       " 'job',\n",
       " 'from',\n",
       " 'the',\n",
       " 'day',\n",
       " 'he',\n",
       " 'arrived',\n",
       " 'and',\n",
       " 'we',\n",
       " 'look',\n",
       " 'forward',\n",
       " 'to',\n",
       " 'having',\n",
       " 'his',\n",
       " 'nomination',\n",
       " 'officially',\n",
       " 'confirmed']"
      ]
     },
     "execution_count": 119,
     "metadata": {},
     "output_type": "execute_result"
    }
   ],
   "source": [
    "## From tjhe lessons\n",
    "from nltk import regexp_tokenize\n",
    "pattern = r\"([a-zA-Z]+(?:'[a-z]+)?)\"\n",
    "regexp_tokenize(text,pattern)"
   ]
  },
  {
   "cell_type": "markdown",
   "metadata": {},
   "source": [
    "### Let's use regex to find/remove URLS"
   ]
  },
  {
   "cell_type": "markdown",
   "metadata": {},
   "source": [
    "- www.regex101.com\n",
    "    - Copy and paste example text to search\n",
    "    - Test out regular expressions and see what they pick up"
   ]
  },
  {
   "cell_type": "code",
   "execution_count": 120,
   "metadata": {
    "ExecuteTime": {
     "end_time": "2020-10-24T19:14:45.442930Z",
     "start_time": "2020-10-24T19:14:45.440469Z"
    }
   },
   "outputs": [
    {
     "name": "stdout",
     "output_type": "stream",
     "text": [
      "I am pleased to announce that David Bernhardt Acting Secretary of the Interior will be nominated as Secretary of the Interior. David has done a fantastic job from the day he arrived and we look forward to having his nomination officially confirmed! RT @TeamTrump: BIGGER paychecks under President @realDonaldTrump! 💰 https://t.co/GAezgi2RI5\n"
     ]
    }
   ],
   "source": [
    "print(text,text2)"
   ]
  },
  {
   "cell_type": "code",
   "execution_count": 121,
   "metadata": {
    "ExecuteTime": {
     "end_time": "2020-10-24T19:14:45.448638Z",
     "start_time": "2020-10-24T19:14:45.445872Z"
    }
   },
   "outputs": [
    {
     "data": {
      "text/plain": [
       "[]"
      ]
     },
     "execution_count": 121,
     "metadata": {},
     "output_type": "execute_result"
    }
   ],
   "source": [
    "import re\n",
    "re.findall(r\"(https://\\w*\\.\\w*/+\\w+)\",text)"
   ]
  },
  {
   "cell_type": "code",
   "execution_count": 122,
   "metadata": {
    "ExecuteTime": {
     "end_time": "2020-10-24T19:14:45.453968Z",
     "start_time": "2020-10-24T19:14:45.449999Z"
    }
   },
   "outputs": [],
   "source": [
    "def clean_text(text,regex=True):\n",
    "    from nltk.corpus import stopwords\n",
    "    import string\n",
    "    from nltk import word_tokenize,regexp_tokenize\n",
    "\n",
    "    ## tokenize text\n",
    "    if regex:\n",
    "        pattern = r\"([a-zA-Z]+(?:'[a-z]+)?)\"\n",
    "        tokens= regexp_tokenize(text,pattern)\n",
    "    else:\n",
    "        tokens = word_tokenize(text)\n",
    "        \n",
    "    # Get all the stop words in the English language\n",
    "    stopwords_list = stopwords.words('english')\n",
    "    stopwords_list += string.punctuation\n",
    "    \n",
    "    stopped_tokens = [w.lower() for w in tokens if w not in stopwords_list]\n",
    "    \n",
    "    return stopped_tokens"
   ]
  },
  {
   "cell_type": "code",
   "execution_count": 123,
   "metadata": {
    "ExecuteTime": {
     "end_time": "2020-10-24T19:14:45.458490Z",
     "start_time": "2020-10-24T19:14:45.455235Z"
    }
   },
   "outputs": [],
   "source": [
    "## Other uses of RegEx for Tweet preprocessing\n",
    "import re\n",
    "\n",
    "def find_urls(string): \n",
    "    return re.findall(r\"(http[s]?://\\w*\\.\\w*/+\\w+)\",string)\n",
    "\n",
    "def find_hashtags(string):\n",
    "    return re.findall(r'\\#\\w*',string)\n",
    "\n",
    "def find_retweets(string):\n",
    "    return re.findall(r'RT [@]?\\w*:',string)\n",
    "\n",
    "def find_mentions(string):\n",
    "    return re.findall(r'\\@\\w*',string)"
   ]
  },
  {
   "cell_type": "code",
   "execution_count": 124,
   "metadata": {
    "ExecuteTime": {
     "end_time": "2020-10-24T19:14:45.462607Z",
     "start_time": "2020-10-24T19:14:45.459812Z"
    }
   },
   "outputs": [
    {
     "data": {
      "text/plain": [
       "[]"
      ]
     },
     "execution_count": 124,
     "metadata": {},
     "output_type": "execute_result"
    }
   ],
   "source": [
    "find_urls(text)"
   ]
  },
  {
   "cell_type": "code",
   "execution_count": 125,
   "metadata": {
    "ExecuteTime": {
     "end_time": "2020-10-24T19:14:45.466908Z",
     "start_time": "2020-10-24T19:14:45.464135Z"
    }
   },
   "outputs": [
    {
     "data": {
      "text/plain": [
       "['@TeamTrump', '@realDonaldTrump']"
      ]
     },
     "execution_count": 125,
     "metadata": {},
     "output_type": "execute_result"
    }
   ],
   "source": [
    "find_mentions(text2)"
   ]
  },
  {
   "cell_type": "markdown",
   "metadata": {},
   "source": [
    "## Stemming/Lemmatization"
   ]
  },
  {
   "cell_type": "code",
   "execution_count": 126,
   "metadata": {
    "ExecuteTime": {
     "end_time": "2020-10-24T19:14:45.471159Z",
     "start_time": "2020-10-24T19:14:45.468217Z"
    }
   },
   "outputs": [
    {
     "name": "stdout",
     "output_type": "stream",
     "text": [
      "foot\n",
      "running\n"
     ]
    }
   ],
   "source": [
    "from nltk.stem.wordnet import WordNetLemmatizer\n",
    "\n",
    "lemmatizer = WordNetLemmatizer()\n",
    "\n",
    "print(lemmatizer.lemmatize('feet')) # foot\n",
    "print(lemmatizer.lemmatize('running')) # run [?!] Does not match expected output"
   ]
  },
  {
   "cell_type": "code",
   "execution_count": 127,
   "metadata": {
    "ExecuteTime": {
     "end_time": "2020-10-24T19:14:45.475915Z",
     "start_time": "2020-10-24T19:14:45.472687Z"
    }
   },
   "outputs": [
    {
     "data": {
      "text/plain": [
       "'I am pleased to announce that David Bernhardt Acting Secretary of the Interior will be nominated as Secretary of the Interior. David has done a fantastic job from the day he arrived and we look forward to having his nomination officially confirmed!'"
      ]
     },
     "execution_count": 127,
     "metadata": {},
     "output_type": "execute_result"
    }
   ],
   "source": [
    "text_in =  corpus[6615]\n",
    "text_in"
   ]
  },
  {
   "cell_type": "code",
   "execution_count": 128,
   "metadata": {
    "ExecuteTime": {
     "end_time": "2020-10-24T19:14:45.481837Z",
     "start_time": "2020-10-24T19:14:45.477473Z"
    }
   },
   "outputs": [],
   "source": [
    "def process_tweet(text,as_lemmas=False,as_tokens=True):\n",
    "#     text=text.copy()\n",
    "    for x in find_urls(text):\n",
    "        text = text.replace(x,'')\n",
    "        \n",
    "    for x in find_retweets(text):\n",
    "        text = text.replace(x,'')    \n",
    "        \n",
    "    for x in find_hashtags(text):\n",
    "        text = text.replace(x,'')    \n",
    "\n",
    "    if as_lemmas:\n",
    "        from nltk.stem.wordnet import WordNetLemmatizer\n",
    "        lemmatizer = WordNetLemmatizer()\n",
    "        text = lemmatizer.lemmatize(text)\n",
    "    \n",
    "    if as_tokens:\n",
    "        text = clean_text(text)\n",
    "    \n",
    "    if len(text)==0:\n",
    "        text=''\n",
    "            \n",
    "    return text"
   ]
  },
  {
   "cell_type": "code",
   "execution_count": 129,
   "metadata": {
    "ExecuteTime": {
     "end_time": "2020-10-24T19:14:45.507273Z",
     "start_time": "2020-10-24T19:14:45.483400Z"
    }
   },
   "outputs": [
    {
     "data": {
      "application/vnd.jupyter.widget-view+json": {
       "model_id": "39b37beba716422aa9d3a2a82d53a120",
       "version_major": 2,
       "version_minor": 0
      },
      "text/plain": [
       "interactive(children=(IntSlider(value=7032, description='i', max=14065), Output()), _dom_classes=('widget-inte…"
      ]
     },
     "metadata": {},
     "output_type": "display_data"
    }
   ],
   "source": [
    "@interact\n",
    "def show_processed_text(i=(0,len(corpus)-1)):\n",
    "    text_in = corpus[i]#.copy()\n",
    "    print(text_in)\n",
    "    text_out = process_tweet(text_in)\n",
    "    print(text_out)\n",
    "    text_out2 = process_tweet(text_in,as_lemmas=True)\n",
    "    print(text_out2)"
   ]
  },
  {
   "cell_type": "code",
   "execution_count": 130,
   "metadata": {
    "ExecuteTime": {
     "end_time": "2020-10-24T19:14:45.513905Z",
     "start_time": "2020-10-24T19:14:45.510069Z"
    }
   },
   "outputs": [
    {
     "data": {
      "text/plain": [
       "['My thoughts and prayers are with those affected by the tragic storms and tornadoes in the Southeastern United States. Stay safe!',\n",
       " 'Getting ready to leave for the Great State of Indiana and meet the hard working and wonderful people of Carrier A.C.',\n",
       " 'Heading to U.S. Bank Arena in Cincinnati Ohio for a 7pm rally. Join me! Tickets: https://t.co/HiWqZvHv6M',\n",
       " 'Thank you Ohio! Together we made history – and now the real work begins. America will start winning again!… https://t.co/sVNSNJE7Uf',\n",
       " 'The President of Taiwan CALLED ME today to wish me congratulations on winning the Presidency. Thank you!',\n",
       " 'Interesting how the U.S. sells Taiwan billions of dollars of military equipment but I should not accept a congratulatory call.']"
      ]
     },
     "execution_count": 130,
     "metadata": {},
     "output_type": "execute_result"
    }
   ],
   "source": [
    "corpus[:6]"
   ]
  },
  {
   "cell_type": "markdown",
   "metadata": {},
   "source": [
    "# ACTIVITY: FINDING TRUMP"
   ]
  },
  {
   "cell_type": "markdown",
   "metadata": {},
   "source": [
    "## Finding Trump with sklearn"
   ]
  },
  {
   "cell_type": "code",
   "execution_count": 131,
   "metadata": {
    "ExecuteTime": {
     "end_time": "2020-10-24T19:14:46.922669Z",
     "start_time": "2020-10-24T19:14:45.515709Z"
    }
   },
   "outputs": [
    {
     "data": {
      "text/html": [
       "<div>\n",
       "<style scoped>\n",
       "    .dataframe tbody tr th:only-of-type {\n",
       "        vertical-align: middle;\n",
       "    }\n",
       "\n",
       "    .dataframe tbody tr th {\n",
       "        vertical-align: top;\n",
       "    }\n",
       "\n",
       "    .dataframe thead th {\n",
       "        text-align: right;\n",
       "    }\n",
       "</style>\n",
       "<table border=\"1\" class=\"dataframe\">\n",
       "  <thead>\n",
       "    <tr style=\"text-align: right;\">\n",
       "      <th></th>\n",
       "      <th>source</th>\n",
       "      <th>text</th>\n",
       "      <th>retweet_count</th>\n",
       "      <th>favorite_count</th>\n",
       "      <th>is_retweet</th>\n",
       "      <th>id_str</th>\n",
       "    </tr>\n",
       "    <tr>\n",
       "      <th>created_at</th>\n",
       "      <th></th>\n",
       "      <th></th>\n",
       "      <th></th>\n",
       "      <th></th>\n",
       "      <th></th>\n",
       "      <th></th>\n",
       "    </tr>\n",
       "  </thead>\n",
       "  <tbody>\n",
       "    <tr>\n",
       "      <th>2020-01-01 03:12:07</th>\n",
       "      <td>Twitter Media Studio</td>\n",
       "      <td>https://t.co/EVAEYD1AgV</td>\n",
       "      <td>25016</td>\n",
       "      <td>108830</td>\n",
       "      <td>False</td>\n",
       "      <td>1212209862094012416</td>\n",
       "    </tr>\n",
       "    <tr>\n",
       "      <th>2020-01-01 01:30:35</th>\n",
       "      <td>Twitter for iPhone</td>\n",
       "      <td>HAPPY NEW YEAR!</td>\n",
       "      <td>85409</td>\n",
       "      <td>576045</td>\n",
       "      <td>False</td>\n",
       "      <td>1212184310389850119</td>\n",
       "    </tr>\n",
       "    <tr>\n",
       "      <th>2020-01-01 01:22:28</th>\n",
       "      <td>Twitter for iPhone</td>\n",
       "      <td>Our fantastic First Lady! https://t.co/6iswto4WDI</td>\n",
       "      <td>27567</td>\n",
       "      <td>132633</td>\n",
       "      <td>False</td>\n",
       "      <td>1212182267113680896</td>\n",
       "    </tr>\n",
       "    <tr>\n",
       "      <th>2020-01-01 01:18:47</th>\n",
       "      <td>Twitter for iPhone</td>\n",
       "      <td>RT @DanScavino: https://t.co/CJRPySkF1Z</td>\n",
       "      <td>10796</td>\n",
       "      <td>0</td>\n",
       "      <td>True</td>\n",
       "      <td>1212181341078458369</td>\n",
       "    </tr>\n",
       "    <tr>\n",
       "      <th>2020-01-01 01:17:43</th>\n",
       "      <td>Twitter for iPhone</td>\n",
       "      <td>RT @SenJohnKennedy: I think Speaker Pelosi is ...</td>\n",
       "      <td>8893</td>\n",
       "      <td>0</td>\n",
       "      <td>True</td>\n",
       "      <td>1212181071988703232</td>\n",
       "    </tr>\n",
       "  </tbody>\n",
       "</table>\n",
       "</div>"
      ],
      "text/plain": [
       "                                   source  \\\n",
       "created_at                                  \n",
       "2020-01-01 03:12:07  Twitter Media Studio   \n",
       "2020-01-01 01:30:35    Twitter for iPhone   \n",
       "2020-01-01 01:22:28    Twitter for iPhone   \n",
       "2020-01-01 01:18:47    Twitter for iPhone   \n",
       "2020-01-01 01:17:43    Twitter for iPhone   \n",
       "\n",
       "                                                                  text  \\\n",
       "created_at                                                               \n",
       "2020-01-01 03:12:07                            https://t.co/EVAEYD1AgV   \n",
       "2020-01-01 01:30:35                                    HAPPY NEW YEAR!   \n",
       "2020-01-01 01:22:28  Our fantastic First Lady! https://t.co/6iswto4WDI   \n",
       "2020-01-01 01:18:47            RT @DanScavino: https://t.co/CJRPySkF1Z   \n",
       "2020-01-01 01:17:43  RT @SenJohnKennedy: I think Speaker Pelosi is ...   \n",
       "\n",
       "                     retweet_count  favorite_count is_retweet  \\\n",
       "created_at                                                      \n",
       "2020-01-01 03:12:07          25016          108830      False   \n",
       "2020-01-01 01:30:35          85409          576045      False   \n",
       "2020-01-01 01:22:28          27567          132633      False   \n",
       "2020-01-01 01:18:47          10796               0       True   \n",
       "2020-01-01 01:17:43           8893               0       True   \n",
       "\n",
       "                                  id_str  \n",
       "created_at                                \n",
       "2020-01-01 03:12:07  1212209862094012416  \n",
       "2020-01-01 01:30:35  1212184310389850119  \n",
       "2020-01-01 01:22:28  1212182267113680896  \n",
       "2020-01-01 01:18:47  1212181341078458369  \n",
       "2020-01-01 01:17:43  1212181071988703232  "
      ]
     },
     "execution_count": 131,
     "metadata": {},
     "output_type": "execute_result"
    }
   ],
   "source": [
    "finding_trump = '../finding-trump.csv'#'https://raw.githubusercontent.com/jirvingphd/online-ds-pt-1007109-text-classification-finding-trump/master/finding-trump.csv'\n",
    "\n",
    "df = pd.read_csv(finding_trump,#'https://raw.githubusercontent.com/jirvingphd/capstone-project-using-trumps-tweets-to-predict-stock-market/master/data/trump_tweets_12012016_to_01012020.csv',\n",
    "                index_col='created_at',parse_dates=['created_at'])\n",
    "df.head()"
   ]
  },
  {
   "cell_type": "markdown",
   "metadata": {},
   "source": [
    "### The Task - Finding Trump\n",
    "\n",
    "> - All presidents have staffers help maintain their social media presence on their behalf. \n",
    "- Early During His Presidency, Donald Trump refused to stop using his insecure and unofficial Android Phone\n",
    "- During this time period, his staffers were the ones Tweeting from the official presidential iPhone.\n",
    "\n",
    "> - Therefore, if we isolate our dataset to ONLY the times where Trump's account was posting from BOTH android and iphone, we can then assume that Android Tweets are Trump and that iPhone tweets are his staffers.\n",
    "\n",
    "> #### Now that we know that... let's build a NLP classification model to Find Trump!"
   ]
  },
  {
   "cell_type": "code",
   "execution_count": 132,
   "metadata": {
    "ExecuteTime": {
     "end_time": "2020-10-24T19:14:46.929572Z",
     "start_time": "2020-10-24T19:14:46.924051Z"
    }
   },
   "outputs": [
    {
     "data": {
      "text/plain": [
       "Twitter for iPhone      13277\n",
       "Twitter for Android       364\n",
       "Media Studio              153\n",
       "Twitter Media Studio      136\n",
       "Twitter Web Client         61\n",
       "Twitter for iPad           38\n",
       "Twitter Ads                33\n",
       "Twitter Web App             4\n",
       "Name: source, dtype: int64"
      ]
     },
     "execution_count": 132,
     "metadata": {},
     "output_type": "execute_result"
    }
   ],
   "source": [
    "## Check Value Counts for Source\n",
    "df['source'].value_counts()"
   ]
  },
  {
   "cell_type": "code",
   "execution_count": 133,
   "metadata": {
    "ExecuteTime": {
     "end_time": "2020-10-24T19:14:46.936389Z",
     "start_time": "2020-10-24T19:14:46.931187Z"
    }
   },
   "outputs": [
    {
     "data": {
      "text/plain": [
       "(Timestamp('2017-03-25 14:41:14'), Timestamp('2016-12-01 14:38:09'))"
      ]
     },
     "execution_count": 133,
     "metadata": {},
     "output_type": "execute_result"
    }
   ],
   "source": [
    "## Get time period where Trump still had his personal Android\n",
    "index = df[df['source'] == 'Twitter for Android'].index\n",
    "## Get Start_ts and end_ts\n",
    "start_ts = index[0]\n",
    "end_ts = index[-1]\n",
    "start_ts,end_ts"
   ]
  },
  {
   "cell_type": "code",
   "execution_count": 134,
   "metadata": {
    "ExecuteTime": {
     "end_time": "2020-10-24T19:14:46.952618Z",
     "start_time": "2020-10-24T19:14:46.937884Z"
    }
   },
   "outputs": [
    {
     "data": {
      "text/html": [
       "<div>\n",
       "<style scoped>\n",
       "    .dataframe tbody tr th:only-of-type {\n",
       "        vertical-align: middle;\n",
       "    }\n",
       "\n",
       "    .dataframe tbody tr th {\n",
       "        vertical-align: top;\n",
       "    }\n",
       "\n",
       "    .dataframe thead th {\n",
       "        text-align: right;\n",
       "    }\n",
       "</style>\n",
       "<table border=\"1\" class=\"dataframe\">\n",
       "  <thead>\n",
       "    <tr style=\"text-align: right;\">\n",
       "      <th></th>\n",
       "      <th>source</th>\n",
       "      <th>text</th>\n",
       "      <th>retweet_count</th>\n",
       "      <th>favorite_count</th>\n",
       "      <th>is_retweet</th>\n",
       "      <th>id_str</th>\n",
       "    </tr>\n",
       "    <tr>\n",
       "      <th>created_at</th>\n",
       "      <th></th>\n",
       "      <th></th>\n",
       "      <th></th>\n",
       "      <th></th>\n",
       "      <th></th>\n",
       "      <th></th>\n",
       "    </tr>\n",
       "  </thead>\n",
       "  <tbody>\n",
       "    <tr>\n",
       "      <th>2017-03-25 14:41:14</th>\n",
       "      <td>Twitter for Android</td>\n",
       "      <td>Watch @JudgeJeanine on @FoxNews tonight at 9:0...</td>\n",
       "      <td>10116</td>\n",
       "      <td>51247</td>\n",
       "      <td>False</td>\n",
       "      <td>845646761704243200</td>\n",
       "    </tr>\n",
       "    <tr>\n",
       "      <th>2017-03-25 14:37:52</th>\n",
       "      <td>Twitter for Android</td>\n",
       "      <td>ObamaCare will explode and we will all get tog...</td>\n",
       "      <td>22518</td>\n",
       "      <td>104321</td>\n",
       "      <td>False</td>\n",
       "      <td>845645916732358656</td>\n",
       "    </tr>\n",
       "    <tr>\n",
       "      <th>2017-03-25 13:29:17</th>\n",
       "      <td>Twitter for iPhone</td>\n",
       "      <td>Happy #MedalOfHonorDay to our heroes! ➡️https:...</td>\n",
       "      <td>14139</td>\n",
       "      <td>68302</td>\n",
       "      <td>False</td>\n",
       "      <td>845628655493677056</td>\n",
       "    </tr>\n",
       "    <tr>\n",
       "      <th>2017-03-24 17:59:42</th>\n",
       "      <td>Twitter for iPhone</td>\n",
       "      <td>Today I was thrilled to announce a commitment ...</td>\n",
       "      <td>20212</td>\n",
       "      <td>89339</td>\n",
       "      <td>False</td>\n",
       "      <td>845334323045765121</td>\n",
       "    </tr>\n",
       "    <tr>\n",
       "      <th>2017-03-24 17:03:46</th>\n",
       "      <td>Twitter for iPhone</td>\n",
       "      <td>Today I was pleased to announce the official a...</td>\n",
       "      <td>12933</td>\n",
       "      <td>66692</td>\n",
       "      <td>False</td>\n",
       "      <td>845320243614547968</td>\n",
       "    </tr>\n",
       "    <tr>\n",
       "      <th>...</th>\n",
       "      <td>...</td>\n",
       "      <td>...</td>\n",
       "      <td>...</td>\n",
       "      <td>...</td>\n",
       "      <td>...</td>\n",
       "      <td>...</td>\n",
       "    </tr>\n",
       "    <tr>\n",
       "      <th>2016-12-03 01:41:30</th>\n",
       "      <td>Twitter for Android</td>\n",
       "      <td>Interesting how the U.S. sells Taiwan billions...</td>\n",
       "      <td>38805</td>\n",
       "      <td>122905</td>\n",
       "      <td>False</td>\n",
       "      <td>804863098138005504</td>\n",
       "    </tr>\n",
       "    <tr>\n",
       "      <th>2016-12-03 00:44:20</th>\n",
       "      <td>Twitter for Android</td>\n",
       "      <td>The President of Taiwan CALLED ME today to wis...</td>\n",
       "      <td>24700</td>\n",
       "      <td>111106</td>\n",
       "      <td>False</td>\n",
       "      <td>804848711599882240</td>\n",
       "    </tr>\n",
       "    <tr>\n",
       "      <th>2016-12-02 02:45:18</th>\n",
       "      <td>Twitter for iPhone</td>\n",
       "      <td>Thank you Ohio! Together we made history – and...</td>\n",
       "      <td>17283</td>\n",
       "      <td>72196</td>\n",
       "      <td>False</td>\n",
       "      <td>804516764562374656</td>\n",
       "    </tr>\n",
       "    <tr>\n",
       "      <th>2016-12-01 22:52:10</th>\n",
       "      <td>Twitter for iPhone</td>\n",
       "      <td>Heading to U.S. Bank Arena in Cincinnati Ohio ...</td>\n",
       "      <td>5564</td>\n",
       "      <td>31256</td>\n",
       "      <td>False</td>\n",
       "      <td>804458095569158144</td>\n",
       "    </tr>\n",
       "    <tr>\n",
       "      <th>2016-12-01 14:38:09</th>\n",
       "      <td>Twitter for Android</td>\n",
       "      <td>Getting ready to leave for the Great State of ...</td>\n",
       "      <td>9834</td>\n",
       "      <td>57249</td>\n",
       "      <td>False</td>\n",
       "      <td>804333771021570048</td>\n",
       "    </tr>\n",
       "  </tbody>\n",
       "</table>\n",
       "<p>617 rows × 6 columns</p>\n",
       "</div>"
      ],
      "text/plain": [
       "                                  source  \\\n",
       "created_at                                 \n",
       "2017-03-25 14:41:14  Twitter for Android   \n",
       "2017-03-25 14:37:52  Twitter for Android   \n",
       "2017-03-25 13:29:17   Twitter for iPhone   \n",
       "2017-03-24 17:59:42   Twitter for iPhone   \n",
       "2017-03-24 17:03:46   Twitter for iPhone   \n",
       "...                                  ...   \n",
       "2016-12-03 01:41:30  Twitter for Android   \n",
       "2016-12-03 00:44:20  Twitter for Android   \n",
       "2016-12-02 02:45:18   Twitter for iPhone   \n",
       "2016-12-01 22:52:10   Twitter for iPhone   \n",
       "2016-12-01 14:38:09  Twitter for Android   \n",
       "\n",
       "                                                                  text  \\\n",
       "created_at                                                               \n",
       "2017-03-25 14:41:14  Watch @JudgeJeanine on @FoxNews tonight at 9:0...   \n",
       "2017-03-25 14:37:52  ObamaCare will explode and we will all get tog...   \n",
       "2017-03-25 13:29:17  Happy #MedalOfHonorDay to our heroes! ➡️https:...   \n",
       "2017-03-24 17:59:42  Today I was thrilled to announce a commitment ...   \n",
       "2017-03-24 17:03:46  Today I was pleased to announce the official a...   \n",
       "...                                                                ...   \n",
       "2016-12-03 01:41:30  Interesting how the U.S. sells Taiwan billions...   \n",
       "2016-12-03 00:44:20  The President of Taiwan CALLED ME today to wis...   \n",
       "2016-12-02 02:45:18  Thank you Ohio! Together we made history – and...   \n",
       "2016-12-01 22:52:10  Heading to U.S. Bank Arena in Cincinnati Ohio ...   \n",
       "2016-12-01 14:38:09  Getting ready to leave for the Great State of ...   \n",
       "\n",
       "                     retweet_count  favorite_count is_retweet  \\\n",
       "created_at                                                      \n",
       "2017-03-25 14:41:14          10116           51247      False   \n",
       "2017-03-25 14:37:52          22518          104321      False   \n",
       "2017-03-25 13:29:17          14139           68302      False   \n",
       "2017-03-24 17:59:42          20212           89339      False   \n",
       "2017-03-24 17:03:46          12933           66692      False   \n",
       "...                            ...             ...        ...   \n",
       "2016-12-03 01:41:30          38805          122905      False   \n",
       "2016-12-03 00:44:20          24700          111106      False   \n",
       "2016-12-02 02:45:18          17283           72196      False   \n",
       "2016-12-01 22:52:10           5564           31256      False   \n",
       "2016-12-01 14:38:09           9834           57249      False   \n",
       "\n",
       "                                 id_str  \n",
       "created_at                               \n",
       "2017-03-25 14:41:14  845646761704243200  \n",
       "2017-03-25 14:37:52  845645916732358656  \n",
       "2017-03-25 13:29:17  845628655493677056  \n",
       "2017-03-24 17:59:42  845334323045765121  \n",
       "2017-03-24 17:03:46  845320243614547968  \n",
       "...                                 ...  \n",
       "2016-12-03 01:41:30  804863098138005504  \n",
       "2016-12-03 00:44:20  804848711599882240  \n",
       "2016-12-02 02:45:18  804516764562374656  \n",
       "2016-12-01 22:52:10  804458095569158144  \n",
       "2016-12-01 14:38:09  804333771021570048  \n",
       "\n",
       "[617 rows x 6 columns]"
      ]
     },
     "execution_count": 134,
     "metadata": {},
     "output_type": "execute_result"
    }
   ],
   "source": [
    "## Slice out the data from start_ts to end_ts\n",
    "df = df.loc[start_ts:end_ts]\n",
    "df"
   ]
  },
  {
   "cell_type": "code",
   "execution_count": 135,
   "metadata": {
    "ExecuteTime": {
     "end_time": "2020-10-24T19:14:46.959198Z",
     "start_time": "2020-10-24T19:14:46.954227Z"
    }
   },
   "outputs": [
    {
     "data": {
      "text/plain": [
       "Twitter for Android    0.589951\n",
       "Twitter for iPhone     0.387358\n",
       "Twitter Web Client     0.022690\n",
       "Name: source, dtype: float64"
      ]
     },
     "execution_count": 135,
     "metadata": {},
     "output_type": "execute_result"
    }
   ],
   "source": [
    "## Check new value counts \n",
    "df['source'].value_counts(1)"
   ]
  },
  {
   "cell_type": "code",
   "execution_count": 136,
   "metadata": {
    "ExecuteTime": {
     "end_time": "2020-10-24T19:14:46.967678Z",
     "start_time": "2020-10-24T19:14:46.961136Z"
    }
   },
   "outputs": [
    {
     "data": {
      "text/plain": [
       "Twitter for Android    0.603648\n",
       "Twitter for iPhone     0.396352\n",
       "Name: source, dtype: float64"
      ]
     },
     "execution_count": 136,
     "metadata": {},
     "output_type": "execute_result"
    }
   ],
   "source": [
    "## Remove the Web tweets\n",
    "df = df[ df['source'] != 'Twitter Web Client']\n",
    "df['source'].value_counts(1)"
   ]
  },
  {
   "cell_type": "code",
   "execution_count": 137,
   "metadata": {
    "ExecuteTime": {
     "end_time": "2020-10-24T19:14:46.976743Z",
     "start_time": "2020-10-24T19:14:46.969458Z"
    }
   },
   "outputs": [
    {
     "data": {
      "text/plain": [
       "1    0.603648\n",
       "0    0.396352\n",
       "Name: trump_tweet, dtype: float64"
      ]
     },
     "execution_count": 137,
     "metadata": {},
     "output_type": "execute_result"
    }
   ],
   "source": [
    "## Make new Trump Tweet Column of 0 and 1s\n",
    "df['trump_tweet'] = (df['source'] == 'Twitter for Android').astype(int)\n",
    "df['trump_tweet'].value_counts(normalize=True)"
   ]
  },
  {
   "cell_type": "code",
   "execution_count": 138,
   "metadata": {
    "ExecuteTime": {
     "end_time": "2020-10-24T19:14:46.983464Z",
     "start_time": "2020-10-24T19:14:46.978438Z"
    }
   },
   "outputs": [
    {
     "data": {
      "text/plain": [
       "created_at\n",
       "2017-03-25 14:41:14    Watch @JudgeJeanine on @FoxNews tonight at 9:0...\n",
       "2017-03-25 14:37:52    ObamaCare will explode and we will all get tog...\n",
       "2017-03-25 13:29:17    Happy #MedalOfHonorDay to our heroes! ➡️https:...\n",
       "2017-03-24 17:59:42    Today I was thrilled to announce a commitment ...\n",
       "2017-03-24 17:03:46    Today I was pleased to announce the official a...\n",
       "Name: text, dtype: object"
      ]
     },
     "execution_count": 138,
     "metadata": {},
     "output_type": "execute_result"
    }
   ],
   "source": [
    "## Make X and y\n",
    "y = df['trump_tweet']\n",
    "X = df['text']#.apply(tokenizer.tokenize)\n",
    "X.head()"
   ]
  },
  {
   "cell_type": "code",
   "execution_count": 139,
   "metadata": {
    "ExecuteTime": {
     "end_time": "2020-10-24T19:14:46.990042Z",
     "start_time": "2020-10-24T19:14:46.985454Z"
    }
   },
   "outputs": [
    {
     "data": {
      "text/plain": [
       "1    0.603648\n",
       "0    0.396352\n",
       "Name: trump_tweet, dtype: float64"
      ]
     },
     "metadata": {},
     "output_type": "display_data"
    }
   ],
   "source": [
    "## Display target value_counts\n",
    "display(y.value_counts(1))"
   ]
  },
  {
   "cell_type": "code",
   "execution_count": 140,
   "metadata": {
    "ExecuteTime": {
     "end_time": "2020-10-24T19:14:46.997137Z",
     "start_time": "2020-10-24T19:14:46.991680Z"
    }
   },
   "outputs": [],
   "source": [
    "## Train Test Split (random state=42)\n",
    "from sklearn.model_selection import train_test_split\n",
    "X_train,X_test,y_train,y_test = train_test_split(X,y,stratify=y,test_size=0.3,random_state=42)"
   ]
  },
  {
   "cell_type": "code",
   "execution_count": 141,
   "metadata": {
    "ExecuteTime": {
     "end_time": "2020-10-24T19:14:47.006556Z",
     "start_time": "2020-10-24T19:14:46.998692Z"
    }
   },
   "outputs": [
    {
     "data": {
      "text/plain": [
       "1    0.604265\n",
       "0    0.395735\n",
       "Name: trump_tweet, dtype: float64"
      ]
     },
     "metadata": {},
     "output_type": "display_data"
    },
    {
     "data": {
      "text/plain": [
       "1    0.60221\n",
       "0    0.39779\n",
       "Name: trump_tweet, dtype: float64"
      ]
     },
     "execution_count": 141,
     "metadata": {},
     "output_type": "execute_result"
    }
   ],
   "source": [
    "## Check y_train and y_test value counts\n",
    "display(y_train.value_counts(normalize=True))\n",
    "\n",
    "y_test.value_counts(normalize=True)"
   ]
  },
  {
   "cell_type": "markdown",
   "metadata": {},
   "source": [
    "### Tokenization & Vectorization "
   ]
  },
  {
   "cell_type": "code",
   "execution_count": 142,
   "metadata": {
    "ExecuteTime": {
     "end_time": "2020-10-24T19:14:47.010385Z",
     "start_time": "2020-10-24T19:14:47.008134Z"
    }
   },
   "outputs": [],
   "source": [
    "import nltk\n",
    "## Make a TweekTokenizer from nltk.tokenize (preserve_case=False)\n",
    "tokenizer = nltk.tokenize.TweetTokenizer(preserve_case=False,)"
   ]
  },
  {
   "cell_type": "code",
   "execution_count": 143,
   "metadata": {
    "ExecuteTime": {
     "end_time": "2020-10-24T19:14:47.093748Z",
     "start_time": "2020-10-24T19:14:47.012070Z"
    }
   },
   "outputs": [
    {
     "data": {
      "text/plain": [
       "<422x2147 sparse matrix of type '<class 'numpy.float64'>'\n",
       "\twith 4812 stored elements in Compressed Sparse Row format>"
      ]
     },
     "execution_count": 143,
     "metadata": {},
     "output_type": "execute_result"
    }
   ],
   "source": [
    "from sklearn.feature_extraction.text import TfidfVectorizer,CountVectorizer\n",
    "\n",
    "## Make a TfIdf Vectorizer using tweet tokenizer's .tokenize method\n",
    "vectorizer = TfidfVectorizer(tokenizer=tokenizer.tokenize,\n",
    "                             stop_words=stopwords_list)\n",
    "\n",
    "# Vectorize data and make X_train_tfidf and X_test_tfidf\n",
    "X_train_tfidf = vectorizer.fit_transform(X_train)\n",
    "X_test_tfidf = vectorizer.transform(X_test)\n",
    "X_train_tfidf"
   ]
  },
  {
   "cell_type": "markdown",
   "metadata": {},
   "source": [
    "### Modeling Continued"
   ]
  },
  {
   "cell_type": "code",
   "execution_count": 144,
   "metadata": {
    "ExecuteTime": {
     "end_time": "2020-10-24T19:14:47.309805Z",
     "start_time": "2020-10-24T19:14:47.095565Z"
    }
   },
   "outputs": [
    {
     "data": {
      "text/plain": [
       "RandomForestClassifier(class_weight='balanced')"
      ]
     },
     "execution_count": 144,
     "metadata": {},
     "output_type": "execute_result"
    }
   ],
   "source": [
    "from sklearn.ensemble import RandomForestClassifier\n",
    "\n",
    "## Make and fit a random forest  (class_weight='balanced')\n",
    "rf = RandomForestClassifier(class_weight='balanced')\n",
    "rf.fit(X_train_tfidf,y_train)"
   ]
  },
  {
   "cell_type": "code",
   "execution_count": 145,
   "metadata": {
    "ExecuteTime": {
     "end_time": "2020-10-24T19:14:47.350834Z",
     "start_time": "2020-10-24T19:14:47.311711Z"
    }
   },
   "outputs": [],
   "source": [
    "## Get predictions for train and test\n",
    "y_hat_test = rf.predict(X_test_tfidf)\n",
    "y_hat_train = rf.predict(X_train_tfidf)"
   ]
  },
  {
   "cell_type": "code",
   "execution_count": 146,
   "metadata": {
    "ExecuteTime": {
     "end_time": "2020-10-24T19:14:47.357830Z",
     "start_time": "2020-10-24T19:14:47.352750Z"
    }
   },
   "outputs": [],
   "source": [
    "from sklearn import metrics\n",
    "import matplotlib.pyplot as plt\n",
    "\n",
    "def evaluate_model(y_test,y_hat_test,X_test,clf=None,\n",
    "                  scoring=metrics.recall_score,verbose=False,\n",
    "                  scorer=False,classes=['Not Trump','Trump']):\n",
    "\n",
    "    print(metrics.classification_report(y_test,y_hat_test,\n",
    "                                        target_names=classes))\n",
    "    \n",
    "    metrics.plot_confusion_matrix(clf,X_test,y_test,normalize='true',\n",
    "                                 cmap='Blues',display_labels=classes)\n",
    "    plt.show()\n",
    "    if verbose:\n",
    "        print(\"MODEL PARAMETERS:\")\n",
    "        print(pd.Series(rf.get_params()))\n",
    "        \n",
    "    if scorer:\n",
    "        \n",
    "        return scoring(y_test,y_hat_test)\n",
    "    \n",
    "    "
   ]
  },
  {
   "cell_type": "code",
   "execution_count": 147,
   "metadata": {
    "ExecuteTime": {
     "end_time": "2020-10-24T19:14:47.551435Z",
     "start_time": "2020-10-24T19:14:47.359643Z"
    }
   },
   "outputs": [
    {
     "name": "stdout",
     "output_type": "stream",
     "text": [
      "              precision    recall  f1-score   support\n",
      "\n",
      "   Not Trump       0.75      0.69      0.72        72\n",
      "       Trump       0.81      0.84      0.83       109\n",
      "\n",
      "    accuracy                           0.78       181\n",
      "   macro avg       0.78      0.77      0.77       181\n",
      "weighted avg       0.78      0.78      0.78       181\n",
      "\n"
     ]
    },
    {
     "data": {
      "image/png": "[encoded data removed]",
      "text/plain": [
       "<Figure size 432x288 with 2 Axes>"
      ]
     },
     "metadata": {
      "needs_background": "light"
     },
     "output_type": "display_data"
    }
   ],
   "source": [
    "## Evaluate Model using function\n",
    "evaluate_model(y_test,y_hat_test,X_test_tfidf,rf)"
   ]
  },
  {
   "cell_type": "code",
   "execution_count": 148,
   "metadata": {
    "ExecuteTime": {
     "end_time": "2020-10-24T19:14:47.869997Z",
     "start_time": "2020-10-24T19:14:47.553169Z"
    }
   },
   "outputs": [
    {
     "name": "stderr",
     "output_type": "stream",
     "text": [
      "/opt/anaconda3/envs/learn-env/lib/python3.6/site-packages/matplotlib/backends/backend_agg.py:238: RuntimeWarning:\n",
      "\n",
      "Glyph 127482 missing from current font.\n",
      "\n",
      "/opt/anaconda3/envs/learn-env/lib/python3.6/site-packages/matplotlib/backends/backend_agg.py:238: RuntimeWarning:\n",
      "\n",
      "Glyph 127480 missing from current font.\n",
      "\n",
      "/opt/anaconda3/envs/learn-env/lib/python3.6/site-packages/matplotlib/backends/backend_agg.py:201: RuntimeWarning:\n",
      "\n",
      "Glyph 127482 missing from current font.\n",
      "\n",
      "/opt/anaconda3/envs/learn-env/lib/python3.6/site-packages/matplotlib/backends/backend_agg.py:201: RuntimeWarning:\n",
      "\n",
      "Glyph 127480 missing from current font.\n",
      "\n"
     ]
    },
    {
     "data": {
      "image/png": "[encoded data removed]",
      "text/plain": [
       "<Figure size 748.8x514.8 with 1 Axes>"
      ]
     },
     "metadata": {
      "needs_background": "light"
     },
     "output_type": "display_data"
    }
   ],
   "source": [
    "# Plot the top 30 most important features\n",
    "with plt.style.context('seaborn-talk'):\n",
    "    \n",
    "    ## Get Feature Importance\n",
    "    importance = pd.Series(rf.feature_importances_,\n",
    "                           index= vectorizer.get_feature_names())\n",
    "    ## Sort values \n",
    "    importance.sort_values(inplace=True)\n",
    " \n",
    "    ## Take the .tail 30 and plot kind='barh'\n",
    "    importance.sort_values().tail(30).plot(kind='barh')"
   ]
  },
  {
   "cell_type": "markdown",
   "metadata": {},
   "source": [
    "### Note About Pipelines and GridSearch for NLP"
   ]
  },
  {
   "cell_type": "markdown",
   "metadata": {},
   "source": [
    "- You may want to to this process in multiple steps (first Count Vectorize, then transform to TF or TF-IDF.\n",
    "- Can then use these in a Pipeline to be able to GridSearch more aspect of the text preprocessing\n",
    "\n",
    "```python\n",
    "from sklearn.feature_extraction.text import CountVectorizer,TfidfTransformer #TfidfVectorizer\n",
    "from sklearn.pipeline import Pipeline\n",
    "\n",
    "count_vect = CountVectorizer()\n",
    "#X_train_counts = count_vect.fit_transform(twenty_train.data)\n",
    "\n",
    "tf_transformer = TfidfTransformer(use_idf=False)\n",
    "#tf_transformer.fit(X_train_counts)\n",
    "#X_train_tf = tf_transformer.transform(X_train_counts)\n",
    "#X_train_tf.shape\n",
    "\n",
    "\n",
    "text_pipe = Pip\n",
    "\n",
    "```\n"
   ]
  },
  {
   "cell_type": "code",
   "execution_count": 149,
   "metadata": {
    "ExecuteTime": {
     "end_time": "2020-10-24T19:16:49.580699Z",
     "start_time": "2020-10-24T19:16:49.576239Z"
    }
   },
   "outputs": [],
   "source": [
    "from sklearn.pipeline import Pipeline\n",
    "from sklearn.feature_extraction.text import CountVectorizer,TfidfTransformer #TfidfVectorizer\n",
    "from sklearn.ensemble import RandomForestClassifier\n",
    "from sklearn.naive_bayes import MultinomialNB\n",
    "\n",
    "count_vect = CountVectorizer()\n",
    "tf_transform = TfidfTransformer(use_idf=True)\n",
    "\n",
    "text_pipe = Pipeline(steps=[\n",
    "    ('count_vectorizer',count_vect),\n",
    "    ('tf_transformer',tf_transform)])\n",
    "\n",
    "full_pipe = Pipeline(steps=[\n",
    "    ('text_pipe',text_pipe),\n",
    "    ('clf',RandomForestClassifier(class_weight='balanced'))\n",
    "])"
   ]
  },
  {
   "cell_type": "code",
   "execution_count": 150,
   "metadata": {
    "ExecuteTime": {
     "end_time": "2020-10-24T19:16:50.110301Z",
     "start_time": "2020-10-24T19:16:50.105482Z"
    }
   },
   "outputs": [
    {
     "data": {
      "text/plain": [
       "created_at\n",
       "2017-03-13 20:57:02    Proud to welcome our great Cabinet this aftern...\n",
       "2017-02-07 02:33:55    The failing @nytimes was forced to apologize t...\n",
       "2017-01-19 20:21:36    Join me at 4pm over at the Lincoln Memorial wi...\n",
       "2017-01-29 13:00:32    Somebody with aptitude and conviction should b...\n",
       "2016-12-14 00:52:40    RT @DanScavino: Join #PEOTUS Trump &amp; #VPEO...\n",
       "                                             ...                        \n",
       "2016-12-30 19:46:55    Join @AmerIcan32 founded by Hall of Fame legen...\n",
       "2017-02-09 13:26:07    Sen. McCain should not be talking about the su...\n",
       "2017-01-25 22:05:59    I will be interviewed by @DavidMuir tonight at...\n",
       "2017-01-31 11:21:52    Nancy Pelosi and Fake Tears Chuck Schumer held...\n",
       "2017-01-25 12:13:46    even those registered to vote who are dead (an...\n",
       "Name: text, Length: 422, dtype: object"
      ]
     },
     "execution_count": 150,
     "metadata": {},
     "output_type": "execute_result"
    }
   ],
   "source": [
    "## Preview current X_train\n",
    "X_train"
   ]
  },
  {
   "cell_type": "code",
   "execution_count": 151,
   "metadata": {
    "ExecuteTime": {
     "end_time": "2020-10-24T19:16:50.692746Z",
     "start_time": "2020-10-24T19:16:50.670129Z"
    }
   },
   "outputs": [
    {
     "data": {
      "text/plain": [
       "<422x2179 sparse matrix of type '<class 'numpy.float64'>'\n",
       "\twith 7784 stored elements in Compressed Sparse Row format>"
      ]
     },
     "execution_count": 151,
     "metadata": {},
     "output_type": "execute_result"
    }
   ],
   "source": [
    "## Make X_train_pipe and X_test_pipe\n",
    "X_train_pipe = text_pipe.fit_transform(X_train)\n",
    "X_test_pipe = text_pipe.transform(X_test)\n",
    "X_train_pipe"
   ]
  },
  {
   "cell_type": "code",
   "execution_count": 152,
   "metadata": {
    "ExecuteTime": {
     "end_time": "2020-10-24T19:16:51.622107Z",
     "start_time": "2020-10-24T19:16:51.294499Z"
    }
   },
   "outputs": [
    {
     "name": "stdout",
     "output_type": "stream",
     "text": [
      "              precision    recall  f1-score   support\n",
      "\n",
      "   Not Trump       0.96      0.74      0.83        72\n",
      "       Trump       0.85      0.98      0.91       109\n",
      "\n",
      "    accuracy                           0.88       181\n",
      "   macro avg       0.91      0.86      0.87       181\n",
      "weighted avg       0.89      0.88      0.88       181\n",
      "\n"
     ]
    },
    {
     "data": {
      "image/png": "[encoded data removed]",
      "text/plain": [
       "<Figure size 432x288 with 2 Axes>"
      ]
     },
     "metadata": {
      "needs_background": "light"
     },
     "output_type": "display_data"
    }
   ],
   "source": [
    "## Modeling with full pipeline\n",
    "full_pipe.fit(X_train,y_train)\n",
    "y_hat_test = full_pipe.predict(X_test)\n",
    "evaluate_model(y_test,y_hat_test,X_test,full_pipe)"
   ]
  },
  {
   "cell_type": "code",
   "execution_count": 153,
   "metadata": {
    "ExecuteTime": {
     "end_time": "2020-10-24T19:16:51.959989Z",
     "start_time": "2020-10-24T19:16:51.957539Z"
    }
   },
   "outputs": [],
   "source": [
    "from sklearn import set_config\n",
    "set_config(display='text')"
   ]
  },
  {
   "cell_type": "code",
   "execution_count": 154,
   "metadata": {
    "ExecuteTime": {
     "end_time": "2020-10-24T19:16:52.609482Z",
     "start_time": "2020-10-24T19:16:52.590916Z"
    }
   },
   "outputs": [
    {
     "data": {
      "text/plain": [
       "Pipeline(steps=[('text_pipe',\n",
       "                 Pipeline(steps=[('count_vectorizer', CountVectorizer()),\n",
       "                                 ('tf_transformer', TfidfTransformer())])),\n",
       "                ('clf', RandomForestClassifier(class_weight='balanced'))])"
      ]
     },
     "execution_count": 154,
     "metadata": {},
     "output_type": "execute_result"
    }
   ],
   "source": [
    "full_pipe"
   ]
  },
  {
   "cell_type": "markdown",
   "metadata": {
    "ExecuteTime": {
     "start_time": "2020-10-24T19:20:52.345Z"
    }
   },
   "source": [
    "### GridSearching NLP Pipeline"
   ]
  },
  {
   "cell_type": "code",
   "execution_count": 169,
   "metadata": {
    "ExecuteTime": {
     "end_time": "2020-10-24T19:23:31.643624Z",
     "start_time": "2020-10-24T19:23:23.956695Z"
    }
   },
   "outputs": [
    {
     "data": {
      "text/plain": [
       "{'clf__criterion': 'gini',\n",
       " 'text_pipe__count_vectorizer__tokenizer': None,\n",
       " 'text_pipe__tf_transformer__use_idf': True}"
      ]
     },
     "execution_count": 169,
     "metadata": {},
     "output_type": "execute_result"
    }
   ],
   "source": [
    "from sklearn.model_selection import GridSearchCV\n",
    "## Make a tokenizer with TweetTokenizer\n",
    "tokenizer = nltk.tokenize.TweetTokenizer(preserve_case=False,)\n",
    "\n",
    "## Make params Grid\n",
    "#### use_idf: True/False\n",
    "#### tokenizer: None, tokenizer.tokenize\n",
    "#### criterion: gini, entropy\n",
    "params = {'text_pipe__tf_transformer__use_idf':[True,False],\n",
    "         'text_pipe__count_vectorizer__tokenizer':[None,tokenizer.tokenize],\n",
    "         'clf__criterion':['gini','entropy']}\n",
    "\n",
    "## Make and fit grid\n",
    "grid = GridSearchCV(full_pipe,params)\n",
    "grid.fit(X_train,y_train)\n",
    "\n",
    "## Display best params\n",
    "grid.best_params_"
   ]
  },
  {
   "cell_type": "code",
   "execution_count": 156,
   "metadata": {
    "ExecuteTime": {
     "end_time": "2020-10-24T19:17:00.156483Z",
     "start_time": "2020-10-24T19:16:59.976094Z"
    }
   },
   "outputs": [
    {
     "name": "stdout",
     "output_type": "stream",
     "text": [
      "              precision    recall  f1-score   support\n",
      "\n",
      "   Not Trump       0.96      0.76      0.85        72\n",
      "       Trump       0.86      0.98      0.92       109\n",
      "\n",
      "    accuracy                           0.90       181\n",
      "   macro avg       0.91      0.87      0.89       181\n",
      "weighted avg       0.90      0.90      0.89       181\n",
      "\n"
     ]
    },
    {
     "data": {
      "image/png": "[encoded data removed]",
      "text/plain": [
       "<Figure size 432x288 with 2 Axes>"
      ]
     },
     "metadata": {
      "needs_background": "light"
     },
     "output_type": "display_data"
    }
   ],
   "source": [
    "## Evluate the best_estimator\n",
    "best_pipe = grid.best_estimator_\n",
    "y_hat_test = best_pipe.predict(X_test)\n",
    "evaluate_model(y_test,y_hat_test,X_test,clf=best_pipe)"
   ]
  },
  {
   "cell_type": "markdown",
   "metadata": {},
   "source": [
    "### Get feature importances as text"
   ]
  },
  {
   "cell_type": "code",
   "execution_count": 157,
   "metadata": {
    "ExecuteTime": {
     "end_time": "2020-10-24T19:17:00.180257Z",
     "start_time": "2020-10-24T19:17:00.158849Z"
    }
   },
   "outputs": [
    {
     "data": {
      "text/plain": [
       "<422x2179 sparse matrix of type '<class 'numpy.float64'>'\n",
       "\twith 7784 stored elements in Compressed Sparse Row format>"
      ]
     },
     "execution_count": 157,
     "metadata": {},
     "output_type": "execute_result"
    }
   ],
   "source": [
    "X_train_pipe = text_pipe.fit_transform(X_train)\n",
    "X_test_pipe = text_pipe.transform(X_test)\n",
    "X_train_pipe"
   ]
  },
  {
   "cell_type": "code",
   "execution_count": 158,
   "metadata": {
    "ExecuteTime": {
     "end_time": "2020-10-24T19:17:00.185440Z",
     "start_time": "2020-10-24T19:17:00.182279Z"
    }
   },
   "outputs": [
    {
     "data": {
      "text/plain": [
       "(422, 2179)"
      ]
     },
     "execution_count": 158,
     "metadata": {},
     "output_type": "execute_result"
    }
   ],
   "source": [
    "X_train_pipe.shape"
   ]
  },
  {
   "cell_type": "code",
   "execution_count": 159,
   "metadata": {
    "ExecuteTime": {
     "end_time": "2020-10-24T19:17:00.191968Z",
     "start_time": "2020-10-24T19:17:00.187180Z"
    }
   },
   "outputs": [
    {
     "data": {
      "text/plain": [
       "['00',\n",
       " '00am',\n",
       " '00pm',\n",
       " '03e4ybiwr0',\n",
       " '05dtfjaubx',\n",
       " '0dhld5kivc',\n",
       " '10',\n",
       " '100',\n",
       " '10000',\n",
       " '100th']"
      ]
     },
     "execution_count": 159,
     "metadata": {},
     "output_type": "execute_result"
    }
   ],
   "source": [
    "features = text_pipe.named_steps['count_vectorizer'].get_feature_names()\n",
    "features[:10]"
   ]
  },
  {
   "cell_type": "code",
   "execution_count": 160,
   "metadata": {
    "ExecuteTime": {
     "end_time": "2020-10-24T19:17:00.196745Z",
     "start_time": "2020-10-24T19:17:00.193595Z"
    }
   },
   "outputs": [
    {
     "data": {
      "text/plain": [
       "2179"
      ]
     },
     "execution_count": 160,
     "metadata": {},
     "output_type": "execute_result"
    }
   ],
   "source": [
    "len(features)"
   ]
  },
  {
   "cell_type": "code",
   "execution_count": 161,
   "metadata": {
    "ExecuteTime": {
     "end_time": "2020-10-24T19:17:00.514818Z",
     "start_time": "2020-10-24T19:17:00.198472Z"
    }
   },
   "outputs": [
    {
     "name": "stderr",
     "output_type": "stream",
     "text": [
      "/opt/anaconda3/envs/learn-env/lib/python3.6/site-packages/matplotlib/backends/backend_agg.py:238: RuntimeWarning:\n",
      "\n",
      "Glyph 127482 missing from current font.\n",
      "\n",
      "/opt/anaconda3/envs/learn-env/lib/python3.6/site-packages/matplotlib/backends/backend_agg.py:238: RuntimeWarning:\n",
      "\n",
      "Glyph 127480 missing from current font.\n",
      "\n",
      "/opt/anaconda3/envs/learn-env/lib/python3.6/site-packages/matplotlib/backends/backend_agg.py:201: RuntimeWarning:\n",
      "\n",
      "Glyph 127482 missing from current font.\n",
      "\n",
      "/opt/anaconda3/envs/learn-env/lib/python3.6/site-packages/matplotlib/backends/backend_agg.py:201: RuntimeWarning:\n",
      "\n",
      "Glyph 127480 missing from current font.\n",
      "\n"
     ]
    },
    {
     "data": {
      "image/png": "[encoded data removed]",
      "text/plain": [
       "<Figure size 748.8x514.8 with 1 Axes>"
      ]
     },
     "metadata": {
      "needs_background": "light"
     },
     "output_type": "display_data"
    }
   ],
   "source": [
    "# vectorizer.get_feature_names()\n",
    "with plt.style.context('seaborn-talk'):\n",
    "    importance = pd.Series(rf.feature_importances_,index= vectorizer.get_feature_names())\n",
    "    importance.sort_values(inplace=True)\n",
    "\n",
    "    importance.sort_values().tail(30).plot(kind='barh')"
   ]
  },
  {
   "cell_type": "code",
   "execution_count": 162,
   "metadata": {
    "ExecuteTime": {
     "end_time": "2020-10-24T19:17:03.019418Z",
     "start_time": "2020-10-24T19:17:03.012128Z"
    }
   },
   "outputs": [
    {
     "data": {
      "text/plain": [
       "Twitter for Android    0.865672\n",
       "Twitter for iPhone     0.134328\n",
       "Name: source, dtype: float64"
      ]
     },
     "execution_count": 162,
     "metadata": {},
     "output_type": "execute_result"
    }
   ],
   "source": [
    "## Check for top feature ('...') in the text and get source value counts\n",
    "df[df['text'].str.contains('...',regex=False)]['source'].value_counts(normalize=True)"
   ]
  },
  {
   "cell_type": "code",
   "execution_count": 164,
   "metadata": {
    "ExecuteTime": {
     "end_time": "2020-10-24T19:18:40.523126Z",
     "start_time": "2020-10-24T19:18:40.477371Z"
    },
    "scrolled": false
   },
   "outputs": [],
   "source": [
    "## For each of the top 20 words,, get their normalized value counts\n",
    "top_word_probs = {}\n",
    "\n",
    "## for each word in 20 most important\n",
    "for word in importance.tail(20).index:\n",
    "    \n",
    "    ## Find the rows containing that word. \n",
    "    rows = df['text'].str.contains(word,regex=False,case=False)\n",
    "    \n",
    "    ## Get the normalized value counts\n",
    "    val_count= df[rows]['source'].value_counts(normalize=True)\n",
    "    \n",
    "    ## Save into dictionary\n",
    "    top_word_probs[word] = val_count\n"
   ]
  },
  {
   "cell_type": "code",
   "execution_count": 166,
   "metadata": {
    "ExecuteTime": {
     "end_time": "2020-10-24T19:18:46.676241Z",
     "start_time": "2020-10-24T19:18:46.674353Z"
    }
   },
   "outputs": [],
   "source": [
    "# top_word_probs"
   ]
  },
  {
   "cell_type": "code",
   "execution_count": 167,
   "metadata": {
    "ExecuteTime": {
     "end_time": "2020-10-24T19:19:07.982202Z",
     "start_time": "2020-10-24T19:19:07.969653Z"
    }
   },
   "outputs": [
    {
     "data": {
      "text/html": [
       "<div>\n",
       "<style scoped>\n",
       "    .dataframe tbody tr th:only-of-type {\n",
       "        vertical-align: middle;\n",
       "    }\n",
       "\n",
       "    .dataframe tbody tr th {\n",
       "        vertical-align: top;\n",
       "    }\n",
       "\n",
       "    .dataframe thead th {\n",
       "        text-align: right;\n",
       "    }\n",
       "</style>\n",
       "<table border=\"1\" class=\"dataframe\">\n",
       "  <thead>\n",
       "    <tr style=\"text-align: right;\">\n",
       "      <th></th>\n",
       "      <th>Twitter for Android</th>\n",
       "      <th>Twitter for iPhone</th>\n",
       "    </tr>\n",
       "  </thead>\n",
       "  <tbody>\n",
       "    <tr>\n",
       "      <th>u</th>\n",
       "      <td>0.602170</td>\n",
       "      <td>0.397830</td>\n",
       "    </tr>\n",
       "    <tr>\n",
       "      <th>america</th>\n",
       "      <td>0.316667</td>\n",
       "      <td>0.683333</td>\n",
       "    </tr>\n",
       "    <tr>\n",
       "      <th>big</th>\n",
       "      <td>0.820513</td>\n",
       "      <td>0.179487</td>\n",
       "    </tr>\n",
       "    <tr>\n",
       "      <th>country</th>\n",
       "      <td>0.862069</td>\n",
       "      <td>0.137931</td>\n",
       "    </tr>\n",
       "    <tr>\n",
       "      <th>congratulations</th>\n",
       "      <td>0.333333</td>\n",
       "      <td>0.666667</td>\n",
       "    </tr>\n",
       "    <tr>\n",
       "      <th>jobs</th>\n",
       "      <td>0.468750</td>\n",
       "      <td>0.531250</td>\n",
       "    </tr>\n",
       "    <tr>\n",
       "      <th>🇺</th>\n",
       "      <td>NaN</td>\n",
       "      <td>1.000000</td>\n",
       "    </tr>\n",
       "    <tr>\n",
       "      <th>election</th>\n",
       "      <td>0.870968</td>\n",
       "      <td>0.129032</td>\n",
       "    </tr>\n",
       "    <tr>\n",
       "      <th>🇸</th>\n",
       "      <td>NaN</td>\n",
       "      <td>1.000000</td>\n",
       "    </tr>\n",
       "    <tr>\n",
       "      <th>@whitehouse</th>\n",
       "      <td>NaN</td>\n",
       "      <td>1.000000</td>\n",
       "    </tr>\n",
       "    <tr>\n",
       "      <th>:/</th>\n",
       "      <td>0.023952</td>\n",
       "      <td>0.976048</td>\n",
       "    </tr>\n",
       "    <tr>\n",
       "      <th>media</th>\n",
       "      <td>0.885714</td>\n",
       "      <td>0.114286</td>\n",
       "    </tr>\n",
       "    <tr>\n",
       "      <th>great</th>\n",
       "      <td>0.572917</td>\n",
       "      <td>0.427083</td>\n",
       "    </tr>\n",
       "    <tr>\n",
       "      <th>thank</th>\n",
       "      <td>0.360656</td>\n",
       "      <td>0.639344</td>\n",
       "    </tr>\n",
       "    <tr>\n",
       "      <th>join</th>\n",
       "      <td>0.035714</td>\n",
       "      <td>0.964286</td>\n",
       "    </tr>\n",
       "    <tr>\n",
       "      <th>today</th>\n",
       "      <td>0.421053</td>\n",
       "      <td>0.578947</td>\n",
       "    </tr>\n",
       "    <tr>\n",
       "      <th>people</th>\n",
       "      <td>0.880000</td>\n",
       "      <td>0.120000</td>\n",
       "    </tr>\n",
       "    <tr>\n",
       "      <th>trump</th>\n",
       "      <td>0.303571</td>\n",
       "      <td>0.696429</td>\n",
       "    </tr>\n",
       "    <tr>\n",
       "      <th>rt</th>\n",
       "      <td>0.527559</td>\n",
       "      <td>0.472441</td>\n",
       "    </tr>\n",
       "    <tr>\n",
       "      <th>…</th>\n",
       "      <td>0.015873</td>\n",
       "      <td>0.984127</td>\n",
       "    </tr>\n",
       "  </tbody>\n",
       "</table>\n",
       "</div>"
      ],
      "text/plain": [
       "                 Twitter for Android  Twitter for iPhone\n",
       "u                           0.602170            0.397830\n",
       "america                     0.316667            0.683333\n",
       "big                         0.820513            0.179487\n",
       "country                     0.862069            0.137931\n",
       "congratulations             0.333333            0.666667\n",
       "jobs                        0.468750            0.531250\n",
       "🇺                                NaN            1.000000\n",
       "election                    0.870968            0.129032\n",
       "🇸                                NaN            1.000000\n",
       "@whitehouse                      NaN            1.000000\n",
       ":/                          0.023952            0.976048\n",
       "media                       0.885714            0.114286\n",
       "great                       0.572917            0.427083\n",
       "thank                       0.360656            0.639344\n",
       "join                        0.035714            0.964286\n",
       "today                       0.421053            0.578947\n",
       "people                      0.880000            0.120000\n",
       "trump                       0.303571            0.696429\n",
       "rt                          0.527559            0.472441\n",
       "…                           0.015873            0.984127"
      ]
     },
     "execution_count": 167,
     "metadata": {},
     "output_type": "execute_result"
    }
   ],
   "source": [
    "## Turn into a DataFrame (.T)\n",
    "top_probs = pd.DataFrame(top_word_probs).T\n",
    "top_probs"
   ]
  },
  {
   "cell_type": "code",
   "execution_count": 76,
   "metadata": {
    "ExecuteTime": {
     "end_time": "2020-10-24T18:15:02.600051Z",
     "start_time": "2020-10-24T18:15:02.565986Z"
    }
   },
   "outputs": [
    {
     "data": {
      "text/html": [
       "<style  type=\"text/css\" >\n",
       "#T_d5c3cbc8_1624_11eb_a53b_acde48001122row0_col0,#T_d5c3cbc8_1624_11eb_a53b_acde48001122row1_col0,#T_d5c3cbc8_1624_11eb_a53b_acde48001122row2_col1,#T_d5c3cbc8_1624_11eb_a53b_acde48001122row3_col0,#T_d5c3cbc8_1624_11eb_a53b_acde48001122row4_col1,#T_d5c3cbc8_1624_11eb_a53b_acde48001122row6_col0,#T_d5c3cbc8_1624_11eb_a53b_acde48001122row7_col1,#T_d5c3cbc8_1624_11eb_a53b_acde48001122row10_col1,#T_d5c3cbc8_1624_11eb_a53b_acde48001122row11_col0,#T_d5c3cbc8_1624_11eb_a53b_acde48001122row12_col1,#T_d5c3cbc8_1624_11eb_a53b_acde48001122row13_col0,#T_d5c3cbc8_1624_11eb_a53b_acde48001122row14_col1,#T_d5c3cbc8_1624_11eb_a53b_acde48001122row15_col1,#T_d5c3cbc8_1624_11eb_a53b_acde48001122row16_col0,#T_d5c3cbc8_1624_11eb_a53b_acde48001122row17_col1,#T_d5c3cbc8_1624_11eb_a53b_acde48001122row18_col0,#T_d5c3cbc8_1624_11eb_a53b_acde48001122row19_col1{\n",
       "            background-color:  #023858;\n",
       "            color:  #f1f1f1;\n",
       "        }#T_d5c3cbc8_1624_11eb_a53b_acde48001122row0_col1,#T_d5c3cbc8_1624_11eb_a53b_acde48001122row1_col1,#T_d5c3cbc8_1624_11eb_a53b_acde48001122row2_col0,#T_d5c3cbc8_1624_11eb_a53b_acde48001122row3_col1,#T_d5c3cbc8_1624_11eb_a53b_acde48001122row4_col0,#T_d5c3cbc8_1624_11eb_a53b_acde48001122row5_col0,#T_d5c3cbc8_1624_11eb_a53b_acde48001122row5_col1,#T_d5c3cbc8_1624_11eb_a53b_acde48001122row6_col1,#T_d5c3cbc8_1624_11eb_a53b_acde48001122row7_col0,#T_d5c3cbc8_1624_11eb_a53b_acde48001122row8_col0,#T_d5c3cbc8_1624_11eb_a53b_acde48001122row8_col1,#T_d5c3cbc8_1624_11eb_a53b_acde48001122row9_col0,#T_d5c3cbc8_1624_11eb_a53b_acde48001122row9_col1,#T_d5c3cbc8_1624_11eb_a53b_acde48001122row10_col0,#T_d5c3cbc8_1624_11eb_a53b_acde48001122row11_col1,#T_d5c3cbc8_1624_11eb_a53b_acde48001122row12_col0,#T_d5c3cbc8_1624_11eb_a53b_acde48001122row13_col1,#T_d5c3cbc8_1624_11eb_a53b_acde48001122row14_col0,#T_d5c3cbc8_1624_11eb_a53b_acde48001122row15_col0,#T_d5c3cbc8_1624_11eb_a53b_acde48001122row16_col1,#T_d5c3cbc8_1624_11eb_a53b_acde48001122row17_col0,#T_d5c3cbc8_1624_11eb_a53b_acde48001122row18_col1,#T_d5c3cbc8_1624_11eb_a53b_acde48001122row19_col0{\n",
       "            background-color:  #fff7fb;\n",
       "            color:  #000000;\n",
       "        }</style><table id=\"T_d5c3cbc8_1624_11eb_a53b_acde48001122\" ><thead>    <tr>        <th class=\"blank level0\" ></th>        <th class=\"col_heading level0 col0\" >Twitter for Android</th>        <th class=\"col_heading level0 col1\" >Twitter for iPhone</th>    </tr></thead><tbody>\n",
       "                <tr>\n",
       "                        <th id=\"T_d5c3cbc8_1624_11eb_a53b_acde48001122level0_row0\" class=\"row_heading level0 row0\" >u</th>\n",
       "                        <td id=\"T_d5c3cbc8_1624_11eb_a53b_acde48001122row0_col0\" class=\"data row0 col0\" >0.602170</td>\n",
       "                        <td id=\"T_d5c3cbc8_1624_11eb_a53b_acde48001122row0_col1\" class=\"data row0 col1\" >0.397830</td>\n",
       "            </tr>\n",
       "            <tr>\n",
       "                        <th id=\"T_d5c3cbc8_1624_11eb_a53b_acde48001122level0_row1\" class=\"row_heading level0 row1\" >like</th>\n",
       "                        <td id=\"T_d5c3cbc8_1624_11eb_a53b_acde48001122row1_col0\" class=\"data row1 col0\" >0.952381</td>\n",
       "                        <td id=\"T_d5c3cbc8_1624_11eb_a53b_acde48001122row1_col1\" class=\"data row1 col1\" >0.047619</td>\n",
       "            </tr>\n",
       "            <tr>\n",
       "                        <th id=\"T_d5c3cbc8_1624_11eb_a53b_acde48001122level0_row2\" class=\"row_heading level0 row2\" >tonight</th>\n",
       "                        <td id=\"T_d5c3cbc8_1624_11eb_a53b_acde48001122row2_col0\" class=\"data row2 col0\" >0.368421</td>\n",
       "                        <td id=\"T_d5c3cbc8_1624_11eb_a53b_acde48001122row2_col1\" class=\"data row2 col1\" >0.631579</td>\n",
       "            </tr>\n",
       "            <tr>\n",
       "                        <th id=\"T_d5c3cbc8_1624_11eb_a53b_acde48001122level0_row3\" class=\"row_heading level0 row3\" >country</th>\n",
       "                        <td id=\"T_d5c3cbc8_1624_11eb_a53b_acde48001122row3_col0\" class=\"data row3 col0\" >0.862069</td>\n",
       "                        <td id=\"T_d5c3cbc8_1624_11eb_a53b_acde48001122row3_col1\" class=\"data row3 col1\" >0.137931</td>\n",
       "            </tr>\n",
       "            <tr>\n",
       "                        <th id=\"T_d5c3cbc8_1624_11eb_a53b_acde48001122level0_row4\" class=\"row_heading level0 row4\" >:/</th>\n",
       "                        <td id=\"T_d5c3cbc8_1624_11eb_a53b_acde48001122row4_col0\" class=\"data row4 col0\" >0.023952</td>\n",
       "                        <td id=\"T_d5c3cbc8_1624_11eb_a53b_acde48001122row4_col1\" class=\"data row4 col1\" >0.976048</td>\n",
       "            </tr>\n",
       "            <tr>\n",
       "                        <th id=\"T_d5c3cbc8_1624_11eb_a53b_acde48001122level0_row5\" class=\"row_heading level0 row5\" >🇸</th>\n",
       "                        <td id=\"T_d5c3cbc8_1624_11eb_a53b_acde48001122row5_col0\" class=\"data row5 col0\" >nan</td>\n",
       "                        <td id=\"T_d5c3cbc8_1624_11eb_a53b_acde48001122row5_col1\" class=\"data row5 col1\" >1.000000</td>\n",
       "            </tr>\n",
       "            <tr>\n",
       "                        <th id=\"T_d5c3cbc8_1624_11eb_a53b_acde48001122level0_row6\" class=\"row_heading level0 row6\" >election</th>\n",
       "                        <td id=\"T_d5c3cbc8_1624_11eb_a53b_acde48001122row6_col0\" class=\"data row6 col0\" >0.870968</td>\n",
       "                        <td id=\"T_d5c3cbc8_1624_11eb_a53b_acde48001122row6_col1\" class=\"data row6 col1\" >0.129032</td>\n",
       "            </tr>\n",
       "            <tr>\n",
       "                        <th id=\"T_d5c3cbc8_1624_11eb_a53b_acde48001122level0_row7\" class=\"row_heading level0 row7\" >congratulations</th>\n",
       "                        <td id=\"T_d5c3cbc8_1624_11eb_a53b_acde48001122row7_col0\" class=\"data row7 col0\" >0.333333</td>\n",
       "                        <td id=\"T_d5c3cbc8_1624_11eb_a53b_acde48001122row7_col1\" class=\"data row7 col1\" >0.666667</td>\n",
       "            </tr>\n",
       "            <tr>\n",
       "                        <th id=\"T_d5c3cbc8_1624_11eb_a53b_acde48001122level0_row8\" class=\"row_heading level0 row8\" >@whitehouse</th>\n",
       "                        <td id=\"T_d5c3cbc8_1624_11eb_a53b_acde48001122row8_col0\" class=\"data row8 col0\" >nan</td>\n",
       "                        <td id=\"T_d5c3cbc8_1624_11eb_a53b_acde48001122row8_col1\" class=\"data row8 col1\" >1.000000</td>\n",
       "            </tr>\n",
       "            <tr>\n",
       "                        <th id=\"T_d5c3cbc8_1624_11eb_a53b_acde48001122level0_row9\" class=\"row_heading level0 row9\" >🇺</th>\n",
       "                        <td id=\"T_d5c3cbc8_1624_11eb_a53b_acde48001122row9_col0\" class=\"data row9 col0\" >nan</td>\n",
       "                        <td id=\"T_d5c3cbc8_1624_11eb_a53b_acde48001122row9_col1\" class=\"data row9 col1\" >1.000000</td>\n",
       "            </tr>\n",
       "            <tr>\n",
       "                        <th id=\"T_d5c3cbc8_1624_11eb_a53b_acde48001122level0_row10\" class=\"row_heading level0 row10\" >jobs</th>\n",
       "                        <td id=\"T_d5c3cbc8_1624_11eb_a53b_acde48001122row10_col0\" class=\"data row10 col0\" >0.468750</td>\n",
       "                        <td id=\"T_d5c3cbc8_1624_11eb_a53b_acde48001122row10_col1\" class=\"data row10 col1\" >0.531250</td>\n",
       "            </tr>\n",
       "            <tr>\n",
       "                        <th id=\"T_d5c3cbc8_1624_11eb_a53b_acde48001122level0_row11\" class=\"row_heading level0 row11\" >great</th>\n",
       "                        <td id=\"T_d5c3cbc8_1624_11eb_a53b_acde48001122row11_col0\" class=\"data row11 col0\" >0.572917</td>\n",
       "                        <td id=\"T_d5c3cbc8_1624_11eb_a53b_acde48001122row11_col1\" class=\"data row11 col1\" >0.427083</td>\n",
       "            </tr>\n",
       "            <tr>\n",
       "                        <th id=\"T_d5c3cbc8_1624_11eb_a53b_acde48001122level0_row12\" class=\"row_heading level0 row12\" >thank</th>\n",
       "                        <td id=\"T_d5c3cbc8_1624_11eb_a53b_acde48001122row12_col0\" class=\"data row12 col0\" >0.360656</td>\n",
       "                        <td id=\"T_d5c3cbc8_1624_11eb_a53b_acde48001122row12_col1\" class=\"data row12 col1\" >0.639344</td>\n",
       "            </tr>\n",
       "            <tr>\n",
       "                        <th id=\"T_d5c3cbc8_1624_11eb_a53b_acde48001122level0_row13\" class=\"row_heading level0 row13\" >media</th>\n",
       "                        <td id=\"T_d5c3cbc8_1624_11eb_a53b_acde48001122row13_col0\" class=\"data row13 col0\" >0.885714</td>\n",
       "                        <td id=\"T_d5c3cbc8_1624_11eb_a53b_acde48001122row13_col1\" class=\"data row13 col1\" >0.114286</td>\n",
       "            </tr>\n",
       "            <tr>\n",
       "                        <th id=\"T_d5c3cbc8_1624_11eb_a53b_acde48001122level0_row14\" class=\"row_heading level0 row14\" >trump</th>\n",
       "                        <td id=\"T_d5c3cbc8_1624_11eb_a53b_acde48001122row14_col0\" class=\"data row14 col0\" >0.303571</td>\n",
       "                        <td id=\"T_d5c3cbc8_1624_11eb_a53b_acde48001122row14_col1\" class=\"data row14 col1\" >0.696429</td>\n",
       "            </tr>\n",
       "            <tr>\n",
       "                        <th id=\"T_d5c3cbc8_1624_11eb_a53b_acde48001122level0_row15\" class=\"row_heading level0 row15\" >today</th>\n",
       "                        <td id=\"T_d5c3cbc8_1624_11eb_a53b_acde48001122row15_col0\" class=\"data row15 col0\" >0.421053</td>\n",
       "                        <td id=\"T_d5c3cbc8_1624_11eb_a53b_acde48001122row15_col1\" class=\"data row15 col1\" >0.578947</td>\n",
       "            </tr>\n",
       "            <tr>\n",
       "                        <th id=\"T_d5c3cbc8_1624_11eb_a53b_acde48001122level0_row16\" class=\"row_heading level0 row16\" >people</th>\n",
       "                        <td id=\"T_d5c3cbc8_1624_11eb_a53b_acde48001122row16_col0\" class=\"data row16 col0\" >0.880000</td>\n",
       "                        <td id=\"T_d5c3cbc8_1624_11eb_a53b_acde48001122row16_col1\" class=\"data row16 col1\" >0.120000</td>\n",
       "            </tr>\n",
       "            <tr>\n",
       "                        <th id=\"T_d5c3cbc8_1624_11eb_a53b_acde48001122level0_row17\" class=\"row_heading level0 row17\" >join</th>\n",
       "                        <td id=\"T_d5c3cbc8_1624_11eb_a53b_acde48001122row17_col0\" class=\"data row17 col0\" >0.035714</td>\n",
       "                        <td id=\"T_d5c3cbc8_1624_11eb_a53b_acde48001122row17_col1\" class=\"data row17 col1\" >0.964286</td>\n",
       "            </tr>\n",
       "            <tr>\n",
       "                        <th id=\"T_d5c3cbc8_1624_11eb_a53b_acde48001122level0_row18\" class=\"row_heading level0 row18\" >rt</th>\n",
       "                        <td id=\"T_d5c3cbc8_1624_11eb_a53b_acde48001122row18_col0\" class=\"data row18 col0\" >0.527559</td>\n",
       "                        <td id=\"T_d5c3cbc8_1624_11eb_a53b_acde48001122row18_col1\" class=\"data row18 col1\" >0.472441</td>\n",
       "            </tr>\n",
       "            <tr>\n",
       "                        <th id=\"T_d5c3cbc8_1624_11eb_a53b_acde48001122level0_row19\" class=\"row_heading level0 row19\" >…</th>\n",
       "                        <td id=\"T_d5c3cbc8_1624_11eb_a53b_acde48001122row19_col0\" class=\"data row19 col0\" >0.015873</td>\n",
       "                        <td id=\"T_d5c3cbc8_1624_11eb_a53b_acde48001122row19_col1\" class=\"data row19 col1\" >0.984127</td>\n",
       "            </tr>\n",
       "    </tbody></table>"
      ],
      "text/plain": [
       "<pandas.io.formats.style.Styler at 0x7fe697ae3cc0>"
      ]
     },
     "execution_count": 76,
     "metadata": {},
     "output_type": "execute_result"
    }
   ],
   "source": [
    "## Use pandas styling to apply a background_gradient across the columns\n",
    "top_probs.style.background_gradient(axis=1)"
   ]
  },
  {
   "cell_type": "markdown",
   "metadata": {},
   "source": [
    "## T-SNE (for Student Question)"
   ]
  },
  {
   "cell_type": "code",
   "execution_count": 78,
   "metadata": {
    "ExecuteTime": {
     "end_time": "2020-10-24T18:15:02.613636Z",
     "start_time": "2020-10-24T18:15:02.606762Z"
    }
   },
   "outputs": [
    {
     "data": {
      "text/plain": [
       "matrix([[0., 0., 0., ..., 0., 0., 0.],\n",
       "        [0., 0., 0., ..., 0., 0., 0.],\n",
       "        [0., 0., 0., ..., 0., 0., 0.],\n",
       "        ...,\n",
       "        [0., 0., 0., ..., 0., 0., 0.],\n",
       "        [0., 0., 0., ..., 0., 0., 0.],\n",
       "        [0., 0., 0., ..., 0., 0., 0.]])"
      ]
     },
     "execution_count": 78,
     "metadata": {},
     "output_type": "execute_result"
    }
   ],
   "source": [
    "X_train_pipe.todense()"
   ]
  },
  {
   "cell_type": "code",
   "execution_count": 79,
   "metadata": {
    "ExecuteTime": {
     "end_time": "2020-10-24T18:15:02.641112Z",
     "start_time": "2020-10-24T18:15:02.615247Z"
    }
   },
   "outputs": [],
   "source": [
    "from sklearn.manifold import TSNE\n",
    "from mpl_toolkits.mplot3d import Axes3D"
   ]
  },
  {
   "cell_type": "code",
   "execution_count": 80,
   "metadata": {
    "ExecuteTime": {
     "end_time": "2020-10-24T18:15:04.488597Z",
     "start_time": "2020-10-24T18:15:02.642964Z"
    }
   },
   "outputs": [
    {
     "data": {
      "text/plain": [
       "array([[ 99.56494 , -84.11886 , -83.816376],\n",
       "       [-61.192055,  69.30721 ,  56.213596],\n",
       "       [ 85.36028 , -16.586344,  17.198137],\n",
       "       ...,\n",
       "       [-59.018963, -30.222332, 102.931145],\n",
       "       [-89.37222 ,  16.185802,  68.37487 ],\n",
       "       [ 79.66131 , -70.87613 ,  27.121532]], dtype=float32)"
      ]
     },
     "execution_count": 80,
     "metadata": {},
     "output_type": "execute_result"
    }
   ],
   "source": [
    "## TSNE For Visualizing High Dimensional Data\n",
    "t_sne_object_3d = TSNE(n_components=3)\n",
    "transformed_data_3d = t_sne_object_3d.fit_transform(X_train_pipe)\n",
    "transformed_data_3d"
   ]
  },
  {
   "cell_type": "code",
   "execution_count": 81,
   "metadata": {
    "ExecuteTime": {
     "end_time": "2020-10-24T18:15:04.493736Z",
     "start_time": "2020-10-24T18:15:04.490341Z"
    }
   },
   "outputs": [],
   "source": [
    "## Separate into Trump/Not Trump\n",
    "trump = transformed_data_3d[y_train==1]\n",
    "not_trump = transformed_data_3d[y_train==0]"
   ]
  },
  {
   "cell_type": "code",
   "execution_count": 82,
   "metadata": {
    "ExecuteTime": {
     "end_time": "2020-10-24T18:15:04.767110Z",
     "start_time": "2020-10-24T18:15:04.495489Z"
    }
   },
   "outputs": [
    {
     "data": {
      "image/png": "[encoded data removed]",
      "text/plain": [
       "<Figure size 1440x720 with 1 Axes>"
      ]
     },
     "metadata": {
      "needs_background": "light"
     },
     "output_type": "display_data"
    }
   ],
   "source": [
    "fig = plt.figure(figsize=(20,10))\n",
    "ax = fig.add_subplot(projection='3d')\n",
    "ax.scatter(trump[:,0],trump[:,1],\n",
    "           trump[:,2],c='orange',label='Trump')\n",
    "ax.scatter(not_trump[:,0],not_trump[:,1],\n",
    "           not_trump[:,2],c='black',label='Not Trump')\n",
    "ax.legend()\n",
    "ax.view_init(30, 10)\n",
    "\n",
    "\n",
    "fig.tight_layout()"
   ]
  },
  {
   "cell_type": "code",
   "execution_count": 83,
   "metadata": {
    "ExecuteTime": {
     "end_time": "2020-10-24T18:15:05.985927Z",
     "start_time": "2020-10-24T18:15:04.768877Z"
    }
   },
   "outputs": [],
   "source": [
    "## TSNE For Visualizing High Dimensional Data\n",
    "t_sne_object_2d = TSNE(n_components=2)\n",
    "transformed_data_2d = t_sne_object_2d.fit_transform(X_train_pipe)\n",
    "## Separate into Trump/Not Trump\n",
    "trump = transformed_data_2d[y_train==1]\n",
    "not_trump = transformed_data_2d[y_train==0]"
   ]
  },
  {
   "cell_type": "code",
   "execution_count": 84,
   "metadata": {
    "ExecuteTime": {
     "end_time": "2020-10-24T18:15:06.389843Z",
     "start_time": "2020-10-24T18:15:05.987741Z"
    }
   },
   "outputs": [
    {
     "data": {
      "image/png": "[encoded data removed]",
      "text/plain": [
       "<Figure size 1440x720 with 1 Axes>"
      ]
     },
     "metadata": {
      "needs_background": "light"
     },
     "output_type": "display_data"
    }
   ],
   "source": [
    "fig,ax = plt.subplots(figsize=(20,10))\n",
    "ax.scatter(trump[:,0],trump[:,1],c='orange',label='Trump')\n",
    "ax.scatter(not_trump[:,0],not_trump[:,1],c='black',label='Not Trump')\n",
    "ax.legend()\n",
    "\n",
    "fig.tight_layout()"
   ]
  },
  {
   "cell_type": "markdown",
   "metadata": {},
   "source": [
    "## Other Classifiers - Naive Bayes"
   ]
  },
  {
   "cell_type": "code",
   "execution_count": 85,
   "metadata": {
    "ExecuteTime": {
     "end_time": "2020-10-24T18:15:06.555004Z",
     "start_time": "2020-10-24T18:15:06.391667Z"
    },
    "scrolled": false
   },
   "outputs": [
    {
     "name": "stdout",
     "output_type": "stream",
     "text": [
      "              precision    recall  f1-score   support\n",
      "\n",
      "   Not Trump       0.98      0.64      0.77        72\n",
      "       Trump       0.81      0.99      0.89       109\n",
      "\n",
      "    accuracy                           0.85       181\n",
      "   macro avg       0.89      0.81      0.83       181\n",
      "weighted avg       0.87      0.85      0.84       181\n",
      "\n"
     ]
    },
    {
     "data": {
      "image/png": "[encoded data removed]",
      "text/plain": [
       "<Figure size 432x288 with 2 Axes>"
      ]
     },
     "metadata": {
      "needs_background": "light"
     },
     "output_type": "display_data"
    }
   ],
   "source": [
    "nb_classifier = MultinomialNB()#alpha = 1.0e-08)\n",
    "nb_classifier.fit(X_train_pipe,y_train)\n",
    "y_hat_test = nb_classifier.predict(X_test_pipe)\n",
    "evaluate_model(y_test,y_hat_test,X_test_pipe,nb_classifier)"
   ]
  },
  {
   "cell_type": "markdown",
   "metadata": {},
   "source": [
    "# APPENDIX"
   ]
  },
  {
   "cell_type": "markdown",
   "metadata": {},
   "source": [
    "## GridSearch Random Forest"
   ]
  },
  {
   "cell_type": "code",
   "execution_count": 86,
   "metadata": {
    "ExecuteTime": {
     "end_time": "2020-10-24T18:15:06.558971Z",
     "start_time": "2020-10-24T18:15:06.556784Z"
    }
   },
   "outputs": [],
   "source": [
    "# from sklearn.model_selection import GridSearchCV\n",
    "# params  = {'criterion':['gini','entropy'],\n",
    "#            'max_depth':[3,5,10,50,100,None],\n",
    "#           'class_weight':['balanced',None],\n",
    "#            'bootstrap':[True ,False],\n",
    "#           'min_samples_leaf':[1,2,3,4],\n",
    "#           }\n",
    "# rf_clf = RandomForestClassifier()\n",
    "# grid = GridSearchCV(rf_clf,params,return_train_score=False,\n",
    "#                     scoring='recall_weighted',n_jobs=-1)\n",
    "# grid.fit(X_train_tfidf,y_train)\n",
    "# print(grid.best_score_)\n",
    "# grid.best_params_"
   ]
  },
  {
   "cell_type": "code",
   "execution_count": 87,
   "metadata": {
    "ExecuteTime": {
     "end_time": "2020-10-24T18:15:06.563185Z",
     "start_time": "2020-10-24T18:15:06.560884Z"
    }
   },
   "outputs": [],
   "source": [
    "# best_rf = grid.best_estimator_\n",
    "# best_rf.fit(X_train_tfidf, y_train)\n",
    "\n",
    "# y_hat_test = best_rf.predict(X_test_tfidf)"
   ]
  },
  {
   "cell_type": "code",
   "execution_count": 88,
   "metadata": {
    "ExecuteTime": {
     "end_time": "2020-10-24T18:15:06.567144Z",
     "start_time": "2020-10-24T18:15:06.564925Z"
    }
   },
   "outputs": [],
   "source": [
    "# evaluate_model(y_test,y_hat_test,X_test_tfidf,best_rf)"
   ]
  },
  {
   "cell_type": "code",
   "execution_count": 89,
   "metadata": {
    "ExecuteTime": {
     "end_time": "2020-10-24T18:15:06.571495Z",
     "start_time": "2020-10-24T18:15:06.569308Z"
    }
   },
   "outputs": [],
   "source": [
    "# importance = pd.Series(best_rf.feature_importances_,index= vectorizer.get_feature_names())\n",
    "# importance.sort_values().tail(20).plot(kind='barh')"
   ]
  },
  {
   "cell_type": "markdown",
   "metadata": {},
   "source": [
    "## BOOKMARK: Better Handling Emojis"
   ]
  },
  {
   "cell_type": "markdown",
   "metadata": {},
   "source": [
    "> https://medium.com/towards-artificial-intelligence/emoticon-and-emoji-in-text-mining-7392c49f596a"
   ]
  },
  {
   "cell_type": "code",
   "execution_count": null,
   "metadata": {},
   "outputs": [],
   "source": []
  },
  {
   "cell_type": "markdown",
   "metadata": {},
   "source": [
    "## Excluded Code"
   ]
  },
  {
   "cell_type": "markdown",
   "metadata": {},
   "source": [
    "### Summary table from Finding Trump"
   ]
  },
  {
   "cell_type": "code",
   "execution_count": 90,
   "metadata": {
    "ExecuteTime": {
     "end_time": "2020-10-24T18:15:06.610881Z",
     "start_time": "2020-10-24T18:15:06.573240Z"
    }
   },
   "outputs": [
    {
     "data": {
      "text/html": [
       "<style  type=\"text/css\" >\n",
       "#T_d8273594_1624_11eb_9b71_acde48001122row0_col1,#T_d8273594_1624_11eb_9b71_acde48001122row1_col0,#T_d8273594_1624_11eb_9b71_acde48001122row2_col1,#T_d8273594_1624_11eb_9b71_acde48001122row3_col0,#T_d8273594_1624_11eb_9b71_acde48001122row4_col1,#T_d8273594_1624_11eb_9b71_acde48001122row5_col1,#T_d8273594_1624_11eb_9b71_acde48001122row6_col0,#T_d8273594_1624_11eb_9b71_acde48001122row7_col1,#T_d8273594_1624_11eb_9b71_acde48001122row8_col0,#T_d8273594_1624_11eb_9b71_acde48001122row9_col1,#T_d8273594_1624_11eb_9b71_acde48001122row10_col1,#T_d8273594_1624_11eb_9b71_acde48001122row11_col1,#T_d8273594_1624_11eb_9b71_acde48001122row12_col1,#T_d8273594_1624_11eb_9b71_acde48001122row13_col0,#T_d8273594_1624_11eb_9b71_acde48001122row14_col1,#T_d8273594_1624_11eb_9b71_acde48001122row15_col1,#T_d8273594_1624_11eb_9b71_acde48001122row16_col0,#T_d8273594_1624_11eb_9b71_acde48001122row17_col1,#T_d8273594_1624_11eb_9b71_acde48001122row18_col0,#T_d8273594_1624_11eb_9b71_acde48001122row19_col0{\n",
       "            background-color:  lightgreen;\n",
       "        }#T_d8273594_1624_11eb_9b71_acde48001122row0_col2{\n",
       "            width:  10em;\n",
       "             height:  80%;\n",
       "            background:  linear-gradient(90deg,#d65f5f 100.0%, transparent 100.0%);\n",
       "        }#T_d8273594_1624_11eb_9b71_acde48001122row0_col3{\n",
       "            background-color:  #034165;\n",
       "            color:  #f1f1f1;\n",
       "        }#T_d8273594_1624_11eb_9b71_acde48001122row1_col2{\n",
       "            width:  10em;\n",
       "             height:  80%;\n",
       "            background:  linear-gradient(90deg,#d65f5f 46.0%, transparent 46.0%);\n",
       "        }#T_d8273594_1624_11eb_9b71_acde48001122row1_col3{\n",
       "            background-color:  #fff7fb;\n",
       "            color:  #000000;\n",
       "        }#T_d8273594_1624_11eb_9b71_acde48001122row2_col2{\n",
       "            width:  10em;\n",
       "             height:  80%;\n",
       "            background:  linear-gradient(90deg,#d65f5f 18.7%, transparent 18.7%);\n",
       "        }#T_d8273594_1624_11eb_9b71_acde48001122row2_col3{\n",
       "            background-color:  #034c78;\n",
       "            color:  #f1f1f1;\n",
       "        }#T_d8273594_1624_11eb_9b71_acde48001122row3_col2{\n",
       "            width:  10em;\n",
       "             height:  80%;\n",
       "            background:  linear-gradient(90deg,#d65f5f 17.5%, transparent 17.5%);\n",
       "        }#T_d8273594_1624_11eb_9b71_acde48001122row3_col3{\n",
       "            background-color:  #0771b1;\n",
       "            color:  #f1f1f1;\n",
       "        }#T_d8273594_1624_11eb_9b71_acde48001122row4_col2{\n",
       "            width:  10em;\n",
       "             height:  80%;\n",
       "            background:  linear-gradient(90deg,#d65f5f 17.4%, transparent 17.4%);\n",
       "        }#T_d8273594_1624_11eb_9b71_acde48001122row4_col3{\n",
       "            background-color:  #efe9f3;\n",
       "            color:  #000000;\n",
       "        }#T_d8273594_1624_11eb_9b71_acde48001122row5_col2{\n",
       "            width:  10em;\n",
       "             height:  80%;\n",
       "            background:  linear-gradient(90deg,#d65f5f 16.1%, transparent 16.1%);\n",
       "        }#T_d8273594_1624_11eb_9b71_acde48001122row5_col3{\n",
       "            background-color:  #acc0dd;\n",
       "            color:  #000000;\n",
       "        }#T_d8273594_1624_11eb_9b71_acde48001122row6_col2{\n",
       "            width:  10em;\n",
       "             height:  80%;\n",
       "            background:  linear-gradient(90deg,#d65f5f 15.1%, transparent 15.1%);\n",
       "        }#T_d8273594_1624_11eb_9b71_acde48001122row6_col3{\n",
       "            background-color:  #056ead;\n",
       "            color:  #f1f1f1;\n",
       "        }#T_d8273594_1624_11eb_9b71_acde48001122row7_col2{\n",
       "            width:  10em;\n",
       "             height:  80%;\n",
       "            background:  linear-gradient(90deg,#d65f5f 11.4%, transparent 11.4%);\n",
       "        }#T_d8273594_1624_11eb_9b71_acde48001122row7_col3{\n",
       "            background-color:  #d3d4e7;\n",
       "            color:  #000000;\n",
       "        }#T_d8273594_1624_11eb_9b71_acde48001122row8_col2{\n",
       "            width:  10em;\n",
       "             height:  80%;\n",
       "            background:  linear-gradient(90deg,#d65f5f 9.9%, transparent 9.9%);\n",
       "        }#T_d8273594_1624_11eb_9b71_acde48001122row8_col3{\n",
       "            background-color:  #f1ebf4;\n",
       "            color:  #000000;\n",
       "        }#T_d8273594_1624_11eb_9b71_acde48001122row9_col2{\n",
       "            width:  10em;\n",
       "             height:  80%;\n",
       "            background:  linear-gradient(90deg,#d65f5f 5.9%, transparent 5.9%);\n",
       "        }#T_d8273594_1624_11eb_9b71_acde48001122row9_col3{\n",
       "            background-color:  #fef6fa;\n",
       "            color:  #000000;\n",
       "        }#T_d8273594_1624_11eb_9b71_acde48001122row10_col2{\n",
       "            width:  10em;\n",
       "             height:  80%;\n",
       "            background:  linear-gradient(90deg,#d65f5f 5.6%, transparent 5.6%);\n",
       "        }#T_d8273594_1624_11eb_9b71_acde48001122row10_col3,#T_d8273594_1624_11eb_9b71_acde48001122row11_col3,#T_d8273594_1624_11eb_9b71_acde48001122row14_col3{\n",
       "            background-color:  #023858;\n",
       "            color:  #f1f1f1;\n",
       "        }#T_d8273594_1624_11eb_9b71_acde48001122row11_col2{\n",
       "            width:  10em;\n",
       "             height:  80%;\n",
       "            background:  linear-gradient(90deg,#d65f5f 5.1%, transparent 5.1%);\n",
       "        }#T_d8273594_1624_11eb_9b71_acde48001122row12_col2{\n",
       "            width:  10em;\n",
       "             height:  80%;\n",
       "            background:  linear-gradient(90deg,#d65f5f 4.8%, transparent 4.8%);\n",
       "        }#T_d8273594_1624_11eb_9b71_acde48001122row12_col3{\n",
       "            background-color:  #c1cae2;\n",
       "            color:  #000000;\n",
       "        }#T_d8273594_1624_11eb_9b71_acde48001122row13_col2{\n",
       "            width:  10em;\n",
       "             height:  80%;\n",
       "            background:  linear-gradient(90deg,#d65f5f 4.7%, transparent 4.7%);\n",
       "        }#T_d8273594_1624_11eb_9b71_acde48001122row13_col3{\n",
       "            background-color:  #0d75b3;\n",
       "            color:  #f1f1f1;\n",
       "        }#T_d8273594_1624_11eb_9b71_acde48001122row14_col2{\n",
       "            width:  10em;\n",
       "             height:  80%;\n",
       "            background:  linear-gradient(90deg,#d65f5f 3.1%, transparent 3.1%);\n",
       "        }#T_d8273594_1624_11eb_9b71_acde48001122row15_col2{\n",
       "            width:  10em;\n",
       "             height:  80%;\n",
       "            background:  linear-gradient(90deg,#d65f5f 2.7%, transparent 2.7%);\n",
       "        }#T_d8273594_1624_11eb_9b71_acde48001122row15_col3{\n",
       "            background-color:  #03456c;\n",
       "            color:  #f1f1f1;\n",
       "        }#T_d8273594_1624_11eb_9b71_acde48001122row16_col2{\n",
       "            width:  10em;\n",
       "             height:  80%;\n",
       "            background:  linear-gradient(90deg,#d65f5f 1.4%, transparent 1.4%);\n",
       "        }#T_d8273594_1624_11eb_9b71_acde48001122row16_col3{\n",
       "            background-color:  #157ab5;\n",
       "            color:  #000000;\n",
       "        }#T_d8273594_1624_11eb_9b71_acde48001122row17_col2{\n",
       "            width:  10em;\n",
       "             height:  80%;\n",
       "            background:  linear-gradient(90deg,#d65f5f 1.2%, transparent 1.2%);\n",
       "        }#T_d8273594_1624_11eb_9b71_acde48001122row17_col3{\n",
       "            background-color:  #d7d6e9;\n",
       "            color:  #000000;\n",
       "        }#T_d8273594_1624_11eb_9b71_acde48001122row18_col2{\n",
       "            width:  10em;\n",
       "             height:  80%;\n",
       "            background:  linear-gradient(90deg,#d65f5f 0.5%, transparent 0.5%);\n",
       "        }#T_d8273594_1624_11eb_9b71_acde48001122row18_col3{\n",
       "            background-color:  #045382;\n",
       "            color:  #f1f1f1;\n",
       "        }#T_d8273594_1624_11eb_9b71_acde48001122row19_col2{\n",
       "            width:  10em;\n",
       "             height:  80%;\n",
       "        }#T_d8273594_1624_11eb_9b71_acde48001122row19_col3{\n",
       "            background-color:  #e5e1ef;\n",
       "            color:  #000000;\n",
       "        }</style><table id=\"T_d8273594_1624_11eb_9b71_acde48001122\" ><thead>    <tr>        <th class=\"blank level0\" ></th>        <th class=\"col_heading level0 col0\" >Twitter for Android</th>        <th class=\"col_heading level0 col1\" >Twitter for iPhone</th>        <th class=\"col_heading level0 col2\" >importance</th>        <th class=\"col_heading level0 col3\" >max_prob</th>        <th class=\"col_heading level0 col4\" >Max Prob Class</th>    </tr></thead><tbody>\n",
       "                <tr>\n",
       "                        <th id=\"T_d8273594_1624_11eb_9b71_acde48001122level0_row0\" class=\"row_heading level0 row0\" >…</th>\n",
       "                        <td id=\"T_d8273594_1624_11eb_9b71_acde48001122row0_col0\" class=\"data row0 col0\" >0.015873</td>\n",
       "                        <td id=\"T_d8273594_1624_11eb_9b71_acde48001122row0_col1\" class=\"data row0 col1\" >0.984127</td>\n",
       "                        <td id=\"T_d8273594_1624_11eb_9b71_acde48001122row0_col2\" class=\"data row0 col2\" >0.046680</td>\n",
       "                        <td id=\"T_d8273594_1624_11eb_9b71_acde48001122row0_col3\" class=\"data row0 col3\" >0.984127</td>\n",
       "                        <td id=\"T_d8273594_1624_11eb_9b71_acde48001122row0_col4\" class=\"data row0 col4\" >Twitter for iPhone</td>\n",
       "            </tr>\n",
       "            <tr>\n",
       "                        <th id=\"T_d8273594_1624_11eb_9b71_acde48001122level0_row1\" class=\"row_heading level0 row1\" >rt</th>\n",
       "                        <td id=\"T_d8273594_1624_11eb_9b71_acde48001122row1_col0\" class=\"data row1 col0\" >0.527559</td>\n",
       "                        <td id=\"T_d8273594_1624_11eb_9b71_acde48001122row1_col1\" class=\"data row1 col1\" >0.472441</td>\n",
       "                        <td id=\"T_d8273594_1624_11eb_9b71_acde48001122row1_col2\" class=\"data row1 col2\" >0.024614</td>\n",
       "                        <td id=\"T_d8273594_1624_11eb_9b71_acde48001122row1_col3\" class=\"data row1 col3\" >0.527559</td>\n",
       "                        <td id=\"T_d8273594_1624_11eb_9b71_acde48001122row1_col4\" class=\"data row1 col4\" >Twitter for Android</td>\n",
       "            </tr>\n",
       "            <tr>\n",
       "                        <th id=\"T_d8273594_1624_11eb_9b71_acde48001122level0_row2\" class=\"row_heading level0 row2\" >join</th>\n",
       "                        <td id=\"T_d8273594_1624_11eb_9b71_acde48001122row2_col0\" class=\"data row2 col0\" >0.035714</td>\n",
       "                        <td id=\"T_d8273594_1624_11eb_9b71_acde48001122row2_col1\" class=\"data row2 col1\" >0.964286</td>\n",
       "                        <td id=\"T_d8273594_1624_11eb_9b71_acde48001122row2_col2\" class=\"data row2 col2\" >0.013490</td>\n",
       "                        <td id=\"T_d8273594_1624_11eb_9b71_acde48001122row2_col3\" class=\"data row2 col3\" >0.964286</td>\n",
       "                        <td id=\"T_d8273594_1624_11eb_9b71_acde48001122row2_col4\" class=\"data row2 col4\" >Twitter for iPhone</td>\n",
       "            </tr>\n",
       "            <tr>\n",
       "                        <th id=\"T_d8273594_1624_11eb_9b71_acde48001122level0_row3\" class=\"row_heading level0 row3\" >people</th>\n",
       "                        <td id=\"T_d8273594_1624_11eb_9b71_acde48001122row3_col0\" class=\"data row3 col0\" >0.880000</td>\n",
       "                        <td id=\"T_d8273594_1624_11eb_9b71_acde48001122row3_col1\" class=\"data row3 col1\" >0.120000</td>\n",
       "                        <td id=\"T_d8273594_1624_11eb_9b71_acde48001122row3_col2\" class=\"data row3 col2\" >0.012967</td>\n",
       "                        <td id=\"T_d8273594_1624_11eb_9b71_acde48001122row3_col3\" class=\"data row3 col3\" >0.880000</td>\n",
       "                        <td id=\"T_d8273594_1624_11eb_9b71_acde48001122row3_col4\" class=\"data row3 col4\" >Twitter for Android</td>\n",
       "            </tr>\n",
       "            <tr>\n",
       "                        <th id=\"T_d8273594_1624_11eb_9b71_acde48001122level0_row4\" class=\"row_heading level0 row4\" >today</th>\n",
       "                        <td id=\"T_d8273594_1624_11eb_9b71_acde48001122row4_col0\" class=\"data row4 col0\" >0.421053</td>\n",
       "                        <td id=\"T_d8273594_1624_11eb_9b71_acde48001122row4_col1\" class=\"data row4 col1\" >0.578947</td>\n",
       "                        <td id=\"T_d8273594_1624_11eb_9b71_acde48001122row4_col2\" class=\"data row4 col2\" >0.012935</td>\n",
       "                        <td id=\"T_d8273594_1624_11eb_9b71_acde48001122row4_col3\" class=\"data row4 col3\" >0.578947</td>\n",
       "                        <td id=\"T_d8273594_1624_11eb_9b71_acde48001122row4_col4\" class=\"data row4 col4\" >Twitter for iPhone</td>\n",
       "            </tr>\n",
       "            <tr>\n",
       "                        <th id=\"T_d8273594_1624_11eb_9b71_acde48001122level0_row5\" class=\"row_heading level0 row5\" >trump</th>\n",
       "                        <td id=\"T_d8273594_1624_11eb_9b71_acde48001122row5_col0\" class=\"data row5 col0\" >0.303571</td>\n",
       "                        <td id=\"T_d8273594_1624_11eb_9b71_acde48001122row5_col1\" class=\"data row5 col1\" >0.696429</td>\n",
       "                        <td id=\"T_d8273594_1624_11eb_9b71_acde48001122row5_col2\" class=\"data row5 col2\" >0.012432</td>\n",
       "                        <td id=\"T_d8273594_1624_11eb_9b71_acde48001122row5_col3\" class=\"data row5 col3\" >0.696429</td>\n",
       "                        <td id=\"T_d8273594_1624_11eb_9b71_acde48001122row5_col4\" class=\"data row5 col4\" >Twitter for iPhone</td>\n",
       "            </tr>\n",
       "            <tr>\n",
       "                        <th id=\"T_d8273594_1624_11eb_9b71_acde48001122level0_row6\" class=\"row_heading level0 row6\" >media</th>\n",
       "                        <td id=\"T_d8273594_1624_11eb_9b71_acde48001122row6_col0\" class=\"data row6 col0\" >0.885714</td>\n",
       "                        <td id=\"T_d8273594_1624_11eb_9b71_acde48001122row6_col1\" class=\"data row6 col1\" >0.114286</td>\n",
       "                        <td id=\"T_d8273594_1624_11eb_9b71_acde48001122row6_col2\" class=\"data row6 col2\" >0.011985</td>\n",
       "                        <td id=\"T_d8273594_1624_11eb_9b71_acde48001122row6_col3\" class=\"data row6 col3\" >0.885714</td>\n",
       "                        <td id=\"T_d8273594_1624_11eb_9b71_acde48001122row6_col4\" class=\"data row6 col4\" >Twitter for Android</td>\n",
       "            </tr>\n",
       "            <tr>\n",
       "                        <th id=\"T_d8273594_1624_11eb_9b71_acde48001122level0_row7\" class=\"row_heading level0 row7\" >thank</th>\n",
       "                        <td id=\"T_d8273594_1624_11eb_9b71_acde48001122row7_col0\" class=\"data row7 col0\" >0.360656</td>\n",
       "                        <td id=\"T_d8273594_1624_11eb_9b71_acde48001122row7_col1\" class=\"data row7 col1\" >0.639344</td>\n",
       "                        <td id=\"T_d8273594_1624_11eb_9b71_acde48001122row7_col2\" class=\"data row7 col2\" >0.010510</td>\n",
       "                        <td id=\"T_d8273594_1624_11eb_9b71_acde48001122row7_col3\" class=\"data row7 col3\" >0.639344</td>\n",
       "                        <td id=\"T_d8273594_1624_11eb_9b71_acde48001122row7_col4\" class=\"data row7 col4\" >Twitter for iPhone</td>\n",
       "            </tr>\n",
       "            <tr>\n",
       "                        <th id=\"T_d8273594_1624_11eb_9b71_acde48001122level0_row8\" class=\"row_heading level0 row8\" >great</th>\n",
       "                        <td id=\"T_d8273594_1624_11eb_9b71_acde48001122row8_col0\" class=\"data row8 col0\" >0.572917</td>\n",
       "                        <td id=\"T_d8273594_1624_11eb_9b71_acde48001122row8_col1\" class=\"data row8 col1\" >0.427083</td>\n",
       "                        <td id=\"T_d8273594_1624_11eb_9b71_acde48001122row8_col2\" class=\"data row8 col2\" >0.009871</td>\n",
       "                        <td id=\"T_d8273594_1624_11eb_9b71_acde48001122row8_col3\" class=\"data row8 col3\" >0.572917</td>\n",
       "                        <td id=\"T_d8273594_1624_11eb_9b71_acde48001122row8_col4\" class=\"data row8 col4\" >Twitter for Android</td>\n",
       "            </tr>\n",
       "            <tr>\n",
       "                        <th id=\"T_d8273594_1624_11eb_9b71_acde48001122level0_row9\" class=\"row_heading level0 row9\" >jobs</th>\n",
       "                        <td id=\"T_d8273594_1624_11eb_9b71_acde48001122row9_col0\" class=\"data row9 col0\" >0.468750</td>\n",
       "                        <td id=\"T_d8273594_1624_11eb_9b71_acde48001122row9_col1\" class=\"data row9 col1\" >0.531250</td>\n",
       "                        <td id=\"T_d8273594_1624_11eb_9b71_acde48001122row9_col2\" class=\"data row9 col2\" >0.008231</td>\n",
       "                        <td id=\"T_d8273594_1624_11eb_9b71_acde48001122row9_col3\" class=\"data row9 col3\" >0.531250</td>\n",
       "                        <td id=\"T_d8273594_1624_11eb_9b71_acde48001122row9_col4\" class=\"data row9 col4\" >Twitter for iPhone</td>\n",
       "            </tr>\n",
       "            <tr>\n",
       "                        <th id=\"T_d8273594_1624_11eb_9b71_acde48001122level0_row10\" class=\"row_heading level0 row10\" >🇺</th>\n",
       "                        <td id=\"T_d8273594_1624_11eb_9b71_acde48001122row10_col0\" class=\"data row10 col0\" >nan</td>\n",
       "                        <td id=\"T_d8273594_1624_11eb_9b71_acde48001122row10_col1\" class=\"data row10 col1\" >1.000000</td>\n",
       "                        <td id=\"T_d8273594_1624_11eb_9b71_acde48001122row10_col2\" class=\"data row10 col2\" >0.008134</td>\n",
       "                        <td id=\"T_d8273594_1624_11eb_9b71_acde48001122row10_col3\" class=\"data row10 col3\" >1.000000</td>\n",
       "                        <td id=\"T_d8273594_1624_11eb_9b71_acde48001122row10_col4\" class=\"data row10 col4\" >Twitter for iPhone</td>\n",
       "            </tr>\n",
       "            <tr>\n",
       "                        <th id=\"T_d8273594_1624_11eb_9b71_acde48001122level0_row11\" class=\"row_heading level0 row11\" >@whitehouse</th>\n",
       "                        <td id=\"T_d8273594_1624_11eb_9b71_acde48001122row11_col0\" class=\"data row11 col0\" >nan</td>\n",
       "                        <td id=\"T_d8273594_1624_11eb_9b71_acde48001122row11_col1\" class=\"data row11 col1\" >1.000000</td>\n",
       "                        <td id=\"T_d8273594_1624_11eb_9b71_acde48001122row11_col2\" class=\"data row11 col2\" >0.007938</td>\n",
       "                        <td id=\"T_d8273594_1624_11eb_9b71_acde48001122row11_col3\" class=\"data row11 col3\" >1.000000</td>\n",
       "                        <td id=\"T_d8273594_1624_11eb_9b71_acde48001122row11_col4\" class=\"data row11 col4\" >Twitter for iPhone</td>\n",
       "            </tr>\n",
       "            <tr>\n",
       "                        <th id=\"T_d8273594_1624_11eb_9b71_acde48001122level0_row12\" class=\"row_heading level0 row12\" >congratulations</th>\n",
       "                        <td id=\"T_d8273594_1624_11eb_9b71_acde48001122row12_col0\" class=\"data row12 col0\" >0.333333</td>\n",
       "                        <td id=\"T_d8273594_1624_11eb_9b71_acde48001122row12_col1\" class=\"data row12 col1\" >0.666667</td>\n",
       "                        <td id=\"T_d8273594_1624_11eb_9b71_acde48001122row12_col2\" class=\"data row12 col2\" >0.007792</td>\n",
       "                        <td id=\"T_d8273594_1624_11eb_9b71_acde48001122row12_col3\" class=\"data row12 col3\" >0.666667</td>\n",
       "                        <td id=\"T_d8273594_1624_11eb_9b71_acde48001122row12_col4\" class=\"data row12 col4\" >Twitter for iPhone</td>\n",
       "            </tr>\n",
       "            <tr>\n",
       "                        <th id=\"T_d8273594_1624_11eb_9b71_acde48001122level0_row13\" class=\"row_heading level0 row13\" >election</th>\n",
       "                        <td id=\"T_d8273594_1624_11eb_9b71_acde48001122row13_col0\" class=\"data row13 col0\" >0.870968</td>\n",
       "                        <td id=\"T_d8273594_1624_11eb_9b71_acde48001122row13_col1\" class=\"data row13 col1\" >0.129032</td>\n",
       "                        <td id=\"T_d8273594_1624_11eb_9b71_acde48001122row13_col2\" class=\"data row13 col2\" >0.007767</td>\n",
       "                        <td id=\"T_d8273594_1624_11eb_9b71_acde48001122row13_col3\" class=\"data row13 col3\" >0.870968</td>\n",
       "                        <td id=\"T_d8273594_1624_11eb_9b71_acde48001122row13_col4\" class=\"data row13 col4\" >Twitter for Android</td>\n",
       "            </tr>\n",
       "            <tr>\n",
       "                        <th id=\"T_d8273594_1624_11eb_9b71_acde48001122level0_row14\" class=\"row_heading level0 row14\" >🇸</th>\n",
       "                        <td id=\"T_d8273594_1624_11eb_9b71_acde48001122row14_col0\" class=\"data row14 col0\" >nan</td>\n",
       "                        <td id=\"T_d8273594_1624_11eb_9b71_acde48001122row14_col1\" class=\"data row14 col1\" >1.000000</td>\n",
       "                        <td id=\"T_d8273594_1624_11eb_9b71_acde48001122row14_col2\" class=\"data row14 col2\" >0.007122</td>\n",
       "                        <td id=\"T_d8273594_1624_11eb_9b71_acde48001122row14_col3\" class=\"data row14 col3\" >1.000000</td>\n",
       "                        <td id=\"T_d8273594_1624_11eb_9b71_acde48001122row14_col4\" class=\"data row14 col4\" >Twitter for iPhone</td>\n",
       "            </tr>\n",
       "            <tr>\n",
       "                        <th id=\"T_d8273594_1624_11eb_9b71_acde48001122level0_row15\" class=\"row_heading level0 row15\" >:/</th>\n",
       "                        <td id=\"T_d8273594_1624_11eb_9b71_acde48001122row15_col0\" class=\"data row15 col0\" >0.023952</td>\n",
       "                        <td id=\"T_d8273594_1624_11eb_9b71_acde48001122row15_col1\" class=\"data row15 col1\" >0.976048</td>\n",
       "                        <td id=\"T_d8273594_1624_11eb_9b71_acde48001122row15_col2\" class=\"data row15 col2\" >0.006954</td>\n",
       "                        <td id=\"T_d8273594_1624_11eb_9b71_acde48001122row15_col3\" class=\"data row15 col3\" >0.976048</td>\n",
       "                        <td id=\"T_d8273594_1624_11eb_9b71_acde48001122row15_col4\" class=\"data row15 col4\" >Twitter for iPhone</td>\n",
       "            </tr>\n",
       "            <tr>\n",
       "                        <th id=\"T_d8273594_1624_11eb_9b71_acde48001122level0_row16\" class=\"row_heading level0 row16\" >country</th>\n",
       "                        <td id=\"T_d8273594_1624_11eb_9b71_acde48001122row16_col0\" class=\"data row16 col0\" >0.862069</td>\n",
       "                        <td id=\"T_d8273594_1624_11eb_9b71_acde48001122row16_col1\" class=\"data row16 col1\" >0.137931</td>\n",
       "                        <td id=\"T_d8273594_1624_11eb_9b71_acde48001122row16_col2\" class=\"data row16 col2\" >0.006415</td>\n",
       "                        <td id=\"T_d8273594_1624_11eb_9b71_acde48001122row16_col3\" class=\"data row16 col3\" >0.862069</td>\n",
       "                        <td id=\"T_d8273594_1624_11eb_9b71_acde48001122row16_col4\" class=\"data row16 col4\" >Twitter for Android</td>\n",
       "            </tr>\n",
       "            <tr>\n",
       "                        <th id=\"T_d8273594_1624_11eb_9b71_acde48001122level0_row17\" class=\"row_heading level0 row17\" >tonight</th>\n",
       "                        <td id=\"T_d8273594_1624_11eb_9b71_acde48001122row17_col0\" class=\"data row17 col0\" >0.368421</td>\n",
       "                        <td id=\"T_d8273594_1624_11eb_9b71_acde48001122row17_col1\" class=\"data row17 col1\" >0.631579</td>\n",
       "                        <td id=\"T_d8273594_1624_11eb_9b71_acde48001122row17_col2\" class=\"data row17 col2\" >0.006317</td>\n",
       "                        <td id=\"T_d8273594_1624_11eb_9b71_acde48001122row17_col3\" class=\"data row17 col3\" >0.631579</td>\n",
       "                        <td id=\"T_d8273594_1624_11eb_9b71_acde48001122row17_col4\" class=\"data row17 col4\" >Twitter for iPhone</td>\n",
       "            </tr>\n",
       "            <tr>\n",
       "                        <th id=\"T_d8273594_1624_11eb_9b71_acde48001122level0_row18\" class=\"row_heading level0 row18\" >like</th>\n",
       "                        <td id=\"T_d8273594_1624_11eb_9b71_acde48001122row18_col0\" class=\"data row18 col0\" >0.952381</td>\n",
       "                        <td id=\"T_d8273594_1624_11eb_9b71_acde48001122row18_col1\" class=\"data row18 col1\" >0.047619</td>\n",
       "                        <td id=\"T_d8273594_1624_11eb_9b71_acde48001122row18_col2\" class=\"data row18 col2\" >0.006025</td>\n",
       "                        <td id=\"T_d8273594_1624_11eb_9b71_acde48001122row18_col3\" class=\"data row18 col3\" >0.952381</td>\n",
       "                        <td id=\"T_d8273594_1624_11eb_9b71_acde48001122row18_col4\" class=\"data row18 col4\" >Twitter for Android</td>\n",
       "            </tr>\n",
       "            <tr>\n",
       "                        <th id=\"T_d8273594_1624_11eb_9b71_acde48001122level0_row19\" class=\"row_heading level0 row19\" >u</th>\n",
       "                        <td id=\"T_d8273594_1624_11eb_9b71_acde48001122row19_col0\" class=\"data row19 col0\" >0.602170</td>\n",
       "                        <td id=\"T_d8273594_1624_11eb_9b71_acde48001122row19_col1\" class=\"data row19 col1\" >0.397830</td>\n",
       "                        <td id=\"T_d8273594_1624_11eb_9b71_acde48001122row19_col2\" class=\"data row19 col2\" >0.005837</td>\n",
       "                        <td id=\"T_d8273594_1624_11eb_9b71_acde48001122row19_col3\" class=\"data row19 col3\" >0.602170</td>\n",
       "                        <td id=\"T_d8273594_1624_11eb_9b71_acde48001122row19_col4\" class=\"data row19 col4\" >Twitter for Android</td>\n",
       "            </tr>\n",
       "    </tbody></table>"
      ],
      "text/plain": [
       "<pandas.io.formats.style.Styler at 0x7fe69805d3c8>"
      ]
     },
     "execution_count": 90,
     "metadata": {},
     "output_type": "execute_result"
    }
   ],
   "source": [
    "## Summary Table with Most Frequent Words \n",
    "prob_cols =['Twitter for Android','Twitter for iPhone']\n",
    "top_probs['importance'] = importance.loc[top_probs.index]\n",
    "\n",
    "top_probs['max_prob'] = top_probs[prob_cols].max(axis=1)\n",
    "top_probs['Max Prob Class'] = top_probs[prob_cols].idxmax(axis=1)\n",
    "top_probs.sort_values('importance',0,0,inplace=True)\n",
    "top_probs.style.bar('importance')\\\n",
    "                    .background_gradient(subset=['max_prob'])\\\n",
    "                    .highlight_max(subset=prob_cols,axis=1,color='lightgreen')\n",
    "#.background_gradient(subset=prob_cols,axis=1,cmap='Reds')"
   ]
  },
  {
   "cell_type": "code",
   "execution_count": null,
   "metadata": {},
   "outputs": [],
   "source": []
  },
  {
   "cell_type": "code",
   "execution_count": 91,
   "metadata": {
    "ExecuteTime": {
     "end_time": "2020-10-24T18:15:06.634018Z",
     "start_time": "2020-10-24T18:15:06.612766Z"
    }
   },
   "outputs": [
    {
     "data": {
      "text/html": [
       "<style  type=\"text/css\" >\n",
       "#T_d82a8122_1624_11eb_99ac_acde48001122row0_col1{\n",
       "            background-color:  #034165;\n",
       "            color:  #f1f1f1;\n",
       "        }#T_d82a8122_1624_11eb_99ac_acde48001122row0_col2{\n",
       "            width:  10em;\n",
       "             height:  80%;\n",
       "            background:  linear-gradient(90deg,#d65f5f 100.0%, transparent 100.0%);\n",
       "        }#T_d82a8122_1624_11eb_99ac_acde48001122row1_col1{\n",
       "            background-color:  #fff7fb;\n",
       "            color:  #000000;\n",
       "        }#T_d82a8122_1624_11eb_99ac_acde48001122row1_col2{\n",
       "            width:  10em;\n",
       "             height:  80%;\n",
       "            background:  linear-gradient(90deg,#d65f5f 46.0%, transparent 46.0%);\n",
       "        }#T_d82a8122_1624_11eb_99ac_acde48001122row2_col1{\n",
       "            background-color:  #034c78;\n",
       "            color:  #f1f1f1;\n",
       "        }#T_d82a8122_1624_11eb_99ac_acde48001122row2_col2{\n",
       "            width:  10em;\n",
       "             height:  80%;\n",
       "            background:  linear-gradient(90deg,#d65f5f 18.7%, transparent 18.7%);\n",
       "        }#T_d82a8122_1624_11eb_99ac_acde48001122row3_col1{\n",
       "            background-color:  #0771b1;\n",
       "            color:  #f1f1f1;\n",
       "        }#T_d82a8122_1624_11eb_99ac_acde48001122row3_col2{\n",
       "            width:  10em;\n",
       "             height:  80%;\n",
       "            background:  linear-gradient(90deg,#d65f5f 17.5%, transparent 17.5%);\n",
       "        }#T_d82a8122_1624_11eb_99ac_acde48001122row4_col1{\n",
       "            background-color:  #efe9f3;\n",
       "            color:  #000000;\n",
       "        }#T_d82a8122_1624_11eb_99ac_acde48001122row4_col2{\n",
       "            width:  10em;\n",
       "             height:  80%;\n",
       "            background:  linear-gradient(90deg,#d65f5f 17.4%, transparent 17.4%);\n",
       "        }#T_d82a8122_1624_11eb_99ac_acde48001122row5_col1{\n",
       "            background-color:  #acc0dd;\n",
       "            color:  #000000;\n",
       "        }#T_d82a8122_1624_11eb_99ac_acde48001122row5_col2{\n",
       "            width:  10em;\n",
       "             height:  80%;\n",
       "            background:  linear-gradient(90deg,#d65f5f 16.1%, transparent 16.1%);\n",
       "        }#T_d82a8122_1624_11eb_99ac_acde48001122row6_col1{\n",
       "            background-color:  #056ead;\n",
       "            color:  #f1f1f1;\n",
       "        }#T_d82a8122_1624_11eb_99ac_acde48001122row6_col2{\n",
       "            width:  10em;\n",
       "             height:  80%;\n",
       "            background:  linear-gradient(90deg,#d65f5f 15.1%, transparent 15.1%);\n",
       "        }#T_d82a8122_1624_11eb_99ac_acde48001122row7_col1{\n",
       "            background-color:  #d3d4e7;\n",
       "            color:  #000000;\n",
       "        }#T_d82a8122_1624_11eb_99ac_acde48001122row7_col2{\n",
       "            width:  10em;\n",
       "             height:  80%;\n",
       "            background:  linear-gradient(90deg,#d65f5f 11.4%, transparent 11.4%);\n",
       "        }#T_d82a8122_1624_11eb_99ac_acde48001122row8_col1{\n",
       "            background-color:  #f1ebf4;\n",
       "            color:  #000000;\n",
       "        }#T_d82a8122_1624_11eb_99ac_acde48001122row8_col2{\n",
       "            width:  10em;\n",
       "             height:  80%;\n",
       "            background:  linear-gradient(90deg,#d65f5f 9.9%, transparent 9.9%);\n",
       "        }#T_d82a8122_1624_11eb_99ac_acde48001122row9_col1{\n",
       "            background-color:  #fef6fa;\n",
       "            color:  #000000;\n",
       "        }#T_d82a8122_1624_11eb_99ac_acde48001122row9_col2{\n",
       "            width:  10em;\n",
       "             height:  80%;\n",
       "            background:  linear-gradient(90deg,#d65f5f 5.9%, transparent 5.9%);\n",
       "        }#T_d82a8122_1624_11eb_99ac_acde48001122row10_col1,#T_d82a8122_1624_11eb_99ac_acde48001122row11_col1,#T_d82a8122_1624_11eb_99ac_acde48001122row14_col1{\n",
       "            background-color:  #023858;\n",
       "            color:  #f1f1f1;\n",
       "        }#T_d82a8122_1624_11eb_99ac_acde48001122row10_col2{\n",
       "            width:  10em;\n",
       "             height:  80%;\n",
       "            background:  linear-gradient(90deg,#d65f5f 5.6%, transparent 5.6%);\n",
       "        }#T_d82a8122_1624_11eb_99ac_acde48001122row11_col2{\n",
       "            width:  10em;\n",
       "             height:  80%;\n",
       "            background:  linear-gradient(90deg,#d65f5f 5.1%, transparent 5.1%);\n",
       "        }#T_d82a8122_1624_11eb_99ac_acde48001122row12_col1{\n",
       "            background-color:  #c1cae2;\n",
       "            color:  #000000;\n",
       "        }#T_d82a8122_1624_11eb_99ac_acde48001122row12_col2{\n",
       "            width:  10em;\n",
       "             height:  80%;\n",
       "            background:  linear-gradient(90deg,#d65f5f 4.8%, transparent 4.8%);\n",
       "        }#T_d82a8122_1624_11eb_99ac_acde48001122row13_col1{\n",
       "            background-color:  #0d75b3;\n",
       "            color:  #f1f1f1;\n",
       "        }#T_d82a8122_1624_11eb_99ac_acde48001122row13_col2{\n",
       "            width:  10em;\n",
       "             height:  80%;\n",
       "            background:  linear-gradient(90deg,#d65f5f 4.7%, transparent 4.7%);\n",
       "        }#T_d82a8122_1624_11eb_99ac_acde48001122row14_col2{\n",
       "            width:  10em;\n",
       "             height:  80%;\n",
       "            background:  linear-gradient(90deg,#d65f5f 3.1%, transparent 3.1%);\n",
       "        }#T_d82a8122_1624_11eb_99ac_acde48001122row15_col1{\n",
       "            background-color:  #03456c;\n",
       "            color:  #f1f1f1;\n",
       "        }#T_d82a8122_1624_11eb_99ac_acde48001122row15_col2{\n",
       "            width:  10em;\n",
       "             height:  80%;\n",
       "            background:  linear-gradient(90deg,#d65f5f 2.7%, transparent 2.7%);\n",
       "        }#T_d82a8122_1624_11eb_99ac_acde48001122row16_col1{\n",
       "            background-color:  #157ab5;\n",
       "            color:  #000000;\n",
       "        }#T_d82a8122_1624_11eb_99ac_acde48001122row16_col2{\n",
       "            width:  10em;\n",
       "             height:  80%;\n",
       "            background:  linear-gradient(90deg,#d65f5f 1.4%, transparent 1.4%);\n",
       "        }#T_d82a8122_1624_11eb_99ac_acde48001122row17_col1{\n",
       "            background-color:  #d7d6e9;\n",
       "            color:  #000000;\n",
       "        }#T_d82a8122_1624_11eb_99ac_acde48001122row17_col2{\n",
       "            width:  10em;\n",
       "             height:  80%;\n",
       "            background:  linear-gradient(90deg,#d65f5f 1.2%, transparent 1.2%);\n",
       "        }#T_d82a8122_1624_11eb_99ac_acde48001122row18_col1{\n",
       "            background-color:  #045382;\n",
       "            color:  #f1f1f1;\n",
       "        }#T_d82a8122_1624_11eb_99ac_acde48001122row18_col2{\n",
       "            width:  10em;\n",
       "             height:  80%;\n",
       "            background:  linear-gradient(90deg,#d65f5f 0.5%, transparent 0.5%);\n",
       "        }#T_d82a8122_1624_11eb_99ac_acde48001122row19_col1{\n",
       "            background-color:  #e5e1ef;\n",
       "            color:  #000000;\n",
       "        }#T_d82a8122_1624_11eb_99ac_acde48001122row19_col2{\n",
       "            width:  10em;\n",
       "             height:  80%;\n",
       "        }</style><table id=\"T_d82a8122_1624_11eb_99ac_acde48001122\" ><thead>    <tr>        <th class=\"blank level0\" ></th>        <th class=\"col_heading level0 col0\" >Max Prob Class</th>        <th class=\"col_heading level0 col1\" >max_prob</th>        <th class=\"col_heading level0 col2\" >importance</th>    </tr></thead><tbody>\n",
       "                <tr>\n",
       "                        <th id=\"T_d82a8122_1624_11eb_99ac_acde48001122level0_row0\" class=\"row_heading level0 row0\" >…</th>\n",
       "                        <td id=\"T_d82a8122_1624_11eb_99ac_acde48001122row0_col0\" class=\"data row0 col0\" >Twitter for iPhone</td>\n",
       "                        <td id=\"T_d82a8122_1624_11eb_99ac_acde48001122row0_col1\" class=\"data row0 col1\" >0.984127</td>\n",
       "                        <td id=\"T_d82a8122_1624_11eb_99ac_acde48001122row0_col2\" class=\"data row0 col2\" >0.046680</td>\n",
       "            </tr>\n",
       "            <tr>\n",
       "                        <th id=\"T_d82a8122_1624_11eb_99ac_acde48001122level0_row1\" class=\"row_heading level0 row1\" >rt</th>\n",
       "                        <td id=\"T_d82a8122_1624_11eb_99ac_acde48001122row1_col0\" class=\"data row1 col0\" >Twitter for Android</td>\n",
       "                        <td id=\"T_d82a8122_1624_11eb_99ac_acde48001122row1_col1\" class=\"data row1 col1\" >0.527559</td>\n",
       "                        <td id=\"T_d82a8122_1624_11eb_99ac_acde48001122row1_col2\" class=\"data row1 col2\" >0.024614</td>\n",
       "            </tr>\n",
       "            <tr>\n",
       "                        <th id=\"T_d82a8122_1624_11eb_99ac_acde48001122level0_row2\" class=\"row_heading level0 row2\" >join</th>\n",
       "                        <td id=\"T_d82a8122_1624_11eb_99ac_acde48001122row2_col0\" class=\"data row2 col0\" >Twitter for iPhone</td>\n",
       "                        <td id=\"T_d82a8122_1624_11eb_99ac_acde48001122row2_col1\" class=\"data row2 col1\" >0.964286</td>\n",
       "                        <td id=\"T_d82a8122_1624_11eb_99ac_acde48001122row2_col2\" class=\"data row2 col2\" >0.013490</td>\n",
       "            </tr>\n",
       "            <tr>\n",
       "                        <th id=\"T_d82a8122_1624_11eb_99ac_acde48001122level0_row3\" class=\"row_heading level0 row3\" >people</th>\n",
       "                        <td id=\"T_d82a8122_1624_11eb_99ac_acde48001122row3_col0\" class=\"data row3 col0\" >Twitter for Android</td>\n",
       "                        <td id=\"T_d82a8122_1624_11eb_99ac_acde48001122row3_col1\" class=\"data row3 col1\" >0.880000</td>\n",
       "                        <td id=\"T_d82a8122_1624_11eb_99ac_acde48001122row3_col2\" class=\"data row3 col2\" >0.012967</td>\n",
       "            </tr>\n",
       "            <tr>\n",
       "                        <th id=\"T_d82a8122_1624_11eb_99ac_acde48001122level0_row4\" class=\"row_heading level0 row4\" >today</th>\n",
       "                        <td id=\"T_d82a8122_1624_11eb_99ac_acde48001122row4_col0\" class=\"data row4 col0\" >Twitter for iPhone</td>\n",
       "                        <td id=\"T_d82a8122_1624_11eb_99ac_acde48001122row4_col1\" class=\"data row4 col1\" >0.578947</td>\n",
       "                        <td id=\"T_d82a8122_1624_11eb_99ac_acde48001122row4_col2\" class=\"data row4 col2\" >0.012935</td>\n",
       "            </tr>\n",
       "            <tr>\n",
       "                        <th id=\"T_d82a8122_1624_11eb_99ac_acde48001122level0_row5\" class=\"row_heading level0 row5\" >trump</th>\n",
       "                        <td id=\"T_d82a8122_1624_11eb_99ac_acde48001122row5_col0\" class=\"data row5 col0\" >Twitter for iPhone</td>\n",
       "                        <td id=\"T_d82a8122_1624_11eb_99ac_acde48001122row5_col1\" class=\"data row5 col1\" >0.696429</td>\n",
       "                        <td id=\"T_d82a8122_1624_11eb_99ac_acde48001122row5_col2\" class=\"data row5 col2\" >0.012432</td>\n",
       "            </tr>\n",
       "            <tr>\n",
       "                        <th id=\"T_d82a8122_1624_11eb_99ac_acde48001122level0_row6\" class=\"row_heading level0 row6\" >media</th>\n",
       "                        <td id=\"T_d82a8122_1624_11eb_99ac_acde48001122row6_col0\" class=\"data row6 col0\" >Twitter for Android</td>\n",
       "                        <td id=\"T_d82a8122_1624_11eb_99ac_acde48001122row6_col1\" class=\"data row6 col1\" >0.885714</td>\n",
       "                        <td id=\"T_d82a8122_1624_11eb_99ac_acde48001122row6_col2\" class=\"data row6 col2\" >0.011985</td>\n",
       "            </tr>\n",
       "            <tr>\n",
       "                        <th id=\"T_d82a8122_1624_11eb_99ac_acde48001122level0_row7\" class=\"row_heading level0 row7\" >thank</th>\n",
       "                        <td id=\"T_d82a8122_1624_11eb_99ac_acde48001122row7_col0\" class=\"data row7 col0\" >Twitter for iPhone</td>\n",
       "                        <td id=\"T_d82a8122_1624_11eb_99ac_acde48001122row7_col1\" class=\"data row7 col1\" >0.639344</td>\n",
       "                        <td id=\"T_d82a8122_1624_11eb_99ac_acde48001122row7_col2\" class=\"data row7 col2\" >0.010510</td>\n",
       "            </tr>\n",
       "            <tr>\n",
       "                        <th id=\"T_d82a8122_1624_11eb_99ac_acde48001122level0_row8\" class=\"row_heading level0 row8\" >great</th>\n",
       "                        <td id=\"T_d82a8122_1624_11eb_99ac_acde48001122row8_col0\" class=\"data row8 col0\" >Twitter for Android</td>\n",
       "                        <td id=\"T_d82a8122_1624_11eb_99ac_acde48001122row8_col1\" class=\"data row8 col1\" >0.572917</td>\n",
       "                        <td id=\"T_d82a8122_1624_11eb_99ac_acde48001122row8_col2\" class=\"data row8 col2\" >0.009871</td>\n",
       "            </tr>\n",
       "            <tr>\n",
       "                        <th id=\"T_d82a8122_1624_11eb_99ac_acde48001122level0_row9\" class=\"row_heading level0 row9\" >jobs</th>\n",
       "                        <td id=\"T_d82a8122_1624_11eb_99ac_acde48001122row9_col0\" class=\"data row9 col0\" >Twitter for iPhone</td>\n",
       "                        <td id=\"T_d82a8122_1624_11eb_99ac_acde48001122row9_col1\" class=\"data row9 col1\" >0.531250</td>\n",
       "                        <td id=\"T_d82a8122_1624_11eb_99ac_acde48001122row9_col2\" class=\"data row9 col2\" >0.008231</td>\n",
       "            </tr>\n",
       "            <tr>\n",
       "                        <th id=\"T_d82a8122_1624_11eb_99ac_acde48001122level0_row10\" class=\"row_heading level0 row10\" >🇺</th>\n",
       "                        <td id=\"T_d82a8122_1624_11eb_99ac_acde48001122row10_col0\" class=\"data row10 col0\" >Twitter for iPhone</td>\n",
       "                        <td id=\"T_d82a8122_1624_11eb_99ac_acde48001122row10_col1\" class=\"data row10 col1\" >1.000000</td>\n",
       "                        <td id=\"T_d82a8122_1624_11eb_99ac_acde48001122row10_col2\" class=\"data row10 col2\" >0.008134</td>\n",
       "            </tr>\n",
       "            <tr>\n",
       "                        <th id=\"T_d82a8122_1624_11eb_99ac_acde48001122level0_row11\" class=\"row_heading level0 row11\" >@whitehouse</th>\n",
       "                        <td id=\"T_d82a8122_1624_11eb_99ac_acde48001122row11_col0\" class=\"data row11 col0\" >Twitter for iPhone</td>\n",
       "                        <td id=\"T_d82a8122_1624_11eb_99ac_acde48001122row11_col1\" class=\"data row11 col1\" >1.000000</td>\n",
       "                        <td id=\"T_d82a8122_1624_11eb_99ac_acde48001122row11_col2\" class=\"data row11 col2\" >0.007938</td>\n",
       "            </tr>\n",
       "            <tr>\n",
       "                        <th id=\"T_d82a8122_1624_11eb_99ac_acde48001122level0_row12\" class=\"row_heading level0 row12\" >congratulations</th>\n",
       "                        <td id=\"T_d82a8122_1624_11eb_99ac_acde48001122row12_col0\" class=\"data row12 col0\" >Twitter for iPhone</td>\n",
       "                        <td id=\"T_d82a8122_1624_11eb_99ac_acde48001122row12_col1\" class=\"data row12 col1\" >0.666667</td>\n",
       "                        <td id=\"T_d82a8122_1624_11eb_99ac_acde48001122row12_col2\" class=\"data row12 col2\" >0.007792</td>\n",
       "            </tr>\n",
       "            <tr>\n",
       "                        <th id=\"T_d82a8122_1624_11eb_99ac_acde48001122level0_row13\" class=\"row_heading level0 row13\" >election</th>\n",
       "                        <td id=\"T_d82a8122_1624_11eb_99ac_acde48001122row13_col0\" class=\"data row13 col0\" >Twitter for Android</td>\n",
       "                        <td id=\"T_d82a8122_1624_11eb_99ac_acde48001122row13_col1\" class=\"data row13 col1\" >0.870968</td>\n",
       "                        <td id=\"T_d82a8122_1624_11eb_99ac_acde48001122row13_col2\" class=\"data row13 col2\" >0.007767</td>\n",
       "            </tr>\n",
       "            <tr>\n",
       "                        <th id=\"T_d82a8122_1624_11eb_99ac_acde48001122level0_row14\" class=\"row_heading level0 row14\" >🇸</th>\n",
       "                        <td id=\"T_d82a8122_1624_11eb_99ac_acde48001122row14_col0\" class=\"data row14 col0\" >Twitter for iPhone</td>\n",
       "                        <td id=\"T_d82a8122_1624_11eb_99ac_acde48001122row14_col1\" class=\"data row14 col1\" >1.000000</td>\n",
       "                        <td id=\"T_d82a8122_1624_11eb_99ac_acde48001122row14_col2\" class=\"data row14 col2\" >0.007122</td>\n",
       "            </tr>\n",
       "            <tr>\n",
       "                        <th id=\"T_d82a8122_1624_11eb_99ac_acde48001122level0_row15\" class=\"row_heading level0 row15\" >:/</th>\n",
       "                        <td id=\"T_d82a8122_1624_11eb_99ac_acde48001122row15_col0\" class=\"data row15 col0\" >Twitter for iPhone</td>\n",
       "                        <td id=\"T_d82a8122_1624_11eb_99ac_acde48001122row15_col1\" class=\"data row15 col1\" >0.976048</td>\n",
       "                        <td id=\"T_d82a8122_1624_11eb_99ac_acde48001122row15_col2\" class=\"data row15 col2\" >0.006954</td>\n",
       "            </tr>\n",
       "            <tr>\n",
       "                        <th id=\"T_d82a8122_1624_11eb_99ac_acde48001122level0_row16\" class=\"row_heading level0 row16\" >country</th>\n",
       "                        <td id=\"T_d82a8122_1624_11eb_99ac_acde48001122row16_col0\" class=\"data row16 col0\" >Twitter for Android</td>\n",
       "                        <td id=\"T_d82a8122_1624_11eb_99ac_acde48001122row16_col1\" class=\"data row16 col1\" >0.862069</td>\n",
       "                        <td id=\"T_d82a8122_1624_11eb_99ac_acde48001122row16_col2\" class=\"data row16 col2\" >0.006415</td>\n",
       "            </tr>\n",
       "            <tr>\n",
       "                        <th id=\"T_d82a8122_1624_11eb_99ac_acde48001122level0_row17\" class=\"row_heading level0 row17\" >tonight</th>\n",
       "                        <td id=\"T_d82a8122_1624_11eb_99ac_acde48001122row17_col0\" class=\"data row17 col0\" >Twitter for iPhone</td>\n",
       "                        <td id=\"T_d82a8122_1624_11eb_99ac_acde48001122row17_col1\" class=\"data row17 col1\" >0.631579</td>\n",
       "                        <td id=\"T_d82a8122_1624_11eb_99ac_acde48001122row17_col2\" class=\"data row17 col2\" >0.006317</td>\n",
       "            </tr>\n",
       "            <tr>\n",
       "                        <th id=\"T_d82a8122_1624_11eb_99ac_acde48001122level0_row18\" class=\"row_heading level0 row18\" >like</th>\n",
       "                        <td id=\"T_d82a8122_1624_11eb_99ac_acde48001122row18_col0\" class=\"data row18 col0\" >Twitter for Android</td>\n",
       "                        <td id=\"T_d82a8122_1624_11eb_99ac_acde48001122row18_col1\" class=\"data row18 col1\" >0.952381</td>\n",
       "                        <td id=\"T_d82a8122_1624_11eb_99ac_acde48001122row18_col2\" class=\"data row18 col2\" >0.006025</td>\n",
       "            </tr>\n",
       "            <tr>\n",
       "                        <th id=\"T_d82a8122_1624_11eb_99ac_acde48001122level0_row19\" class=\"row_heading level0 row19\" >u</th>\n",
       "                        <td id=\"T_d82a8122_1624_11eb_99ac_acde48001122row19_col0\" class=\"data row19 col0\" >Twitter for Android</td>\n",
       "                        <td id=\"T_d82a8122_1624_11eb_99ac_acde48001122row19_col1\" class=\"data row19 col1\" >0.602170</td>\n",
       "                        <td id=\"T_d82a8122_1624_11eb_99ac_acde48001122row19_col2\" class=\"data row19 col2\" >0.005837</td>\n",
       "            </tr>\n",
       "    </tbody></table>"
      ],
      "text/plain": [
       "<pandas.io.formats.style.Styler at 0x7fe69ce647b8>"
      ]
     },
     "metadata": {},
     "output_type": "display_data"
    },
    {
     "data": {
      "text/plain": [
       "Twitter for iPhone     0.6\n",
       "Twitter for Android    0.4\n",
       "Name: Max Prob Class, dtype: float64"
      ]
     },
     "execution_count": 91,
     "metadata": {},
     "output_type": "execute_result"
    }
   ],
   "source": [
    "results = top_probs[['Max Prob Class','max_prob','importance']]\n",
    "display(results.style.bar('importance').background_gradient(subset=['max_prob']))\n",
    "results['Max Prob Class'].value_counts(1)\n"
   ]
  },
  {
   "cell_type": "markdown",
   "metadata": {},
   "source": [
    "### Interactive Tokenizer Example"
   ]
  },
  {
   "cell_type": "code",
   "execution_count": 92,
   "metadata": {
    "ExecuteTime": {
     "end_time": "2020-10-24T18:15:06.663962Z",
     "start_time": "2020-10-24T18:15:06.635960Z"
    }
   },
   "outputs": [
    {
     "data": {
      "application/vnd.jupyter.widget-view+json": {
       "model_id": "5b6e4df4ca04447abb6b394f6b14ecce",
       "version_major": 2,
       "version_minor": 0
      },
      "text/plain": [
       "interactive(children=(IntSlider(value=7032, description='i', max=14065), Output()), _dom_classes=('widget-inte…"
      ]
     },
     "metadata": {},
     "output_type": "display_data"
    }
   ],
   "source": [
    "from nltk import word_tokenize\n",
    "from ipywidgets import interact\n",
    "\n",
    "@interact\n",
    "def tokenize_tweet(i=(0,len(corpus)-1)):\n",
    "    from nltk.corpus import stopwords\n",
    "    import string\n",
    "    from nltk import word_tokenize,regexp_tokenize\n",
    "    \n",
    "    print(f\"- Tweet #{i}:\\n\")\n",
    "    print(corpus[i],'\\n')\n",
    "    tokens = word_tokenize(corpus[i])\n",
    "\n",
    "    # Get all the stop words in the English language\n",
    "    stopwords_list = stopwords.words('english')\n",
    "    stopwords_list += string.punctuation\n",
    "    stopped_tokens = [w.lower() for w in tokens if w not in stopwords_list]\n",
    "    \n",
    "    print(tokens,end='\\n\\n')\n",
    "    print(stopped_tokens)"
   ]
  },
  {
   "cell_type": "markdown",
   "metadata": {},
   "source": [
    "### NLP Vocabulary\n",
    "- Corpus\n",
    "    - Body of text\n",
    "    \n",
    "- Bag of Words\n",
    "    - Collection of all words from a corpus.\n"
   ]
  },
  {
   "cell_type": "markdown",
   "metadata": {},
   "source": [
    "## Regular Expressions"
   ]
  },
  {
   "cell_type": "markdown",
   "metadata": {},
   "source": [
    "- Use https://regex101.com/ to test out regular expressions"
   ]
  },
  {
   "cell_type": "markdown",
   "metadata": {},
   "source": [
    "## Context-Free Grammers and POS Tagging"
   ]
  },
  {
   "cell_type": "markdown",
   "metadata": {},
   "source": [
    "<img src=\"https://raw.githubusercontent.com/jirvingphd/dsc-context-free-grammars-and-POS-tagging-online-ds-ft-100719/master/images/new_LevelsOfLanguage-Graph.png\">"
   ]
  },
  {
   "cell_type": "markdown",
   "metadata": {},
   "source": [
    "#### Syntax and Meaning Can be Difficult for Computers \n",
    "\n",
    "In English, sentences consist of a **_Noun Phrase_** followed by a **_Verb Phrase_**, which may optionally be followed by a **_Prepositional Phrase_**.\n",
    "\n",
    "This ***seems simple, but it gets more tricky*** when we realize that there is a recursive structure to these phrases.\n",
    "\n",
    "- A noun phrase may consist of multiple smaller noun phrases, and in some cases, even a verb phrase. \n",
    "- Similarly, a verb phrase can consist of multiple smaller verb phrases and noun phrases, which can themselves be made up of smaller noun phrases and verb phrases. \n",
    "\n",
    "\n",
    "This leads levels of **_ambiguity_** that can be troublesome for computers. NLTK's documentation explains this by examining the classic Groucho Marx joke:\n",
    "\n",
    "> ***\"While hunting in Africa, I shot an elephant in my pajamas. How he got into my pajamas, I don't know.\"***\n",
    "\n"
   ]
  },
  {
   "cell_type": "markdown",
   "metadata": {},
   "source": [
    "<img src=\"https://raw.githubusercontent.com/jirvingphd/dsc-context-free-grammars-and-POS-tagging-online-ds-ft-100719/master/images/parse_tree.png\">"
   ]
  },
  {
   "cell_type": "code",
   "execution_count": null,
   "metadata": {},
   "outputs": [],
   "source": [
    "\n"
   ]
  },
  {
   "cell_type": "code",
   "execution_count": null,
   "metadata": {},
   "outputs": [],
   "source": []
  }
 ],
 "metadata": {
  "kernelspec": {
   "display_name": "learn-env",
   "language": "python",
   "name": "learn-env"
  },
  "language_info": {
   "codemirror_mode": {
    "name": "ipython",
    "version": 3
   },
   "file_extension": ".py",
   "mimetype": "text/x-python",
   "name": "python",
   "nbconvert_exporter": "python",
   "pygments_lexer": "ipython3",
   "version": "3.6.11"
  },
  "toc": {
   "base_numbering": 1,
   "nav_menu": {},
   "number_sections": true,
   "sideBar": true,
   "skip_h1_title": false,
   "title_cell": "Table of Contents",
   "title_sidebar": "Contents",
   "toc_cell": false,
   "toc_position": {
    "height": "calc(100% - 180px)",
    "left": "10px",
    "top": "150px",
    "width": "320px"
   },
   "toc_section_display": true,
   "toc_window_display": false
  }
 },
 "nbformat": 4,
 "nbformat_minor": 2
}
