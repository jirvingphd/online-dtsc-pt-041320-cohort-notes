{
 "cells": [
  {
   "cell_type": "markdown",
   "metadata": {},
   "source": [
    "# Section 39: Foundations of Natural Language Processing"
   ]
  },
  {
   "cell_type": "markdown",
   "metadata": {},
   "source": [
    "- xx/xx/xx\n",
    "- my-best-lesson-plans"
   ]
  },
  {
   "cell_type": "markdown",
   "metadata": {},
   "source": [
    "## Learning Objectives"
   ]
  },
  {
   "cell_type": "markdown",
   "metadata": {},
   "source": [
    "- Introduce the field of Natural Language Processing\n",
    "- Learn about the extensive preprocessing involved with text data\n",
    "- Walk through text classification - Finding Trump \n"
   ]
  },
  {
   "cell_type": "markdown",
   "metadata": {},
   "source": [
    "## Questions"
   ]
  },
  {
   "cell_type": "markdown",
   "metadata": {},
   "source": [
    "### Questions from Gdoc"
   ]
  },
  {
   "cell_type": "markdown",
   "metadata": {},
   "source": [
    "### Additional Questions?\n"
   ]
  },
  {
   "cell_type": "markdown",
   "metadata": {},
   "source": []
  },
  {
   "cell_type": "markdown",
   "metadata": {},
   "source": [
    "# Natural Language Processing"
   ]
  },
  {
   "cell_type": "markdown",
   "metadata": {},
   "source": [
    "> **_Natural Language Processing_**, or **_NLP_**, is the study of how computers can interact with humans through the use of human language.  Although this is a field that is quite important to Data Scientists, it does not belong to Data Science alone.  NLP has been around for quite a while, and sits at the intersection of *Computer Science*, *Artificial Intelligence*, *Linguistics*, and *Information Theory*. "
   ]
  },
  {
   "cell_type": "markdown",
   "metadata": {},
   "source": [
    "## Where is NLP Used?"
   ]
  },
  {
   "cell_type": "markdown",
   "metadata": {},
   "source": [
    "\n",
    "- Reviews (i.e. Amazon)\n",
    "- Stock market trading\n",
    "- AI Assistants\n",
    "- Spam Detection"
   ]
  },
  {
   "cell_type": "markdown",
   "metadata": {},
   "source": [
    "- **Demonstration:**\n",
    "    - [Google Duplex AI Assistant](https://youtu.be/D5VN56jQMWM)"
   ]
  },
  {
   "cell_type": "markdown",
   "metadata": {},
   "source": [
    "# Working with Text Data"
   ]
  },
  {
   "cell_type": "markdown",
   "metadata": {},
   "source": [
    "## Preprocessing"
   ]
  },
  {
   "cell_type": "markdown",
   "metadata": {},
   "source": [
    "**Preparing text data requires more processing than normal data.**\n",
    "1. We must remove things like:\n",
    "    - punctuation\n",
    "    - numbers\n",
    "    - upper vs lowercase letters\n",
    "    \n",
    "    \n",
    "2. It is always recommended that go a step beyond this and remove **commonly used words that contain little information (called \"stopwords\")** for our machine learning algorithms. Words like: the,was,he,she, it,etc.\n",
    "\n",
    "\n",
    "3. Additionally, most analyses **need the text tokenzied** into a list of words and not in a natural sentence format. Instead, they are a list of words (**tokens**) separated by \"`,`\", which tells the algorithm what should be considered one word.\n",
    "\n",
    "\n",
    "4. While not always required, it is often a good idea to reduce similar words down to a shared core.\n",
    "There are often **multiple variants of the same word with the same/simiar meaning**,<br> but one may plural **(i.e. \"democrat\" and \"democrats\")**, or form of words is different **(i.e. run, running).**<br> Simplifying words down to the basic core word (or word *stem*) is referred to as **\"stemming\"**. <br><br> A more advanced form of this also understands things like words that are just in a **different tense** such as  i.e.  **\"ran\", \"run\", \"running\"**. This process is called  **\"lemmatization**, where the words are reduced to their simplest form, called \"**lemmas**\"<br>  \n",
    "    - Stemming<br><img src=\"https://raw.githubusercontent.com/learn-co-students/dsc-nlp-and-word-vectorization-online-ds-ft-100719/master/images/new_stemming.png\" width=40%>\n",
    "    - Lemmatization\n",
    "    \n",
    "|   Word   |  Stem | Lemma |\n",
    "|:--------:|:-----:|:-----:|\n",
    "|  Studies | Studi | Study |\n",
    "| Studying | Study | Study |\n",
    "\n",
    "5. Finally, we have to convert our text data into numeric form for our machine learning models to analyze, a process called **vectorization**."
   ]
  },
  {
   "cell_type": "markdown",
   "metadata": {},
   "source": [
    "## Vectorization"
   ]
  },
  {
   "cell_type": "markdown",
   "metadata": {},
   "source": [
    "- For computers to process text it needs to be converted to a numerical representation of the text.\n",
    "- **There are several different ways we can vectorize our text:**\n",
    "    - Count vectorization\n",
    "    - Term Frequency-Inverse Document Frequency (TF-IDF)\n",
    "        -  Used for multiple texts\n",
    "    - Word Embeddings (Deep NLP)\n",
    "    \n",
    "    \n",
    ">- **_Term Frequency_** is calculated with the following formula:\n",
    "$$ \\text{Term Frequency}(t) = \\frac{\\text{number of times it appears in a document}} {\\text{total number of terms in the document}} $$ <br>\n",
    "- Which can also be represented as:\n",
    "$$\\begin{align}\n",
    " \\text{tf}_{i,j} = \\dfrac{n_{i,j}}{\\displaystyle \\sum_k n_{i,j} }\n",
    "\\end{align} $$\n",
    "\n",
    "> - **_Inverse Document Frequency_** is calculated with the following formula:\n",
    "$$ IDF(t) = log_e(\\frac{\\text{Total Number of Documents}}{\\text{Number of Documents with it in it}})$$<br>\n",
    "- Which can also be represented as: \n",
    "$$\\begin{align}\n",
    "idf(w) = \\log \\dfrac{N}{df_t}\n",
    "\\end{align} $$\n",
    "\n",
    "> The **_TF-IDF_** value for a given word in a given document is just found by multiplying the two!\n",
    "$$ \\begin{align}\n",
    "w_{i,j} = tf_{i,j} \\times \\log \\dfrac{N}{df_i} \\\\\n",
    "tf_{i,j} = \\text{number of occurences of } i \\text{ in} j \\\\\n",
    "df_i = \\text{number of documents containing } i \\\\\n",
    "N = \\text{total number of documents}\n",
    "\\end{align} $$\n",
    "\n",
    "- There are additional ways to vectorize using Deep Neural Networks to create Word Embeddings (see Module 4 > Appendix: Deep NLP)"
   ]
  },
  {
   "cell_type": "markdown",
   "metadata": {},
   "source": [
    "## Feature Engineering for Text Data"
   ]
  },
  {
   "cell_type": "markdown",
   "metadata": {},
   "source": [
    "\n",
    "* Do we remove stop words or not?    \n",
    "* Do we stem or lemmatize our text data, or leave the words as is?   \n",
    "* Is basic tokenization enough, or do we need to support special edge cases through the use of regex?  \n",
    "* Do we use the entire vocabulary, or just limit the model to a subset of the most frequently used words? If so, how many?  \n",
    "* Do we engineer other features, such as bigrams, or POS tags, or Mutual Information Scores?   \n",
    "* What sort of vectorization should we use in our model? Boolean Vectorization? Count Vectorization? TF-IDF? More advanced vectorization strategies such as Word2Vec?  \n"
   ]
  },
  {
   "cell_type": "markdown",
   "metadata": {},
   "source": [
    "# Practicing Text Preprocessing - Finding Trump "
   ]
  },
  {
   "cell_type": "markdown",
   "metadata": {},
   "source": [
    "## Tweet Natural Language Processing Overview"
   ]
  },
  {
   "cell_type": "markdown",
   "metadata": {},
   "source": [
    "To prepare Donal Trump's tweets for modeling, **it is essential to preprocess the text** and simplify its contents.\n",
    "<br><br>\n",
    "1. **At a minimum, things like:**\n",
    "    - punctuation\n",
    "    - numbers\n",
    "    - upper vs lowercase letters<br>\n",
    "    ***must*** be addressed before any initial analyses. I refer tho this initial cleaning as **\"minimal cleaning\"** of the text content<br>\n",
    "    \n",
    "> Version 1 of the tweet processing removes these items, as well as the removal of any urls in a tweet. The resulting data column is referred to here as \"content_min_clean\".\n",
    "\n",
    "<br><br>\n",
    "2. It is **always recommended** that go a step beyond this and<br> remove **commonly used words that contain little information** <br>for our machine learning algorithms. Words like: (the,was,he,she, it,etc.)<br> are called **\"stopwords\"**, and it is critical to address them as well.\n",
    "\n",
    "> Version 2 of the tweet processing removes these items and the resulting data column is referred here as `cleaned_stopped_content`\n",
    "\n",
    "<br>\n",
    "\n",
    "3. Additionally, many analyses **need the text tokenzied** into a list of words<br> and not in a natural sentence format. Instead, they are a list of words (**tokens**) separated by \",\", which tells the algorithm what should be considered one word.<br><br>For the tweet processing, I used a version of tokenization, called `regexp_tokenziation` <br>which uses pattern of letters and symbols (the `expression`) <br>that indicate what combination of alpha numeric characters should be considered a single token.<br><br>The pattern I used was `\"([a-zA-Z]+(?:'[a-z]+)?)\"`, which allows for words such as \"can't\" that contain \"'\" in the middle of word. This processes was actually applied in order to process Version 1 and 2 of the Tweets, but the resulting text was put back into sentence form. \n",
    "\n",
    "> Version 3 of the tweets keeps the text in their regexp-tokenized form and is reffered to as `cleaned_stopped_tokens`\n",
    "<br>\n",
    "\n",
    "4. While not always required, it is often a good idea to reduce similar words down to a shared core.\n",
    "There are often **multiple variants of the same word with the same/simiar meaning**,<br> but one may plural **(i.e. \"democrat\" and \"democrats\")**, or form of words is different **(i.e. run, running).**<br> Simplifying words down to the basic core word (or word *stem*) is referred to as **\"stemming\"**. <br><br> A more advanced form of this also understands things like words that are just in a **different tense** such as  i.e.  **\"ran\", \"run\", \"running\"**. This process is called  **\"lemmatization**, where the words are reduced to their simplest form, called \"**lemmas**\"<br>  \n",
    "\n",
    "> Version 4 of the tweets are all reduced down to their word lemmas, futher aiding the algorithm in learning the meaning of the texts.\n",
    "<!-- \n",
    "\n",
    "#### EXAMPLE TWEETS AND PROCESSING STEPS:\n",
    "\n",
    "**TWEET FROM 08-25-2017 12:25:10:**\n",
    "* **[\"content\"] column:**<p><blockquote>***\"Strange statement by Bob Corker considering that he is constantly asking me whether or not he should run again in '18. Tennessee not happy!\"***\n",
    "    \n",
    "    \n",
    "* **[\"content_min_clean\"] column:**<p><blockquote>***\"strange statement by bob corker considering that he is constantly asking me whether or not he should run again in  18  tennessee not happy \"***\n",
    "    \n",
    "    \n",
    "* **[\"cleaned_stopped_content\"] column:**<p><blockquote>***\"strange statement bob corker considering constantly asking whether run tennessee happy\"***\n",
    "    \n",
    "    \n",
    "* **[\"cleaned_stopped_tokens\"] column:**<p><blockquote>***\"['strange', 'statement', 'bob', 'corker', 'considering', 'constantly', 'asking', 'whether', 'run', 'tennessee', 'happy']\"***\n",
    "    \n",
    "    \n",
    "* **[\"cleaned_stopped_lemmas\"] column:**<p><blockquote>***\"strange statement bob corker considering constantly asking whether run tennessee happy\"*** -->"
   ]
  },
  {
   "cell_type": "markdown",
   "metadata": {},
   "source": [
    "## Finding Trump - Code"
   ]
  },
  {
   "cell_type": "code",
   "execution_count": 1,
   "metadata": {
    "ExecuteTime": {
     "end_time": "2020-10-28T22:16:26.572011Z",
     "start_time": "2020-10-28T22:16:22.172026Z"
    }
   },
   "outputs": [
    {
     "name": "stdout",
     "output_type": "stream",
     "text": [
      "fsds v0.2.27 loaded.  Read the docs: https://fs-ds.readthedocs.io/en/latest/ \n"
     ]
    },
    {
     "data": {
      "text/html": [
       "<style  type=\"text/css\" >\n",
       "</style><table id=\"T_37c2c934_196b_11eb_b23e_acde48001122\" ><caption>Loaded Packages and Handles</caption><thead>    <tr>        <th class=\"col_heading level0 col0\" >Handle</th>        <th class=\"col_heading level0 col1\" >Package</th>        <th class=\"col_heading level0 col2\" >Description</th>    </tr></thead><tbody>\n",
       "                <tr>\n",
       "                                <td id=\"T_37c2c934_196b_11eb_b23e_acde48001122row0_col0\" class=\"data row0 col0\" >dp</td>\n",
       "                        <td id=\"T_37c2c934_196b_11eb_b23e_acde48001122row0_col1\" class=\"data row0 col1\" >IPython.display</td>\n",
       "                        <td id=\"T_37c2c934_196b_11eb_b23e_acde48001122row0_col2\" class=\"data row0 col2\" >Display modules with helpful display and clearing commands.</td>\n",
       "            </tr>\n",
       "            <tr>\n",
       "                                <td id=\"T_37c2c934_196b_11eb_b23e_acde48001122row1_col0\" class=\"data row1 col0\" >fs</td>\n",
       "                        <td id=\"T_37c2c934_196b_11eb_b23e_acde48001122row1_col1\" class=\"data row1 col1\" >fsds</td>\n",
       "                        <td id=\"T_37c2c934_196b_11eb_b23e_acde48001122row1_col2\" class=\"data row1 col2\" >Custom data science bootcamp student package</td>\n",
       "            </tr>\n",
       "            <tr>\n",
       "                                <td id=\"T_37c2c934_196b_11eb_b23e_acde48001122row2_col0\" class=\"data row2 col0\" >mpl</td>\n",
       "                        <td id=\"T_37c2c934_196b_11eb_b23e_acde48001122row2_col1\" class=\"data row2 col1\" >matplotlib</td>\n",
       "                        <td id=\"T_37c2c934_196b_11eb_b23e_acde48001122row2_col2\" class=\"data row2 col2\" >Matplotlib's base OOP module with formatting artists</td>\n",
       "            </tr>\n",
       "            <tr>\n",
       "                                <td id=\"T_37c2c934_196b_11eb_b23e_acde48001122row3_col0\" class=\"data row3 col0\" >plt</td>\n",
       "                        <td id=\"T_37c2c934_196b_11eb_b23e_acde48001122row3_col1\" class=\"data row3 col1\" >matplotlib.pyplot</td>\n",
       "                        <td id=\"T_37c2c934_196b_11eb_b23e_acde48001122row3_col2\" class=\"data row3 col2\" >Matplotlib's matlab-like plotting module</td>\n",
       "            </tr>\n",
       "            <tr>\n",
       "                                <td id=\"T_37c2c934_196b_11eb_b23e_acde48001122row4_col0\" class=\"data row4 col0\" >np</td>\n",
       "                        <td id=\"T_37c2c934_196b_11eb_b23e_acde48001122row4_col1\" class=\"data row4 col1\" >numpy</td>\n",
       "                        <td id=\"T_37c2c934_196b_11eb_b23e_acde48001122row4_col2\" class=\"data row4 col2\" >scientific computing with Python</td>\n",
       "            </tr>\n",
       "            <tr>\n",
       "                                <td id=\"T_37c2c934_196b_11eb_b23e_acde48001122row5_col0\" class=\"data row5 col0\" >pd</td>\n",
       "                        <td id=\"T_37c2c934_196b_11eb_b23e_acde48001122row5_col1\" class=\"data row5 col1\" >pandas</td>\n",
       "                        <td id=\"T_37c2c934_196b_11eb_b23e_acde48001122row5_col2\" class=\"data row5 col2\" >High performance data structures and tools</td>\n",
       "            </tr>\n",
       "            <tr>\n",
       "                                <td id=\"T_37c2c934_196b_11eb_b23e_acde48001122row6_col0\" class=\"data row6 col0\" >sns</td>\n",
       "                        <td id=\"T_37c2c934_196b_11eb_b23e_acde48001122row6_col1\" class=\"data row6 col1\" >seaborn</td>\n",
       "                        <td id=\"T_37c2c934_196b_11eb_b23e_acde48001122row6_col2\" class=\"data row6 col2\" >High-level data visualization library based on matplotlib</td>\n",
       "            </tr>\n",
       "    </tbody></table>"
      ],
      "text/plain": [
       "<pandas.io.formats.style.Styler at 0x7fee0db88518>"
      ]
     },
     "metadata": {},
     "output_type": "display_data"
    },
    {
     "data": {
      "text/html": [
       "        <script type=\"text/javascript\">\n",
       "        window.PlotlyConfig = {MathJaxConfig: 'local'};\n",
       "        if (window.MathJax) {MathJax.Hub.Config({SVG: {font: \"STIX-Web\"}});}\n",
       "        if (typeof require !== 'undefined') {\n",
       "        require.undef(\"plotly\");\n",
       "        requirejs.config({\n",
       "            paths: {\n",
       "                'plotly': ['https://cdn.plot.ly/plotly-latest.min']\n",
       "            }\n",
       "        });\n",
       "        require(['plotly'], function(Plotly) {\n",
       "            window._Plotly = Plotly;\n",
       "        });\n",
       "        }\n",
       "        </script>\n",
       "        "
      ]
     },
     "metadata": {},
     "output_type": "display_data"
    },
    {
     "data": {
      "text/html": [
       "        <script type=\"text/javascript\">\n",
       "        window.PlotlyConfig = {MathJaxConfig: 'local'};\n",
       "        if (window.MathJax) {MathJax.Hub.Config({SVG: {font: \"STIX-Web\"}});}\n",
       "        if (typeof require !== 'undefined') {\n",
       "        require.undef(\"plotly\");\n",
       "        requirejs.config({\n",
       "            paths: {\n",
       "                'plotly': ['https://cdn.plot.ly/plotly-latest.min']\n",
       "            }\n",
       "        });\n",
       "        require(['plotly'], function(Plotly) {\n",
       "            window._Plotly = Plotly;\n",
       "        });\n",
       "        }\n",
       "        </script>\n",
       "        "
      ]
     },
     "metadata": {},
     "output_type": "display_data"
    },
    {
     "name": "stdout",
     "output_type": "stream",
     "text": [
      "[i] Pandas .iplot() method activated.\n"
     ]
    }
   ],
   "source": [
    "# !pip install -U fsds\n",
    "from fsds.imports import *"
   ]
  },
  {
   "cell_type": "code",
   "execution_count": 86,
   "metadata": {
    "ExecuteTime": {
     "end_time": "2020-10-28T23:18:37.810707Z",
     "start_time": "2020-10-28T23:18:36.297604Z"
    }
   },
   "outputs": [
    {
     "data": {
      "text/html": [
       "<div>\n",
       "<style scoped>\n",
       "    .dataframe tbody tr th:only-of-type {\n",
       "        vertical-align: middle;\n",
       "    }\n",
       "\n",
       "    .dataframe tbody tr th {\n",
       "        vertical-align: top;\n",
       "    }\n",
       "\n",
       "    .dataframe thead th {\n",
       "        text-align: right;\n",
       "    }\n",
       "</style>\n",
       "<table border=\"1\" class=\"dataframe\">\n",
       "  <thead>\n",
       "    <tr style=\"text-align: right;\">\n",
       "      <th></th>\n",
       "      <th>source</th>\n",
       "      <th>text</th>\n",
       "      <th>retweet_count</th>\n",
       "      <th>favorite_count</th>\n",
       "      <th>is_retweet</th>\n",
       "      <th>id_str</th>\n",
       "    </tr>\n",
       "    <tr>\n",
       "      <th>created_at</th>\n",
       "      <th></th>\n",
       "      <th></th>\n",
       "      <th></th>\n",
       "      <th></th>\n",
       "      <th></th>\n",
       "      <th></th>\n",
       "    </tr>\n",
       "  </thead>\n",
       "  <tbody>\n",
       "    <tr>\n",
       "      <th>2016-12-01 14:37:57</th>\n",
       "      <td>Twitter for iPhone</td>\n",
       "      <td>My thoughts and prayers are with those affecte...</td>\n",
       "      <td>12077</td>\n",
       "      <td>65724</td>\n",
       "      <td>False</td>\n",
       "      <td>804333718999539712</td>\n",
       "    </tr>\n",
       "    <tr>\n",
       "      <th>2016-12-01 14:38:09</th>\n",
       "      <td>Twitter for Android</td>\n",
       "      <td>Getting ready to leave for the Great State of ...</td>\n",
       "      <td>9834</td>\n",
       "      <td>57249</td>\n",
       "      <td>False</td>\n",
       "      <td>804333771021570048</td>\n",
       "    </tr>\n",
       "    <tr>\n",
       "      <th>2016-12-01 22:52:10</th>\n",
       "      <td>Twitter for iPhone</td>\n",
       "      <td>Heading to U.S. Bank Arena in Cincinnati Ohio ...</td>\n",
       "      <td>5564</td>\n",
       "      <td>31256</td>\n",
       "      <td>False</td>\n",
       "      <td>804458095569158144</td>\n",
       "    </tr>\n",
       "    <tr>\n",
       "      <th>2016-12-02 02:45:18</th>\n",
       "      <td>Twitter for iPhone</td>\n",
       "      <td>Thank you Ohio! Together we made history – and...</td>\n",
       "      <td>17283</td>\n",
       "      <td>72196</td>\n",
       "      <td>False</td>\n",
       "      <td>804516764562374656</td>\n",
       "    </tr>\n",
       "    <tr>\n",
       "      <th>2016-12-03 00:44:20</th>\n",
       "      <td>Twitter for Android</td>\n",
       "      <td>The President of Taiwan CALLED ME today to wis...</td>\n",
       "      <td>24700</td>\n",
       "      <td>111106</td>\n",
       "      <td>False</td>\n",
       "      <td>804848711599882240</td>\n",
       "    </tr>\n",
       "  </tbody>\n",
       "</table>\n",
       "</div>"
      ],
      "text/plain": [
       "                                  source  \\\n",
       "created_at                                 \n",
       "2016-12-01 14:37:57   Twitter for iPhone   \n",
       "2016-12-01 14:38:09  Twitter for Android   \n",
       "2016-12-01 22:52:10   Twitter for iPhone   \n",
       "2016-12-02 02:45:18   Twitter for iPhone   \n",
       "2016-12-03 00:44:20  Twitter for Android   \n",
       "\n",
       "                                                                  text  \\\n",
       "created_at                                                               \n",
       "2016-12-01 14:37:57  My thoughts and prayers are with those affecte...   \n",
       "2016-12-01 14:38:09  Getting ready to leave for the Great State of ...   \n",
       "2016-12-01 22:52:10  Heading to U.S. Bank Arena in Cincinnati Ohio ...   \n",
       "2016-12-02 02:45:18  Thank you Ohio! Together we made history – and...   \n",
       "2016-12-03 00:44:20  The President of Taiwan CALLED ME today to wis...   \n",
       "\n",
       "                     retweet_count  favorite_count is_retweet  \\\n",
       "created_at                                                      \n",
       "2016-12-01 14:37:57          12077           65724      False   \n",
       "2016-12-01 14:38:09           9834           57249      False   \n",
       "2016-12-01 22:52:10           5564           31256      False   \n",
       "2016-12-02 02:45:18          17283           72196      False   \n",
       "2016-12-03 00:44:20          24700          111106      False   \n",
       "\n",
       "                                 id_str  \n",
       "created_at                               \n",
       "2016-12-01 14:37:57  804333718999539712  \n",
       "2016-12-01 14:38:09  804333771021570048  \n",
       "2016-12-01 22:52:10  804458095569158144  \n",
       "2016-12-02 02:45:18  804516764562374656  \n",
       "2016-12-03 00:44:20  804848711599882240  "
      ]
     },
     "execution_count": 86,
     "metadata": {},
     "output_type": "execute_result"
    }
   ],
   "source": [
    "import pandas as pd\n",
    "finding_trump = '../finding-trump.csv'#'https://raw.githubusercontent.com/jirvingphd/online-ds-pt-1007109-text-classification-finding-trump/master/finding-trump.csv'\n",
    "\n",
    "df = pd.read_csv(finding_trump,#'https://raw.githubusercontent.com/jirvingphd/capstone-project-using-trumps-tweets-to-predict-stock-market/master/data/trump_tweets_12012016_to_01012020.csv',\n",
    "                index_col='created_at',parse_dates=['created_at'])\n",
    "df.sort_index(inplace=True)\n",
    "\n",
    "df.head()"
   ]
  },
  {
   "cell_type": "code",
   "execution_count": 87,
   "metadata": {
    "ExecuteTime": {
     "end_time": "2020-10-28T23:18:37.820804Z",
     "start_time": "2020-10-28T23:18:37.813108Z"
    }
   },
   "outputs": [
    {
     "data": {
      "text/plain": [
       "['My thoughts and prayers are with those affected by the tragic storms and tornadoes in the Southeastern United States. Stay safe!',\n",
       " 'Getting ready to leave for the Great State of Indiana and meet the hard working and wonderful people of Carrier A.C.',\n",
       " 'Heading to U.S. Bank Arena in Cincinnati Ohio for a 7pm rally. Join me! Tickets: https://t.co/HiWqZvHv6M',\n",
       " 'Thank you Ohio! Together we made history – and now the real work begins. America will start winning again!… https://t.co/sVNSNJE7Uf',\n",
       " 'The President of Taiwan CALLED ME today to wish me congratulations on winning the Presidency. Thank you!',\n",
       " 'Interesting how the U.S. sells Taiwan billions of dollars of military equipment but I should not accept a congratulatory call.',\n",
       " 'Rexnord of Indiana is moving to Mexico and rather viciously firing all of its 300 workers. This is happening all over our country. No more!',\n",
       " '@TigerWoods: Can’t wait to get back out there and mix it up with the boys. –TW #heroworldchallenge Great to have you back Tiger - Special!',\n",
       " 'State Treasurer John Kennedy is my choice for US Senator from Louisiana. Early voting today; election next Saturday.',\n",
       " 'Our great VPE @mike_pence is in Louisiana campaigning for John Kennedy for US Senate. John will be a tremendous help to us in Washington.']"
      ]
     },
     "execution_count": 87,
     "metadata": {},
     "output_type": "execute_result"
    }
   ],
   "source": [
    "## Create a variable \"corpus\" containing all text\n",
    "corpus = df['text'].to_list()\n",
    "corpus[:10]"
   ]
  },
  {
   "cell_type": "markdown",
   "metadata": {},
   "source": [
    "### Make a Bag-of-Words Frequency Distribution "
   ]
  },
  {
   "cell_type": "markdown",
   "metadata": {},
   "source": [
    "- \"bag-of-words\": collection of all words from a corpus and their frequencies\n"
   ]
  },
  {
   "cell_type": "code",
   "execution_count": 4,
   "metadata": {
    "ExecuteTime": {
     "end_time": "2020-10-28T22:16:28.589926Z",
     "start_time": "2020-10-28T22:16:27.945448Z"
    }
   },
   "outputs": [
    {
     "data": {
      "text/plain": [
       "['My thoughts and prayers are with those affected by the tragic storms and tornadoes in the Southeastern United States. Stay safe!',\n",
       " 'Getting ready to leave for the Great State of Indiana and meet the hard working and wonderful people of Carrier A.C.',\n",
       " 'Heading to U.S. Bank Arena in Cincinnati Ohio for a 7pm rally. Join me! Tickets: https://t.co/HiWqZvHv6M',\n",
       " 'Thank you Ohio! Together we made history – and now the real work begins. America will start winning again!… https://t.co/sVNSNJE7Uf',\n",
       " 'The President of Taiwan CALLED ME today to wish me congratulations on winning the Presidency. Thank you!']"
      ]
     },
     "execution_count": 4,
     "metadata": {},
     "output_type": "execute_result"
    }
   ],
   "source": [
    "from nltk import FreqDist\n",
    "corpus[:5]"
   ]
  },
  {
   "cell_type": "code",
   "execution_count": 5,
   "metadata": {
    "ExecuteTime": {
     "end_time": "2020-10-28T22:16:29.835065Z",
     "start_time": "2020-10-28T22:16:28.592385Z"
    }
   },
   "outputs": [
    {
     "data": {
      "text/plain": [
       "[(' ', 355279),\n",
       " ('e', 193636),\n",
       " ('t', 151004),\n",
       " ('a', 133814),\n",
       " ('o', 132306),\n",
       " ('n', 115782),\n",
       " ('i', 111789),\n",
       " ('r', 107277),\n",
       " ('s', 97228),\n",
       " ('h', 76548),\n",
       " ('l', 67415),\n",
       " ('d', 57543),\n",
       " ('u', 46550),\n",
       " ('c', 45746),\n",
       " ('m', 43554),\n",
       " ('p', 37247),\n",
       " ('g', 35477),\n",
       " ('y', 33375),\n",
       " ('.', 32244),\n",
       " ('w', 30005),\n",
       " ('f', 29211),\n",
       " ('b', 22246),\n",
       " ('T', 19911),\n",
       " ('v', 17186),\n",
       " (',', 14545),\n",
       " ('k', 13783),\n",
       " ('/', 13588),\n",
       " ('S', 12999),\n",
       " ('A', 12922),\n",
       " ('R', 12294),\n",
       " ('C', 10866),\n",
       " ('I', 10743),\n",
       " (':', 9821),\n",
       " ('N', 9009),\n",
       " ('!', 8861),\n",
       " ('D', 8787),\n",
       " ('@', 8646),\n",
       " ('M', 8063),\n",
       " ('E', 8008),\n",
       " ('P', 7726),\n",
       " ('W', 7249),\n",
       " ('O', 6828),\n",
       " ('H', 6614),\n",
       " ('B', 6115),\n",
       " ('G', 5937),\n",
       " ('F', 5701),\n",
       " ('L', 4774),\n",
       " ('U', 4765),\n",
       " ('0', 4659),\n",
       " ('x', 4068),\n",
       " ('J', 4060),\n",
       " ('’', 3445),\n",
       " ('1', 3191),\n",
       " ('j', 3084),\n",
       " ('…', 2956),\n",
       " ('2', 2812),\n",
       " ('-', 2672),\n",
       " ('K', 2622),\n",
       " ('V', 2460),\n",
       " ('Y', 2194),\n",
       " (';', 2105),\n",
       " ('z', 2082),\n",
       " ('&', 2079),\n",
       " ('“', 1993),\n",
       " ('”', 1890),\n",
       " ('5', 1848),\n",
       " ('#', 1785),\n",
       " ('3', 1730),\n",
       " ('4', 1620),\n",
       " ('7', 1534),\n",
       " ('6', 1491),\n",
       " ('8', 1468),\n",
       " ('9', 1437),\n",
       " ('q', 1346),\n",
       " ('(', 1181),\n",
       " (')', 1174),\n",
       " (\"'\", 1145),\n",
       " ('?', 1007),\n",
       " ('Z', 922),\n",
       " ('X', 862),\n",
       " ('Q', 828),\n",
       " ('\"', 797),\n",
       " ('%', 487),\n",
       " ('_', 469),\n",
       " ('🇺', 308),\n",
       " ('🇸', 305),\n",
       " ('$', 257),\n",
       " ('–', 166),\n",
       " ('—', 148),\n",
       " ('️', 131),\n",
       " ('\\n', 80),\n",
       " ('‘', 60),\n",
       " ('➡', 59),\n",
       " ('\\u2066', 52),\n",
       " ('\\u2069', 47),\n",
       " ('🚨', 45),\n",
       " ('*', 43),\n",
       " ('✅', 36),\n",
       " ('+', 33),\n",
       " ('、', 30)]"
      ]
     },
     "execution_count": 5,
     "metadata": {},
     "output_type": "execute_result"
    }
   ],
   "source": [
    "## Make a FreqDist from the corpus\n",
    "freq= FreqDist(','.join(corpus))\n",
    "\n",
    "## Display 100 most common words\n",
    "freq.most_common(100)"
   ]
  },
  {
   "cell_type": "markdown",
   "metadata": {},
   "source": [
    "> That's not quite right..."
   ]
  },
  {
   "cell_type": "code",
   "execution_count": 6,
   "metadata": {
    "ExecuteTime": {
     "end_time": "2020-10-28T22:16:32.623471Z",
     "start_time": "2020-10-28T22:16:29.836801Z"
    }
   },
   "outputs": [
    {
     "data": {
      "text/plain": [
       "[('the', 15560),\n",
       " (',', 14160),\n",
       " ('.', 13705),\n",
       " (':', 9462),\n",
       " ('to', 9308),\n",
       " ('!', 8861),\n",
       " ('@', 8646),\n",
       " ('and', 8497),\n",
       " ('of', 7176),\n",
       " ('a', 5658),\n",
       " ('is', 5096),\n",
       " ('in', 4996),\n",
       " ('https', 4265),\n",
       " ('for', 4081),\n",
       " ('RT', 3819),\n",
       " ('’', 3445),\n",
       " ('on', 3150),\n",
       " ('I', 3132),\n",
       " ('that', 3031),\n",
       " ('are', 2825),\n",
       " ('with', 2650),\n",
       " ('...', 2620),\n",
       " ('be', 2501),\n",
       " ('will', 2486),\n",
       " ('our', 2418),\n",
       " ('The', 2367),\n",
       " ('have', 2116),\n",
       " (';', 2105),\n",
       " ('&', 2079),\n",
       " ('amp', 2070),\n",
       " ('“', 1993),\n",
       " ('it', 1932),\n",
       " ('”', 1890),\n",
       " ('you', 1834),\n",
       " ('was', 1789),\n",
       " ('#', 1785),\n",
       " ('at', 1621),\n",
       " ('has', 1600),\n",
       " ('they', 1553),\n",
       " ('s', 1517),\n",
       " ('great', 1501),\n",
       " ('President', 1492),\n",
       " ('not', 1415),\n",
       " ('we', 1389),\n",
       " ('by', 1375),\n",
       " ('this', 1336),\n",
       " ('all', 1304),\n",
       " ('t', 1289),\n",
       " ('(', 1181),\n",
       " (')', 1174),\n",
       " ('Trump', 1154),\n",
       " ('Democrats', 1145),\n",
       " ('people', 1124),\n",
       " ('very', 1084),\n",
       " ('-', 1079),\n",
       " ('We', 1072),\n",
       " ('who', 1040),\n",
       " ('?', 1007),\n",
       " ('realDonaldTrump', 996),\n",
       " ('from', 979),\n",
       " ('my', 966),\n",
       " ('as', 956),\n",
       " ('he', 943),\n",
       " ('their', 918),\n",
       " ('been', 838),\n",
       " ('so', 833),\n",
       " ('more', 824),\n",
       " ('about', 801),\n",
       " ('his', 796),\n",
       " ('but', 787),\n",
       " ('now', 784),\n",
       " ('do', 784),\n",
       " ('or', 776),\n",
       " ('out', 769),\n",
       " ('just', 762),\n",
       " ('It', 737),\n",
       " ('an', 736),\n",
       " ('no', 733),\n",
       " ('Thank', 715),\n",
       " ('They', 692),\n",
       " ('up', 686),\n",
       " ('than', 681),\n",
       " ('me', 680),\n",
       " ('would', 678),\n",
       " ('Fake', 653),\n",
       " ('many', 645),\n",
       " ('get', 637),\n",
       " ('Great', 636),\n",
       " ('News', 628),\n",
       " ('U.S.', 626),\n",
       " ('can', 619),\n",
       " ('He', 613),\n",
       " ('time', 612),\n",
       " ('This', 603),\n",
       " ('should', 589),\n",
       " ('what', 583),\n",
       " ('Border', 578),\n",
       " ('there', 576),\n",
       " ('American', 571),\n",
       " ('want', 570)]"
      ]
     },
     "execution_count": 6,
     "metadata": {},
     "output_type": "execute_result"
    }
   ],
   "source": [
    "## Tokenize corpus then generate FreqDist\n",
    "from nltk import word_tokenize\n",
    "\n",
    "## Convert Corpus to Tokens\n",
    "tokens = word_tokenize(','.join(corpus))\n",
    "\n",
    "## Get FreqDist and most_common 100 for tokens\n",
    "freq=FreqDist(tokens)\n",
    "freq.most_common(100)"
   ]
  },
  {
   "cell_type": "markdown",
   "metadata": {},
   "source": [
    "> Better...but what's our next issue?"
   ]
  },
  {
   "cell_type": "code",
   "execution_count": 7,
   "metadata": {
    "ExecuteTime": {
     "end_time": "2020-10-28T22:16:32.628214Z",
     "start_time": "2020-10-28T22:16:32.625185Z"
    }
   },
   "outputs": [],
   "source": [
    "## Make a list of stopwords to remove\n",
    "from nltk.corpus import stopwords\n",
    "import string"
   ]
  },
  {
   "cell_type": "code",
   "execution_count": 8,
   "metadata": {
    "ExecuteTime": {
     "end_time": "2020-10-28T22:16:32.636096Z",
     "start_time": "2020-10-28T22:16:32.631178Z"
    }
   },
   "outputs": [
    {
     "data": {
      "text/plain": [
       "['i', 'me', 'my', 'myself', 'we', 'our', 'ours', 'ourselves', 'you', \"you're\"]"
      ]
     },
     "execution_count": 8,
     "metadata": {},
     "output_type": "execute_result"
    }
   ],
   "source": [
    "# Get all the stop words in the English language and preview first 10\n",
    "stopwords_list = stopwords.words('english')\n",
    "stopwords_list[:10]"
   ]
  },
  {
   "cell_type": "code",
   "execution_count": 9,
   "metadata": {
    "ExecuteTime": {
     "end_time": "2020-10-28T22:16:32.641542Z",
     "start_time": "2020-10-28T22:16:32.638456Z"
    }
   },
   "outputs": [
    {
     "data": {
      "text/plain": [
       "['[', '\\\\', ']', '^', '_', '`', '{', '|', '}', '~']"
      ]
     },
     "execution_count": 9,
     "metadata": {},
     "output_type": "execute_result"
    }
   ],
   "source": [
    "## Add punctuation to stopwords_list\n",
    "stopwords_list.extend( string.punctuation)\n",
    "stopwords_list[-10:]"
   ]
  },
  {
   "cell_type": "code",
   "execution_count": 10,
   "metadata": {
    "ExecuteTime": {
     "end_time": "2020-10-28T22:16:32.645208Z",
     "start_time": "2020-10-28T22:16:32.642890Z"
    }
   },
   "outputs": [],
   "source": [
    "## Add the additional Tweet Punctuation below to stopwords_list\n",
    "additional_punc = ['“','”','...',\"''\",'’','``']\n",
    "stopwords_list.extend(additional_punc)#['“','”'])#'...'"
   ]
  },
  {
   "cell_type": "code",
   "execution_count": 11,
   "metadata": {
    "ExecuteTime": {
     "end_time": "2020-10-28T22:16:32.649189Z",
     "start_time": "2020-10-28T22:16:32.646675Z"
    }
   },
   "outputs": [
    {
     "name": "stdout",
     "output_type": "stream",
     "text": [
      "True\n"
     ]
    }
   ],
   "source": [
    "## Commentary on not always accepting what is or isn't in stopwords\n",
    "print('until' in stopwords_list)"
   ]
  },
  {
   "cell_type": "code",
   "execution_count": 12,
   "metadata": {
    "ExecuteTime": {
     "end_time": "2020-10-28T22:16:32.653308Z",
     "start_time": "2020-10-28T22:16:32.650864Z"
    }
   },
   "outputs": [
    {
     "name": "stdout",
     "output_type": "stream",
     "text": [
      "False\n"
     ]
    }
   ],
   "source": [
    "## Remove until from stopwords_list and check for it again\n",
    "stopwords_list.remove('until')\n",
    "print('until' in stopwords_list)"
   ]
  },
  {
   "cell_type": "code",
   "execution_count": 13,
   "metadata": {
    "ExecuteTime": {
     "end_time": "2020-10-28T22:16:33.561362Z",
     "start_time": "2020-10-28T22:16:32.654646Z"
    }
   },
   "outputs": [],
   "source": [
    "## Remove stopwords \n",
    "stopped_tokens = [w.lower() for w in tokens if w.lower() not in stopwords_list]"
   ]
  },
  {
   "cell_type": "code",
   "execution_count": 14,
   "metadata": {
    "ExecuteTime": {
     "end_time": "2020-10-28T22:16:33.762808Z",
     "start_time": "2020-10-28T22:16:33.563401Z"
    }
   },
   "outputs": [
    {
     "data": {
      "text/plain": [
       "[('https', 4265),\n",
       " ('rt', 3819),\n",
       " ('great', 2552),\n",
       " ('amp', 2070),\n",
       " ('president', 1605),\n",
       " ('people', 1309),\n",
       " ('trump', 1193),\n",
       " ('democrats', 1166),\n",
       " ('realdonaldtrump', 1045),\n",
       " ('country', 947),\n",
       " ('news', 931),\n",
       " ('thank', 929),\n",
       " ('big', 832),\n",
       " ('fake', 802),\n",
       " ('new', 791),\n",
       " ('many', 749),\n",
       " ('today', 747),\n",
       " ('get', 741),\n",
       " ('would', 714),\n",
       " ('border', 711),\n",
       " ('america', 699),\n",
       " ('never', 676),\n",
       " ('time', 666),\n",
       " ('u.s.', 626),\n",
       " ('american', 611),\n",
       " ('much', 594),\n",
       " ('want', 591),\n",
       " ('one', 588),\n",
       " ('years', 587),\n",
       " ('media', 582),\n",
       " ('good', 567),\n",
       " ('united', 543),\n",
       " ('even', 525),\n",
       " ('house', 523),\n",
       " ('states', 509),\n",
       " ('back', 492),\n",
       " ('done', 485),\n",
       " (\"'s\", 479),\n",
       " ('make', 478),\n",
       " ('must', 478),\n",
       " ('china', 474),\n",
       " ('like', 465),\n",
       " ('going', 460),\n",
       " ('vote', 458),\n",
       " ('nothing', 455),\n",
       " ('dems', 452),\n",
       " ('job', 440),\n",
       " ('impeachment', 435),\n",
       " ('jobs', 431),\n",
       " ('state', 413),\n",
       " ('day', 407),\n",
       " ('first', 406),\n",
       " ('us', 404),\n",
       " ('bad', 402),\n",
       " ('whitehouse', 398),\n",
       " ('made', 391),\n",
       " ('military', 386),\n",
       " ('deal', 386),\n",
       " ('election', 382),\n",
       " ('ever', 377),\n",
       " ('trade', 375),\n",
       " ('said', 373),\n",
       " ('way', 366),\n",
       " ('see', 365),\n",
       " ('republican', 362),\n",
       " ('crime', 359),\n",
       " ('fbi', 352),\n",
       " ('win', 351),\n",
       " ('wall', 348),\n",
       " ('working', 344),\n",
       " ('republicans', 342),\n",
       " ('world', 337),\n",
       " ('witch', 336),\n",
       " ('history', 333),\n",
       " ('hunt', 332),\n",
       " ('collusion', 331),\n",
       " ('know', 330),\n",
       " ('russia', 329),\n",
       " ('security', 327),\n",
       " ('also', 323),\n",
       " ('strong', 322),\n",
       " ('work', 320),\n",
       " ('last', 320),\n",
       " ('congress', 319),\n",
       " ('go', 318),\n",
       " ('obama', 314),\n",
       " ('hard', 312),\n",
       " ('year', 311),\n",
       " ('economy', 311),\n",
       " ('north', 310),\n",
       " ('foxnews', 303),\n",
       " ('really', 301),\n",
       " ('two', 300),\n",
       " ('tax', 299),\n",
       " ('look', 295),\n",
       " ('democrat', 291),\n",
       " ('far', 289),\n",
       " ('mueller', 286),\n",
       " ('report', 281),\n",
       " ('senate', 279)]"
      ]
     },
     "execution_count": 14,
     "metadata": {},
     "output_type": "execute_result"
    }
   ],
   "source": [
    "## Remake the FreqDist from stopped_tokens\n",
    "freq = FreqDist(stopped_tokens)\n",
    "freq.most_common(100)"
   ]
  },
  {
   "cell_type": "code",
   "execution_count": 15,
   "metadata": {
    "ExecuteTime": {
     "end_time": "2020-10-28T22:16:33.767670Z",
     "start_time": "2020-10-28T22:16:33.764913Z"
    }
   },
   "outputs": [],
   "source": [
    "## Sometimes we need to add more punctuation ourselves\n",
    "add_punc= [\"''\",'’','``']\n",
    "stopwords_list.extend(add_punc)"
   ]
  },
  {
   "cell_type": "code",
   "execution_count": 16,
   "metadata": {
    "ExecuteTime": {
     "end_time": "2020-10-28T22:16:34.883187Z",
     "start_time": "2020-10-28T22:16:33.769346Z"
    }
   },
   "outputs": [
    {
     "data": {
      "text/plain": [
       "[('https', 4265),\n",
       " ('rt', 3819),\n",
       " ('great', 2552),\n",
       " ('amp', 2070),\n",
       " ('president', 1605),\n",
       " ('people', 1309),\n",
       " ('trump', 1193),\n",
       " ('democrats', 1166),\n",
       " ('realdonaldtrump', 1045),\n",
       " ('country', 947),\n",
       " ('news', 931),\n",
       " ('thank', 929),\n",
       " ('big', 832),\n",
       " ('fake', 802),\n",
       " ('new', 791),\n",
       " ('many', 749),\n",
       " ('today', 747),\n",
       " ('get', 741),\n",
       " ('would', 714),\n",
       " ('border', 711),\n",
       " ('america', 699),\n",
       " ('never', 676),\n",
       " ('time', 666),\n",
       " ('u.s.', 626),\n",
       " ('american', 611),\n",
       " ('much', 594),\n",
       " ('want', 591),\n",
       " ('one', 588),\n",
       " ('years', 587),\n",
       " ('media', 582),\n",
       " ('good', 567),\n",
       " ('united', 543),\n",
       " ('even', 525),\n",
       " ('house', 523),\n",
       " ('states', 509),\n",
       " ('back', 492),\n",
       " ('done', 485),\n",
       " (\"'s\", 479),\n",
       " ('make', 478),\n",
       " ('must', 478),\n",
       " ('china', 474),\n",
       " ('like', 465),\n",
       " ('going', 460),\n",
       " ('vote', 458),\n",
       " ('nothing', 455),\n",
       " ('dems', 452),\n",
       " ('job', 440),\n",
       " ('impeachment', 435),\n",
       " ('jobs', 431),\n",
       " ('state', 413),\n",
       " ('day', 407),\n",
       " ('first', 406),\n",
       " ('us', 404),\n",
       " ('bad', 402),\n",
       " ('whitehouse', 398),\n",
       " ('made', 391),\n",
       " ('military', 386),\n",
       " ('deal', 386),\n",
       " ('election', 382),\n",
       " ('ever', 377),\n",
       " ('trade', 375),\n",
       " ('said', 373),\n",
       " ('way', 366),\n",
       " ('see', 365),\n",
       " ('republican', 362),\n",
       " ('crime', 359),\n",
       " ('fbi', 352),\n",
       " ('win', 351),\n",
       " ('wall', 348),\n",
       " ('working', 344),\n",
       " ('republicans', 342),\n",
       " ('world', 337),\n",
       " ('witch', 336),\n",
       " ('history', 333),\n",
       " ('hunt', 332),\n",
       " ('collusion', 331),\n",
       " ('know', 330),\n",
       " ('russia', 329),\n",
       " ('security', 327),\n",
       " ('also', 323),\n",
       " ('strong', 322),\n",
       " ('work', 320),\n",
       " ('last', 320),\n",
       " ('congress', 319),\n",
       " ('go', 318),\n",
       " ('obama', 314),\n",
       " ('hard', 312),\n",
       " ('year', 311),\n",
       " ('economy', 311),\n",
       " ('north', 310),\n",
       " ('foxnews', 303),\n",
       " ('really', 301),\n",
       " ('two', 300),\n",
       " ('tax', 299),\n",
       " ('look', 295),\n",
       " ('democrat', 291),\n",
       " ('far', 289),\n",
       " ('mueller', 286),\n",
       " ('report', 281),\n",
       " ('senate', 279)]"
      ]
     },
     "execution_count": 16,
     "metadata": {},
     "output_type": "execute_result"
    }
   ],
   "source": [
    "## Let's try that one last time\n",
    "stopped_tokens = [w.lower() for w in tokens if w.lower() not in stopwords_list]\n",
    "freq = FreqDist(stopped_tokens)\n",
    "freq.most_common(100)"
   ]
  },
  {
   "cell_type": "markdown",
   "metadata": {},
   "source": [
    "### Additional Ways to Show Frequency"
   ]
  },
  {
   "cell_type": "markdown",
   "metadata": {},
   "source": [
    "- [Word Clouds](https://www.geeksforgeeks.org/generating-word-cloud-python/)"
   ]
  },
  {
   "cell_type": "code",
   "execution_count": 17,
   "metadata": {
    "ExecuteTime": {
     "end_time": "2020-10-28T22:16:35.573439Z",
     "start_time": "2020-10-28T22:16:34.884856Z"
    }
   },
   "outputs": [
    {
     "data": {
      "text/plain": [
       "(-0.5, 399.5, 199.5, -0.5)"
      ]
     },
     "execution_count": 17,
     "metadata": {},
     "output_type": "execute_result"
    },
    {
     "data": {
      "image/png": "[encoded data removed]",
      "text/plain": [
       "<Figure size 864x864 with 1 Axes>"
      ]
     },
     "metadata": {
      "needs_background": "light"
     },
     "output_type": "display_data"
    }
   ],
   "source": [
    "from wordcloud import WordCloud\n",
    "wordcloud = WordCloud(stopwords=stopwords_list,collocations=False)\n",
    "wordcloud.generate(','.join(stopped_tokens))\n",
    "plt.figure(figsize = (12, 12), facecolor = None) \n",
    "plt.imshow(wordcloud) \n",
    "plt.axis('off')"
   ]
  },
  {
   "cell_type": "markdown",
   "metadata": {},
   "source": [
    "### Comparing Phases of Proprocessing/Tokenization"
   ]
  },
  {
   "cell_type": "code",
   "execution_count": 18,
   "metadata": {
    "ExecuteTime": {
     "end_time": "2020-10-28T22:16:35.597449Z",
     "start_time": "2020-10-28T22:16:35.575130Z"
    }
   },
   "outputs": [
    {
     "data": {
      "application/vnd.jupyter.widget-view+json": {
       "model_id": "a72a43739a5244fca45a8a1a6018a91e",
       "version_major": 2,
       "version_minor": 0
      },
      "text/plain": [
       "interactive(children=(IntSlider(value=7032, description='i', max=14065), Output()), _dom_classes=('widget-inte…"
      ]
     },
     "metadata": {},
     "output_type": "display_data"
    }
   ],
   "source": [
    "from nltk import word_tokenize\n",
    "from ipywidgets import interact\n",
    "\n",
    "@interact\n",
    "def tokenize_tweet(i=(0,len(corpus)-1)):\n",
    "    from nltk.corpus import stopwords\n",
    "    import string\n",
    "    from nltk import word_tokenize,regexp_tokenize\n",
    "    \n",
    "    print(f\"- Tweet #{i}:\\n\")\n",
    "    print(corpus[i],'\\n')\n",
    "    tokens = word_tokenize(corpus[i])\n",
    "\n",
    "    # Get all the stop words in the English language\n",
    "    stopwords_list = stopwords.words('english')\n",
    "    stopwords_list += string.punctuation\n",
    "    stopped_tokens = [w.lower() for w in tokens if w not in stopwords_list]\n",
    "    \n",
    "    print(tokens,end='\\n\\n')\n",
    "    print(stopped_tokens)"
   ]
  },
  {
   "cell_type": "markdown",
   "metadata": {},
   "source": [
    "> What recognizable pattern of characters is high on the frequency list?"
   ]
  },
  {
   "cell_type": "markdown",
   "metadata": {},
   "source": [
    "## Other Bag of Words Statistics"
   ]
  },
  {
   "cell_type": "markdown",
   "metadata": {},
   "source": [
    "### Bigrams"
   ]
  },
  {
   "cell_type": "code",
   "execution_count": 19,
   "metadata": {
    "ExecuteTime": {
     "end_time": "2020-10-28T22:16:36.715930Z",
     "start_time": "2020-10-28T22:16:35.599043Z"
    }
   },
   "outputs": [
    {
     "data": {
      "text/html": [
       "<div>\n",
       "<style scoped>\n",
       "    .dataframe tbody tr th:only-of-type {\n",
       "        vertical-align: middle;\n",
       "    }\n",
       "\n",
       "    .dataframe tbody tr th {\n",
       "        vertical-align: top;\n",
       "    }\n",
       "\n",
       "    .dataframe thead th {\n",
       "        text-align: right;\n",
       "    }\n",
       "</style>\n",
       "<table border=\"1\" class=\"dataframe\">\n",
       "  <thead>\n",
       "    <tr style=\"text-align: right;\">\n",
       "      <th></th>\n",
       "      <th>Words</th>\n",
       "      <th>Frequency</th>\n",
       "    </tr>\n",
       "  </thead>\n",
       "  <tbody>\n",
       "    <tr>\n",
       "      <th>0</th>\n",
       "      <td>(fake, news)</td>\n",
       "      <td>0.002831</td>\n",
       "    </tr>\n",
       "    <tr>\n",
       "      <th>1</th>\n",
       "      <td>(united, states)</td>\n",
       "      <td>0.001992</td>\n",
       "    </tr>\n",
       "    <tr>\n",
       "      <th>2</th>\n",
       "      <td>(rt, realdonaldtrump)</td>\n",
       "      <td>0.001878</td>\n",
       "    </tr>\n",
       "    <tr>\n",
       "      <th>3</th>\n",
       "      <td>(witch, hunt)</td>\n",
       "      <td>0.001488</td>\n",
       "    </tr>\n",
       "    <tr>\n",
       "      <th>4</th>\n",
       "      <td>(president, trump)</td>\n",
       "      <td>0.001397</td>\n",
       "    </tr>\n",
       "    <tr>\n",
       "      <th>5</th>\n",
       "      <td>(rt, whitehouse)</td>\n",
       "      <td>0.001143</td>\n",
       "    </tr>\n",
       "    <tr>\n",
       "      <th>6</th>\n",
       "      <td>(america, great)</td>\n",
       "      <td>0.001021</td>\n",
       "    </tr>\n",
       "    <tr>\n",
       "      <th>7</th>\n",
       "      <td>(white, house)</td>\n",
       "      <td>0.000998</td>\n",
       "    </tr>\n",
       "    <tr>\n",
       "      <th>8</th>\n",
       "      <td>(news, media)</td>\n",
       "      <td>0.000930</td>\n",
       "    </tr>\n",
       "    <tr>\n",
       "      <th>9</th>\n",
       "      <td>(president, realdonaldtrump)</td>\n",
       "      <td>0.000894</td>\n",
       "    </tr>\n",
       "    <tr>\n",
       "      <th>10</th>\n",
       "      <td>(north, korea)</td>\n",
       "      <td>0.000835</td>\n",
       "    </tr>\n",
       "    <tr>\n",
       "      <th>11</th>\n",
       "      <td>(new, york)</td>\n",
       "      <td>0.000789</td>\n",
       "    </tr>\n",
       "    <tr>\n",
       "      <th>12</th>\n",
       "      <td>(make, america)</td>\n",
       "      <td>0.000730</td>\n",
       "    </tr>\n",
       "    <tr>\n",
       "      <th>13</th>\n",
       "      <td>(great, job)</td>\n",
       "      <td>0.000699</td>\n",
       "    </tr>\n",
       "    <tr>\n",
       "      <th>14</th>\n",
       "      <td>(border, security)</td>\n",
       "      <td>0.000662</td>\n",
       "    </tr>\n",
       "    <tr>\n",
       "      <th>15</th>\n",
       "      <td>(great, state)</td>\n",
       "      <td>0.000653</td>\n",
       "    </tr>\n",
       "    <tr>\n",
       "      <th>16</th>\n",
       "      <td>(nancy, pelosi)</td>\n",
       "      <td>0.000649</td>\n",
       "    </tr>\n",
       "    <tr>\n",
       "      <th>17</th>\n",
       "      <td>(crooked, hillary)</td>\n",
       "      <td>0.000640</td>\n",
       "    </tr>\n",
       "    <tr>\n",
       "      <th>18</th>\n",
       "      <td>(southern, border)</td>\n",
       "      <td>0.000631</td>\n",
       "    </tr>\n",
       "    <tr>\n",
       "      <th>19</th>\n",
       "      <td>(american, people)</td>\n",
       "      <td>0.000617</td>\n",
       "    </tr>\n",
       "  </tbody>\n",
       "</table>\n",
       "</div>"
      ],
      "text/plain": [
       "                           Words  Frequency\n",
       "0                   (fake, news)   0.002831\n",
       "1               (united, states)   0.001992\n",
       "2          (rt, realdonaldtrump)   0.001878\n",
       "3                  (witch, hunt)   0.001488\n",
       "4             (president, trump)   0.001397\n",
       "5               (rt, whitehouse)   0.001143\n",
       "6               (america, great)   0.001021\n",
       "7                 (white, house)   0.000998\n",
       "8                  (news, media)   0.000930\n",
       "9   (president, realdonaldtrump)   0.000894\n",
       "10                (north, korea)   0.000835\n",
       "11                   (new, york)   0.000789\n",
       "12               (make, america)   0.000730\n",
       "13                  (great, job)   0.000699\n",
       "14            (border, security)   0.000662\n",
       "15                (great, state)   0.000653\n",
       "16               (nancy, pelosi)   0.000649\n",
       "17            (crooked, hillary)   0.000640\n",
       "18            (southern, border)   0.000631\n",
       "19            (american, people)   0.000617"
      ]
     },
     "execution_count": 19,
     "metadata": {},
     "output_type": "execute_result"
    }
   ],
   "source": [
    "import nltk\n",
    "bigram_measures = nltk.collocations.BigramAssocMeasures()\n",
    "tweet_finder = nltk.BigramCollocationFinder.from_words(stopped_tokens)\n",
    "\n",
    "tweets_scored = tweet_finder.score_ngrams(bigram_measures.raw_freq)\n",
    "pd.DataFrame.from_records(tweets_scored,columns=['Words','Frequency']).head(20)"
   ]
  },
  {
   "cell_type": "markdown",
   "metadata": {},
   "source": [
    "### Mutual Information Scores"
   ]
  },
  {
   "cell_type": "code",
   "execution_count": 20,
   "metadata": {
    "ExecuteTime": {
     "end_time": "2020-10-28T22:16:37.287822Z",
     "start_time": "2020-10-28T22:16:36.717619Z"
    }
   },
   "outputs": [
    {
     "data": {
      "text/html": [
       "<div>\n",
       "<style scoped>\n",
       "    .dataframe tbody tr th:only-of-type {\n",
       "        vertical-align: middle;\n",
       "    }\n",
       "\n",
       "    .dataframe tbody tr th {\n",
       "        vertical-align: top;\n",
       "    }\n",
       "\n",
       "    .dataframe thead th {\n",
       "        text-align: right;\n",
       "    }\n",
       "</style>\n",
       "<table border=\"1\" class=\"dataframe\">\n",
       "  <thead>\n",
       "    <tr style=\"text-align: right;\">\n",
       "      <th></th>\n",
       "      <th>Words</th>\n",
       "      <th>PMI</th>\n",
       "    </tr>\n",
       "  </thead>\n",
       "  <tbody>\n",
       "    <tr>\n",
       "      <th>0</th>\n",
       "      <td>(da, nang)</td>\n",
       "      <td>15.427981</td>\n",
       "    </tr>\n",
       "    <tr>\n",
       "      <th>1</th>\n",
       "      <td>(idlib, province)</td>\n",
       "      <td>15.427981</td>\n",
       "    </tr>\n",
       "    <tr>\n",
       "      <th>2</th>\n",
       "      <td>(madame, peng)</td>\n",
       "      <td>15.427981</td>\n",
       "    </tr>\n",
       "    <tr>\n",
       "      <th>3</th>\n",
       "      <td>(peng, liyuan)</td>\n",
       "      <td>15.427981</td>\n",
       "    </tr>\n",
       "    <tr>\n",
       "      <th>4</th>\n",
       "      <td>(catherine, herridge)</td>\n",
       "      <td>15.164946</td>\n",
       "    </tr>\n",
       "    <tr>\n",
       "      <th>5</th>\n",
       "      <td>(sri, lanka)</td>\n",
       "      <td>15.164946</td>\n",
       "    </tr>\n",
       "    <tr>\n",
       "      <th>6</th>\n",
       "      <td>(fred, keller)</td>\n",
       "      <td>14.942554</td>\n",
       "    </tr>\n",
       "    <tr>\n",
       "      <th>7</th>\n",
       "      <td>(hong, kong)</td>\n",
       "      <td>14.942554</td>\n",
       "    </tr>\n",
       "    <tr>\n",
       "      <th>8</th>\n",
       "      <td>(jonathan, turley)</td>\n",
       "      <td>14.942554</td>\n",
       "    </tr>\n",
       "    <tr>\n",
       "      <th>9</th>\n",
       "      <td>(401, k)</td>\n",
       "      <td>14.749909</td>\n",
       "    </tr>\n",
       "    <tr>\n",
       "      <th>10</th>\n",
       "      <td>(gina, haspel)</td>\n",
       "      <td>14.749909</td>\n",
       "    </tr>\n",
       "    <tr>\n",
       "      <th>11</th>\n",
       "      <td>(jimhagedornmn, petestauber)</td>\n",
       "      <td>14.749909</td>\n",
       "    </tr>\n",
       "    <tr>\n",
       "      <th>12</th>\n",
       "      <td>(kimberley, strassel)</td>\n",
       "      <td>14.679519</td>\n",
       "    </tr>\n",
       "    <tr>\n",
       "      <th>13</th>\n",
       "      <td>(susan, rice)</td>\n",
       "      <td>14.679519</td>\n",
       "    </tr>\n",
       "    <tr>\n",
       "      <th>14</th>\n",
       "      <td>(davis, hanson)</td>\n",
       "      <td>14.579984</td>\n",
       "    </tr>\n",
       "    <tr>\n",
       "      <th>15</th>\n",
       "      <td>(easter, egg)</td>\n",
       "      <td>14.579984</td>\n",
       "    </tr>\n",
       "    <tr>\n",
       "      <th>16</th>\n",
       "      <td>(egg, roll)</td>\n",
       "      <td>14.579984</td>\n",
       "    </tr>\n",
       "    <tr>\n",
       "      <th>17</th>\n",
       "      <td>(jesse, watters)</td>\n",
       "      <td>14.486874</td>\n",
       "    </tr>\n",
       "    <tr>\n",
       "      <th>18</th>\n",
       "      <td>(ballot, box)</td>\n",
       "      <td>14.427981</td>\n",
       "    </tr>\n",
       "    <tr>\n",
       "      <th>19</th>\n",
       "      <td>(derangement, syndrome)</td>\n",
       "      <td>14.427981</td>\n",
       "    </tr>\n",
       "  </tbody>\n",
       "</table>\n",
       "</div>"
      ],
      "text/plain": [
       "                           Words        PMI\n",
       "0                     (da, nang)  15.427981\n",
       "1              (idlib, province)  15.427981\n",
       "2                 (madame, peng)  15.427981\n",
       "3                 (peng, liyuan)  15.427981\n",
       "4          (catherine, herridge)  15.164946\n",
       "5                   (sri, lanka)  15.164946\n",
       "6                 (fred, keller)  14.942554\n",
       "7                   (hong, kong)  14.942554\n",
       "8             (jonathan, turley)  14.942554\n",
       "9                       (401, k)  14.749909\n",
       "10                (gina, haspel)  14.749909\n",
       "11  (jimhagedornmn, petestauber)  14.749909\n",
       "12         (kimberley, strassel)  14.679519\n",
       "13                 (susan, rice)  14.679519\n",
       "14               (davis, hanson)  14.579984\n",
       "15                 (easter, egg)  14.579984\n",
       "16                   (egg, roll)  14.579984\n",
       "17              (jesse, watters)  14.486874\n",
       "18                 (ballot, box)  14.427981\n",
       "19       (derangement, syndrome)  14.427981"
      ]
     },
     "execution_count": 20,
     "metadata": {},
     "output_type": "execute_result"
    }
   ],
   "source": [
    "import nltk\n",
    "bigram_measures = nltk.collocations.BigramAssocMeasures()\n",
    "\n",
    "tweet_pmi_finder = nltk.BigramCollocationFinder.from_words(stopped_tokens)\n",
    "tweet_pmi_finder.apply_freq_filter(5)\n",
    "\n",
    "tweet_pmi_scored = tweet_pmi_finder.score_ngrams(bigram_measures.pmi)\n",
    "pd.DataFrame.from_records(tweet_pmi_scored,columns=['Words','PMI']).head(20)"
   ]
  },
  {
   "cell_type": "markdown",
   "metadata": {},
   "source": [
    "# Regular Expressions"
   ]
  },
  {
   "cell_type": "markdown",
   "metadata": {},
   "source": [
    "- Regular expressions can help us capture/remove complicated patterns in our text.\n",
    "- Best regexp resource and tester: https://regex101.com/\n",
    "\n",
    "    - Make sure to check \"Python\" under Flavor menu on left side.\n",
    "    \n",
    "    \n",
    "- Let's use regular expressions to remove URLs"
   ]
  },
  {
   "cell_type": "code",
   "execution_count": 21,
   "metadata": {
    "ExecuteTime": {
     "end_time": "2020-10-28T22:16:37.292148Z",
     "start_time": "2020-10-28T22:16:37.289311Z"
    }
   },
   "outputs": [
    {
     "data": {
      "text/plain": [
       "'I am pleased to announce that David Bernhardt Acting Secretary of the Interior will be nominated as Secretary of the Interior. David has done a fantastic job from the day he arrived and we look forward to having his nomination officially confirmed!'"
      ]
     },
     "execution_count": 21,
     "metadata": {},
     "output_type": "execute_result"
    }
   ],
   "source": [
    "## Select an example tweet\n",
    "text =  corpus[6615]\n",
    "text"
   ]
  },
  {
   "cell_type": "code",
   "execution_count": 22,
   "metadata": {
    "ExecuteTime": {
     "end_time": "2020-10-28T22:16:37.296478Z",
     "start_time": "2020-10-28T22:16:37.293588Z"
    }
   },
   "outputs": [
    {
     "data": {
      "text/plain": [
       "'RT @TeamTrump: BIGGER paychecks under President @realDonaldTrump! 💰 https://t.co/GAezgi2RI5'"
      ]
     },
     "execution_count": 22,
     "metadata": {},
     "output_type": "execute_result"
    }
   ],
   "source": [
    "## Select a second example tweet\n",
    "text2=corpus[7347]\n",
    "text2"
   ]
  },
  {
   "cell_type": "code",
   "execution_count": 23,
   "metadata": {
    "ExecuteTime": {
     "end_time": "2020-10-28T22:16:37.305745Z",
     "start_time": "2020-10-28T22:16:37.302094Z"
    }
   },
   "outputs": [
    {
     "data": {
      "text/plain": [
       "['I',\n",
       " 'am',\n",
       " 'pleased',\n",
       " 'to',\n",
       " 'announce',\n",
       " 'that',\n",
       " 'David',\n",
       " 'Bernhardt',\n",
       " 'Acting',\n",
       " 'Secretary',\n",
       " 'of',\n",
       " 'the',\n",
       " 'Interior',\n",
       " 'will',\n",
       " 'be',\n",
       " 'nominated',\n",
       " 'as',\n",
       " 'Secretary',\n",
       " 'of',\n",
       " 'the',\n",
       " 'Interior',\n",
       " 'David',\n",
       " 'has',\n",
       " 'done',\n",
       " 'a',\n",
       " 'fantastic',\n",
       " 'job',\n",
       " 'from',\n",
       " 'the',\n",
       " 'day',\n",
       " 'he',\n",
       " 'arrived',\n",
       " 'and',\n",
       " 'we',\n",
       " 'look',\n",
       " 'forward',\n",
       " 'to',\n",
       " 'having',\n",
       " 'his',\n",
       " 'nomination',\n",
       " 'officially',\n",
       " 'confirmed']"
      ]
     },
     "execution_count": 23,
     "metadata": {},
     "output_type": "execute_result"
    }
   ],
   "source": [
    "## From tjhe lessons\n",
    "from nltk import regexp_tokenize\n",
    "pattern = r\"([a-zA-Z]+(?:'[a-z]+)?)\"\n",
    "regexp_tokenize(text,pattern)"
   ]
  },
  {
   "cell_type": "markdown",
   "metadata": {},
   "source": [
    "### Let's use regex to find/remove URLS"
   ]
  },
  {
   "cell_type": "markdown",
   "metadata": {},
   "source": [
    "- www.regex101.com\n",
    "    - Copy and paste example text to search\n",
    "    - Test out regular expressions and see what they pick up"
   ]
  },
  {
   "cell_type": "code",
   "execution_count": 24,
   "metadata": {
    "ExecuteTime": {
     "end_time": "2020-10-28T22:16:37.312143Z",
     "start_time": "2020-10-28T22:16:37.309739Z"
    }
   },
   "outputs": [
    {
     "name": "stdout",
     "output_type": "stream",
     "text": [
      "I am pleased to announce that David Bernhardt Acting Secretary of the Interior will be nominated as Secretary of the Interior. David has done a fantastic job from the day he arrived and we look forward to having his nomination officially confirmed! RT @TeamTrump: BIGGER paychecks under President @realDonaldTrump! 💰 https://t.co/GAezgi2RI5\n"
     ]
    }
   ],
   "source": [
    "print(text,text2)"
   ]
  },
  {
   "cell_type": "code",
   "execution_count": 25,
   "metadata": {
    "ExecuteTime": {
     "end_time": "2020-10-28T22:16:37.316730Z",
     "start_time": "2020-10-28T22:16:37.313849Z"
    }
   },
   "outputs": [
    {
     "data": {
      "text/plain": [
       "[]"
      ]
     },
     "execution_count": 25,
     "metadata": {},
     "output_type": "execute_result"
    }
   ],
   "source": [
    "import re\n",
    "re.findall(r\"(https://\\w*\\.\\w*/+\\w+)\",text)"
   ]
  },
  {
   "cell_type": "code",
   "execution_count": 26,
   "metadata": {
    "ExecuteTime": {
     "end_time": "2020-10-28T22:16:37.322021Z",
     "start_time": "2020-10-28T22:16:37.318299Z"
    }
   },
   "outputs": [],
   "source": [
    "def clean_text(text,regex=True):\n",
    "    from nltk.corpus import stopwords\n",
    "    import string\n",
    "    from nltk import word_tokenize,regexp_tokenize\n",
    "\n",
    "    ## tokenize text\n",
    "    if regex:\n",
    "        pattern = r\"([a-zA-Z]+(?:'[a-z]+)?)\"\n",
    "        tokens= regexp_tokenize(text,pattern)\n",
    "    else:\n",
    "        tokens = word_tokenize(text)\n",
    "        \n",
    "    # Get all the stop words in the English language\n",
    "    stopwords_list = stopwords.words('english')\n",
    "    stopwords_list += string.punctuation\n",
    "    \n",
    "    stopped_tokens = [w.lower() for w in tokens if w not in stopwords_list]\n",
    "    \n",
    "    return stopped_tokens"
   ]
  },
  {
   "cell_type": "code",
   "execution_count": 27,
   "metadata": {
    "ExecuteTime": {
     "end_time": "2020-10-28T22:16:37.326725Z",
     "start_time": "2020-10-28T22:16:37.323401Z"
    }
   },
   "outputs": [],
   "source": [
    "## Other uses of RegEx for Tweet preprocessing\n",
    "import re\n",
    "\n",
    "def find_urls(string): \n",
    "    return re.findall(r\"(http[s]?://\\w*\\.\\w*/+\\w+)\",string)\n",
    "\n",
    "def find_hashtags(string):\n",
    "    return re.findall(r'\\#\\w*',string)\n",
    "\n",
    "def find_retweets(string):\n",
    "    return re.findall(r'RT [@]?\\w*:',string)\n",
    "\n",
    "def find_mentions(string):\n",
    "    return re.findall(r'\\@\\w*',string)"
   ]
  },
  {
   "cell_type": "code",
   "execution_count": 28,
   "metadata": {
    "ExecuteTime": {
     "end_time": "2020-10-28T22:16:37.331359Z",
     "start_time": "2020-10-28T22:16:37.328330Z"
    }
   },
   "outputs": [
    {
     "data": {
      "text/plain": [
       "[]"
      ]
     },
     "execution_count": 28,
     "metadata": {},
     "output_type": "execute_result"
    }
   ],
   "source": [
    "find_urls(text)"
   ]
  },
  {
   "cell_type": "code",
   "execution_count": 29,
   "metadata": {
    "ExecuteTime": {
     "end_time": "2020-10-28T22:16:37.335741Z",
     "start_time": "2020-10-28T22:16:37.332710Z"
    }
   },
   "outputs": [
    {
     "data": {
      "text/plain": [
       "['@TeamTrump', '@realDonaldTrump']"
      ]
     },
     "execution_count": 29,
     "metadata": {},
     "output_type": "execute_result"
    }
   ],
   "source": [
    "find_mentions(text2)"
   ]
  },
  {
   "cell_type": "markdown",
   "metadata": {},
   "source": [
    "## Stemming/Lemmatization"
   ]
  },
  {
   "cell_type": "code",
   "execution_count": 30,
   "metadata": {
    "ExecuteTime": {
     "end_time": "2020-10-28T22:16:38.685620Z",
     "start_time": "2020-10-28T22:16:37.337170Z"
    }
   },
   "outputs": [
    {
     "name": "stdout",
     "output_type": "stream",
     "text": [
      "foot\n",
      "running\n"
     ]
    }
   ],
   "source": [
    "from nltk.stem.wordnet import WordNetLemmatizer\n",
    "\n",
    "lemmatizer = WordNetLemmatizer()\n",
    "\n",
    "print(lemmatizer.lemmatize('feet')) # foot\n",
    "print(lemmatizer.lemmatize('running')) # run [?!] Does not match expected output"
   ]
  },
  {
   "cell_type": "code",
   "execution_count": 31,
   "metadata": {
    "ExecuteTime": {
     "end_time": "2020-10-28T22:16:38.692063Z",
     "start_time": "2020-10-28T22:16:38.687942Z"
    }
   },
   "outputs": [
    {
     "data": {
      "text/plain": [
       "'I am pleased to announce that David Bernhardt Acting Secretary of the Interior will be nominated as Secretary of the Interior. David has done a fantastic job from the day he arrived and we look forward to having his nomination officially confirmed!'"
      ]
     },
     "execution_count": 31,
     "metadata": {},
     "output_type": "execute_result"
    }
   ],
   "source": [
    "text_in =  corpus[6615]\n",
    "text_in"
   ]
  },
  {
   "cell_type": "code",
   "execution_count": 32,
   "metadata": {
    "ExecuteTime": {
     "end_time": "2020-10-28T22:16:38.697673Z",
     "start_time": "2020-10-28T22:16:38.693613Z"
    }
   },
   "outputs": [],
   "source": [
    "def process_tweet(text,as_lemmas=False,as_tokens=True):\n",
    "#     text=text.copy()\n",
    "    for x in find_urls(text):\n",
    "        text = text.replace(x,'')\n",
    "        \n",
    "    for x in find_retweets(text):\n",
    "        text = text.replace(x,'')    \n",
    "        \n",
    "    for x in find_hashtags(text):\n",
    "        text = text.replace(x,'')    \n",
    "\n",
    "    if as_lemmas:\n",
    "        from nltk.stem.wordnet import WordNetLemmatizer\n",
    "        lemmatizer = WordNetLemmatizer()\n",
    "        text = lemmatizer.lemmatize(text)\n",
    "    \n",
    "    if as_tokens:\n",
    "        text = clean_text(text)\n",
    "    \n",
    "    if len(text)==0:\n",
    "        text=''\n",
    "            \n",
    "    return text"
   ]
  },
  {
   "cell_type": "code",
   "execution_count": 33,
   "metadata": {
    "ExecuteTime": {
     "end_time": "2020-10-28T22:16:38.719264Z",
     "start_time": "2020-10-28T22:16:38.699242Z"
    }
   },
   "outputs": [
    {
     "data": {
      "application/vnd.jupyter.widget-view+json": {
       "model_id": "5b9d3103fcb84ef7bfaba269f88961f3",
       "version_major": 2,
       "version_minor": 0
      },
      "text/plain": [
       "interactive(children=(IntSlider(value=7032, description='i', max=14065), Output()), _dom_classes=('widget-inte…"
      ]
     },
     "metadata": {},
     "output_type": "display_data"
    }
   ],
   "source": [
    "@interact\n",
    "def show_processed_text(i=(0,len(corpus)-1)):\n",
    "    text_in = corpus[i]#.copy()\n",
    "    print(text_in)\n",
    "    text_out = process_tweet(text_in)\n",
    "    print(text_out)\n",
    "    text_out2 = process_tweet(text_in,as_lemmas=True)\n",
    "    print(text_out2)"
   ]
  },
  {
   "cell_type": "code",
   "execution_count": 34,
   "metadata": {
    "ExecuteTime": {
     "end_time": "2020-10-28T22:16:38.724199Z",
     "start_time": "2020-10-28T22:16:38.721214Z"
    }
   },
   "outputs": [
    {
     "data": {
      "text/plain": [
       "['My thoughts and prayers are with those affected by the tragic storms and tornadoes in the Southeastern United States. Stay safe!',\n",
       " 'Getting ready to leave for the Great State of Indiana and meet the hard working and wonderful people of Carrier A.C.',\n",
       " 'Heading to U.S. Bank Arena in Cincinnati Ohio for a 7pm rally. Join me! Tickets: https://t.co/HiWqZvHv6M',\n",
       " 'Thank you Ohio! Together we made history – and now the real work begins. America will start winning again!… https://t.co/sVNSNJE7Uf',\n",
       " 'The President of Taiwan CALLED ME today to wish me congratulations on winning the Presidency. Thank you!',\n",
       " 'Interesting how the U.S. sells Taiwan billions of dollars of military equipment but I should not accept a congratulatory call.']"
      ]
     },
     "execution_count": 34,
     "metadata": {},
     "output_type": "execute_result"
    }
   ],
   "source": [
    "corpus[:6]"
   ]
  },
  {
   "cell_type": "markdown",
   "metadata": {},
   "source": [
    "# ACTIVITY: FINDING TRUMP"
   ]
  },
  {
   "cell_type": "markdown",
   "metadata": {},
   "source": [
    "## Finding Trump with sklearn"
   ]
  },
  {
   "cell_type": "code",
   "execution_count": 35,
   "metadata": {
    "ExecuteTime": {
     "end_time": "2020-10-28T22:16:39.954999Z",
     "start_time": "2020-10-28T22:16:38.725778Z"
    }
   },
   "outputs": [
    {
     "data": {
      "text/html": [
       "<div>\n",
       "<style scoped>\n",
       "    .dataframe tbody tr th:only-of-type {\n",
       "        vertical-align: middle;\n",
       "    }\n",
       "\n",
       "    .dataframe tbody tr th {\n",
       "        vertical-align: top;\n",
       "    }\n",
       "\n",
       "    .dataframe thead th {\n",
       "        text-align: right;\n",
       "    }\n",
       "</style>\n",
       "<table border=\"1\" class=\"dataframe\">\n",
       "  <thead>\n",
       "    <tr style=\"text-align: right;\">\n",
       "      <th></th>\n",
       "      <th>source</th>\n",
       "      <th>text</th>\n",
       "      <th>retweet_count</th>\n",
       "      <th>favorite_count</th>\n",
       "      <th>is_retweet</th>\n",
       "      <th>id_str</th>\n",
       "    </tr>\n",
       "    <tr>\n",
       "      <th>created_at</th>\n",
       "      <th></th>\n",
       "      <th></th>\n",
       "      <th></th>\n",
       "      <th></th>\n",
       "      <th></th>\n",
       "      <th></th>\n",
       "    </tr>\n",
       "  </thead>\n",
       "  <tbody>\n",
       "    <tr>\n",
       "      <th>2020-01-01 03:12:07</th>\n",
       "      <td>Twitter Media Studio</td>\n",
       "      <td>https://t.co/EVAEYD1AgV</td>\n",
       "      <td>25016</td>\n",
       "      <td>108830</td>\n",
       "      <td>False</td>\n",
       "      <td>1212209862094012416</td>\n",
       "    </tr>\n",
       "    <tr>\n",
       "      <th>2020-01-01 01:30:35</th>\n",
       "      <td>Twitter for iPhone</td>\n",
       "      <td>HAPPY NEW YEAR!</td>\n",
       "      <td>85409</td>\n",
       "      <td>576045</td>\n",
       "      <td>False</td>\n",
       "      <td>1212184310389850119</td>\n",
       "    </tr>\n",
       "    <tr>\n",
       "      <th>2020-01-01 01:22:28</th>\n",
       "      <td>Twitter for iPhone</td>\n",
       "      <td>Our fantastic First Lady! https://t.co/6iswto4WDI</td>\n",
       "      <td>27567</td>\n",
       "      <td>132633</td>\n",
       "      <td>False</td>\n",
       "      <td>1212182267113680896</td>\n",
       "    </tr>\n",
       "    <tr>\n",
       "      <th>2020-01-01 01:18:47</th>\n",
       "      <td>Twitter for iPhone</td>\n",
       "      <td>RT @DanScavino: https://t.co/CJRPySkF1Z</td>\n",
       "      <td>10796</td>\n",
       "      <td>0</td>\n",
       "      <td>True</td>\n",
       "      <td>1212181341078458369</td>\n",
       "    </tr>\n",
       "    <tr>\n",
       "      <th>2020-01-01 01:17:43</th>\n",
       "      <td>Twitter for iPhone</td>\n",
       "      <td>RT @SenJohnKennedy: I think Speaker Pelosi is ...</td>\n",
       "      <td>8893</td>\n",
       "      <td>0</td>\n",
       "      <td>True</td>\n",
       "      <td>1212181071988703232</td>\n",
       "    </tr>\n",
       "  </tbody>\n",
       "</table>\n",
       "</div>"
      ],
      "text/plain": [
       "                                   source  \\\n",
       "created_at                                  \n",
       "2020-01-01 03:12:07  Twitter Media Studio   \n",
       "2020-01-01 01:30:35    Twitter for iPhone   \n",
       "2020-01-01 01:22:28    Twitter for iPhone   \n",
       "2020-01-01 01:18:47    Twitter for iPhone   \n",
       "2020-01-01 01:17:43    Twitter for iPhone   \n",
       "\n",
       "                                                                  text  \\\n",
       "created_at                                                               \n",
       "2020-01-01 03:12:07                            https://t.co/EVAEYD1AgV   \n",
       "2020-01-01 01:30:35                                    HAPPY NEW YEAR!   \n",
       "2020-01-01 01:22:28  Our fantastic First Lady! https://t.co/6iswto4WDI   \n",
       "2020-01-01 01:18:47            RT @DanScavino: https://t.co/CJRPySkF1Z   \n",
       "2020-01-01 01:17:43  RT @SenJohnKennedy: I think Speaker Pelosi is ...   \n",
       "\n",
       "                     retweet_count  favorite_count is_retweet  \\\n",
       "created_at                                                      \n",
       "2020-01-01 03:12:07          25016          108830      False   \n",
       "2020-01-01 01:30:35          85409          576045      False   \n",
       "2020-01-01 01:22:28          27567          132633      False   \n",
       "2020-01-01 01:18:47          10796               0       True   \n",
       "2020-01-01 01:17:43           8893               0       True   \n",
       "\n",
       "                                  id_str  \n",
       "created_at                                \n",
       "2020-01-01 03:12:07  1212209862094012416  \n",
       "2020-01-01 01:30:35  1212184310389850119  \n",
       "2020-01-01 01:22:28  1212182267113680896  \n",
       "2020-01-01 01:18:47  1212181341078458369  \n",
       "2020-01-01 01:17:43  1212181071988703232  "
      ]
     },
     "execution_count": 35,
     "metadata": {},
     "output_type": "execute_result"
    }
   ],
   "source": [
    "finding_trump = '../finding-trump.csv'#'https://raw.githubusercontent.com/jirvingphd/online-ds-pt-1007109-text-classification-finding-trump/master/finding-trump.csv'\n",
    "\n",
    "df = pd.read_csv(finding_trump,#'https://raw.githubusercontent.com/jirvingphd/capstone-project-using-trumps-tweets-to-predict-stock-market/master/data/trump_tweets_12012016_to_01012020.csv',\n",
    "                index_col='created_at',parse_dates=['created_at'])\n",
    "df.head()"
   ]
  },
  {
   "cell_type": "markdown",
   "metadata": {},
   "source": [
    "### The Task - Finding Trump\n",
    "\n",
    "> - All presidents have staffers help maintain their social media presence on their behalf. \n",
    "- Early During His Presidency, Donald Trump refused to stop using his insecure and unofficial Android Phone\n",
    "- During this time period, his staffers were the ones Tweeting from the official presidential iPhone.\n",
    "\n",
    "> - Therefore, if we isolate our dataset to ONLY the times where Trump's account was posting from BOTH android and iphone, we can then assume that Android Tweets are Trump and that iPhone tweets are his staffers.\n",
    "\n",
    "> #### Now that we know that... let's build a NLP classification model to Find Trump!"
   ]
  },
  {
   "cell_type": "code",
   "execution_count": 36,
   "metadata": {
    "ExecuteTime": {
     "end_time": "2020-10-28T22:16:39.962471Z",
     "start_time": "2020-10-28T22:16:39.956827Z"
    }
   },
   "outputs": [
    {
     "data": {
      "text/plain": [
       "Twitter for iPhone      13277\n",
       "Twitter for Android       364\n",
       "Media Studio              153\n",
       "Twitter Media Studio      136\n",
       "Twitter Web Client         61\n",
       "Twitter for iPad           38\n",
       "Twitter Ads                33\n",
       "Twitter Web App             4\n",
       "Name: source, dtype: int64"
      ]
     },
     "execution_count": 36,
     "metadata": {},
     "output_type": "execute_result"
    }
   ],
   "source": [
    "## Check Value Counts for Source\n",
    "df['source'].value_counts()"
   ]
  },
  {
   "cell_type": "code",
   "execution_count": 37,
   "metadata": {
    "ExecuteTime": {
     "end_time": "2020-10-28T22:16:39.968941Z",
     "start_time": "2020-10-28T22:16:39.964196Z"
    }
   },
   "outputs": [
    {
     "data": {
      "text/plain": [
       "(Timestamp('2017-03-25 14:41:14'), Timestamp('2016-12-01 14:38:09'))"
      ]
     },
     "execution_count": 37,
     "metadata": {},
     "output_type": "execute_result"
    }
   ],
   "source": [
    "## Get time period where Trump still had his personal Android\n",
    "index = df[df['source'] == 'Twitter for Android'].index\n",
    "## Get Start_ts and end_ts\n",
    "start_ts = index[0]\n",
    "end_ts = index[-1]\n",
    "start_ts,end_ts"
   ]
  },
  {
   "cell_type": "code",
   "execution_count": 38,
   "metadata": {
    "ExecuteTime": {
     "end_time": "2020-10-28T22:16:39.984578Z",
     "start_time": "2020-10-28T22:16:39.970449Z"
    }
   },
   "outputs": [
    {
     "data": {
      "text/html": [
       "<div>\n",
       "<style scoped>\n",
       "    .dataframe tbody tr th:only-of-type {\n",
       "        vertical-align: middle;\n",
       "    }\n",
       "\n",
       "    .dataframe tbody tr th {\n",
       "        vertical-align: top;\n",
       "    }\n",
       "\n",
       "    .dataframe thead th {\n",
       "        text-align: right;\n",
       "    }\n",
       "</style>\n",
       "<table border=\"1\" class=\"dataframe\">\n",
       "  <thead>\n",
       "    <tr style=\"text-align: right;\">\n",
       "      <th></th>\n",
       "      <th>source</th>\n",
       "      <th>text</th>\n",
       "      <th>retweet_count</th>\n",
       "      <th>favorite_count</th>\n",
       "      <th>is_retweet</th>\n",
       "      <th>id_str</th>\n",
       "    </tr>\n",
       "    <tr>\n",
       "      <th>created_at</th>\n",
       "      <th></th>\n",
       "      <th></th>\n",
       "      <th></th>\n",
       "      <th></th>\n",
       "      <th></th>\n",
       "      <th></th>\n",
       "    </tr>\n",
       "  </thead>\n",
       "  <tbody>\n",
       "    <tr>\n",
       "      <th>2017-03-25 14:41:14</th>\n",
       "      <td>Twitter for Android</td>\n",
       "      <td>Watch @JudgeJeanine on @FoxNews tonight at 9:0...</td>\n",
       "      <td>10116</td>\n",
       "      <td>51247</td>\n",
       "      <td>False</td>\n",
       "      <td>845646761704243200</td>\n",
       "    </tr>\n",
       "    <tr>\n",
       "      <th>2017-03-25 14:37:52</th>\n",
       "      <td>Twitter for Android</td>\n",
       "      <td>ObamaCare will explode and we will all get tog...</td>\n",
       "      <td>22518</td>\n",
       "      <td>104321</td>\n",
       "      <td>False</td>\n",
       "      <td>845645916732358656</td>\n",
       "    </tr>\n",
       "    <tr>\n",
       "      <th>2017-03-25 13:29:17</th>\n",
       "      <td>Twitter for iPhone</td>\n",
       "      <td>Happy #MedalOfHonorDay to our heroes! ➡️https:...</td>\n",
       "      <td>14139</td>\n",
       "      <td>68302</td>\n",
       "      <td>False</td>\n",
       "      <td>845628655493677056</td>\n",
       "    </tr>\n",
       "    <tr>\n",
       "      <th>2017-03-24 17:59:42</th>\n",
       "      <td>Twitter for iPhone</td>\n",
       "      <td>Today I was thrilled to announce a commitment ...</td>\n",
       "      <td>20212</td>\n",
       "      <td>89339</td>\n",
       "      <td>False</td>\n",
       "      <td>845334323045765121</td>\n",
       "    </tr>\n",
       "    <tr>\n",
       "      <th>2017-03-24 17:03:46</th>\n",
       "      <td>Twitter for iPhone</td>\n",
       "      <td>Today I was pleased to announce the official a...</td>\n",
       "      <td>12933</td>\n",
       "      <td>66692</td>\n",
       "      <td>False</td>\n",
       "      <td>845320243614547968</td>\n",
       "    </tr>\n",
       "    <tr>\n",
       "      <th>...</th>\n",
       "      <td>...</td>\n",
       "      <td>...</td>\n",
       "      <td>...</td>\n",
       "      <td>...</td>\n",
       "      <td>...</td>\n",
       "      <td>...</td>\n",
       "    </tr>\n",
       "    <tr>\n",
       "      <th>2016-12-03 01:41:30</th>\n",
       "      <td>Twitter for Android</td>\n",
       "      <td>Interesting how the U.S. sells Taiwan billions...</td>\n",
       "      <td>38805</td>\n",
       "      <td>122905</td>\n",
       "      <td>False</td>\n",
       "      <td>804863098138005504</td>\n",
       "    </tr>\n",
       "    <tr>\n",
       "      <th>2016-12-03 00:44:20</th>\n",
       "      <td>Twitter for Android</td>\n",
       "      <td>The President of Taiwan CALLED ME today to wis...</td>\n",
       "      <td>24700</td>\n",
       "      <td>111106</td>\n",
       "      <td>False</td>\n",
       "      <td>804848711599882240</td>\n",
       "    </tr>\n",
       "    <tr>\n",
       "      <th>2016-12-02 02:45:18</th>\n",
       "      <td>Twitter for iPhone</td>\n",
       "      <td>Thank you Ohio! Together we made history – and...</td>\n",
       "      <td>17283</td>\n",
       "      <td>72196</td>\n",
       "      <td>False</td>\n",
       "      <td>804516764562374656</td>\n",
       "    </tr>\n",
       "    <tr>\n",
       "      <th>2016-12-01 22:52:10</th>\n",
       "      <td>Twitter for iPhone</td>\n",
       "      <td>Heading to U.S. Bank Arena in Cincinnati Ohio ...</td>\n",
       "      <td>5564</td>\n",
       "      <td>31256</td>\n",
       "      <td>False</td>\n",
       "      <td>804458095569158144</td>\n",
       "    </tr>\n",
       "    <tr>\n",
       "      <th>2016-12-01 14:38:09</th>\n",
       "      <td>Twitter for Android</td>\n",
       "      <td>Getting ready to leave for the Great State of ...</td>\n",
       "      <td>9834</td>\n",
       "      <td>57249</td>\n",
       "      <td>False</td>\n",
       "      <td>804333771021570048</td>\n",
       "    </tr>\n",
       "  </tbody>\n",
       "</table>\n",
       "<p>617 rows × 6 columns</p>\n",
       "</div>"
      ],
      "text/plain": [
       "                                  source  \\\n",
       "created_at                                 \n",
       "2017-03-25 14:41:14  Twitter for Android   \n",
       "2017-03-25 14:37:52  Twitter for Android   \n",
       "2017-03-25 13:29:17   Twitter for iPhone   \n",
       "2017-03-24 17:59:42   Twitter for iPhone   \n",
       "2017-03-24 17:03:46   Twitter for iPhone   \n",
       "...                                  ...   \n",
       "2016-12-03 01:41:30  Twitter for Android   \n",
       "2016-12-03 00:44:20  Twitter for Android   \n",
       "2016-12-02 02:45:18   Twitter for iPhone   \n",
       "2016-12-01 22:52:10   Twitter for iPhone   \n",
       "2016-12-01 14:38:09  Twitter for Android   \n",
       "\n",
       "                                                                  text  \\\n",
       "created_at                                                               \n",
       "2017-03-25 14:41:14  Watch @JudgeJeanine on @FoxNews tonight at 9:0...   \n",
       "2017-03-25 14:37:52  ObamaCare will explode and we will all get tog...   \n",
       "2017-03-25 13:29:17  Happy #MedalOfHonorDay to our heroes! ➡️https:...   \n",
       "2017-03-24 17:59:42  Today I was thrilled to announce a commitment ...   \n",
       "2017-03-24 17:03:46  Today I was pleased to announce the official a...   \n",
       "...                                                                ...   \n",
       "2016-12-03 01:41:30  Interesting how the U.S. sells Taiwan billions...   \n",
       "2016-12-03 00:44:20  The President of Taiwan CALLED ME today to wis...   \n",
       "2016-12-02 02:45:18  Thank you Ohio! Together we made history – and...   \n",
       "2016-12-01 22:52:10  Heading to U.S. Bank Arena in Cincinnati Ohio ...   \n",
       "2016-12-01 14:38:09  Getting ready to leave for the Great State of ...   \n",
       "\n",
       "                     retweet_count  favorite_count is_retweet  \\\n",
       "created_at                                                      \n",
       "2017-03-25 14:41:14          10116           51247      False   \n",
       "2017-03-25 14:37:52          22518          104321      False   \n",
       "2017-03-25 13:29:17          14139           68302      False   \n",
       "2017-03-24 17:59:42          20212           89339      False   \n",
       "2017-03-24 17:03:46          12933           66692      False   \n",
       "...                            ...             ...        ...   \n",
       "2016-12-03 01:41:30          38805          122905      False   \n",
       "2016-12-03 00:44:20          24700          111106      False   \n",
       "2016-12-02 02:45:18          17283           72196      False   \n",
       "2016-12-01 22:52:10           5564           31256      False   \n",
       "2016-12-01 14:38:09           9834           57249      False   \n",
       "\n",
       "                                 id_str  \n",
       "created_at                               \n",
       "2017-03-25 14:41:14  845646761704243200  \n",
       "2017-03-25 14:37:52  845645916732358656  \n",
       "2017-03-25 13:29:17  845628655493677056  \n",
       "2017-03-24 17:59:42  845334323045765121  \n",
       "2017-03-24 17:03:46  845320243614547968  \n",
       "...                                 ...  \n",
       "2016-12-03 01:41:30  804863098138005504  \n",
       "2016-12-03 00:44:20  804848711599882240  \n",
       "2016-12-02 02:45:18  804516764562374656  \n",
       "2016-12-01 22:52:10  804458095569158144  \n",
       "2016-12-01 14:38:09  804333771021570048  \n",
       "\n",
       "[617 rows x 6 columns]"
      ]
     },
     "execution_count": 38,
     "metadata": {},
     "output_type": "execute_result"
    }
   ],
   "source": [
    "## Slice out the data from start_ts to end_ts\n",
    "df = df.loc[start_ts:end_ts]\n",
    "df"
   ]
  },
  {
   "cell_type": "code",
   "execution_count": 39,
   "metadata": {
    "ExecuteTime": {
     "end_time": "2020-10-28T22:16:39.993997Z",
     "start_time": "2020-10-28T22:16:39.986099Z"
    }
   },
   "outputs": [
    {
     "data": {
      "text/plain": [
       "Twitter for Android    0.589951\n",
       "Twitter for iPhone     0.387358\n",
       "Twitter Web Client     0.022690\n",
       "Name: source, dtype: float64"
      ]
     },
     "execution_count": 39,
     "metadata": {},
     "output_type": "execute_result"
    }
   ],
   "source": [
    "## Check new value counts \n",
    "df['source'].value_counts(1)"
   ]
  },
  {
   "cell_type": "code",
   "execution_count": 40,
   "metadata": {
    "ExecuteTime": {
     "end_time": "2020-10-28T22:16:40.001918Z",
     "start_time": "2020-10-28T22:16:39.995624Z"
    }
   },
   "outputs": [
    {
     "data": {
      "text/plain": [
       "Twitter for Android    0.603648\n",
       "Twitter for iPhone     0.396352\n",
       "Name: source, dtype: float64"
      ]
     },
     "execution_count": 40,
     "metadata": {},
     "output_type": "execute_result"
    }
   ],
   "source": [
    "## Remove the Web tweets\n",
    "df = df[ df['source'] != 'Twitter Web Client']\n",
    "df['source'].value_counts(1)"
   ]
  },
  {
   "cell_type": "code",
   "execution_count": 41,
   "metadata": {
    "ExecuteTime": {
     "end_time": "2020-10-28T22:16:40.010647Z",
     "start_time": "2020-10-28T22:16:40.003452Z"
    }
   },
   "outputs": [
    {
     "data": {
      "text/plain": [
       "1    0.603648\n",
       "0    0.396352\n",
       "Name: trump_tweet, dtype: float64"
      ]
     },
     "execution_count": 41,
     "metadata": {},
     "output_type": "execute_result"
    }
   ],
   "source": [
    "## Make new Trump Tweet Column of 0 and 1s\n",
    "df['trump_tweet'] = (df['source'] == 'Twitter for Android').astype(int)\n",
    "df['trump_tweet'].value_counts(normalize=True)"
   ]
  },
  {
   "cell_type": "code",
   "execution_count": 42,
   "metadata": {
    "ExecuteTime": {
     "end_time": "2020-10-28T22:16:40.017148Z",
     "start_time": "2020-10-28T22:16:40.012333Z"
    }
   },
   "outputs": [
    {
     "data": {
      "text/plain": [
       "created_at\n",
       "2017-03-25 14:41:14    Watch @JudgeJeanine on @FoxNews tonight at 9:0...\n",
       "2017-03-25 14:37:52    ObamaCare will explode and we will all get tog...\n",
       "2017-03-25 13:29:17    Happy #MedalOfHonorDay to our heroes! ➡️https:...\n",
       "2017-03-24 17:59:42    Today I was thrilled to announce a commitment ...\n",
       "2017-03-24 17:03:46    Today I was pleased to announce the official a...\n",
       "Name: text, dtype: object"
      ]
     },
     "execution_count": 42,
     "metadata": {},
     "output_type": "execute_result"
    }
   ],
   "source": [
    "## Make X and y\n",
    "y = df['trump_tweet']\n",
    "X = df['text']#.apply(tokenizer.tokenize)\n",
    "X.head()"
   ]
  },
  {
   "cell_type": "code",
   "execution_count": 43,
   "metadata": {
    "ExecuteTime": {
     "end_time": "2020-10-28T22:16:40.024236Z",
     "start_time": "2020-10-28T22:16:40.018992Z"
    }
   },
   "outputs": [
    {
     "data": {
      "text/plain": [
       "1    0.603648\n",
       "0    0.396352\n",
       "Name: trump_tweet, dtype: float64"
      ]
     },
     "metadata": {},
     "output_type": "display_data"
    }
   ],
   "source": [
    "## Display target value_counts\n",
    "display(y.value_counts(1))"
   ]
  },
  {
   "cell_type": "code",
   "execution_count": 44,
   "metadata": {
    "ExecuteTime": {
     "end_time": "2020-10-28T22:16:40.032158Z",
     "start_time": "2020-10-28T22:16:40.026501Z"
    }
   },
   "outputs": [],
   "source": [
    "## Train Test Split (random state=42)\n",
    "from sklearn.model_selection import train_test_split\n",
    "X_train,X_test,y_train,y_test = train_test_split(X,y,stratify=y,test_size=0.3,random_state=42)"
   ]
  },
  {
   "cell_type": "code",
   "execution_count": 45,
   "metadata": {
    "ExecuteTime": {
     "end_time": "2020-10-28T22:16:40.043487Z",
     "start_time": "2020-10-28T22:16:40.033929Z"
    }
   },
   "outputs": [
    {
     "data": {
      "text/plain": [
       "1    0.604265\n",
       "0    0.395735\n",
       "Name: trump_tweet, dtype: float64"
      ]
     },
     "metadata": {},
     "output_type": "display_data"
    },
    {
     "data": {
      "text/plain": [
       "1    0.60221\n",
       "0    0.39779\n",
       "Name: trump_tweet, dtype: float64"
      ]
     },
     "execution_count": 45,
     "metadata": {},
     "output_type": "execute_result"
    }
   ],
   "source": [
    "## Check y_train and y_test value counts\n",
    "display(y_train.value_counts(normalize=True))\n",
    "\n",
    "y_test.value_counts(normalize=True)"
   ]
  },
  {
   "cell_type": "markdown",
   "metadata": {},
   "source": [
    "### Tokenization & Vectorization "
   ]
  },
  {
   "cell_type": "code",
   "execution_count": 46,
   "metadata": {
    "ExecuteTime": {
     "end_time": "2020-10-28T22:16:40.047868Z",
     "start_time": "2020-10-28T22:16:40.045378Z"
    }
   },
   "outputs": [],
   "source": [
    "import nltk\n",
    "## Make a TweekTokenizer from nltk.tokenize (preserve_case=False)\n",
    "tokenizer = nltk.tokenize.TweetTokenizer(preserve_case=False,)"
   ]
  },
  {
   "cell_type": "code",
   "execution_count": 47,
   "metadata": {
    "ExecuteTime": {
     "end_time": "2020-10-28T22:16:40.127066Z",
     "start_time": "2020-10-28T22:16:40.049806Z"
    }
   },
   "outputs": [
    {
     "data": {
      "text/plain": [
       "<422x2147 sparse matrix of type '<class 'numpy.float64'>'\n",
       "\twith 4812 stored elements in Compressed Sparse Row format>"
      ]
     },
     "execution_count": 47,
     "metadata": {},
     "output_type": "execute_result"
    }
   ],
   "source": [
    "from sklearn.feature_extraction.text import TfidfVectorizer,CountVectorizer\n",
    "\n",
    "## Make a TfIdf Vectorizer using tweet tokenizer's .tokenize method\n",
    "vectorizer = TfidfVectorizer(tokenizer=tokenizer.tokenize,\n",
    "                             stop_words=stopwords_list)\n",
    "\n",
    "# Vectorize data and make X_train_tfidf and X_test_tfidf\n",
    "X_train_tfidf = vectorizer.fit_transform(X_train)\n",
    "X_test_tfidf = vectorizer.transform(X_test)\n",
    "X_train_tfidf"
   ]
  },
  {
   "cell_type": "markdown",
   "metadata": {},
   "source": [
    "### Modeling Continued"
   ]
  },
  {
   "cell_type": "code",
   "execution_count": 48,
   "metadata": {
    "ExecuteTime": {
     "end_time": "2020-10-28T22:16:40.566945Z",
     "start_time": "2020-10-28T22:16:40.128919Z"
    }
   },
   "outputs": [
    {
     "data": {
      "text/plain": [
       "RandomForestClassifier(class_weight='balanced')"
      ]
     },
     "execution_count": 48,
     "metadata": {},
     "output_type": "execute_result"
    }
   ],
   "source": [
    "from sklearn.ensemble import RandomForestClassifier\n",
    "\n",
    "## Make and fit a random forest  (class_weight='balanced')\n",
    "rf = RandomForestClassifier(class_weight='balanced')\n",
    "rf.fit(X_train_tfidf,y_train)"
   ]
  },
  {
   "cell_type": "code",
   "execution_count": 49,
   "metadata": {
    "ExecuteTime": {
     "end_time": "2020-10-28T22:16:40.602059Z",
     "start_time": "2020-10-28T22:16:40.568504Z"
    }
   },
   "outputs": [],
   "source": [
    "## Get predictions for train and test\n",
    "y_hat_test = rf.predict(X_test_tfidf)\n",
    "y_hat_train = rf.predict(X_train_tfidf)"
   ]
  },
  {
   "cell_type": "code",
   "execution_count": 50,
   "metadata": {
    "ExecuteTime": {
     "end_time": "2020-10-28T22:16:40.607779Z",
     "start_time": "2020-10-28T22:16:40.603428Z"
    }
   },
   "outputs": [],
   "source": [
    "from sklearn import metrics\n",
    "import matplotlib.pyplot as plt\n",
    "\n",
    "def evaluate_model(y_test,y_hat_test,X_test,clf=None,\n",
    "                  scoring=metrics.recall_score,verbose=False,\n",
    "                  scorer=False,classes=['Not Trump','Trump']):\n",
    "\n",
    "    print(metrics.classification_report(y_test,y_hat_test,\n",
    "                                        target_names=classes))\n",
    "    \n",
    "    metrics.plot_confusion_matrix(clf,X_test,y_test,normalize='true',\n",
    "                                 cmap='Blues',display_labels=classes)\n",
    "    plt.show()\n",
    "    if verbose:\n",
    "        print(\"MODEL PARAMETERS:\")\n",
    "        print(pd.Series(rf.get_params()))\n",
    "        \n",
    "    if scorer:\n",
    "        \n",
    "        return scoring(y_test,y_hat_test)\n",
    "    \n",
    "    "
   ]
  },
  {
   "cell_type": "code",
   "execution_count": 51,
   "metadata": {
    "ExecuteTime": {
     "end_time": "2020-10-28T22:16:40.789247Z",
     "start_time": "2020-10-28T22:16:40.609341Z"
    }
   },
   "outputs": [
    {
     "name": "stdout",
     "output_type": "stream",
     "text": [
      "              precision    recall  f1-score   support\n",
      "\n",
      "   Not Trump       0.76      0.65      0.70        72\n",
      "       Trump       0.79      0.86      0.82       109\n",
      "\n",
      "    accuracy                           0.78       181\n",
      "   macro avg       0.77      0.76      0.76       181\n",
      "weighted avg       0.78      0.78      0.78       181\n",
      "\n"
     ]
    },
    {
     "data": {
      "image/png": "[encoded data removed]",
      "text/plain": [
       "<Figure size 432x288 with 2 Axes>"
      ]
     },
     "metadata": {
      "needs_background": "light"
     },
     "output_type": "display_data"
    }
   ],
   "source": [
    "## Evaluate Model using function\n",
    "evaluate_model(y_test,y_hat_test,X_test_tfidf,rf)"
   ]
  },
  {
   "cell_type": "code",
   "execution_count": 52,
   "metadata": {
    "ExecuteTime": {
     "end_time": "2020-10-28T22:16:41.129600Z",
     "start_time": "2020-10-28T22:16:40.790906Z"
    }
   },
   "outputs": [
    {
     "name": "stderr",
     "output_type": "stream",
     "text": [
      "/opt/anaconda3/envs/learn-env/lib/python3.6/site-packages/matplotlib/backends/backend_agg.py:238: RuntimeWarning:\n",
      "\n",
      "Glyph 127482 missing from current font.\n",
      "\n",
      "/opt/anaconda3/envs/learn-env/lib/python3.6/site-packages/matplotlib/backends/backend_agg.py:238: RuntimeWarning:\n",
      "\n",
      "Glyph 127480 missing from current font.\n",
      "\n",
      "/opt/anaconda3/envs/learn-env/lib/python3.6/site-packages/matplotlib/backends/backend_agg.py:201: RuntimeWarning:\n",
      "\n",
      "Glyph 127482 missing from current font.\n",
      "\n",
      "/opt/anaconda3/envs/learn-env/lib/python3.6/site-packages/matplotlib/backends/backend_agg.py:201: RuntimeWarning:\n",
      "\n",
      "Glyph 127480 missing from current font.\n",
      "\n"
     ]
    },
    {
     "data": {
      "image/png": "[encoded data removed]",
      "text/plain": [
       "<Figure size 748.8x514.8 with 1 Axes>"
      ]
     },
     "metadata": {
      "needs_background": "light"
     },
     "output_type": "display_data"
    }
   ],
   "source": [
    "# Plot the top 30 most important features\n",
    "with plt.style.context('seaborn-talk'):\n",
    "    \n",
    "    ## Get Feature Importance\n",
    "    importance = pd.Series(rf.feature_importances_,\n",
    "                           index= vectorizer.get_feature_names())\n",
    "    ## Sort values \n",
    "    importance.sort_values(inplace=True)\n",
    " \n",
    "    ## Take the .tail 30 and plot kind='barh'\n",
    "    importance.sort_values().tail(30).plot(kind='barh')"
   ]
  },
  {
   "cell_type": "markdown",
   "metadata": {},
   "source": [
    "### Note About Pipelines and GridSearch for NLP"
   ]
  },
  {
   "cell_type": "markdown",
   "metadata": {},
   "source": [
    "- You may want to to this process in multiple steps (first Count Vectorize, then transform to TF or TF-IDF.\n",
    "- Can then use these in a Pipeline to be able to GridSearch more aspect of the text preprocessing\n",
    "\n",
    "```python\n",
    "from sklearn.feature_extraction.text import CountVectorizer,TfidfTransformer #TfidfVectorizer\n",
    "from sklearn.pipeline import Pipeline\n",
    "\n",
    "count_vect = CountVectorizer()\n",
    "#X_train_counts = count_vect.fit_transform(twenty_train.data)\n",
    "\n",
    "tf_transformer = TfidfTransformer(use_idf=False)\n",
    "#tf_transformer.fit(X_train_counts)\n",
    "#X_train_tf = tf_transformer.transform(X_train_counts)\n",
    "#X_train_tf.shape\n",
    "\n",
    "\n",
    "text_pipe = Pip\n",
    "\n",
    "```\n"
   ]
  },
  {
   "cell_type": "code",
   "execution_count": 53,
   "metadata": {
    "ExecuteTime": {
     "end_time": "2020-10-28T22:16:41.141378Z",
     "start_time": "2020-10-28T22:16:41.131401Z"
    }
   },
   "outputs": [],
   "source": [
    "from sklearn.pipeline import Pipeline\n",
    "from sklearn.feature_extraction.text import CountVectorizer,TfidfTransformer #TfidfVectorizer\n",
    "from sklearn.ensemble import RandomForestClassifier\n",
    "from sklearn.naive_bayes import MultinomialNB\n",
    "\n",
    "count_vect = CountVectorizer()\n",
    "tf_transform = TfidfTransformer(use_idf=True)\n",
    "\n",
    "text_pipe = Pipeline(steps=[\n",
    "    ('count_vectorizer',count_vect),\n",
    "    ('tf_transformer',tf_transform)])\n",
    "\n",
    "full_pipe = Pipeline(steps=[\n",
    "    ('text_pipe',text_pipe),\n",
    "    ('clf',RandomForestClassifier(class_weight='balanced'))\n",
    "])"
   ]
  },
  {
   "cell_type": "code",
   "execution_count": 54,
   "metadata": {
    "ExecuteTime": {
     "end_time": "2020-10-28T22:16:41.148160Z",
     "start_time": "2020-10-28T22:16:41.143213Z"
    }
   },
   "outputs": [
    {
     "data": {
      "text/plain": [
       "created_at\n",
       "2017-03-13 20:57:02    Proud to welcome our great Cabinet this aftern...\n",
       "2017-02-07 02:33:55    The failing @nytimes was forced to apologize t...\n",
       "2017-01-19 20:21:36    Join me at 4pm over at the Lincoln Memorial wi...\n",
       "2017-01-29 13:00:32    Somebody with aptitude and conviction should b...\n",
       "2016-12-14 00:52:40    RT @DanScavino: Join #PEOTUS Trump &amp; #VPEO...\n",
       "                                             ...                        \n",
       "2016-12-30 19:46:55    Join @AmerIcan32 founded by Hall of Fame legen...\n",
       "2017-02-09 13:26:07    Sen. McCain should not be talking about the su...\n",
       "2017-01-25 22:05:59    I will be interviewed by @DavidMuir tonight at...\n",
       "2017-01-31 11:21:52    Nancy Pelosi and Fake Tears Chuck Schumer held...\n",
       "2017-01-25 12:13:46    even those registered to vote who are dead (an...\n",
       "Name: text, Length: 422, dtype: object"
      ]
     },
     "execution_count": 54,
     "metadata": {},
     "output_type": "execute_result"
    }
   ],
   "source": [
    "## Preview current X_train\n",
    "X_train"
   ]
  },
  {
   "cell_type": "code",
   "execution_count": 55,
   "metadata": {
    "ExecuteTime": {
     "end_time": "2020-10-28T22:16:41.171391Z",
     "start_time": "2020-10-28T22:16:41.149904Z"
    }
   },
   "outputs": [
    {
     "data": {
      "text/plain": [
       "<422x2179 sparse matrix of type '<class 'numpy.float64'>'\n",
       "\twith 7784 stored elements in Compressed Sparse Row format>"
      ]
     },
     "execution_count": 55,
     "metadata": {},
     "output_type": "execute_result"
    }
   ],
   "source": [
    "## Make X_train_pipe and X_test_pipe\n",
    "X_train_pipe = text_pipe.fit_transform(X_train)\n",
    "X_test_pipe = text_pipe.transform(X_test)\n",
    "X_train_pipe"
   ]
  },
  {
   "cell_type": "code",
   "execution_count": 56,
   "metadata": {
    "ExecuteTime": {
     "end_time": "2020-10-28T22:16:41.596561Z",
     "start_time": "2020-10-28T22:16:41.173087Z"
    }
   },
   "outputs": [
    {
     "name": "stdout",
     "output_type": "stream",
     "text": [
      "              precision    recall  f1-score   support\n",
      "\n",
      "   Not Trump       0.96      0.76      0.85        72\n",
      "       Trump       0.86      0.98      0.92       109\n",
      "\n",
      "    accuracy                           0.90       181\n",
      "   macro avg       0.91      0.87      0.89       181\n",
      "weighted avg       0.90      0.90      0.89       181\n",
      "\n"
     ]
    },
    {
     "data": {
      "image/png": "[encoded data removed]",
      "text/plain": [
       "<Figure size 432x288 with 2 Axes>"
      ]
     },
     "metadata": {
      "needs_background": "light"
     },
     "output_type": "display_data"
    }
   ],
   "source": [
    "## Modeling with full pipeline\n",
    "full_pipe.fit(X_train,y_train)\n",
    "y_hat_test = full_pipe.predict(X_test)\n",
    "evaluate_model(y_test,y_hat_test,X_test,full_pipe)"
   ]
  },
  {
   "cell_type": "code",
   "execution_count": 57,
   "metadata": {
    "ExecuteTime": {
     "end_time": "2020-10-28T22:16:41.600919Z",
     "start_time": "2020-10-28T22:16:41.598448Z"
    }
   },
   "outputs": [],
   "source": [
    "from sklearn import set_config\n",
    "set_config(display='text')"
   ]
  },
  {
   "cell_type": "code",
   "execution_count": 58,
   "metadata": {
    "ExecuteTime": {
     "end_time": "2020-10-28T22:16:41.622605Z",
     "start_time": "2020-10-28T22:16:41.602936Z"
    }
   },
   "outputs": [
    {
     "data": {
      "text/plain": [
       "Pipeline(steps=[('text_pipe',\n",
       "                 Pipeline(steps=[('count_vectorizer', CountVectorizer()),\n",
       "                                 ('tf_transformer', TfidfTransformer())])),\n",
       "                ('clf', RandomForestClassifier(class_weight='balanced'))])"
      ]
     },
     "execution_count": 58,
     "metadata": {},
     "output_type": "execute_result"
    }
   ],
   "source": [
    "full_pipe"
   ]
  },
  {
   "cell_type": "markdown",
   "metadata": {
    "ExecuteTime": {
     "start_time": "2020-10-24T19:20:52.345Z"
    }
   },
   "source": [
    "### GridSearching NLP Pipeline"
   ]
  },
  {
   "cell_type": "code",
   "execution_count": 59,
   "metadata": {
    "ExecuteTime": {
     "end_time": "2020-10-28T22:16:49.740668Z",
     "start_time": "2020-10-28T22:16:41.624393Z"
    }
   },
   "outputs": [
    {
     "data": {
      "text/plain": [
       "{'clf__criterion': 'gini',\n",
       " 'text_pipe__count_vectorizer__tokenizer': None,\n",
       " 'text_pipe__tf_transformer__use_idf': True}"
      ]
     },
     "execution_count": 59,
     "metadata": {},
     "output_type": "execute_result"
    }
   ],
   "source": [
    "from sklearn.model_selection import GridSearchCV\n",
    "## Make a tokenizer with TweetTokenizer\n",
    "tokenizer = nltk.tokenize.TweetTokenizer(preserve_case=False,)\n",
    "\n",
    "## Make params Grid\n",
    "#### use_idf: True/False\n",
    "#### tokenizer: None, tokenizer.tokenize\n",
    "#### criterion: gini, entropy\n",
    "params = {'text_pipe__tf_transformer__use_idf':[True,False],\n",
    "         'text_pipe__count_vectorizer__tokenizer':[None,tokenizer.tokenize],\n",
    "         'clf__criterion':['gini','entropy']}\n",
    "\n",
    "## Make and fit grid\n",
    "grid = GridSearchCV(full_pipe,params)\n",
    "grid.fit(X_train,y_train)\n",
    "\n",
    "## Display best params\n",
    "grid.best_params_"
   ]
  },
  {
   "cell_type": "code",
   "execution_count": 60,
   "metadata": {
    "ExecuteTime": {
     "end_time": "2020-10-28T22:16:49.945194Z",
     "start_time": "2020-10-28T22:16:49.742669Z"
    }
   },
   "outputs": [
    {
     "name": "stdout",
     "output_type": "stream",
     "text": [
      "              precision    recall  f1-score   support\n",
      "\n",
      "   Not Trump       0.95      0.75      0.84        72\n",
      "       Trump       0.85      0.97      0.91       109\n",
      "\n",
      "    accuracy                           0.88       181\n",
      "   macro avg       0.90      0.86      0.87       181\n",
      "weighted avg       0.89      0.88      0.88       181\n",
      "\n"
     ]
    },
    {
     "data": {
      "image/png": "[encoded data removed]",
      "text/plain": [
       "<Figure size 432x288 with 2 Axes>"
      ]
     },
     "metadata": {
      "needs_background": "light"
     },
     "output_type": "display_data"
    }
   ],
   "source": [
    "## Evluate the best_estimator\n",
    "best_pipe = grid.best_estimator_\n",
    "y_hat_test = best_pipe.predict(X_test)\n",
    "evaluate_model(y_test,y_hat_test,X_test,clf=best_pipe)"
   ]
  },
  {
   "cell_type": "markdown",
   "metadata": {},
   "source": [
    "### Get feature importances as text"
   ]
  },
  {
   "cell_type": "code",
   "execution_count": 61,
   "metadata": {
    "ExecuteTime": {
     "end_time": "2020-10-28T22:16:49.969583Z",
     "start_time": "2020-10-28T22:16:49.947009Z"
    }
   },
   "outputs": [
    {
     "data": {
      "text/plain": [
       "<422x2179 sparse matrix of type '<class 'numpy.float64'>'\n",
       "\twith 7784 stored elements in Compressed Sparse Row format>"
      ]
     },
     "execution_count": 61,
     "metadata": {},
     "output_type": "execute_result"
    }
   ],
   "source": [
    "X_train_pipe = text_pipe.fit_transform(X_train)\n",
    "X_test_pipe = text_pipe.transform(X_test)\n",
    "X_train_pipe"
   ]
  },
  {
   "cell_type": "code",
   "execution_count": 62,
   "metadata": {
    "ExecuteTime": {
     "end_time": "2020-10-28T22:16:49.974716Z",
     "start_time": "2020-10-28T22:16:49.971200Z"
    }
   },
   "outputs": [
    {
     "data": {
      "text/plain": [
       "(422, 2179)"
      ]
     },
     "execution_count": 62,
     "metadata": {},
     "output_type": "execute_result"
    }
   ],
   "source": [
    "X_train_pipe.shape"
   ]
  },
  {
   "cell_type": "code",
   "execution_count": 63,
   "metadata": {
    "ExecuteTime": {
     "end_time": "2020-10-28T22:16:49.981779Z",
     "start_time": "2020-10-28T22:16:49.976694Z"
    }
   },
   "outputs": [
    {
     "data": {
      "text/plain": [
       "['00',\n",
       " '00am',\n",
       " '00pm',\n",
       " '03e4ybiwr0',\n",
       " '05dtfjaubx',\n",
       " '0dhld5kivc',\n",
       " '10',\n",
       " '100',\n",
       " '10000',\n",
       " '100th']"
      ]
     },
     "execution_count": 63,
     "metadata": {},
     "output_type": "execute_result"
    }
   ],
   "source": [
    "features = text_pipe.named_steps['count_vectorizer'].get_feature_names()\n",
    "features[:10]"
   ]
  },
  {
   "cell_type": "code",
   "execution_count": 64,
   "metadata": {
    "ExecuteTime": {
     "end_time": "2020-10-28T22:16:49.987006Z",
     "start_time": "2020-10-28T22:16:49.983564Z"
    }
   },
   "outputs": [
    {
     "data": {
      "text/plain": [
       "2179"
      ]
     },
     "execution_count": 64,
     "metadata": {},
     "output_type": "execute_result"
    }
   ],
   "source": [
    "len(features)"
   ]
  },
  {
   "cell_type": "code",
   "execution_count": 65,
   "metadata": {
    "ExecuteTime": {
     "end_time": "2020-10-28T22:16:50.305148Z",
     "start_time": "2020-10-28T22:16:49.988622Z"
    }
   },
   "outputs": [
    {
     "name": "stderr",
     "output_type": "stream",
     "text": [
      "/opt/anaconda3/envs/learn-env/lib/python3.6/site-packages/matplotlib/backends/backend_agg.py:238: RuntimeWarning:\n",
      "\n",
      "Glyph 127482 missing from current font.\n",
      "\n",
      "/opt/anaconda3/envs/learn-env/lib/python3.6/site-packages/matplotlib/backends/backend_agg.py:238: RuntimeWarning:\n",
      "\n",
      "Glyph 127480 missing from current font.\n",
      "\n",
      "/opt/anaconda3/envs/learn-env/lib/python3.6/site-packages/matplotlib/backends/backend_agg.py:201: RuntimeWarning:\n",
      "\n",
      "Glyph 127482 missing from current font.\n",
      "\n",
      "/opt/anaconda3/envs/learn-env/lib/python3.6/site-packages/matplotlib/backends/backend_agg.py:201: RuntimeWarning:\n",
      "\n",
      "Glyph 127480 missing from current font.\n",
      "\n"
     ]
    },
    {
     "data": {
      "image/png": "[encoded data removed]",
      "text/plain": [
       "<Figure size 748.8x514.8 with 1 Axes>"
      ]
     },
     "metadata": {
      "needs_background": "light"
     },
     "output_type": "display_data"
    }
   ],
   "source": [
    "# vectorizer.get_feature_names()\n",
    "with plt.style.context('seaborn-talk'):\n",
    "    importance = pd.Series(rf.feature_importances_,index= vectorizer.get_feature_names())\n",
    "    importance.sort_values(inplace=True)\n",
    "\n",
    "    importance.sort_values().tail(30).plot(kind='barh')"
   ]
  },
  {
   "cell_type": "code",
   "execution_count": 66,
   "metadata": {
    "ExecuteTime": {
     "end_time": "2020-10-28T22:16:50.317931Z",
     "start_time": "2020-10-28T22:16:50.307725Z"
    }
   },
   "outputs": [
    {
     "data": {
      "text/plain": [
       "Twitter for Android    0.865672\n",
       "Twitter for iPhone     0.134328\n",
       "Name: source, dtype: float64"
      ]
     },
     "execution_count": 66,
     "metadata": {},
     "output_type": "execute_result"
    }
   ],
   "source": [
    "## Check for top feature ('...') in the text and get source value counts\n",
    "df[df['text'].str.contains('...',regex=False)]['source'].value_counts(normalize=True)"
   ]
  },
  {
   "cell_type": "code",
   "execution_count": 67,
   "metadata": {
    "ExecuteTime": {
     "end_time": "2020-10-28T22:16:50.369852Z",
     "start_time": "2020-10-28T22:16:50.320218Z"
    },
    "scrolled": false
   },
   "outputs": [],
   "source": [
    "## For each of the top 20 words,, get their normalized value counts\n",
    "top_word_probs = {}\n",
    "\n",
    "## for each word in 20 most important\n",
    "for word in importance.tail(20).index:\n",
    "    \n",
    "    ## Find the rows containing that word. \n",
    "    rows = df['text'].str.contains(word,regex=False,case=False)\n",
    "    \n",
    "    ## Get the normalized value counts\n",
    "    val_count= df[rows]['source'].value_counts(normalize=True)\n",
    "    \n",
    "    ## Save into dictionary\n",
    "    top_word_probs[word] = val_count\n"
   ]
  },
  {
   "cell_type": "code",
   "execution_count": 68,
   "metadata": {
    "ExecuteTime": {
     "end_time": "2020-10-28T22:16:50.384089Z",
     "start_time": "2020-10-28T22:16:50.381528Z"
    }
   },
   "outputs": [],
   "source": [
    "# top_word_probs"
   ]
  },
  {
   "cell_type": "code",
   "execution_count": 69,
   "metadata": {
    "ExecuteTime": {
     "end_time": "2020-10-28T22:16:50.400670Z",
     "start_time": "2020-10-28T22:16:50.387113Z"
    }
   },
   "outputs": [
    {
     "data": {
      "text/html": [
       "<div>\n",
       "<style scoped>\n",
       "    .dataframe tbody tr th:only-of-type {\n",
       "        vertical-align: middle;\n",
       "    }\n",
       "\n",
       "    .dataframe tbody tr th {\n",
       "        vertical-align: top;\n",
       "    }\n",
       "\n",
       "    .dataframe thead th {\n",
       "        text-align: right;\n",
       "    }\n",
       "</style>\n",
       "<table border=\"1\" class=\"dataframe\">\n",
       "  <thead>\n",
       "    <tr style=\"text-align: right;\">\n",
       "      <th></th>\n",
       "      <th>Twitter for Android</th>\n",
       "      <th>Twitter for iPhone</th>\n",
       "    </tr>\n",
       "  </thead>\n",
       "  <tbody>\n",
       "    <tr>\n",
       "      <th>women</th>\n",
       "      <td>NaN</td>\n",
       "      <td>1.000000</td>\n",
       "    </tr>\n",
       "    <tr>\n",
       "      <th>election</th>\n",
       "      <td>0.870968</td>\n",
       "      <td>0.129032</td>\n",
       "    </tr>\n",
       "    <tr>\n",
       "      <th>jobs</th>\n",
       "      <td>0.468750</td>\n",
       "      <td>0.531250</td>\n",
       "    </tr>\n",
       "    <tr>\n",
       "      <th>u</th>\n",
       "      <td>0.602170</td>\n",
       "      <td>0.397830</td>\n",
       "    </tr>\n",
       "    <tr>\n",
       "      <th>country</th>\n",
       "      <td>0.862069</td>\n",
       "      <td>0.137931</td>\n",
       "    </tr>\n",
       "    <tr>\n",
       "      <th>@whitehouse</th>\n",
       "      <td>NaN</td>\n",
       "      <td>1.000000</td>\n",
       "    </tr>\n",
       "    <tr>\n",
       "      <th>congratulations</th>\n",
       "      <td>0.333333</td>\n",
       "      <td>0.666667</td>\n",
       "    </tr>\n",
       "    <tr>\n",
       "      <th>never</th>\n",
       "      <td>0.809524</td>\n",
       "      <td>0.190476</td>\n",
       "    </tr>\n",
       "    <tr>\n",
       "      <th>media</th>\n",
       "      <td>0.885714</td>\n",
       "      <td>0.114286</td>\n",
       "    </tr>\n",
       "    <tr>\n",
       "      <th>🇺</th>\n",
       "      <td>NaN</td>\n",
       "      <td>1.000000</td>\n",
       "    </tr>\n",
       "    <tr>\n",
       "      <th>:/</th>\n",
       "      <td>0.023952</td>\n",
       "      <td>0.976048</td>\n",
       "    </tr>\n",
       "    <tr>\n",
       "      <th>thank</th>\n",
       "      <td>0.360656</td>\n",
       "      <td>0.639344</td>\n",
       "    </tr>\n",
       "    <tr>\n",
       "      <th>🇸</th>\n",
       "      <td>NaN</td>\n",
       "      <td>1.000000</td>\n",
       "    </tr>\n",
       "    <tr>\n",
       "      <th>great</th>\n",
       "      <td>0.572917</td>\n",
       "      <td>0.427083</td>\n",
       "    </tr>\n",
       "    <tr>\n",
       "      <th>today</th>\n",
       "      <td>0.421053</td>\n",
       "      <td>0.578947</td>\n",
       "    </tr>\n",
       "    <tr>\n",
       "      <th>join</th>\n",
       "      <td>0.035714</td>\n",
       "      <td>0.964286</td>\n",
       "    </tr>\n",
       "    <tr>\n",
       "      <th>trump</th>\n",
       "      <td>0.303571</td>\n",
       "      <td>0.696429</td>\n",
       "    </tr>\n",
       "    <tr>\n",
       "      <th>people</th>\n",
       "      <td>0.880000</td>\n",
       "      <td>0.120000</td>\n",
       "    </tr>\n",
       "    <tr>\n",
       "      <th>rt</th>\n",
       "      <td>0.527559</td>\n",
       "      <td>0.472441</td>\n",
       "    </tr>\n",
       "    <tr>\n",
       "      <th>…</th>\n",
       "      <td>0.015873</td>\n",
       "      <td>0.984127</td>\n",
       "    </tr>\n",
       "  </tbody>\n",
       "</table>\n",
       "</div>"
      ],
      "text/plain": [
       "                 Twitter for Android  Twitter for iPhone\n",
       "women                            NaN            1.000000\n",
       "election                    0.870968            0.129032\n",
       "jobs                        0.468750            0.531250\n",
       "u                           0.602170            0.397830\n",
       "country                     0.862069            0.137931\n",
       "@whitehouse                      NaN            1.000000\n",
       "congratulations             0.333333            0.666667\n",
       "never                       0.809524            0.190476\n",
       "media                       0.885714            0.114286\n",
       "🇺                                NaN            1.000000\n",
       ":/                          0.023952            0.976048\n",
       "thank                       0.360656            0.639344\n",
       "🇸                                NaN            1.000000\n",
       "great                       0.572917            0.427083\n",
       "today                       0.421053            0.578947\n",
       "join                        0.035714            0.964286\n",
       "trump                       0.303571            0.696429\n",
       "people                      0.880000            0.120000\n",
       "rt                          0.527559            0.472441\n",
       "…                           0.015873            0.984127"
      ]
     },
     "execution_count": 69,
     "metadata": {},
     "output_type": "execute_result"
    }
   ],
   "source": [
    "## Turn into a DataFrame (.T)\n",
    "top_probs = pd.DataFrame(top_word_probs).T\n",
    "top_probs"
   ]
  },
  {
   "cell_type": "code",
   "execution_count": 70,
   "metadata": {
    "ExecuteTime": {
     "end_time": "2020-10-28T22:16:50.432663Z",
     "start_time": "2020-10-28T22:16:50.402486Z"
    }
   },
   "outputs": [
    {
     "data": {
      "text/html": [
       "<style  type=\"text/css\" >\n",
       "#T_46c24d68_196b_11eb_ac2f_acde48001122row0_col0,#T_46c24d68_196b_11eb_ac2f_acde48001122row0_col1,#T_46c24d68_196b_11eb_ac2f_acde48001122row1_col1,#T_46c24d68_196b_11eb_ac2f_acde48001122row2_col0,#T_46c24d68_196b_11eb_ac2f_acde48001122row3_col1,#T_46c24d68_196b_11eb_ac2f_acde48001122row4_col1,#T_46c24d68_196b_11eb_ac2f_acde48001122row5_col0,#T_46c24d68_196b_11eb_ac2f_acde48001122row5_col1,#T_46c24d68_196b_11eb_ac2f_acde48001122row6_col0,#T_46c24d68_196b_11eb_ac2f_acde48001122row7_col1,#T_46c24d68_196b_11eb_ac2f_acde48001122row8_col1,#T_46c24d68_196b_11eb_ac2f_acde48001122row9_col0,#T_46c24d68_196b_11eb_ac2f_acde48001122row9_col1,#T_46c24d68_196b_11eb_ac2f_acde48001122row10_col0,#T_46c24d68_196b_11eb_ac2f_acde48001122row11_col0,#T_46c24d68_196b_11eb_ac2f_acde48001122row12_col0,#T_46c24d68_196b_11eb_ac2f_acde48001122row12_col1,#T_46c24d68_196b_11eb_ac2f_acde48001122row13_col1,#T_46c24d68_196b_11eb_ac2f_acde48001122row14_col0,#T_46c24d68_196b_11eb_ac2f_acde48001122row15_col0,#T_46c24d68_196b_11eb_ac2f_acde48001122row16_col0,#T_46c24d68_196b_11eb_ac2f_acde48001122row17_col1,#T_46c24d68_196b_11eb_ac2f_acde48001122row18_col1,#T_46c24d68_196b_11eb_ac2f_acde48001122row19_col0{\n",
       "            background-color:  #fff7fb;\n",
       "            color:  #000000;\n",
       "        }#T_46c24d68_196b_11eb_ac2f_acde48001122row1_col0,#T_46c24d68_196b_11eb_ac2f_acde48001122row2_col1,#T_46c24d68_196b_11eb_ac2f_acde48001122row3_col0,#T_46c24d68_196b_11eb_ac2f_acde48001122row4_col0,#T_46c24d68_196b_11eb_ac2f_acde48001122row6_col1,#T_46c24d68_196b_11eb_ac2f_acde48001122row7_col0,#T_46c24d68_196b_11eb_ac2f_acde48001122row8_col0,#T_46c24d68_196b_11eb_ac2f_acde48001122row10_col1,#T_46c24d68_196b_11eb_ac2f_acde48001122row11_col1,#T_46c24d68_196b_11eb_ac2f_acde48001122row13_col0,#T_46c24d68_196b_11eb_ac2f_acde48001122row14_col1,#T_46c24d68_196b_11eb_ac2f_acde48001122row15_col1,#T_46c24d68_196b_11eb_ac2f_acde48001122row16_col1,#T_46c24d68_196b_11eb_ac2f_acde48001122row17_col0,#T_46c24d68_196b_11eb_ac2f_acde48001122row18_col0,#T_46c24d68_196b_11eb_ac2f_acde48001122row19_col1{\n",
       "            background-color:  #023858;\n",
       "            color:  #f1f1f1;\n",
       "        }</style><table id=\"T_46c24d68_196b_11eb_ac2f_acde48001122\" ><thead>    <tr>        <th class=\"blank level0\" ></th>        <th class=\"col_heading level0 col0\" >Twitter for Android</th>        <th class=\"col_heading level0 col1\" >Twitter for iPhone</th>    </tr></thead><tbody>\n",
       "                <tr>\n",
       "                        <th id=\"T_46c24d68_196b_11eb_ac2f_acde48001122level0_row0\" class=\"row_heading level0 row0\" >women</th>\n",
       "                        <td id=\"T_46c24d68_196b_11eb_ac2f_acde48001122row0_col0\" class=\"data row0 col0\" >nan</td>\n",
       "                        <td id=\"T_46c24d68_196b_11eb_ac2f_acde48001122row0_col1\" class=\"data row0 col1\" >1.000000</td>\n",
       "            </tr>\n",
       "            <tr>\n",
       "                        <th id=\"T_46c24d68_196b_11eb_ac2f_acde48001122level0_row1\" class=\"row_heading level0 row1\" >election</th>\n",
       "                        <td id=\"T_46c24d68_196b_11eb_ac2f_acde48001122row1_col0\" class=\"data row1 col0\" >0.870968</td>\n",
       "                        <td id=\"T_46c24d68_196b_11eb_ac2f_acde48001122row1_col1\" class=\"data row1 col1\" >0.129032</td>\n",
       "            </tr>\n",
       "            <tr>\n",
       "                        <th id=\"T_46c24d68_196b_11eb_ac2f_acde48001122level0_row2\" class=\"row_heading level0 row2\" >jobs</th>\n",
       "                        <td id=\"T_46c24d68_196b_11eb_ac2f_acde48001122row2_col0\" class=\"data row2 col0\" >0.468750</td>\n",
       "                        <td id=\"T_46c24d68_196b_11eb_ac2f_acde48001122row2_col1\" class=\"data row2 col1\" >0.531250</td>\n",
       "            </tr>\n",
       "            <tr>\n",
       "                        <th id=\"T_46c24d68_196b_11eb_ac2f_acde48001122level0_row3\" class=\"row_heading level0 row3\" >u</th>\n",
       "                        <td id=\"T_46c24d68_196b_11eb_ac2f_acde48001122row3_col0\" class=\"data row3 col0\" >0.602170</td>\n",
       "                        <td id=\"T_46c24d68_196b_11eb_ac2f_acde48001122row3_col1\" class=\"data row3 col1\" >0.397830</td>\n",
       "            </tr>\n",
       "            <tr>\n",
       "                        <th id=\"T_46c24d68_196b_11eb_ac2f_acde48001122level0_row4\" class=\"row_heading level0 row4\" >country</th>\n",
       "                        <td id=\"T_46c24d68_196b_11eb_ac2f_acde48001122row4_col0\" class=\"data row4 col0\" >0.862069</td>\n",
       "                        <td id=\"T_46c24d68_196b_11eb_ac2f_acde48001122row4_col1\" class=\"data row4 col1\" >0.137931</td>\n",
       "            </tr>\n",
       "            <tr>\n",
       "                        <th id=\"T_46c24d68_196b_11eb_ac2f_acde48001122level0_row5\" class=\"row_heading level0 row5\" >@whitehouse</th>\n",
       "                        <td id=\"T_46c24d68_196b_11eb_ac2f_acde48001122row5_col0\" class=\"data row5 col0\" >nan</td>\n",
       "                        <td id=\"T_46c24d68_196b_11eb_ac2f_acde48001122row5_col1\" class=\"data row5 col1\" >1.000000</td>\n",
       "            </tr>\n",
       "            <tr>\n",
       "                        <th id=\"T_46c24d68_196b_11eb_ac2f_acde48001122level0_row6\" class=\"row_heading level0 row6\" >congratulations</th>\n",
       "                        <td id=\"T_46c24d68_196b_11eb_ac2f_acde48001122row6_col0\" class=\"data row6 col0\" >0.333333</td>\n",
       "                        <td id=\"T_46c24d68_196b_11eb_ac2f_acde48001122row6_col1\" class=\"data row6 col1\" >0.666667</td>\n",
       "            </tr>\n",
       "            <tr>\n",
       "                        <th id=\"T_46c24d68_196b_11eb_ac2f_acde48001122level0_row7\" class=\"row_heading level0 row7\" >never</th>\n",
       "                        <td id=\"T_46c24d68_196b_11eb_ac2f_acde48001122row7_col0\" class=\"data row7 col0\" >0.809524</td>\n",
       "                        <td id=\"T_46c24d68_196b_11eb_ac2f_acde48001122row7_col1\" class=\"data row7 col1\" >0.190476</td>\n",
       "            </tr>\n",
       "            <tr>\n",
       "                        <th id=\"T_46c24d68_196b_11eb_ac2f_acde48001122level0_row8\" class=\"row_heading level0 row8\" >media</th>\n",
       "                        <td id=\"T_46c24d68_196b_11eb_ac2f_acde48001122row8_col0\" class=\"data row8 col0\" >0.885714</td>\n",
       "                        <td id=\"T_46c24d68_196b_11eb_ac2f_acde48001122row8_col1\" class=\"data row8 col1\" >0.114286</td>\n",
       "            </tr>\n",
       "            <tr>\n",
       "                        <th id=\"T_46c24d68_196b_11eb_ac2f_acde48001122level0_row9\" class=\"row_heading level0 row9\" >🇺</th>\n",
       "                        <td id=\"T_46c24d68_196b_11eb_ac2f_acde48001122row9_col0\" class=\"data row9 col0\" >nan</td>\n",
       "                        <td id=\"T_46c24d68_196b_11eb_ac2f_acde48001122row9_col1\" class=\"data row9 col1\" >1.000000</td>\n",
       "            </tr>\n",
       "            <tr>\n",
       "                        <th id=\"T_46c24d68_196b_11eb_ac2f_acde48001122level0_row10\" class=\"row_heading level0 row10\" >:/</th>\n",
       "                        <td id=\"T_46c24d68_196b_11eb_ac2f_acde48001122row10_col0\" class=\"data row10 col0\" >0.023952</td>\n",
       "                        <td id=\"T_46c24d68_196b_11eb_ac2f_acde48001122row10_col1\" class=\"data row10 col1\" >0.976048</td>\n",
       "            </tr>\n",
       "            <tr>\n",
       "                        <th id=\"T_46c24d68_196b_11eb_ac2f_acde48001122level0_row11\" class=\"row_heading level0 row11\" >thank</th>\n",
       "                        <td id=\"T_46c24d68_196b_11eb_ac2f_acde48001122row11_col0\" class=\"data row11 col0\" >0.360656</td>\n",
       "                        <td id=\"T_46c24d68_196b_11eb_ac2f_acde48001122row11_col1\" class=\"data row11 col1\" >0.639344</td>\n",
       "            </tr>\n",
       "            <tr>\n",
       "                        <th id=\"T_46c24d68_196b_11eb_ac2f_acde48001122level0_row12\" class=\"row_heading level0 row12\" >🇸</th>\n",
       "                        <td id=\"T_46c24d68_196b_11eb_ac2f_acde48001122row12_col0\" class=\"data row12 col0\" >nan</td>\n",
       "                        <td id=\"T_46c24d68_196b_11eb_ac2f_acde48001122row12_col1\" class=\"data row12 col1\" >1.000000</td>\n",
       "            </tr>\n",
       "            <tr>\n",
       "                        <th id=\"T_46c24d68_196b_11eb_ac2f_acde48001122level0_row13\" class=\"row_heading level0 row13\" >great</th>\n",
       "                        <td id=\"T_46c24d68_196b_11eb_ac2f_acde48001122row13_col0\" class=\"data row13 col0\" >0.572917</td>\n",
       "                        <td id=\"T_46c24d68_196b_11eb_ac2f_acde48001122row13_col1\" class=\"data row13 col1\" >0.427083</td>\n",
       "            </tr>\n",
       "            <tr>\n",
       "                        <th id=\"T_46c24d68_196b_11eb_ac2f_acde48001122level0_row14\" class=\"row_heading level0 row14\" >today</th>\n",
       "                        <td id=\"T_46c24d68_196b_11eb_ac2f_acde48001122row14_col0\" class=\"data row14 col0\" >0.421053</td>\n",
       "                        <td id=\"T_46c24d68_196b_11eb_ac2f_acde48001122row14_col1\" class=\"data row14 col1\" >0.578947</td>\n",
       "            </tr>\n",
       "            <tr>\n",
       "                        <th id=\"T_46c24d68_196b_11eb_ac2f_acde48001122level0_row15\" class=\"row_heading level0 row15\" >join</th>\n",
       "                        <td id=\"T_46c24d68_196b_11eb_ac2f_acde48001122row15_col0\" class=\"data row15 col0\" >0.035714</td>\n",
       "                        <td id=\"T_46c24d68_196b_11eb_ac2f_acde48001122row15_col1\" class=\"data row15 col1\" >0.964286</td>\n",
       "            </tr>\n",
       "            <tr>\n",
       "                        <th id=\"T_46c24d68_196b_11eb_ac2f_acde48001122level0_row16\" class=\"row_heading level0 row16\" >trump</th>\n",
       "                        <td id=\"T_46c24d68_196b_11eb_ac2f_acde48001122row16_col0\" class=\"data row16 col0\" >0.303571</td>\n",
       "                        <td id=\"T_46c24d68_196b_11eb_ac2f_acde48001122row16_col1\" class=\"data row16 col1\" >0.696429</td>\n",
       "            </tr>\n",
       "            <tr>\n",
       "                        <th id=\"T_46c24d68_196b_11eb_ac2f_acde48001122level0_row17\" class=\"row_heading level0 row17\" >people</th>\n",
       "                        <td id=\"T_46c24d68_196b_11eb_ac2f_acde48001122row17_col0\" class=\"data row17 col0\" >0.880000</td>\n",
       "                        <td id=\"T_46c24d68_196b_11eb_ac2f_acde48001122row17_col1\" class=\"data row17 col1\" >0.120000</td>\n",
       "            </tr>\n",
       "            <tr>\n",
       "                        <th id=\"T_46c24d68_196b_11eb_ac2f_acde48001122level0_row18\" class=\"row_heading level0 row18\" >rt</th>\n",
       "                        <td id=\"T_46c24d68_196b_11eb_ac2f_acde48001122row18_col0\" class=\"data row18 col0\" >0.527559</td>\n",
       "                        <td id=\"T_46c24d68_196b_11eb_ac2f_acde48001122row18_col1\" class=\"data row18 col1\" >0.472441</td>\n",
       "            </tr>\n",
       "            <tr>\n",
       "                        <th id=\"T_46c24d68_196b_11eb_ac2f_acde48001122level0_row19\" class=\"row_heading level0 row19\" >…</th>\n",
       "                        <td id=\"T_46c24d68_196b_11eb_ac2f_acde48001122row19_col0\" class=\"data row19 col0\" >0.015873</td>\n",
       "                        <td id=\"T_46c24d68_196b_11eb_ac2f_acde48001122row19_col1\" class=\"data row19 col1\" >0.984127</td>\n",
       "            </tr>\n",
       "    </tbody></table>"
      ],
      "text/plain": [
       "<pandas.io.formats.style.Styler at 0x7fee004c4c18>"
      ]
     },
     "execution_count": 70,
     "metadata": {},
     "output_type": "execute_result"
    }
   ],
   "source": [
    "## Use pandas styling to apply a background_gradient across the columns\n",
    "top_probs.style.background_gradient(axis=1)"
   ]
  },
  {
   "cell_type": "markdown",
   "metadata": {},
   "source": [
    "## T-SNE (for Student Question)"
   ]
  },
  {
   "cell_type": "code",
   "execution_count": 71,
   "metadata": {
    "ExecuteTime": {
     "end_time": "2020-10-28T22:16:50.441265Z",
     "start_time": "2020-10-28T22:16:50.434358Z"
    }
   },
   "outputs": [
    {
     "data": {
      "text/plain": [
       "matrix([[0., 0., 0., ..., 0., 0., 0.],\n",
       "        [0., 0., 0., ..., 0., 0., 0.],\n",
       "        [0., 0., 0., ..., 0., 0., 0.],\n",
       "        ...,\n",
       "        [0., 0., 0., ..., 0., 0., 0.],\n",
       "        [0., 0., 0., ..., 0., 0., 0.],\n",
       "        [0., 0., 0., ..., 0., 0., 0.]])"
      ]
     },
     "execution_count": 71,
     "metadata": {},
     "output_type": "execute_result"
    }
   ],
   "source": [
    "X_train_pipe.todense()"
   ]
  },
  {
   "cell_type": "code",
   "execution_count": 72,
   "metadata": {
    "ExecuteTime": {
     "end_time": "2020-10-28T22:16:50.476175Z",
     "start_time": "2020-10-28T22:16:50.443140Z"
    }
   },
   "outputs": [],
   "source": [
    "from sklearn.manifold import TSNE\n",
    "from mpl_toolkits.mplot3d import Axes3D"
   ]
  },
  {
   "cell_type": "code",
   "execution_count": 73,
   "metadata": {
    "ExecuteTime": {
     "end_time": "2020-10-28T22:16:52.712807Z",
     "start_time": "2020-10-28T22:16:50.478697Z"
    }
   },
   "outputs": [
    {
     "data": {
      "text/plain": [
       "array([[  80.14219  ,  -19.240387 ,  -53.437428 ],\n",
       "       [  57.337536 ,   17.715881 ,   46.51539  ],\n",
       "       [  29.444841 ,   54.531258 , -138.2253   ],\n",
       "       ...,\n",
       "       [ -27.568495 ,   13.3748   ,  -80.23506  ],\n",
       "       [ -44.396015 ,  -18.157166 ,  -18.228216 ],\n",
       "       [ -21.140083 ,   53.247154 ,   -3.3327785]], dtype=float32)"
      ]
     },
     "execution_count": 73,
     "metadata": {},
     "output_type": "execute_result"
    }
   ],
   "source": [
    "## TSNE For Visualizing High Dimensional Data\n",
    "t_sne_object_3d = TSNE(n_components=3)\n",
    "transformed_data_3d = t_sne_object_3d.fit_transform(X_train_pipe)\n",
    "transformed_data_3d"
   ]
  },
  {
   "cell_type": "code",
   "execution_count": 74,
   "metadata": {
    "ExecuteTime": {
     "end_time": "2020-10-28T22:16:52.718279Z",
     "start_time": "2020-10-28T22:16:52.714760Z"
    }
   },
   "outputs": [],
   "source": [
    "## Separate into Trump/Not Trump\n",
    "trump = transformed_data_3d[y_train==1]\n",
    "not_trump = transformed_data_3d[y_train==0]"
   ]
  },
  {
   "cell_type": "code",
   "execution_count": 75,
   "metadata": {
    "ExecuteTime": {
     "end_time": "2020-10-28T22:16:53.018733Z",
     "start_time": "2020-10-28T22:16:52.720331Z"
    }
   },
   "outputs": [
    {
     "data": {
      "image/png": "[encoded data removed]",
      "text/plain": [
       "<Figure size 1440x720 with 1 Axes>"
      ]
     },
     "metadata": {
      "needs_background": "light"
     },
     "output_type": "display_data"
    }
   ],
   "source": [
    "fig = plt.figure(figsize=(20,10))\n",
    "ax = fig.add_subplot(projection='3d')\n",
    "ax.scatter(trump[:,0],trump[:,1],\n",
    "           trump[:,2],c='orange',label='Trump')\n",
    "ax.scatter(not_trump[:,0],not_trump[:,1],\n",
    "           not_trump[:,2],c='black',label='Not Trump')\n",
    "ax.legend()\n",
    "ax.view_init(30, 10)\n",
    "\n",
    "\n",
    "fig.tight_layout()"
   ]
  },
  {
   "cell_type": "code",
   "execution_count": 76,
   "metadata": {
    "ExecuteTime": {
     "end_time": "2020-10-28T22:16:54.705437Z",
     "start_time": "2020-10-28T22:16:53.020628Z"
    }
   },
   "outputs": [],
   "source": [
    "## TSNE For Visualizing High Dimensional Data\n",
    "t_sne_object_2d = TSNE(n_components=2)\n",
    "transformed_data_2d = t_sne_object_2d.fit_transform(X_train_pipe)\n",
    "## Separate into Trump/Not Trump\n",
    "trump = transformed_data_2d[y_train==1]\n",
    "not_trump = transformed_data_2d[y_train==0]"
   ]
  },
  {
   "cell_type": "code",
   "execution_count": 77,
   "metadata": {
    "ExecuteTime": {
     "end_time": "2020-10-28T22:16:54.992076Z",
     "start_time": "2020-10-28T22:16:54.707403Z"
    }
   },
   "outputs": [
    {
     "data": {
      "image/png": "[encoded data removed]",
      "text/plain": [
       "<Figure size 1440x720 with 1 Axes>"
      ]
     },
     "metadata": {
      "needs_background": "light"
     },
     "output_type": "display_data"
    }
   ],
   "source": [
    "fig,ax = plt.subplots(figsize=(20,10))\n",
    "ax.scatter(trump[:,0],trump[:,1],c='orange',label='Trump')\n",
    "ax.scatter(not_trump[:,0],not_trump[:,1],c='black',label='Not Trump')\n",
    "ax.legend()\n",
    "\n",
    "fig.tight_layout()"
   ]
  },
  {
   "cell_type": "markdown",
   "metadata": {},
   "source": [
    "## Other Classifiers - Naive Bayes"
   ]
  },
  {
   "cell_type": "code",
   "execution_count": 78,
   "metadata": {
    "ExecuteTime": {
     "end_time": "2020-10-28T22:16:55.157990Z",
     "start_time": "2020-10-28T22:16:54.994172Z"
    },
    "scrolled": false
   },
   "outputs": [
    {
     "name": "stdout",
     "output_type": "stream",
     "text": [
      "              precision    recall  f1-score   support\n",
      "\n",
      "   Not Trump       0.98      0.64      0.77        72\n",
      "       Trump       0.81      0.99      0.89       109\n",
      "\n",
      "    accuracy                           0.85       181\n",
      "   macro avg       0.89      0.81      0.83       181\n",
      "weighted avg       0.87      0.85      0.84       181\n",
      "\n"
     ]
    },
    {
     "data": {
      "image/png": "[encoded data removed]",
      "text/plain": [
       "<Figure size 432x288 with 2 Axes>"
      ]
     },
     "metadata": {
      "needs_background": "light"
     },
     "output_type": "display_data"
    }
   ],
   "source": [
    "nb_classifier = MultinomialNB()#alpha = 1.0e-08)\n",
    "nb_classifier.fit(X_train_pipe,y_train)\n",
    "y_hat_test = nb_classifier.predict(X_test_pipe)\n",
    "evaluate_model(y_test,y_hat_test,X_test_pipe,nb_classifier)"
   ]
  },
  {
   "cell_type": "markdown",
   "metadata": {},
   "source": [
    "# APPENDIX"
   ]
  },
  {
   "cell_type": "markdown",
   "metadata": {},
   "source": [
    "## GridSearch Random Forest"
   ]
  },
  {
   "cell_type": "code",
   "execution_count": 79,
   "metadata": {
    "ExecuteTime": {
     "end_time": "2020-10-28T22:16:55.162086Z",
     "start_time": "2020-10-28T22:16:55.159688Z"
    }
   },
   "outputs": [],
   "source": [
    "# from sklearn.model_selection import GridSearchCV\n",
    "# params  = {'criterion':['gini','entropy'],\n",
    "#            'max_depth':[3,5,10,50,100,None],\n",
    "#           'class_weight':['balanced',None],\n",
    "#            'bootstrap':[True ,False],\n",
    "#           'min_samples_leaf':[1,2,3,4],\n",
    "#           }\n",
    "# rf_clf = RandomForestClassifier()\n",
    "# grid = GridSearchCV(rf_clf,params,return_train_score=False,\n",
    "#                     scoring='recall_weighted',n_jobs=-1)\n",
    "# grid.fit(X_train_tfidf,y_train)\n",
    "# print(grid.best_score_)\n",
    "# grid.best_params_"
   ]
  },
  {
   "cell_type": "code",
   "execution_count": 80,
   "metadata": {
    "ExecuteTime": {
     "end_time": "2020-10-28T22:16:55.165476Z",
     "start_time": "2020-10-28T22:16:55.163683Z"
    }
   },
   "outputs": [],
   "source": [
    "# best_rf = grid.best_estimator_\n",
    "# best_rf.fit(X_train_tfidf, y_train)\n",
    "\n",
    "# y_hat_test = best_rf.predict(X_test_tfidf)"
   ]
  },
  {
   "cell_type": "code",
   "execution_count": 81,
   "metadata": {
    "ExecuteTime": {
     "end_time": "2020-10-28T22:16:55.169413Z",
     "start_time": "2020-10-28T22:16:55.167236Z"
    }
   },
   "outputs": [],
   "source": [
    "# evaluate_model(y_test,y_hat_test,X_test_tfidf,best_rf)"
   ]
  },
  {
   "cell_type": "code",
   "execution_count": 82,
   "metadata": {
    "ExecuteTime": {
     "end_time": "2020-10-28T22:16:55.172984Z",
     "start_time": "2020-10-28T22:16:55.171041Z"
    }
   },
   "outputs": [],
   "source": [
    "# importance = pd.Series(best_rf.feature_importances_,index= vectorizer.get_feature_names())\n",
    "# importance.sort_values().tail(20).plot(kind='barh')"
   ]
  },
  {
   "cell_type": "markdown",
   "metadata": {},
   "source": [
    "## BOOKMARK: Better Handling Emojis"
   ]
  },
  {
   "cell_type": "markdown",
   "metadata": {},
   "source": [
    "> https://medium.com/towards-artificial-intelligence/emoticon-and-emoji-in-text-mining-7392c49f596a"
   ]
  },
  {
   "cell_type": "code",
   "execution_count": null,
   "metadata": {},
   "outputs": [],
   "source": []
  },
  {
   "cell_type": "markdown",
   "metadata": {},
   "source": [
    "## Excluded Code"
   ]
  },
  {
   "cell_type": "markdown",
   "metadata": {},
   "source": [
    "### Summary table from Finding Trump"
   ]
  },
  {
   "cell_type": "code",
   "execution_count": 83,
   "metadata": {
    "ExecuteTime": {
     "end_time": "2020-10-28T22:16:55.213166Z",
     "start_time": "2020-10-28T22:16:55.175080Z"
    }
   },
   "outputs": [
    {
     "data": {
      "text/html": [
       "<style  type=\"text/css\" >\n",
       "#T_499b1742_196b_11eb_bba5_acde48001122row0_col1,#T_499b1742_196b_11eb_bba5_acde48001122row1_col0,#T_499b1742_196b_11eb_bba5_acde48001122row2_col0,#T_499b1742_196b_11eb_bba5_acde48001122row3_col1,#T_499b1742_196b_11eb_bba5_acde48001122row4_col1,#T_499b1742_196b_11eb_bba5_acde48001122row5_col1,#T_499b1742_196b_11eb_bba5_acde48001122row6_col0,#T_499b1742_196b_11eb_bba5_acde48001122row7_col1,#T_499b1742_196b_11eb_bba5_acde48001122row8_col1,#T_499b1742_196b_11eb_bba5_acde48001122row9_col1,#T_499b1742_196b_11eb_bba5_acde48001122row10_col1,#T_499b1742_196b_11eb_bba5_acde48001122row11_col0,#T_499b1742_196b_11eb_bba5_acde48001122row12_col0,#T_499b1742_196b_11eb_bba5_acde48001122row13_col1,#T_499b1742_196b_11eb_bba5_acde48001122row14_col1,#T_499b1742_196b_11eb_bba5_acde48001122row15_col0,#T_499b1742_196b_11eb_bba5_acde48001122row16_col0,#T_499b1742_196b_11eb_bba5_acde48001122row17_col1,#T_499b1742_196b_11eb_bba5_acde48001122row18_col0,#T_499b1742_196b_11eb_bba5_acde48001122row19_col1{\n",
       "            background-color:  lightgreen;\n",
       "        }#T_499b1742_196b_11eb_bba5_acde48001122row0_col2{\n",
       "            width:  10em;\n",
       "             height:  80%;\n",
       "            background:  linear-gradient(90deg,#d65f5f 100.0%, transparent 100.0%);\n",
       "        }#T_499b1742_196b_11eb_bba5_acde48001122row0_col3{\n",
       "            background-color:  #034165;\n",
       "            color:  #f1f1f1;\n",
       "        }#T_499b1742_196b_11eb_bba5_acde48001122row1_col2{\n",
       "            width:  10em;\n",
       "             height:  80%;\n",
       "            background:  linear-gradient(90deg,#d65f5f 55.9%, transparent 55.9%);\n",
       "        }#T_499b1742_196b_11eb_bba5_acde48001122row1_col3{\n",
       "            background-color:  #fff7fb;\n",
       "            color:  #000000;\n",
       "        }#T_499b1742_196b_11eb_bba5_acde48001122row2_col2{\n",
       "            width:  10em;\n",
       "             height:  80%;\n",
       "            background:  linear-gradient(90deg,#d65f5f 23.1%, transparent 23.1%);\n",
       "        }#T_499b1742_196b_11eb_bba5_acde48001122row2_col3{\n",
       "            background-color:  #0771b1;\n",
       "            color:  #f1f1f1;\n",
       "        }#T_499b1742_196b_11eb_bba5_acde48001122row3_col2{\n",
       "            width:  10em;\n",
       "             height:  80%;\n",
       "            background:  linear-gradient(90deg,#d65f5f 18.2%, transparent 18.2%);\n",
       "        }#T_499b1742_196b_11eb_bba5_acde48001122row3_col3{\n",
       "            background-color:  #acc0dd;\n",
       "            color:  #000000;\n",
       "        }#T_499b1742_196b_11eb_bba5_acde48001122row4_col2{\n",
       "            width:  10em;\n",
       "             height:  80%;\n",
       "            background:  linear-gradient(90deg,#d65f5f 16.9%, transparent 16.9%);\n",
       "        }#T_499b1742_196b_11eb_bba5_acde48001122row4_col3{\n",
       "            background-color:  #034c78;\n",
       "            color:  #f1f1f1;\n",
       "        }#T_499b1742_196b_11eb_bba5_acde48001122row5_col2{\n",
       "            width:  10em;\n",
       "             height:  80%;\n",
       "            background:  linear-gradient(90deg,#d65f5f 15.8%, transparent 15.8%);\n",
       "        }#T_499b1742_196b_11eb_bba5_acde48001122row5_col3{\n",
       "            background-color:  #efe9f3;\n",
       "            color:  #000000;\n",
       "        }#T_499b1742_196b_11eb_bba5_acde48001122row6_col2{\n",
       "            width:  10em;\n",
       "             height:  80%;\n",
       "            background:  linear-gradient(90deg,#d65f5f 12.2%, transparent 12.2%);\n",
       "        }#T_499b1742_196b_11eb_bba5_acde48001122row6_col3{\n",
       "            background-color:  #f1ebf4;\n",
       "            color:  #000000;\n",
       "        }#T_499b1742_196b_11eb_bba5_acde48001122row7_col2{\n",
       "            width:  10em;\n",
       "             height:  80%;\n",
       "            background:  linear-gradient(90deg,#d65f5f 10.2%, transparent 10.2%);\n",
       "        }#T_499b1742_196b_11eb_bba5_acde48001122row7_col3,#T_499b1742_196b_11eb_bba5_acde48001122row10_col3,#T_499b1742_196b_11eb_bba5_acde48001122row14_col3,#T_499b1742_196b_11eb_bba5_acde48001122row19_col3{\n",
       "            background-color:  #023858;\n",
       "            color:  #f1f1f1;\n",
       "        }#T_499b1742_196b_11eb_bba5_acde48001122row8_col2{\n",
       "            width:  10em;\n",
       "             height:  80%;\n",
       "            background:  linear-gradient(90deg,#d65f5f 9.9%, transparent 9.9%);\n",
       "        }#T_499b1742_196b_11eb_bba5_acde48001122row8_col3{\n",
       "            background-color:  #d3d4e7;\n",
       "            color:  #000000;\n",
       "        }#T_499b1742_196b_11eb_bba5_acde48001122row9_col2{\n",
       "            width:  10em;\n",
       "             height:  80%;\n",
       "            background:  linear-gradient(90deg,#d65f5f 9.3%, transparent 9.3%);\n",
       "        }#T_499b1742_196b_11eb_bba5_acde48001122row9_col3{\n",
       "            background-color:  #03456c;\n",
       "            color:  #f1f1f1;\n",
       "        }#T_499b1742_196b_11eb_bba5_acde48001122row10_col2{\n",
       "            width:  10em;\n",
       "             height:  80%;\n",
       "            background:  linear-gradient(90deg,#d65f5f 6.5%, transparent 6.5%);\n",
       "        }#T_499b1742_196b_11eb_bba5_acde48001122row11_col2{\n",
       "            width:  10em;\n",
       "             height:  80%;\n",
       "            background:  linear-gradient(90deg,#d65f5f 5.9%, transparent 5.9%);\n",
       "        }#T_499b1742_196b_11eb_bba5_acde48001122row11_col3{\n",
       "            background-color:  #056ead;\n",
       "            color:  #f1f1f1;\n",
       "        }#T_499b1742_196b_11eb_bba5_acde48001122row12_col2{\n",
       "            width:  10em;\n",
       "             height:  80%;\n",
       "            background:  linear-gradient(90deg,#d65f5f 3.1%, transparent 3.1%);\n",
       "        }#T_499b1742_196b_11eb_bba5_acde48001122row12_col3{\n",
       "            background-color:  #4496c3;\n",
       "            color:  #000000;\n",
       "        }#T_499b1742_196b_11eb_bba5_acde48001122row13_col2,#T_499b1742_196b_11eb_bba5_acde48001122row14_col2{\n",
       "            width:  10em;\n",
       "             height:  80%;\n",
       "            background:  linear-gradient(90deg,#d65f5f 3.0%, transparent 3.0%);\n",
       "        }#T_499b1742_196b_11eb_bba5_acde48001122row13_col3{\n",
       "            background-color:  #c1cae2;\n",
       "            color:  #000000;\n",
       "        }#T_499b1742_196b_11eb_bba5_acde48001122row15_col2{\n",
       "            width:  10em;\n",
       "             height:  80%;\n",
       "            background:  linear-gradient(90deg,#d65f5f 2.7%, transparent 2.7%);\n",
       "        }#T_499b1742_196b_11eb_bba5_acde48001122row15_col3{\n",
       "            background-color:  #157ab5;\n",
       "            color:  #000000;\n",
       "        }#T_499b1742_196b_11eb_bba5_acde48001122row16_col2{\n",
       "            width:  10em;\n",
       "             height:  80%;\n",
       "            background:  linear-gradient(90deg,#d65f5f 2.3%, transparent 2.3%);\n",
       "        }#T_499b1742_196b_11eb_bba5_acde48001122row16_col3{\n",
       "            background-color:  #e5e1ef;\n",
       "            color:  #000000;\n",
       "        }#T_499b1742_196b_11eb_bba5_acde48001122row17_col2{\n",
       "            width:  10em;\n",
       "             height:  80%;\n",
       "            background:  linear-gradient(90deg,#d65f5f 2.0%, transparent 2.0%);\n",
       "        }#T_499b1742_196b_11eb_bba5_acde48001122row17_col3{\n",
       "            background-color:  #fef6fa;\n",
       "            color:  #000000;\n",
       "        }#T_499b1742_196b_11eb_bba5_acde48001122row18_col2{\n",
       "            width:  10em;\n",
       "             height:  80%;\n",
       "            background:  linear-gradient(90deg,#d65f5f 0.1%, transparent 0.1%);\n",
       "        }#T_499b1742_196b_11eb_bba5_acde48001122row18_col3{\n",
       "            background-color:  #0d75b3;\n",
       "            color:  #f1f1f1;\n",
       "        }#T_499b1742_196b_11eb_bba5_acde48001122row19_col2{\n",
       "            width:  10em;\n",
       "             height:  80%;\n",
       "        }</style><table id=\"T_499b1742_196b_11eb_bba5_acde48001122\" ><thead>    <tr>        <th class=\"blank level0\" ></th>        <th class=\"col_heading level0 col0\" >Twitter for Android</th>        <th class=\"col_heading level0 col1\" >Twitter for iPhone</th>        <th class=\"col_heading level0 col2\" >importance</th>        <th class=\"col_heading level0 col3\" >max_prob</th>        <th class=\"col_heading level0 col4\" >Max Prob Class</th>    </tr></thead><tbody>\n",
       "                <tr>\n",
       "                        <th id=\"T_499b1742_196b_11eb_bba5_acde48001122level0_row0\" class=\"row_heading level0 row0\" >…</th>\n",
       "                        <td id=\"T_499b1742_196b_11eb_bba5_acde48001122row0_col0\" class=\"data row0 col0\" >0.015873</td>\n",
       "                        <td id=\"T_499b1742_196b_11eb_bba5_acde48001122row0_col1\" class=\"data row0 col1\" >0.984127</td>\n",
       "                        <td id=\"T_499b1742_196b_11eb_bba5_acde48001122row0_col2\" class=\"data row0 col2\" >0.043890</td>\n",
       "                        <td id=\"T_499b1742_196b_11eb_bba5_acde48001122row0_col3\" class=\"data row0 col3\" >0.984127</td>\n",
       "                        <td id=\"T_499b1742_196b_11eb_bba5_acde48001122row0_col4\" class=\"data row0 col4\" >Twitter for iPhone</td>\n",
       "            </tr>\n",
       "            <tr>\n",
       "                        <th id=\"T_499b1742_196b_11eb_bba5_acde48001122level0_row1\" class=\"row_heading level0 row1\" >rt</th>\n",
       "                        <td id=\"T_499b1742_196b_11eb_bba5_acde48001122row1_col0\" class=\"data row1 col0\" >0.527559</td>\n",
       "                        <td id=\"T_499b1742_196b_11eb_bba5_acde48001122row1_col1\" class=\"data row1 col1\" >0.472441</td>\n",
       "                        <td id=\"T_499b1742_196b_11eb_bba5_acde48001122row1_col2\" class=\"data row1 col2\" >0.027105</td>\n",
       "                        <td id=\"T_499b1742_196b_11eb_bba5_acde48001122row1_col3\" class=\"data row1 col3\" >0.527559</td>\n",
       "                        <td id=\"T_499b1742_196b_11eb_bba5_acde48001122row1_col4\" class=\"data row1 col4\" >Twitter for Android</td>\n",
       "            </tr>\n",
       "            <tr>\n",
       "                        <th id=\"T_499b1742_196b_11eb_bba5_acde48001122level0_row2\" class=\"row_heading level0 row2\" >people</th>\n",
       "                        <td id=\"T_499b1742_196b_11eb_bba5_acde48001122row2_col0\" class=\"data row2 col0\" >0.880000</td>\n",
       "                        <td id=\"T_499b1742_196b_11eb_bba5_acde48001122row2_col1\" class=\"data row2 col1\" >0.120000</td>\n",
       "                        <td id=\"T_499b1742_196b_11eb_bba5_acde48001122row2_col2\" class=\"data row2 col2\" >0.014635</td>\n",
       "                        <td id=\"T_499b1742_196b_11eb_bba5_acde48001122row2_col3\" class=\"data row2 col3\" >0.880000</td>\n",
       "                        <td id=\"T_499b1742_196b_11eb_bba5_acde48001122row2_col4\" class=\"data row2 col4\" >Twitter for Android</td>\n",
       "            </tr>\n",
       "            <tr>\n",
       "                        <th id=\"T_499b1742_196b_11eb_bba5_acde48001122level0_row3\" class=\"row_heading level0 row3\" >trump</th>\n",
       "                        <td id=\"T_499b1742_196b_11eb_bba5_acde48001122row3_col0\" class=\"data row3 col0\" >0.303571</td>\n",
       "                        <td id=\"T_499b1742_196b_11eb_bba5_acde48001122row3_col1\" class=\"data row3 col1\" >0.696429</td>\n",
       "                        <td id=\"T_499b1742_196b_11eb_bba5_acde48001122row3_col2\" class=\"data row3 col2\" >0.012752</td>\n",
       "                        <td id=\"T_499b1742_196b_11eb_bba5_acde48001122row3_col3\" class=\"data row3 col3\" >0.696429</td>\n",
       "                        <td id=\"T_499b1742_196b_11eb_bba5_acde48001122row3_col4\" class=\"data row3 col4\" >Twitter for iPhone</td>\n",
       "            </tr>\n",
       "            <tr>\n",
       "                        <th id=\"T_499b1742_196b_11eb_bba5_acde48001122level0_row4\" class=\"row_heading level0 row4\" >join</th>\n",
       "                        <td id=\"T_499b1742_196b_11eb_bba5_acde48001122row4_col0\" class=\"data row4 col0\" >0.035714</td>\n",
       "                        <td id=\"T_499b1742_196b_11eb_bba5_acde48001122row4_col1\" class=\"data row4 col1\" >0.964286</td>\n",
       "                        <td id=\"T_499b1742_196b_11eb_bba5_acde48001122row4_col2\" class=\"data row4 col2\" >0.012268</td>\n",
       "                        <td id=\"T_499b1742_196b_11eb_bba5_acde48001122row4_col3\" class=\"data row4 col3\" >0.964286</td>\n",
       "                        <td id=\"T_499b1742_196b_11eb_bba5_acde48001122row4_col4\" class=\"data row4 col4\" >Twitter for iPhone</td>\n",
       "            </tr>\n",
       "            <tr>\n",
       "                        <th id=\"T_499b1742_196b_11eb_bba5_acde48001122level0_row5\" class=\"row_heading level0 row5\" >today</th>\n",
       "                        <td id=\"T_499b1742_196b_11eb_bba5_acde48001122row5_col0\" class=\"data row5 col0\" >0.421053</td>\n",
       "                        <td id=\"T_499b1742_196b_11eb_bba5_acde48001122row5_col1\" class=\"data row5 col1\" >0.578947</td>\n",
       "                        <td id=\"T_499b1742_196b_11eb_bba5_acde48001122row5_col2\" class=\"data row5 col2\" >0.011834</td>\n",
       "                        <td id=\"T_499b1742_196b_11eb_bba5_acde48001122row5_col3\" class=\"data row5 col3\" >0.578947</td>\n",
       "                        <td id=\"T_499b1742_196b_11eb_bba5_acde48001122row5_col4\" class=\"data row5 col4\" >Twitter for iPhone</td>\n",
       "            </tr>\n",
       "            <tr>\n",
       "                        <th id=\"T_499b1742_196b_11eb_bba5_acde48001122level0_row6\" class=\"row_heading level0 row6\" >great</th>\n",
       "                        <td id=\"T_499b1742_196b_11eb_bba5_acde48001122row6_col0\" class=\"data row6 col0\" >0.572917</td>\n",
       "                        <td id=\"T_499b1742_196b_11eb_bba5_acde48001122row6_col1\" class=\"data row6 col1\" >0.427083</td>\n",
       "                        <td id=\"T_499b1742_196b_11eb_bba5_acde48001122row6_col2\" class=\"data row6 col2\" >0.010490</td>\n",
       "                        <td id=\"T_499b1742_196b_11eb_bba5_acde48001122row6_col3\" class=\"data row6 col3\" >0.572917</td>\n",
       "                        <td id=\"T_499b1742_196b_11eb_bba5_acde48001122row6_col4\" class=\"data row6 col4\" >Twitter for Android</td>\n",
       "            </tr>\n",
       "            <tr>\n",
       "                        <th id=\"T_499b1742_196b_11eb_bba5_acde48001122level0_row7\" class=\"row_heading level0 row7\" >🇸</th>\n",
       "                        <td id=\"T_499b1742_196b_11eb_bba5_acde48001122row7_col0\" class=\"data row7 col0\" >nan</td>\n",
       "                        <td id=\"T_499b1742_196b_11eb_bba5_acde48001122row7_col1\" class=\"data row7 col1\" >1.000000</td>\n",
       "                        <td id=\"T_499b1742_196b_11eb_bba5_acde48001122row7_col2\" class=\"data row7 col2\" >0.009713</td>\n",
       "                        <td id=\"T_499b1742_196b_11eb_bba5_acde48001122row7_col3\" class=\"data row7 col3\" >1.000000</td>\n",
       "                        <td id=\"T_499b1742_196b_11eb_bba5_acde48001122row7_col4\" class=\"data row7 col4\" >Twitter for iPhone</td>\n",
       "            </tr>\n",
       "            <tr>\n",
       "                        <th id=\"T_499b1742_196b_11eb_bba5_acde48001122level0_row8\" class=\"row_heading level0 row8\" >thank</th>\n",
       "                        <td id=\"T_499b1742_196b_11eb_bba5_acde48001122row8_col0\" class=\"data row8 col0\" >0.360656</td>\n",
       "                        <td id=\"T_499b1742_196b_11eb_bba5_acde48001122row8_col1\" class=\"data row8 col1\" >0.639344</td>\n",
       "                        <td id=\"T_499b1742_196b_11eb_bba5_acde48001122row8_col2\" class=\"data row8 col2\" >0.009590</td>\n",
       "                        <td id=\"T_499b1742_196b_11eb_bba5_acde48001122row8_col3\" class=\"data row8 col3\" >0.639344</td>\n",
       "                        <td id=\"T_499b1742_196b_11eb_bba5_acde48001122row8_col4\" class=\"data row8 col4\" >Twitter for iPhone</td>\n",
       "            </tr>\n",
       "            <tr>\n",
       "                        <th id=\"T_499b1742_196b_11eb_bba5_acde48001122level0_row9\" class=\"row_heading level0 row9\" >:/</th>\n",
       "                        <td id=\"T_499b1742_196b_11eb_bba5_acde48001122row9_col0\" class=\"data row9 col0\" >0.023952</td>\n",
       "                        <td id=\"T_499b1742_196b_11eb_bba5_acde48001122row9_col1\" class=\"data row9 col1\" >0.976048</td>\n",
       "                        <td id=\"T_499b1742_196b_11eb_bba5_acde48001122row9_col2\" class=\"data row9 col2\" >0.009357</td>\n",
       "                        <td id=\"T_499b1742_196b_11eb_bba5_acde48001122row9_col3\" class=\"data row9 col3\" >0.976048</td>\n",
       "                        <td id=\"T_499b1742_196b_11eb_bba5_acde48001122row9_col4\" class=\"data row9 col4\" >Twitter for iPhone</td>\n",
       "            </tr>\n",
       "            <tr>\n",
       "                        <th id=\"T_499b1742_196b_11eb_bba5_acde48001122level0_row10\" class=\"row_heading level0 row10\" >🇺</th>\n",
       "                        <td id=\"T_499b1742_196b_11eb_bba5_acde48001122row10_col0\" class=\"data row10 col0\" >nan</td>\n",
       "                        <td id=\"T_499b1742_196b_11eb_bba5_acde48001122row10_col1\" class=\"data row10 col1\" >1.000000</td>\n",
       "                        <td id=\"T_499b1742_196b_11eb_bba5_acde48001122row10_col2\" class=\"data row10 col2\" >0.008311</td>\n",
       "                        <td id=\"T_499b1742_196b_11eb_bba5_acde48001122row10_col3\" class=\"data row10 col3\" >1.000000</td>\n",
       "                        <td id=\"T_499b1742_196b_11eb_bba5_acde48001122row10_col4\" class=\"data row10 col4\" >Twitter for iPhone</td>\n",
       "            </tr>\n",
       "            <tr>\n",
       "                        <th id=\"T_499b1742_196b_11eb_bba5_acde48001122level0_row11\" class=\"row_heading level0 row11\" >media</th>\n",
       "                        <td id=\"T_499b1742_196b_11eb_bba5_acde48001122row11_col0\" class=\"data row11 col0\" >0.885714</td>\n",
       "                        <td id=\"T_499b1742_196b_11eb_bba5_acde48001122row11_col1\" class=\"data row11 col1\" >0.114286</td>\n",
       "                        <td id=\"T_499b1742_196b_11eb_bba5_acde48001122row11_col2\" class=\"data row11 col2\" >0.008091</td>\n",
       "                        <td id=\"T_499b1742_196b_11eb_bba5_acde48001122row11_col3\" class=\"data row11 col3\" >0.885714</td>\n",
       "                        <td id=\"T_499b1742_196b_11eb_bba5_acde48001122row11_col4\" class=\"data row11 col4\" >Twitter for Android</td>\n",
       "            </tr>\n",
       "            <tr>\n",
       "                        <th id=\"T_499b1742_196b_11eb_bba5_acde48001122level0_row12\" class=\"row_heading level0 row12\" >never</th>\n",
       "                        <td id=\"T_499b1742_196b_11eb_bba5_acde48001122row12_col0\" class=\"data row12 col0\" >0.809524</td>\n",
       "                        <td id=\"T_499b1742_196b_11eb_bba5_acde48001122row12_col1\" class=\"data row12 col1\" >0.190476</td>\n",
       "                        <td id=\"T_499b1742_196b_11eb_bba5_acde48001122row12_col2\" class=\"data row12 col2\" >0.007016</td>\n",
       "                        <td id=\"T_499b1742_196b_11eb_bba5_acde48001122row12_col3\" class=\"data row12 col3\" >0.809524</td>\n",
       "                        <td id=\"T_499b1742_196b_11eb_bba5_acde48001122row12_col4\" class=\"data row12 col4\" >Twitter for Android</td>\n",
       "            </tr>\n",
       "            <tr>\n",
       "                        <th id=\"T_499b1742_196b_11eb_bba5_acde48001122level0_row13\" class=\"row_heading level0 row13\" >congratulations</th>\n",
       "                        <td id=\"T_499b1742_196b_11eb_bba5_acde48001122row13_col0\" class=\"data row13 col0\" >0.333333</td>\n",
       "                        <td id=\"T_499b1742_196b_11eb_bba5_acde48001122row13_col1\" class=\"data row13 col1\" >0.666667</td>\n",
       "                        <td id=\"T_499b1742_196b_11eb_bba5_acde48001122row13_col2\" class=\"data row13 col2\" >0.006989</td>\n",
       "                        <td id=\"T_499b1742_196b_11eb_bba5_acde48001122row13_col3\" class=\"data row13 col3\" >0.666667</td>\n",
       "                        <td id=\"T_499b1742_196b_11eb_bba5_acde48001122row13_col4\" class=\"data row13 col4\" >Twitter for iPhone</td>\n",
       "            </tr>\n",
       "            <tr>\n",
       "                        <th id=\"T_499b1742_196b_11eb_bba5_acde48001122level0_row14\" class=\"row_heading level0 row14\" >@whitehouse</th>\n",
       "                        <td id=\"T_499b1742_196b_11eb_bba5_acde48001122row14_col0\" class=\"data row14 col0\" >nan</td>\n",
       "                        <td id=\"T_499b1742_196b_11eb_bba5_acde48001122row14_col1\" class=\"data row14 col1\" >1.000000</td>\n",
       "                        <td id=\"T_499b1742_196b_11eb_bba5_acde48001122row14_col2\" class=\"data row14 col2\" >0.006982</td>\n",
       "                        <td id=\"T_499b1742_196b_11eb_bba5_acde48001122row14_col3\" class=\"data row14 col3\" >1.000000</td>\n",
       "                        <td id=\"T_499b1742_196b_11eb_bba5_acde48001122row14_col4\" class=\"data row14 col4\" >Twitter for iPhone</td>\n",
       "            </tr>\n",
       "            <tr>\n",
       "                        <th id=\"T_499b1742_196b_11eb_bba5_acde48001122level0_row15\" class=\"row_heading level0 row15\" >country</th>\n",
       "                        <td id=\"T_499b1742_196b_11eb_bba5_acde48001122row15_col0\" class=\"data row15 col0\" >0.862069</td>\n",
       "                        <td id=\"T_499b1742_196b_11eb_bba5_acde48001122row15_col1\" class=\"data row15 col1\" >0.137931</td>\n",
       "                        <td id=\"T_499b1742_196b_11eb_bba5_acde48001122row15_col2\" class=\"data row15 col2\" >0.006856</td>\n",
       "                        <td id=\"T_499b1742_196b_11eb_bba5_acde48001122row15_col3\" class=\"data row15 col3\" >0.862069</td>\n",
       "                        <td id=\"T_499b1742_196b_11eb_bba5_acde48001122row15_col4\" class=\"data row15 col4\" >Twitter for Android</td>\n",
       "            </tr>\n",
       "            <tr>\n",
       "                        <th id=\"T_499b1742_196b_11eb_bba5_acde48001122level0_row16\" class=\"row_heading level0 row16\" >u</th>\n",
       "                        <td id=\"T_499b1742_196b_11eb_bba5_acde48001122row16_col0\" class=\"data row16 col0\" >0.602170</td>\n",
       "                        <td id=\"T_499b1742_196b_11eb_bba5_acde48001122row16_col1\" class=\"data row16 col1\" >0.397830</td>\n",
       "                        <td id=\"T_499b1742_196b_11eb_bba5_acde48001122row16_col2\" class=\"data row16 col2\" >0.006697</td>\n",
       "                        <td id=\"T_499b1742_196b_11eb_bba5_acde48001122row16_col3\" class=\"data row16 col3\" >0.602170</td>\n",
       "                        <td id=\"T_499b1742_196b_11eb_bba5_acde48001122row16_col4\" class=\"data row16 col4\" >Twitter for Android</td>\n",
       "            </tr>\n",
       "            <tr>\n",
       "                        <th id=\"T_499b1742_196b_11eb_bba5_acde48001122level0_row17\" class=\"row_heading level0 row17\" >jobs</th>\n",
       "                        <td id=\"T_499b1742_196b_11eb_bba5_acde48001122row17_col0\" class=\"data row17 col0\" >0.468750</td>\n",
       "                        <td id=\"T_499b1742_196b_11eb_bba5_acde48001122row17_col1\" class=\"data row17 col1\" >0.531250</td>\n",
       "                        <td id=\"T_499b1742_196b_11eb_bba5_acde48001122row17_col2\" class=\"data row17 col2\" >0.006598</td>\n",
       "                        <td id=\"T_499b1742_196b_11eb_bba5_acde48001122row17_col3\" class=\"data row17 col3\" >0.531250</td>\n",
       "                        <td id=\"T_499b1742_196b_11eb_bba5_acde48001122row17_col4\" class=\"data row17 col4\" >Twitter for iPhone</td>\n",
       "            </tr>\n",
       "            <tr>\n",
       "                        <th id=\"T_499b1742_196b_11eb_bba5_acde48001122level0_row18\" class=\"row_heading level0 row18\" >election</th>\n",
       "                        <td id=\"T_499b1742_196b_11eb_bba5_acde48001122row18_col0\" class=\"data row18 col0\" >0.870968</td>\n",
       "                        <td id=\"T_499b1742_196b_11eb_bba5_acde48001122row18_col1\" class=\"data row18 col1\" >0.129032</td>\n",
       "                        <td id=\"T_499b1742_196b_11eb_bba5_acde48001122row18_col2\" class=\"data row18 col2\" >0.005880</td>\n",
       "                        <td id=\"T_499b1742_196b_11eb_bba5_acde48001122row18_col3\" class=\"data row18 col3\" >0.870968</td>\n",
       "                        <td id=\"T_499b1742_196b_11eb_bba5_acde48001122row18_col4\" class=\"data row18 col4\" >Twitter for Android</td>\n",
       "            </tr>\n",
       "            <tr>\n",
       "                        <th id=\"T_499b1742_196b_11eb_bba5_acde48001122level0_row19\" class=\"row_heading level0 row19\" >women</th>\n",
       "                        <td id=\"T_499b1742_196b_11eb_bba5_acde48001122row19_col0\" class=\"data row19 col0\" >nan</td>\n",
       "                        <td id=\"T_499b1742_196b_11eb_bba5_acde48001122row19_col1\" class=\"data row19 col1\" >1.000000</td>\n",
       "                        <td id=\"T_499b1742_196b_11eb_bba5_acde48001122row19_col2\" class=\"data row19 col2\" >0.005829</td>\n",
       "                        <td id=\"T_499b1742_196b_11eb_bba5_acde48001122row19_col3\" class=\"data row19 col3\" >1.000000</td>\n",
       "                        <td id=\"T_499b1742_196b_11eb_bba5_acde48001122row19_col4\" class=\"data row19 col4\" >Twitter for iPhone</td>\n",
       "            </tr>\n",
       "    </tbody></table>"
      ],
      "text/plain": [
       "<pandas.io.formats.style.Styler at 0x7fedff55f3c8>"
      ]
     },
     "execution_count": 83,
     "metadata": {},
     "output_type": "execute_result"
    }
   ],
   "source": [
    "## Summary Table with Most Frequent Words \n",
    "prob_cols =['Twitter for Android','Twitter for iPhone']\n",
    "top_probs['importance'] = importance.loc[top_probs.index]\n",
    "\n",
    "top_probs['max_prob'] = top_probs[prob_cols].max(axis=1)\n",
    "top_probs['Max Prob Class'] = top_probs[prob_cols].idxmax(axis=1)\n",
    "top_probs.sort_values('importance',0,0,inplace=True)\n",
    "top_probs.style.bar('importance')\\\n",
    "                    .background_gradient(subset=['max_prob'])\\\n",
    "                    .highlight_max(subset=prob_cols,axis=1,color='lightgreen')\n",
    "#.background_gradient(subset=prob_cols,axis=1,cmap='Reds')"
   ]
  },
  {
   "cell_type": "code",
   "execution_count": null,
   "metadata": {},
   "outputs": [],
   "source": []
  },
  {
   "cell_type": "code",
   "execution_count": 84,
   "metadata": {
    "ExecuteTime": {
     "end_time": "2020-10-28T22:16:55.238357Z",
     "start_time": "2020-10-28T22:16:55.214899Z"
    }
   },
   "outputs": [
    {
     "data": {
      "text/html": [
       "<style  type=\"text/css\" >\n",
       "#T_499ebd3e_196b_11eb_ad81_acde48001122row0_col1{\n",
       "            background-color:  #034165;\n",
       "            color:  #f1f1f1;\n",
       "        }#T_499ebd3e_196b_11eb_ad81_acde48001122row0_col2{\n",
       "            width:  10em;\n",
       "             height:  80%;\n",
       "            background:  linear-gradient(90deg,#d65f5f 100.0%, transparent 100.0%);\n",
       "        }#T_499ebd3e_196b_11eb_ad81_acde48001122row1_col1{\n",
       "            background-color:  #fff7fb;\n",
       "            color:  #000000;\n",
       "        }#T_499ebd3e_196b_11eb_ad81_acde48001122row1_col2{\n",
       "            width:  10em;\n",
       "             height:  80%;\n",
       "            background:  linear-gradient(90deg,#d65f5f 55.9%, transparent 55.9%);\n",
       "        }#T_499ebd3e_196b_11eb_ad81_acde48001122row2_col1{\n",
       "            background-color:  #0771b1;\n",
       "            color:  #f1f1f1;\n",
       "        }#T_499ebd3e_196b_11eb_ad81_acde48001122row2_col2{\n",
       "            width:  10em;\n",
       "             height:  80%;\n",
       "            background:  linear-gradient(90deg,#d65f5f 23.1%, transparent 23.1%);\n",
       "        }#T_499ebd3e_196b_11eb_ad81_acde48001122row3_col1{\n",
       "            background-color:  #acc0dd;\n",
       "            color:  #000000;\n",
       "        }#T_499ebd3e_196b_11eb_ad81_acde48001122row3_col2{\n",
       "            width:  10em;\n",
       "             height:  80%;\n",
       "            background:  linear-gradient(90deg,#d65f5f 18.2%, transparent 18.2%);\n",
       "        }#T_499ebd3e_196b_11eb_ad81_acde48001122row4_col1{\n",
       "            background-color:  #034c78;\n",
       "            color:  #f1f1f1;\n",
       "        }#T_499ebd3e_196b_11eb_ad81_acde48001122row4_col2{\n",
       "            width:  10em;\n",
       "             height:  80%;\n",
       "            background:  linear-gradient(90deg,#d65f5f 16.9%, transparent 16.9%);\n",
       "        }#T_499ebd3e_196b_11eb_ad81_acde48001122row5_col1{\n",
       "            background-color:  #efe9f3;\n",
       "            color:  #000000;\n",
       "        }#T_499ebd3e_196b_11eb_ad81_acde48001122row5_col2{\n",
       "            width:  10em;\n",
       "             height:  80%;\n",
       "            background:  linear-gradient(90deg,#d65f5f 15.8%, transparent 15.8%);\n",
       "        }#T_499ebd3e_196b_11eb_ad81_acde48001122row6_col1{\n",
       "            background-color:  #f1ebf4;\n",
       "            color:  #000000;\n",
       "        }#T_499ebd3e_196b_11eb_ad81_acde48001122row6_col2{\n",
       "            width:  10em;\n",
       "             height:  80%;\n",
       "            background:  linear-gradient(90deg,#d65f5f 12.2%, transparent 12.2%);\n",
       "        }#T_499ebd3e_196b_11eb_ad81_acde48001122row7_col1,#T_499ebd3e_196b_11eb_ad81_acde48001122row10_col1,#T_499ebd3e_196b_11eb_ad81_acde48001122row14_col1,#T_499ebd3e_196b_11eb_ad81_acde48001122row19_col1{\n",
       "            background-color:  #023858;\n",
       "            color:  #f1f1f1;\n",
       "        }#T_499ebd3e_196b_11eb_ad81_acde48001122row7_col2{\n",
       "            width:  10em;\n",
       "             height:  80%;\n",
       "            background:  linear-gradient(90deg,#d65f5f 10.2%, transparent 10.2%);\n",
       "        }#T_499ebd3e_196b_11eb_ad81_acde48001122row8_col1{\n",
       "            background-color:  #d3d4e7;\n",
       "            color:  #000000;\n",
       "        }#T_499ebd3e_196b_11eb_ad81_acde48001122row8_col2{\n",
       "            width:  10em;\n",
       "             height:  80%;\n",
       "            background:  linear-gradient(90deg,#d65f5f 9.9%, transparent 9.9%);\n",
       "        }#T_499ebd3e_196b_11eb_ad81_acde48001122row9_col1{\n",
       "            background-color:  #03456c;\n",
       "            color:  #f1f1f1;\n",
       "        }#T_499ebd3e_196b_11eb_ad81_acde48001122row9_col2{\n",
       "            width:  10em;\n",
       "             height:  80%;\n",
       "            background:  linear-gradient(90deg,#d65f5f 9.3%, transparent 9.3%);\n",
       "        }#T_499ebd3e_196b_11eb_ad81_acde48001122row10_col2{\n",
       "            width:  10em;\n",
       "             height:  80%;\n",
       "            background:  linear-gradient(90deg,#d65f5f 6.5%, transparent 6.5%);\n",
       "        }#T_499ebd3e_196b_11eb_ad81_acde48001122row11_col1{\n",
       "            background-color:  #056ead;\n",
       "            color:  #f1f1f1;\n",
       "        }#T_499ebd3e_196b_11eb_ad81_acde48001122row11_col2{\n",
       "            width:  10em;\n",
       "             height:  80%;\n",
       "            background:  linear-gradient(90deg,#d65f5f 5.9%, transparent 5.9%);\n",
       "        }#T_499ebd3e_196b_11eb_ad81_acde48001122row12_col1{\n",
       "            background-color:  #4496c3;\n",
       "            color:  #000000;\n",
       "        }#T_499ebd3e_196b_11eb_ad81_acde48001122row12_col2{\n",
       "            width:  10em;\n",
       "             height:  80%;\n",
       "            background:  linear-gradient(90deg,#d65f5f 3.1%, transparent 3.1%);\n",
       "        }#T_499ebd3e_196b_11eb_ad81_acde48001122row13_col1{\n",
       "            background-color:  #c1cae2;\n",
       "            color:  #000000;\n",
       "        }#T_499ebd3e_196b_11eb_ad81_acde48001122row13_col2,#T_499ebd3e_196b_11eb_ad81_acde48001122row14_col2{\n",
       "            width:  10em;\n",
       "             height:  80%;\n",
       "            background:  linear-gradient(90deg,#d65f5f 3.0%, transparent 3.0%);\n",
       "        }#T_499ebd3e_196b_11eb_ad81_acde48001122row15_col1{\n",
       "            background-color:  #157ab5;\n",
       "            color:  #000000;\n",
       "        }#T_499ebd3e_196b_11eb_ad81_acde48001122row15_col2{\n",
       "            width:  10em;\n",
       "             height:  80%;\n",
       "            background:  linear-gradient(90deg,#d65f5f 2.7%, transparent 2.7%);\n",
       "        }#T_499ebd3e_196b_11eb_ad81_acde48001122row16_col1{\n",
       "            background-color:  #e5e1ef;\n",
       "            color:  #000000;\n",
       "        }#T_499ebd3e_196b_11eb_ad81_acde48001122row16_col2{\n",
       "            width:  10em;\n",
       "             height:  80%;\n",
       "            background:  linear-gradient(90deg,#d65f5f 2.3%, transparent 2.3%);\n",
       "        }#T_499ebd3e_196b_11eb_ad81_acde48001122row17_col1{\n",
       "            background-color:  #fef6fa;\n",
       "            color:  #000000;\n",
       "        }#T_499ebd3e_196b_11eb_ad81_acde48001122row17_col2{\n",
       "            width:  10em;\n",
       "             height:  80%;\n",
       "            background:  linear-gradient(90deg,#d65f5f 2.0%, transparent 2.0%);\n",
       "        }#T_499ebd3e_196b_11eb_ad81_acde48001122row18_col1{\n",
       "            background-color:  #0d75b3;\n",
       "            color:  #f1f1f1;\n",
       "        }#T_499ebd3e_196b_11eb_ad81_acde48001122row18_col2{\n",
       "            width:  10em;\n",
       "             height:  80%;\n",
       "            background:  linear-gradient(90deg,#d65f5f 0.1%, transparent 0.1%);\n",
       "        }#T_499ebd3e_196b_11eb_ad81_acde48001122row19_col2{\n",
       "            width:  10em;\n",
       "             height:  80%;\n",
       "        }</style><table id=\"T_499ebd3e_196b_11eb_ad81_acde48001122\" ><thead>    <tr>        <th class=\"blank level0\" ></th>        <th class=\"col_heading level0 col0\" >Max Prob Class</th>        <th class=\"col_heading level0 col1\" >max_prob</th>        <th class=\"col_heading level0 col2\" >importance</th>    </tr></thead><tbody>\n",
       "                <tr>\n",
       "                        <th id=\"T_499ebd3e_196b_11eb_ad81_acde48001122level0_row0\" class=\"row_heading level0 row0\" >…</th>\n",
       "                        <td id=\"T_499ebd3e_196b_11eb_ad81_acde48001122row0_col0\" class=\"data row0 col0\" >Twitter for iPhone</td>\n",
       "                        <td id=\"T_499ebd3e_196b_11eb_ad81_acde48001122row0_col1\" class=\"data row0 col1\" >0.984127</td>\n",
       "                        <td id=\"T_499ebd3e_196b_11eb_ad81_acde48001122row0_col2\" class=\"data row0 col2\" >0.043890</td>\n",
       "            </tr>\n",
       "            <tr>\n",
       "                        <th id=\"T_499ebd3e_196b_11eb_ad81_acde48001122level0_row1\" class=\"row_heading level0 row1\" >rt</th>\n",
       "                        <td id=\"T_499ebd3e_196b_11eb_ad81_acde48001122row1_col0\" class=\"data row1 col0\" >Twitter for Android</td>\n",
       "                        <td id=\"T_499ebd3e_196b_11eb_ad81_acde48001122row1_col1\" class=\"data row1 col1\" >0.527559</td>\n",
       "                        <td id=\"T_499ebd3e_196b_11eb_ad81_acde48001122row1_col2\" class=\"data row1 col2\" >0.027105</td>\n",
       "            </tr>\n",
       "            <tr>\n",
       "                        <th id=\"T_499ebd3e_196b_11eb_ad81_acde48001122level0_row2\" class=\"row_heading level0 row2\" >people</th>\n",
       "                        <td id=\"T_499ebd3e_196b_11eb_ad81_acde48001122row2_col0\" class=\"data row2 col0\" >Twitter for Android</td>\n",
       "                        <td id=\"T_499ebd3e_196b_11eb_ad81_acde48001122row2_col1\" class=\"data row2 col1\" >0.880000</td>\n",
       "                        <td id=\"T_499ebd3e_196b_11eb_ad81_acde48001122row2_col2\" class=\"data row2 col2\" >0.014635</td>\n",
       "            </tr>\n",
       "            <tr>\n",
       "                        <th id=\"T_499ebd3e_196b_11eb_ad81_acde48001122level0_row3\" class=\"row_heading level0 row3\" >trump</th>\n",
       "                        <td id=\"T_499ebd3e_196b_11eb_ad81_acde48001122row3_col0\" class=\"data row3 col0\" >Twitter for iPhone</td>\n",
       "                        <td id=\"T_499ebd3e_196b_11eb_ad81_acde48001122row3_col1\" class=\"data row3 col1\" >0.696429</td>\n",
       "                        <td id=\"T_499ebd3e_196b_11eb_ad81_acde48001122row3_col2\" class=\"data row3 col2\" >0.012752</td>\n",
       "            </tr>\n",
       "            <tr>\n",
       "                        <th id=\"T_499ebd3e_196b_11eb_ad81_acde48001122level0_row4\" class=\"row_heading level0 row4\" >join</th>\n",
       "                        <td id=\"T_499ebd3e_196b_11eb_ad81_acde48001122row4_col0\" class=\"data row4 col0\" >Twitter for iPhone</td>\n",
       "                        <td id=\"T_499ebd3e_196b_11eb_ad81_acde48001122row4_col1\" class=\"data row4 col1\" >0.964286</td>\n",
       "                        <td id=\"T_499ebd3e_196b_11eb_ad81_acde48001122row4_col2\" class=\"data row4 col2\" >0.012268</td>\n",
       "            </tr>\n",
       "            <tr>\n",
       "                        <th id=\"T_499ebd3e_196b_11eb_ad81_acde48001122level0_row5\" class=\"row_heading level0 row5\" >today</th>\n",
       "                        <td id=\"T_499ebd3e_196b_11eb_ad81_acde48001122row5_col0\" class=\"data row5 col0\" >Twitter for iPhone</td>\n",
       "                        <td id=\"T_499ebd3e_196b_11eb_ad81_acde48001122row5_col1\" class=\"data row5 col1\" >0.578947</td>\n",
       "                        <td id=\"T_499ebd3e_196b_11eb_ad81_acde48001122row5_col2\" class=\"data row5 col2\" >0.011834</td>\n",
       "            </tr>\n",
       "            <tr>\n",
       "                        <th id=\"T_499ebd3e_196b_11eb_ad81_acde48001122level0_row6\" class=\"row_heading level0 row6\" >great</th>\n",
       "                        <td id=\"T_499ebd3e_196b_11eb_ad81_acde48001122row6_col0\" class=\"data row6 col0\" >Twitter for Android</td>\n",
       "                        <td id=\"T_499ebd3e_196b_11eb_ad81_acde48001122row6_col1\" class=\"data row6 col1\" >0.572917</td>\n",
       "                        <td id=\"T_499ebd3e_196b_11eb_ad81_acde48001122row6_col2\" class=\"data row6 col2\" >0.010490</td>\n",
       "            </tr>\n",
       "            <tr>\n",
       "                        <th id=\"T_499ebd3e_196b_11eb_ad81_acde48001122level0_row7\" class=\"row_heading level0 row7\" >🇸</th>\n",
       "                        <td id=\"T_499ebd3e_196b_11eb_ad81_acde48001122row7_col0\" class=\"data row7 col0\" >Twitter for iPhone</td>\n",
       "                        <td id=\"T_499ebd3e_196b_11eb_ad81_acde48001122row7_col1\" class=\"data row7 col1\" >1.000000</td>\n",
       "                        <td id=\"T_499ebd3e_196b_11eb_ad81_acde48001122row7_col2\" class=\"data row7 col2\" >0.009713</td>\n",
       "            </tr>\n",
       "            <tr>\n",
       "                        <th id=\"T_499ebd3e_196b_11eb_ad81_acde48001122level0_row8\" class=\"row_heading level0 row8\" >thank</th>\n",
       "                        <td id=\"T_499ebd3e_196b_11eb_ad81_acde48001122row8_col0\" class=\"data row8 col0\" >Twitter for iPhone</td>\n",
       "                        <td id=\"T_499ebd3e_196b_11eb_ad81_acde48001122row8_col1\" class=\"data row8 col1\" >0.639344</td>\n",
       "                        <td id=\"T_499ebd3e_196b_11eb_ad81_acde48001122row8_col2\" class=\"data row8 col2\" >0.009590</td>\n",
       "            </tr>\n",
       "            <tr>\n",
       "                        <th id=\"T_499ebd3e_196b_11eb_ad81_acde48001122level0_row9\" class=\"row_heading level0 row9\" >:/</th>\n",
       "                        <td id=\"T_499ebd3e_196b_11eb_ad81_acde48001122row9_col0\" class=\"data row9 col0\" >Twitter for iPhone</td>\n",
       "                        <td id=\"T_499ebd3e_196b_11eb_ad81_acde48001122row9_col1\" class=\"data row9 col1\" >0.976048</td>\n",
       "                        <td id=\"T_499ebd3e_196b_11eb_ad81_acde48001122row9_col2\" class=\"data row9 col2\" >0.009357</td>\n",
       "            </tr>\n",
       "            <tr>\n",
       "                        <th id=\"T_499ebd3e_196b_11eb_ad81_acde48001122level0_row10\" class=\"row_heading level0 row10\" >🇺</th>\n",
       "                        <td id=\"T_499ebd3e_196b_11eb_ad81_acde48001122row10_col0\" class=\"data row10 col0\" >Twitter for iPhone</td>\n",
       "                        <td id=\"T_499ebd3e_196b_11eb_ad81_acde48001122row10_col1\" class=\"data row10 col1\" >1.000000</td>\n",
       "                        <td id=\"T_499ebd3e_196b_11eb_ad81_acde48001122row10_col2\" class=\"data row10 col2\" >0.008311</td>\n",
       "            </tr>\n",
       "            <tr>\n",
       "                        <th id=\"T_499ebd3e_196b_11eb_ad81_acde48001122level0_row11\" class=\"row_heading level0 row11\" >media</th>\n",
       "                        <td id=\"T_499ebd3e_196b_11eb_ad81_acde48001122row11_col0\" class=\"data row11 col0\" >Twitter for Android</td>\n",
       "                        <td id=\"T_499ebd3e_196b_11eb_ad81_acde48001122row11_col1\" class=\"data row11 col1\" >0.885714</td>\n",
       "                        <td id=\"T_499ebd3e_196b_11eb_ad81_acde48001122row11_col2\" class=\"data row11 col2\" >0.008091</td>\n",
       "            </tr>\n",
       "            <tr>\n",
       "                        <th id=\"T_499ebd3e_196b_11eb_ad81_acde48001122level0_row12\" class=\"row_heading level0 row12\" >never</th>\n",
       "                        <td id=\"T_499ebd3e_196b_11eb_ad81_acde48001122row12_col0\" class=\"data row12 col0\" >Twitter for Android</td>\n",
       "                        <td id=\"T_499ebd3e_196b_11eb_ad81_acde48001122row12_col1\" class=\"data row12 col1\" >0.809524</td>\n",
       "                        <td id=\"T_499ebd3e_196b_11eb_ad81_acde48001122row12_col2\" class=\"data row12 col2\" >0.007016</td>\n",
       "            </tr>\n",
       "            <tr>\n",
       "                        <th id=\"T_499ebd3e_196b_11eb_ad81_acde48001122level0_row13\" class=\"row_heading level0 row13\" >congratulations</th>\n",
       "                        <td id=\"T_499ebd3e_196b_11eb_ad81_acde48001122row13_col0\" class=\"data row13 col0\" >Twitter for iPhone</td>\n",
       "                        <td id=\"T_499ebd3e_196b_11eb_ad81_acde48001122row13_col1\" class=\"data row13 col1\" >0.666667</td>\n",
       "                        <td id=\"T_499ebd3e_196b_11eb_ad81_acde48001122row13_col2\" class=\"data row13 col2\" >0.006989</td>\n",
       "            </tr>\n",
       "            <tr>\n",
       "                        <th id=\"T_499ebd3e_196b_11eb_ad81_acde48001122level0_row14\" class=\"row_heading level0 row14\" >@whitehouse</th>\n",
       "                        <td id=\"T_499ebd3e_196b_11eb_ad81_acde48001122row14_col0\" class=\"data row14 col0\" >Twitter for iPhone</td>\n",
       "                        <td id=\"T_499ebd3e_196b_11eb_ad81_acde48001122row14_col1\" class=\"data row14 col1\" >1.000000</td>\n",
       "                        <td id=\"T_499ebd3e_196b_11eb_ad81_acde48001122row14_col2\" class=\"data row14 col2\" >0.006982</td>\n",
       "            </tr>\n",
       "            <tr>\n",
       "                        <th id=\"T_499ebd3e_196b_11eb_ad81_acde48001122level0_row15\" class=\"row_heading level0 row15\" >country</th>\n",
       "                        <td id=\"T_499ebd3e_196b_11eb_ad81_acde48001122row15_col0\" class=\"data row15 col0\" >Twitter for Android</td>\n",
       "                        <td id=\"T_499ebd3e_196b_11eb_ad81_acde48001122row15_col1\" class=\"data row15 col1\" >0.862069</td>\n",
       "                        <td id=\"T_499ebd3e_196b_11eb_ad81_acde48001122row15_col2\" class=\"data row15 col2\" >0.006856</td>\n",
       "            </tr>\n",
       "            <tr>\n",
       "                        <th id=\"T_499ebd3e_196b_11eb_ad81_acde48001122level0_row16\" class=\"row_heading level0 row16\" >u</th>\n",
       "                        <td id=\"T_499ebd3e_196b_11eb_ad81_acde48001122row16_col0\" class=\"data row16 col0\" >Twitter for Android</td>\n",
       "                        <td id=\"T_499ebd3e_196b_11eb_ad81_acde48001122row16_col1\" class=\"data row16 col1\" >0.602170</td>\n",
       "                        <td id=\"T_499ebd3e_196b_11eb_ad81_acde48001122row16_col2\" class=\"data row16 col2\" >0.006697</td>\n",
       "            </tr>\n",
       "            <tr>\n",
       "                        <th id=\"T_499ebd3e_196b_11eb_ad81_acde48001122level0_row17\" class=\"row_heading level0 row17\" >jobs</th>\n",
       "                        <td id=\"T_499ebd3e_196b_11eb_ad81_acde48001122row17_col0\" class=\"data row17 col0\" >Twitter for iPhone</td>\n",
       "                        <td id=\"T_499ebd3e_196b_11eb_ad81_acde48001122row17_col1\" class=\"data row17 col1\" >0.531250</td>\n",
       "                        <td id=\"T_499ebd3e_196b_11eb_ad81_acde48001122row17_col2\" class=\"data row17 col2\" >0.006598</td>\n",
       "            </tr>\n",
       "            <tr>\n",
       "                        <th id=\"T_499ebd3e_196b_11eb_ad81_acde48001122level0_row18\" class=\"row_heading level0 row18\" >election</th>\n",
       "                        <td id=\"T_499ebd3e_196b_11eb_ad81_acde48001122row18_col0\" class=\"data row18 col0\" >Twitter for Android</td>\n",
       "                        <td id=\"T_499ebd3e_196b_11eb_ad81_acde48001122row18_col1\" class=\"data row18 col1\" >0.870968</td>\n",
       "                        <td id=\"T_499ebd3e_196b_11eb_ad81_acde48001122row18_col2\" class=\"data row18 col2\" >0.005880</td>\n",
       "            </tr>\n",
       "            <tr>\n",
       "                        <th id=\"T_499ebd3e_196b_11eb_ad81_acde48001122level0_row19\" class=\"row_heading level0 row19\" >women</th>\n",
       "                        <td id=\"T_499ebd3e_196b_11eb_ad81_acde48001122row19_col0\" class=\"data row19 col0\" >Twitter for iPhone</td>\n",
       "                        <td id=\"T_499ebd3e_196b_11eb_ad81_acde48001122row19_col1\" class=\"data row19 col1\" >1.000000</td>\n",
       "                        <td id=\"T_499ebd3e_196b_11eb_ad81_acde48001122row19_col2\" class=\"data row19 col2\" >0.005829</td>\n",
       "            </tr>\n",
       "    </tbody></table>"
      ],
      "text/plain": [
       "<pandas.io.formats.style.Styler at 0x7fedff5b4ac8>"
      ]
     },
     "metadata": {},
     "output_type": "display_data"
    },
    {
     "data": {
      "text/plain": [
       "Twitter for iPhone     0.6\n",
       "Twitter for Android    0.4\n",
       "Name: Max Prob Class, dtype: float64"
      ]
     },
     "execution_count": 84,
     "metadata": {},
     "output_type": "execute_result"
    }
   ],
   "source": [
    "results = top_probs[['Max Prob Class','max_prob','importance']]\n",
    "display(results.style.bar('importance').background_gradient(subset=['max_prob']))\n",
    "results['Max Prob Class'].value_counts(1)\n"
   ]
  },
  {
   "cell_type": "markdown",
   "metadata": {},
   "source": [
    "### Interactive Tokenizer Example"
   ]
  },
  {
   "cell_type": "code",
   "execution_count": 85,
   "metadata": {
    "ExecuteTime": {
     "end_time": "2020-10-28T22:16:55.273165Z",
     "start_time": "2020-10-28T22:16:55.240249Z"
    }
   },
   "outputs": [
    {
     "data": {
      "application/vnd.jupyter.widget-view+json": {
       "model_id": "2119c7cd6ad0448788c07bf97c08f4f7",
       "version_major": 2,
       "version_minor": 0
      },
      "text/plain": [
       "interactive(children=(IntSlider(value=7032, description='i', max=14065), Output()), _dom_classes=('widget-inte…"
      ]
     },
     "metadata": {},
     "output_type": "display_data"
    }
   ],
   "source": [
    "from nltk import word_tokenize\n",
    "from ipywidgets import interact\n",
    "\n",
    "@interact\n",
    "def tokenize_tweet(i=(0,len(corpus)-1)):\n",
    "    from nltk.corpus import stopwords\n",
    "    import string\n",
    "    from nltk import word_tokenize,regexp_tokenize\n",
    "    \n",
    "    print(f\"- Tweet #{i}:\\n\")\n",
    "    print(corpus[i],'\\n')\n",
    "    tokens = word_tokenize(corpus[i])\n",
    "\n",
    "    # Get all the stop words in the English language\n",
    "    stopwords_list = stopwords.words('english')\n",
    "    stopwords_list += string.punctuation\n",
    "    stopped_tokens = [w.lower() for w in tokens if w not in stopwords_list]\n",
    "    \n",
    "    print(tokens,end='\\n\\n')\n",
    "    print(stopped_tokens)"
   ]
  },
  {
   "cell_type": "markdown",
   "metadata": {},
   "source": [
    "### NLP Vocabulary\n",
    "- Corpus\n",
    "    - Body of text\n",
    "    \n",
    "- Bag of Words\n",
    "    - Collection of all words from a corpus.\n"
   ]
  },
  {
   "cell_type": "markdown",
   "metadata": {},
   "source": [
    "## Regular Expressions"
   ]
  },
  {
   "cell_type": "markdown",
   "metadata": {},
   "source": [
    "- Use https://regex101.com/ to test out regular expressions"
   ]
  },
  {
   "cell_type": "markdown",
   "metadata": {},
   "source": [
    "## Context-Free Grammers and POS Tagging"
   ]
  },
  {
   "cell_type": "markdown",
   "metadata": {},
   "source": [
    "<img src=\"https://raw.githubusercontent.com/jirvingphd/dsc-context-free-grammars-and-POS-tagging-online-ds-ft-100719/master/images/new_LevelsOfLanguage-Graph.png\">"
   ]
  },
  {
   "cell_type": "markdown",
   "metadata": {},
   "source": [
    "#### Syntax and Meaning Can be Difficult for Computers \n",
    "\n",
    "In English, sentences consist of a **_Noun Phrase_** followed by a **_Verb Phrase_**, which may optionally be followed by a **_Prepositional Phrase_**.\n",
    "\n",
    "This ***seems simple, but it gets more tricky*** when we realize that there is a recursive structure to these phrases.\n",
    "\n",
    "- A noun phrase may consist of multiple smaller noun phrases, and in some cases, even a verb phrase. \n",
    "- Similarly, a verb phrase can consist of multiple smaller verb phrases and noun phrases, which can themselves be made up of smaller noun phrases and verb phrases. \n",
    "\n",
    "\n",
    "This leads levels of **_ambiguity_** that can be troublesome for computers. NLTK's documentation explains this by examining the classic Groucho Marx joke:\n",
    "\n",
    "> ***\"While hunting in Africa, I shot an elephant in my pajamas. How he got into my pajamas, I don't know.\"***\n",
    "\n"
   ]
  },
  {
   "cell_type": "markdown",
   "metadata": {},
   "source": [
    "<img src=\"https://raw.githubusercontent.com/jirvingphd/dsc-context-free-grammars-and-POS-tagging-online-ds-ft-100719/master/images/parse_tree.png\">"
   ]
  },
  {
   "cell_type": "code",
   "execution_count": null,
   "metadata": {},
   "outputs": [],
   "source": [
    "\n"
   ]
  },
  {
   "cell_type": "code",
   "execution_count": null,
   "metadata": {},
   "outputs": [],
   "source": []
  }
 ],
 "metadata": {
  "kernelspec": {
   "display_name": "learn-env",
   "language": "python",
   "name": "learn-env"
  },
  "language_info": {
   "codemirror_mode": {
    "name": "ipython",
    "version": 3
   },
   "file_extension": ".py",
   "mimetype": "text/x-python",
   "name": "python",
   "nbconvert_exporter": "python",
   "pygments_lexer": "ipython3",
   "version": "3.6.11"
  },
  "toc": {
   "base_numbering": 1,
   "nav_menu": {},
   "number_sections": true,
   "sideBar": true,
   "skip_h1_title": false,
   "title_cell": "Table of Contents",
   "title_sidebar": "Contents",
   "toc_cell": false,
   "toc_position": {
    "height": "calc(100% - 180px)",
    "left": "10px",
    "top": "150px",
    "width": "320px"
   },
   "toc_section_display": true,
   "toc_window_display": true
  }
 },
 "nbformat": 4,
 "nbformat_minor": 2
}
