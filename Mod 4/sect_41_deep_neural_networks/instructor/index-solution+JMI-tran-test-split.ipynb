{
 "cells": [
  {
   "cell_type": "markdown",
   "metadata": {},
   "source": [
    "# Deeper Neural Networks - Lab\n",
    "\n",
    "## Introduction\n",
    "\n",
    "In this lesson, we'll dig deeper into the work horse of deep learning, **_Multi-Layer Perceptrons_**! We'll build and train a couple of different MLPs with Keras and explore the tradeoffs that come with adding extra hidden layers. We'll also try switching between some of the activation functions we learned about in the previous lesson to see how they affect training and performance. \n",
    "\n",
    "\n",
    "## Objectives\n",
    "\n",
    "- Build a deep neural network using Keras \n",
    "\n",
    "\n",
    "## Getting Started\n",
    "\n",
    "Run the cell below to import everything we'll need for this lab. "
   ]
  },
  {
   "cell_type": "code",
   "execution_count": 1,
   "metadata": {
    "ExecuteTime": {
     "end_time": "2020-11-04T22:53:25.653854Z",
     "start_time": "2020-11-04T22:53:24.628724Z"
    }
   },
   "outputs": [],
   "source": [
    "import pandas as pd\n",
    "import numpy as np\n",
    "import matplotlib.pyplot as plt\n",
    "%matplotlib inline\n",
    "from sklearn.preprocessing import StandardScaler, LabelBinarizer\n",
    "from sklearn.datasets import load_breast_cancer\n"
   ]
  },
  {
   "cell_type": "markdown",
   "metadata": {},
   "source": [
    "## UPDATING FOR TENSORFLOW 2.0"
   ]
  },
  {
   "cell_type": "code",
   "execution_count": 2,
   "metadata": {
    "ExecuteTime": {
     "end_time": "2020-11-04T22:53:25.657758Z",
     "start_time": "2020-11-04T22:53:25.656034Z"
    }
   },
   "outputs": [],
   "source": [
    "#!pip install -U tensorflow"
   ]
  },
  {
   "cell_type": "code",
   "execution_count": 3,
   "metadata": {
    "ExecuteTime": {
     "end_time": "2020-11-04T22:53:27.772848Z",
     "start_time": "2020-11-04T22:53:25.659542Z"
    }
   },
   "outputs": [
    {
     "data": {
      "text/plain": [
       "'2.3.1'"
      ]
     },
     "execution_count": 3,
     "metadata": {},
     "output_type": "execute_result"
    }
   ],
   "source": [
    "import tensorflow as tf\n",
    "from tensorflow import keras\n",
    "from tensorflow.keras.models import Sequential\n",
    "from tensorflow.keras.layers import Dense\n",
    "tf.__version__"
   ]
  },
  {
   "cell_type": "code",
   "execution_count": 4,
   "metadata": {
    "ExecuteTime": {
     "end_time": "2020-11-04T22:53:27.777324Z",
     "start_time": "2020-11-04T22:53:27.775207Z"
    }
   },
   "outputs": [],
   "source": [
    "# import keras\n",
    "# from keras.models import Sequential\n",
    "# from keras.layers import Dense\n"
   ]
  },
  {
   "cell_type": "markdown",
   "metadata": {},
   "source": [
    "For this lab, we'll be working with the [Boston Breast Cancer Dataset](https://www.kaggle.com/uciml/breast-cancer-wisconsin-data). Although we're importing this dataset directly from scikit-learn, the Kaggle link above contains a detailed explanation of the dataset, in case you're interested. We recommend you take a minute to familiarize yourself with the dataset before digging in. \n",
    "\n",
    "In the cell below:\n",
    "\n",
    "* Call `load_breast_cancer()` to store the dataset  \n",
    "* Access the `.data`, `.target`, and `.feature_names` attributes and store them in the appropriate variables below "
   ]
  },
  {
   "cell_type": "code",
   "execution_count": 5,
   "metadata": {
    "ExecuteTime": {
     "end_time": "2020-11-04T22:53:27.791443Z",
     "start_time": "2020-11-04T22:53:27.779433Z"
    }
   },
   "outputs": [],
   "source": [
    "bc_dataset = load_breast_cancer()\n",
    "data = bc_dataset.data\n",
    "target = bc_dataset.target\n",
    "col_names = bc_dataset.feature_names"
   ]
  },
  {
   "cell_type": "markdown",
   "metadata": {},
   "source": [
    "Now, let's create a DataFrame so that we can see the data and explore it a bit more easily with the column names attached. \n",
    "\n",
    "- In the cell below, create a pandas DataFrame from `data` (use `col_names` for column names)  \n",
    "- Print the `.head()` of the DataFrame "
   ]
  },
  {
   "cell_type": "code",
   "execution_count": 6,
   "metadata": {
    "ExecuteTime": {
     "end_time": "2020-11-04T22:53:27.821930Z",
     "start_time": "2020-11-04T22:53:27.793342Z"
    }
   },
   "outputs": [
    {
     "data": {
      "text/html": [
       "<div>\n",
       "<style scoped>\n",
       "    .dataframe tbody tr th:only-of-type {\n",
       "        vertical-align: middle;\n",
       "    }\n",
       "\n",
       "    .dataframe tbody tr th {\n",
       "        vertical-align: top;\n",
       "    }\n",
       "\n",
       "    .dataframe thead th {\n",
       "        text-align: right;\n",
       "    }\n",
       "</style>\n",
       "<table border=\"1\" class=\"dataframe\">\n",
       "  <thead>\n",
       "    <tr style=\"text-align: right;\">\n",
       "      <th></th>\n",
       "      <th>mean radius</th>\n",
       "      <th>mean texture</th>\n",
       "      <th>mean perimeter</th>\n",
       "      <th>mean area</th>\n",
       "      <th>mean smoothness</th>\n",
       "      <th>mean compactness</th>\n",
       "      <th>mean concavity</th>\n",
       "      <th>mean concave points</th>\n",
       "      <th>mean symmetry</th>\n",
       "      <th>mean fractal dimension</th>\n",
       "      <th>...</th>\n",
       "      <th>worst radius</th>\n",
       "      <th>worst texture</th>\n",
       "      <th>worst perimeter</th>\n",
       "      <th>worst area</th>\n",
       "      <th>worst smoothness</th>\n",
       "      <th>worst compactness</th>\n",
       "      <th>worst concavity</th>\n",
       "      <th>worst concave points</th>\n",
       "      <th>worst symmetry</th>\n",
       "      <th>worst fractal dimension</th>\n",
       "    </tr>\n",
       "  </thead>\n",
       "  <tbody>\n",
       "    <tr>\n",
       "      <th>0</th>\n",
       "      <td>17.99</td>\n",
       "      <td>10.38</td>\n",
       "      <td>122.80</td>\n",
       "      <td>1001.0</td>\n",
       "      <td>0.11840</td>\n",
       "      <td>0.27760</td>\n",
       "      <td>0.3001</td>\n",
       "      <td>0.14710</td>\n",
       "      <td>0.2419</td>\n",
       "      <td>0.07871</td>\n",
       "      <td>...</td>\n",
       "      <td>25.38</td>\n",
       "      <td>17.33</td>\n",
       "      <td>184.60</td>\n",
       "      <td>2019.0</td>\n",
       "      <td>0.1622</td>\n",
       "      <td>0.6656</td>\n",
       "      <td>0.7119</td>\n",
       "      <td>0.2654</td>\n",
       "      <td>0.4601</td>\n",
       "      <td>0.11890</td>\n",
       "    </tr>\n",
       "    <tr>\n",
       "      <th>1</th>\n",
       "      <td>20.57</td>\n",
       "      <td>17.77</td>\n",
       "      <td>132.90</td>\n",
       "      <td>1326.0</td>\n",
       "      <td>0.08474</td>\n",
       "      <td>0.07864</td>\n",
       "      <td>0.0869</td>\n",
       "      <td>0.07017</td>\n",
       "      <td>0.1812</td>\n",
       "      <td>0.05667</td>\n",
       "      <td>...</td>\n",
       "      <td>24.99</td>\n",
       "      <td>23.41</td>\n",
       "      <td>158.80</td>\n",
       "      <td>1956.0</td>\n",
       "      <td>0.1238</td>\n",
       "      <td>0.1866</td>\n",
       "      <td>0.2416</td>\n",
       "      <td>0.1860</td>\n",
       "      <td>0.2750</td>\n",
       "      <td>0.08902</td>\n",
       "    </tr>\n",
       "    <tr>\n",
       "      <th>2</th>\n",
       "      <td>19.69</td>\n",
       "      <td>21.25</td>\n",
       "      <td>130.00</td>\n",
       "      <td>1203.0</td>\n",
       "      <td>0.10960</td>\n",
       "      <td>0.15990</td>\n",
       "      <td>0.1974</td>\n",
       "      <td>0.12790</td>\n",
       "      <td>0.2069</td>\n",
       "      <td>0.05999</td>\n",
       "      <td>...</td>\n",
       "      <td>23.57</td>\n",
       "      <td>25.53</td>\n",
       "      <td>152.50</td>\n",
       "      <td>1709.0</td>\n",
       "      <td>0.1444</td>\n",
       "      <td>0.4245</td>\n",
       "      <td>0.4504</td>\n",
       "      <td>0.2430</td>\n",
       "      <td>0.3613</td>\n",
       "      <td>0.08758</td>\n",
       "    </tr>\n",
       "    <tr>\n",
       "      <th>3</th>\n",
       "      <td>11.42</td>\n",
       "      <td>20.38</td>\n",
       "      <td>77.58</td>\n",
       "      <td>386.1</td>\n",
       "      <td>0.14250</td>\n",
       "      <td>0.28390</td>\n",
       "      <td>0.2414</td>\n",
       "      <td>0.10520</td>\n",
       "      <td>0.2597</td>\n",
       "      <td>0.09744</td>\n",
       "      <td>...</td>\n",
       "      <td>14.91</td>\n",
       "      <td>26.50</td>\n",
       "      <td>98.87</td>\n",
       "      <td>567.7</td>\n",
       "      <td>0.2098</td>\n",
       "      <td>0.8663</td>\n",
       "      <td>0.6869</td>\n",
       "      <td>0.2575</td>\n",
       "      <td>0.6638</td>\n",
       "      <td>0.17300</td>\n",
       "    </tr>\n",
       "    <tr>\n",
       "      <th>4</th>\n",
       "      <td>20.29</td>\n",
       "      <td>14.34</td>\n",
       "      <td>135.10</td>\n",
       "      <td>1297.0</td>\n",
       "      <td>0.10030</td>\n",
       "      <td>0.13280</td>\n",
       "      <td>0.1980</td>\n",
       "      <td>0.10430</td>\n",
       "      <td>0.1809</td>\n",
       "      <td>0.05883</td>\n",
       "      <td>...</td>\n",
       "      <td>22.54</td>\n",
       "      <td>16.67</td>\n",
       "      <td>152.20</td>\n",
       "      <td>1575.0</td>\n",
       "      <td>0.1374</td>\n",
       "      <td>0.2050</td>\n",
       "      <td>0.4000</td>\n",
       "      <td>0.1625</td>\n",
       "      <td>0.2364</td>\n",
       "      <td>0.07678</td>\n",
       "    </tr>\n",
       "  </tbody>\n",
       "</table>\n",
       "<p>5 rows × 30 columns</p>\n",
       "</div>"
      ],
      "text/plain": [
       "   mean radius  mean texture  mean perimeter  mean area  mean smoothness  \\\n",
       "0        17.99         10.38          122.80     1001.0          0.11840   \n",
       "1        20.57         17.77          132.90     1326.0          0.08474   \n",
       "2        19.69         21.25          130.00     1203.0          0.10960   \n",
       "3        11.42         20.38           77.58      386.1          0.14250   \n",
       "4        20.29         14.34          135.10     1297.0          0.10030   \n",
       "\n",
       "   mean compactness  mean concavity  mean concave points  mean symmetry  \\\n",
       "0           0.27760          0.3001              0.14710         0.2419   \n",
       "1           0.07864          0.0869              0.07017         0.1812   \n",
       "2           0.15990          0.1974              0.12790         0.2069   \n",
       "3           0.28390          0.2414              0.10520         0.2597   \n",
       "4           0.13280          0.1980              0.10430         0.1809   \n",
       "\n",
       "   mean fractal dimension  ...  worst radius  worst texture  worst perimeter  \\\n",
       "0                 0.07871  ...         25.38          17.33           184.60   \n",
       "1                 0.05667  ...         24.99          23.41           158.80   \n",
       "2                 0.05999  ...         23.57          25.53           152.50   \n",
       "3                 0.09744  ...         14.91          26.50            98.87   \n",
       "4                 0.05883  ...         22.54          16.67           152.20   \n",
       "\n",
       "   worst area  worst smoothness  worst compactness  worst concavity  \\\n",
       "0      2019.0            0.1622             0.6656           0.7119   \n",
       "1      1956.0            0.1238             0.1866           0.2416   \n",
       "2      1709.0            0.1444             0.4245           0.4504   \n",
       "3       567.7            0.2098             0.8663           0.6869   \n",
       "4      1575.0            0.1374             0.2050           0.4000   \n",
       "\n",
       "   worst concave points  worst symmetry  worst fractal dimension  \n",
       "0                0.2654          0.4601                  0.11890  \n",
       "1                0.1860          0.2750                  0.08902  \n",
       "2                0.2430          0.3613                  0.08758  \n",
       "3                0.2575          0.6638                  0.17300  \n",
       "4                0.1625          0.2364                  0.07678  \n",
       "\n",
       "[5 rows x 30 columns]"
      ]
     },
     "execution_count": 6,
     "metadata": {},
     "output_type": "execute_result"
    }
   ],
   "source": [
    "df = pd.DataFrame(data, columns=col_names)\n",
    "df.head()"
   ]
  },
  {
   "cell_type": "markdown",
   "metadata": {},
   "source": [
    "## Getting the Data Ready for Deep Learning\n",
    "\n",
    "In order to pass this data into a neural network, we'll need to make sure that the data:\n",
    "\n",
    "* is purely numerical\n",
    "* contains no missing values\n",
    "* is normalized \n",
    "\n",
    "Let's begin by calling the DataFrame's `.info()` method to check the datatype of each feature. "
   ]
  },
  {
   "cell_type": "code",
   "execution_count": 7,
   "metadata": {
    "ExecuteTime": {
     "end_time": "2020-11-04T22:53:27.835020Z",
     "start_time": "2020-11-04T22:53:27.823556Z"
    }
   },
   "outputs": [
    {
     "name": "stdout",
     "output_type": "stream",
     "text": [
      "<class 'pandas.core.frame.DataFrame'>\n",
      "RangeIndex: 569 entries, 0 to 568\n",
      "Data columns (total 30 columns):\n",
      " #   Column                   Non-Null Count  Dtype  \n",
      "---  ------                   --------------  -----  \n",
      " 0   mean radius              569 non-null    float64\n",
      " 1   mean texture             569 non-null    float64\n",
      " 2   mean perimeter           569 non-null    float64\n",
      " 3   mean area                569 non-null    float64\n",
      " 4   mean smoothness          569 non-null    float64\n",
      " 5   mean compactness         569 non-null    float64\n",
      " 6   mean concavity           569 non-null    float64\n",
      " 7   mean concave points      569 non-null    float64\n",
      " 8   mean symmetry            569 non-null    float64\n",
      " 9   mean fractal dimension   569 non-null    float64\n",
      " 10  radius error             569 non-null    float64\n",
      " 11  texture error            569 non-null    float64\n",
      " 12  perimeter error          569 non-null    float64\n",
      " 13  area error               569 non-null    float64\n",
      " 14  smoothness error         569 non-null    float64\n",
      " 15  compactness error        569 non-null    float64\n",
      " 16  concavity error          569 non-null    float64\n",
      " 17  concave points error     569 non-null    float64\n",
      " 18  symmetry error           569 non-null    float64\n",
      " 19  fractal dimension error  569 non-null    float64\n",
      " 20  worst radius             569 non-null    float64\n",
      " 21  worst texture            569 non-null    float64\n",
      " 22  worst perimeter          569 non-null    float64\n",
      " 23  worst area               569 non-null    float64\n",
      " 24  worst smoothness         569 non-null    float64\n",
      " 25  worst compactness        569 non-null    float64\n",
      " 26  worst concavity          569 non-null    float64\n",
      " 27  worst concave points     569 non-null    float64\n",
      " 28  worst symmetry           569 non-null    float64\n",
      " 29  worst fractal dimension  569 non-null    float64\n",
      "dtypes: float64(30)\n",
      "memory usage: 133.5 KB\n"
     ]
    }
   ],
   "source": [
    "df.info()"
   ]
  },
  {
   "cell_type": "markdown",
   "metadata": {},
   "source": [
    "From the output above, we can see that the entire dataset is already in numerical format. We can also see from the counts that each feature has the same number of entries as the number of rows in the DataFrame -- that means that no feature contains any missing values. Great!\n",
    "\n",
    "Now, let's check to see if our data needs to be normalized. Instead of doing statistical tests here, let's just take a quick look at the `.head()` of the DataFrame again. Do this in the cell below. "
   ]
  },
  {
   "cell_type": "code",
   "execution_count": 8,
   "metadata": {
    "ExecuteTime": {
     "end_time": "2020-11-04T22:53:27.858102Z",
     "start_time": "2020-11-04T22:53:27.838125Z"
    }
   },
   "outputs": [
    {
     "data": {
      "text/html": [
       "<div>\n",
       "<style scoped>\n",
       "    .dataframe tbody tr th:only-of-type {\n",
       "        vertical-align: middle;\n",
       "    }\n",
       "\n",
       "    .dataframe tbody tr th {\n",
       "        vertical-align: top;\n",
       "    }\n",
       "\n",
       "    .dataframe thead th {\n",
       "        text-align: right;\n",
       "    }\n",
       "</style>\n",
       "<table border=\"1\" class=\"dataframe\">\n",
       "  <thead>\n",
       "    <tr style=\"text-align: right;\">\n",
       "      <th></th>\n",
       "      <th>mean radius</th>\n",
       "      <th>mean texture</th>\n",
       "      <th>mean perimeter</th>\n",
       "      <th>mean area</th>\n",
       "      <th>mean smoothness</th>\n",
       "      <th>mean compactness</th>\n",
       "      <th>mean concavity</th>\n",
       "      <th>mean concave points</th>\n",
       "      <th>mean symmetry</th>\n",
       "      <th>mean fractal dimension</th>\n",
       "      <th>...</th>\n",
       "      <th>worst radius</th>\n",
       "      <th>worst texture</th>\n",
       "      <th>worst perimeter</th>\n",
       "      <th>worst area</th>\n",
       "      <th>worst smoothness</th>\n",
       "      <th>worst compactness</th>\n",
       "      <th>worst concavity</th>\n",
       "      <th>worst concave points</th>\n",
       "      <th>worst symmetry</th>\n",
       "      <th>worst fractal dimension</th>\n",
       "    </tr>\n",
       "  </thead>\n",
       "  <tbody>\n",
       "    <tr>\n",
       "      <th>0</th>\n",
       "      <td>17.99</td>\n",
       "      <td>10.38</td>\n",
       "      <td>122.80</td>\n",
       "      <td>1001.0</td>\n",
       "      <td>0.11840</td>\n",
       "      <td>0.27760</td>\n",
       "      <td>0.3001</td>\n",
       "      <td>0.14710</td>\n",
       "      <td>0.2419</td>\n",
       "      <td>0.07871</td>\n",
       "      <td>...</td>\n",
       "      <td>25.38</td>\n",
       "      <td>17.33</td>\n",
       "      <td>184.60</td>\n",
       "      <td>2019.0</td>\n",
       "      <td>0.1622</td>\n",
       "      <td>0.6656</td>\n",
       "      <td>0.7119</td>\n",
       "      <td>0.2654</td>\n",
       "      <td>0.4601</td>\n",
       "      <td>0.11890</td>\n",
       "    </tr>\n",
       "    <tr>\n",
       "      <th>1</th>\n",
       "      <td>20.57</td>\n",
       "      <td>17.77</td>\n",
       "      <td>132.90</td>\n",
       "      <td>1326.0</td>\n",
       "      <td>0.08474</td>\n",
       "      <td>0.07864</td>\n",
       "      <td>0.0869</td>\n",
       "      <td>0.07017</td>\n",
       "      <td>0.1812</td>\n",
       "      <td>0.05667</td>\n",
       "      <td>...</td>\n",
       "      <td>24.99</td>\n",
       "      <td>23.41</td>\n",
       "      <td>158.80</td>\n",
       "      <td>1956.0</td>\n",
       "      <td>0.1238</td>\n",
       "      <td>0.1866</td>\n",
       "      <td>0.2416</td>\n",
       "      <td>0.1860</td>\n",
       "      <td>0.2750</td>\n",
       "      <td>0.08902</td>\n",
       "    </tr>\n",
       "    <tr>\n",
       "      <th>2</th>\n",
       "      <td>19.69</td>\n",
       "      <td>21.25</td>\n",
       "      <td>130.00</td>\n",
       "      <td>1203.0</td>\n",
       "      <td>0.10960</td>\n",
       "      <td>0.15990</td>\n",
       "      <td>0.1974</td>\n",
       "      <td>0.12790</td>\n",
       "      <td>0.2069</td>\n",
       "      <td>0.05999</td>\n",
       "      <td>...</td>\n",
       "      <td>23.57</td>\n",
       "      <td>25.53</td>\n",
       "      <td>152.50</td>\n",
       "      <td>1709.0</td>\n",
       "      <td>0.1444</td>\n",
       "      <td>0.4245</td>\n",
       "      <td>0.4504</td>\n",
       "      <td>0.2430</td>\n",
       "      <td>0.3613</td>\n",
       "      <td>0.08758</td>\n",
       "    </tr>\n",
       "    <tr>\n",
       "      <th>3</th>\n",
       "      <td>11.42</td>\n",
       "      <td>20.38</td>\n",
       "      <td>77.58</td>\n",
       "      <td>386.1</td>\n",
       "      <td>0.14250</td>\n",
       "      <td>0.28390</td>\n",
       "      <td>0.2414</td>\n",
       "      <td>0.10520</td>\n",
       "      <td>0.2597</td>\n",
       "      <td>0.09744</td>\n",
       "      <td>...</td>\n",
       "      <td>14.91</td>\n",
       "      <td>26.50</td>\n",
       "      <td>98.87</td>\n",
       "      <td>567.7</td>\n",
       "      <td>0.2098</td>\n",
       "      <td>0.8663</td>\n",
       "      <td>0.6869</td>\n",
       "      <td>0.2575</td>\n",
       "      <td>0.6638</td>\n",
       "      <td>0.17300</td>\n",
       "    </tr>\n",
       "    <tr>\n",
       "      <th>4</th>\n",
       "      <td>20.29</td>\n",
       "      <td>14.34</td>\n",
       "      <td>135.10</td>\n",
       "      <td>1297.0</td>\n",
       "      <td>0.10030</td>\n",
       "      <td>0.13280</td>\n",
       "      <td>0.1980</td>\n",
       "      <td>0.10430</td>\n",
       "      <td>0.1809</td>\n",
       "      <td>0.05883</td>\n",
       "      <td>...</td>\n",
       "      <td>22.54</td>\n",
       "      <td>16.67</td>\n",
       "      <td>152.20</td>\n",
       "      <td>1575.0</td>\n",
       "      <td>0.1374</td>\n",
       "      <td>0.2050</td>\n",
       "      <td>0.4000</td>\n",
       "      <td>0.1625</td>\n",
       "      <td>0.2364</td>\n",
       "      <td>0.07678</td>\n",
       "    </tr>\n",
       "  </tbody>\n",
       "</table>\n",
       "<p>5 rows × 30 columns</p>\n",
       "</div>"
      ],
      "text/plain": [
       "   mean radius  mean texture  mean perimeter  mean area  mean smoothness  \\\n",
       "0        17.99         10.38          122.80     1001.0          0.11840   \n",
       "1        20.57         17.77          132.90     1326.0          0.08474   \n",
       "2        19.69         21.25          130.00     1203.0          0.10960   \n",
       "3        11.42         20.38           77.58      386.1          0.14250   \n",
       "4        20.29         14.34          135.10     1297.0          0.10030   \n",
       "\n",
       "   mean compactness  mean concavity  mean concave points  mean symmetry  \\\n",
       "0           0.27760          0.3001              0.14710         0.2419   \n",
       "1           0.07864          0.0869              0.07017         0.1812   \n",
       "2           0.15990          0.1974              0.12790         0.2069   \n",
       "3           0.28390          0.2414              0.10520         0.2597   \n",
       "4           0.13280          0.1980              0.10430         0.1809   \n",
       "\n",
       "   mean fractal dimension  ...  worst radius  worst texture  worst perimeter  \\\n",
       "0                 0.07871  ...         25.38          17.33           184.60   \n",
       "1                 0.05667  ...         24.99          23.41           158.80   \n",
       "2                 0.05999  ...         23.57          25.53           152.50   \n",
       "3                 0.09744  ...         14.91          26.50            98.87   \n",
       "4                 0.05883  ...         22.54          16.67           152.20   \n",
       "\n",
       "   worst area  worst smoothness  worst compactness  worst concavity  \\\n",
       "0      2019.0            0.1622             0.6656           0.7119   \n",
       "1      1956.0            0.1238             0.1866           0.2416   \n",
       "2      1709.0            0.1444             0.4245           0.4504   \n",
       "3       567.7            0.2098             0.8663           0.6869   \n",
       "4      1575.0            0.1374             0.2050           0.4000   \n",
       "\n",
       "   worst concave points  worst symmetry  worst fractal dimension  \n",
       "0                0.2654          0.4601                  0.11890  \n",
       "1                0.1860          0.2750                  0.08902  \n",
       "2                0.2430          0.3613                  0.08758  \n",
       "3                0.2575          0.6638                  0.17300  \n",
       "4                0.1625          0.2364                  0.07678  \n",
       "\n",
       "[5 rows x 30 columns]"
      ]
     },
     "execution_count": 8,
     "metadata": {},
     "output_type": "execute_result"
    }
   ],
   "source": [
    "df.head()"
   ]
  },
  {
   "cell_type": "markdown",
   "metadata": {},
   "source": [
    "As we can see from comparing `mean radius` and `mean area`, columns are clearly on different scales, which means that we need to normalize our dataset. To do this, we'll make use of scikit-learn's `StandardScaler()` class. \n",
    "\n",
    "In the cell below, instantiate a `StandardScaler` and use it to create a normalized version of our dataset. "
   ]
  },
  {
   "cell_type": "code",
   "execution_count": 27,
   "metadata": {
    "ExecuteTime": {
     "end_time": "2020-11-04T22:59:02.925961Z",
     "start_time": "2020-11-04T22:59:02.922415Z"
    }
   },
   "outputs": [],
   "source": [
    "X = df.copy()\n",
    "\n",
    "binarizer = LabelBinarizer()\n",
    "\n",
    "y = binarizer.fit_transform(target)\n",
    "# y"
   ]
  },
  {
   "cell_type": "code",
   "execution_count": 28,
   "metadata": {
    "ExecuteTime": {
     "end_time": "2020-11-04T22:59:03.241989Z",
     "start_time": "2020-11-04T22:59:03.238082Z"
    }
   },
   "outputs": [],
   "source": [
    "from sklearn.model_selection import train_test_split\n",
    "\n",
    "X_train,X_test,y_train,y_test = train_test_split(X,y,random_state=321)"
   ]
  },
  {
   "cell_type": "code",
   "execution_count": 29,
   "metadata": {
    "ExecuteTime": {
     "end_time": "2020-11-04T22:59:03.785538Z",
     "start_time": "2020-11-04T22:59:03.746210Z"
    }
   },
   "outputs": [
    {
     "data": {
      "text/html": [
       "<div>\n",
       "<style scoped>\n",
       "    .dataframe tbody tr th:only-of-type {\n",
       "        vertical-align: middle;\n",
       "    }\n",
       "\n",
       "    .dataframe tbody tr th {\n",
       "        vertical-align: top;\n",
       "    }\n",
       "\n",
       "    .dataframe thead th {\n",
       "        text-align: right;\n",
       "    }\n",
       "</style>\n",
       "<table border=\"1\" class=\"dataframe\">\n",
       "  <thead>\n",
       "    <tr style=\"text-align: right;\">\n",
       "      <th></th>\n",
       "      <th>mean radius</th>\n",
       "      <th>mean texture</th>\n",
       "      <th>mean perimeter</th>\n",
       "      <th>mean area</th>\n",
       "      <th>mean smoothness</th>\n",
       "      <th>mean compactness</th>\n",
       "      <th>mean concavity</th>\n",
       "      <th>mean concave points</th>\n",
       "      <th>mean symmetry</th>\n",
       "      <th>mean fractal dimension</th>\n",
       "      <th>...</th>\n",
       "      <th>worst radius</th>\n",
       "      <th>worst texture</th>\n",
       "      <th>worst perimeter</th>\n",
       "      <th>worst area</th>\n",
       "      <th>worst smoothness</th>\n",
       "      <th>worst compactness</th>\n",
       "      <th>worst concavity</th>\n",
       "      <th>worst concave points</th>\n",
       "      <th>worst symmetry</th>\n",
       "      <th>worst fractal dimension</th>\n",
       "    </tr>\n",
       "  </thead>\n",
       "  <tbody>\n",
       "    <tr>\n",
       "      <th>0</th>\n",
       "      <td>-0.455453</td>\n",
       "      <td>-1.023401</td>\n",
       "      <td>-0.520013</td>\n",
       "      <td>-0.479836</td>\n",
       "      <td>-1.193406</td>\n",
       "      <td>-1.272125</td>\n",
       "      <td>-0.937715</td>\n",
       "      <td>-0.933969</td>\n",
       "      <td>-1.010465</td>\n",
       "      <td>-0.755148</td>\n",
       "      <td>...</td>\n",
       "      <td>-0.608383</td>\n",
       "      <td>-0.876322</td>\n",
       "      <td>-0.672327</td>\n",
       "      <td>-0.568997</td>\n",
       "      <td>-1.223479</td>\n",
       "      <td>-1.078604</td>\n",
       "      <td>-0.945581</td>\n",
       "      <td>-1.071466</td>\n",
       "      <td>0.045291</td>\n",
       "      <td>-0.856306</td>\n",
       "    </tr>\n",
       "    <tr>\n",
       "      <th>1</th>\n",
       "      <td>-0.103032</td>\n",
       "      <td>-0.713931</td>\n",
       "      <td>-0.160809</td>\n",
       "      <td>-0.204474</td>\n",
       "      <td>-1.368142</td>\n",
       "      <td>-0.774349</td>\n",
       "      <td>-0.837317</td>\n",
       "      <td>-0.773728</td>\n",
       "      <td>-1.756259</td>\n",
       "      <td>-0.459209</td>\n",
       "      <td>...</td>\n",
       "      <td>-0.297668</td>\n",
       "      <td>-0.410451</td>\n",
       "      <td>-0.301285</td>\n",
       "      <td>-0.365615</td>\n",
       "      <td>-0.991080</td>\n",
       "      <td>-0.571636</td>\n",
       "      <td>-0.746366</td>\n",
       "      <td>-0.373377</td>\n",
       "      <td>-0.946751</td>\n",
       "      <td>-0.182492</td>\n",
       "    </tr>\n",
       "    <tr>\n",
       "      <th>2</th>\n",
       "      <td>0.766467</td>\n",
       "      <td>0.485858</td>\n",
       "      <td>0.791083</td>\n",
       "      <td>0.757125</td>\n",
       "      <td>1.187643</td>\n",
       "      <td>0.814760</td>\n",
       "      <td>0.835112</td>\n",
       "      <td>1.166625</td>\n",
       "      <td>0.724568</td>\n",
       "      <td>0.101439</td>\n",
       "      <td>...</td>\n",
       "      <td>2.194397</td>\n",
       "      <td>0.972295</td>\n",
       "      <td>2.153720</td>\n",
       "      <td>2.431658</td>\n",
       "      <td>2.208869</td>\n",
       "      <td>0.686330</td>\n",
       "      <td>0.959381</td>\n",
       "      <td>1.530277</td>\n",
       "      <td>1.317964</td>\n",
       "      <td>0.652452</td>\n",
       "    </tr>\n",
       "    <tr>\n",
       "      <th>3</th>\n",
       "      <td>0.156951</td>\n",
       "      <td>1.952268</td>\n",
       "      <td>0.236822</td>\n",
       "      <td>0.046906</td>\n",
       "      <td>1.318151</td>\n",
       "      <td>1.072423</td>\n",
       "      <td>0.977468</td>\n",
       "      <td>0.696063</td>\n",
       "      <td>1.914746</td>\n",
       "      <td>1.212325</td>\n",
       "      <td>...</td>\n",
       "      <td>0.292057</td>\n",
       "      <td>1.892473</td>\n",
       "      <td>0.548805</td>\n",
       "      <td>0.148676</td>\n",
       "      <td>1.641280</td>\n",
       "      <td>2.576431</td>\n",
       "      <td>2.050216</td>\n",
       "      <td>0.940582</td>\n",
       "      <td>2.399379</td>\n",
       "      <td>2.738998</td>\n",
       "    </tr>\n",
       "    <tr>\n",
       "      <th>4</th>\n",
       "      <td>0.711581</td>\n",
       "      <td>0.183530</td>\n",
       "      <td>0.761846</td>\n",
       "      <td>0.549954</td>\n",
       "      <td>0.187805</td>\n",
       "      <td>0.999605</td>\n",
       "      <td>1.169773</td>\n",
       "      <td>1.087417</td>\n",
       "      <td>-0.052140</td>\n",
       "      <td>0.091029</td>\n",
       "      <td>...</td>\n",
       "      <td>0.361810</td>\n",
       "      <td>0.458515</td>\n",
       "      <td>0.530601</td>\n",
       "      <td>0.216889</td>\n",
       "      <td>0.465880</td>\n",
       "      <td>1.372666</td>\n",
       "      <td>1.505501</td>\n",
       "      <td>1.437897</td>\n",
       "      <td>0.318773</td>\n",
       "      <td>0.628038</td>\n",
       "    </tr>\n",
       "    <tr>\n",
       "      <th>...</th>\n",
       "      <td>...</td>\n",
       "      <td>...</td>\n",
       "      <td>...</td>\n",
       "      <td>...</td>\n",
       "      <td>...</td>\n",
       "      <td>...</td>\n",
       "      <td>...</td>\n",
       "      <td>...</td>\n",
       "      <td>...</td>\n",
       "      <td>...</td>\n",
       "      <td>...</td>\n",
       "      <td>...</td>\n",
       "      <td>...</td>\n",
       "      <td>...</td>\n",
       "      <td>...</td>\n",
       "      <td>...</td>\n",
       "      <td>...</td>\n",
       "      <td>...</td>\n",
       "      <td>...</td>\n",
       "      <td>...</td>\n",
       "      <td>...</td>\n",
       "    </tr>\n",
       "    <tr>\n",
       "      <th>421</th>\n",
       "      <td>-0.761655</td>\n",
       "      <td>-0.421126</td>\n",
       "      <td>-0.775633</td>\n",
       "      <td>-0.701454</td>\n",
       "      <td>-0.517664</td>\n",
       "      <td>-0.913637</td>\n",
       "      <td>-0.721684</td>\n",
       "      <td>-0.675499</td>\n",
       "      <td>-0.797933</td>\n",
       "      <td>-0.518694</td>\n",
       "      <td>...</td>\n",
       "      <td>-0.640089</td>\n",
       "      <td>1.758659</td>\n",
       "      <td>-0.635314</td>\n",
       "      <td>-0.608668</td>\n",
       "      <td>0.635709</td>\n",
       "      <td>-0.546426</td>\n",
       "      <td>-0.390242</td>\n",
       "      <td>-0.356133</td>\n",
       "      <td>0.173988</td>\n",
       "      <td>-0.334398</td>\n",
       "    </tr>\n",
       "    <tr>\n",
       "      <th>422</th>\n",
       "      <td>1.003340</td>\n",
       "      <td>1.271435</td>\n",
       "      <td>1.045868</td>\n",
       "      <td>0.988278</td>\n",
       "      <td>0.665610</td>\n",
       "      <td>1.087360</td>\n",
       "      <td>1.626809</td>\n",
       "      <td>1.494925</td>\n",
       "      <td>-1.041379</td>\n",
       "      <td>0.153489</td>\n",
       "      <td>...</td>\n",
       "      <td>1.492645</td>\n",
       "      <td>1.099500</td>\n",
       "      <td>1.495371</td>\n",
       "      <td>1.435389</td>\n",
       "      <td>0.291581</td>\n",
       "      <td>0.845152</td>\n",
       "      <td>1.050635</td>\n",
       "      <td>0.954439</td>\n",
       "      <td>-1.279219</td>\n",
       "      <td>0.509226</td>\n",
       "    </tr>\n",
       "    <tr>\n",
       "      <th>423</th>\n",
       "      <td>-0.596999</td>\n",
       "      <td>-2.006562</td>\n",
       "      <td>-0.623180</td>\n",
       "      <td>-0.577498</td>\n",
       "      <td>-0.507513</td>\n",
       "      <td>-0.926894</td>\n",
       "      <td>-0.743787</td>\n",
       "      <td>-0.754707</td>\n",
       "      <td>-0.797933</td>\n",
       "      <td>-1.071906</td>\n",
       "      <td>...</td>\n",
       "      <td>-0.481561</td>\n",
       "      <td>-0.914318</td>\n",
       "      <td>-0.557343</td>\n",
       "      <td>-0.486244</td>\n",
       "      <td>0.282642</td>\n",
       "      <td>-0.576048</td>\n",
       "      <td>-0.529229</td>\n",
       "      <td>-0.636662</td>\n",
       "      <td>-0.742980</td>\n",
       "      <td>-0.596437</td>\n",
       "    </tr>\n",
       "    <tr>\n",
       "      <th>424</th>\n",
       "      <td>-0.181026</td>\n",
       "      <td>-0.702029</td>\n",
       "      <td>-0.207171</td>\n",
       "      <td>-0.257350</td>\n",
       "      <td>-1.781418</td>\n",
       "      <td>-0.537972</td>\n",
       "      <td>-0.058732</td>\n",
       "      <td>-0.493110</td>\n",
       "      <td>-1.489628</td>\n",
       "      <td>-0.652536</td>\n",
       "      <td>...</td>\n",
       "      <td>-0.384330</td>\n",
       "      <td>-0.483140</td>\n",
       "      <td>-0.425370</td>\n",
       "      <td>-0.409774</td>\n",
       "      <td>-1.277109</td>\n",
       "      <td>0.026465</td>\n",
       "      <td>0.310308</td>\n",
       "      <td>-0.313022</td>\n",
       "      <td>-1.479415</td>\n",
       "      <td>-0.397874</td>\n",
       "    </tr>\n",
       "    <tr>\n",
       "      <th>425</th>\n",
       "      <td>-1.810541</td>\n",
       "      <td>1.464258</td>\n",
       "      <td>-1.799366</td>\n",
       "      <td>-1.340016</td>\n",
       "      <td>-1.068698</td>\n",
       "      <td>-0.994857</td>\n",
       "      <td>-1.069207</td>\n",
       "      <td>-1.222664</td>\n",
       "      <td>0.241541</td>\n",
       "      <td>1.521648</td>\n",
       "      <td>...</td>\n",
       "      <td>-1.479866</td>\n",
       "      <td>0.866565</td>\n",
       "      <td>-1.481763</td>\n",
       "      <td>-1.099264</td>\n",
       "      <td>-0.244723</td>\n",
       "      <td>-1.043058</td>\n",
       "      <td>-1.237734</td>\n",
       "      <td>-1.695343</td>\n",
       "      <td>0.325922</td>\n",
       "      <td>0.855356</td>\n",
       "    </tr>\n",
       "  </tbody>\n",
       "</table>\n",
       "<p>426 rows × 30 columns</p>\n",
       "</div>"
      ],
      "text/plain": [
       "     mean radius  mean texture  mean perimeter  mean area  mean smoothness  \\\n",
       "0      -0.455453     -1.023401       -0.520013  -0.479836        -1.193406   \n",
       "1      -0.103032     -0.713931       -0.160809  -0.204474        -1.368142   \n",
       "2       0.766467      0.485858        0.791083   0.757125         1.187643   \n",
       "3       0.156951      1.952268        0.236822   0.046906         1.318151   \n",
       "4       0.711581      0.183530        0.761846   0.549954         0.187805   \n",
       "..           ...           ...             ...        ...              ...   \n",
       "421    -0.761655     -0.421126       -0.775633  -0.701454        -0.517664   \n",
       "422     1.003340      1.271435        1.045868   0.988278         0.665610   \n",
       "423    -0.596999     -2.006562       -0.623180  -0.577498        -0.507513   \n",
       "424    -0.181026     -0.702029       -0.207171  -0.257350        -1.781418   \n",
       "425    -1.810541      1.464258       -1.799366  -1.340016        -1.068698   \n",
       "\n",
       "     mean compactness  mean concavity  mean concave points  mean symmetry  \\\n",
       "0           -1.272125       -0.937715            -0.933969      -1.010465   \n",
       "1           -0.774349       -0.837317            -0.773728      -1.756259   \n",
       "2            0.814760        0.835112             1.166625       0.724568   \n",
       "3            1.072423        0.977468             0.696063       1.914746   \n",
       "4            0.999605        1.169773             1.087417      -0.052140   \n",
       "..                ...             ...                  ...            ...   \n",
       "421         -0.913637       -0.721684            -0.675499      -0.797933   \n",
       "422          1.087360        1.626809             1.494925      -1.041379   \n",
       "423         -0.926894       -0.743787            -0.754707      -0.797933   \n",
       "424         -0.537972       -0.058732            -0.493110      -1.489628   \n",
       "425         -0.994857       -1.069207            -1.222664       0.241541   \n",
       "\n",
       "     mean fractal dimension  ...  worst radius  worst texture  \\\n",
       "0                 -0.755148  ...     -0.608383      -0.876322   \n",
       "1                 -0.459209  ...     -0.297668      -0.410451   \n",
       "2                  0.101439  ...      2.194397       0.972295   \n",
       "3                  1.212325  ...      0.292057       1.892473   \n",
       "4                  0.091029  ...      0.361810       0.458515   \n",
       "..                      ...  ...           ...            ...   \n",
       "421               -0.518694  ...     -0.640089       1.758659   \n",
       "422                0.153489  ...      1.492645       1.099500   \n",
       "423               -1.071906  ...     -0.481561      -0.914318   \n",
       "424               -0.652536  ...     -0.384330      -0.483140   \n",
       "425                1.521648  ...     -1.479866       0.866565   \n",
       "\n",
       "     worst perimeter  worst area  worst smoothness  worst compactness  \\\n",
       "0          -0.672327   -0.568997         -1.223479          -1.078604   \n",
       "1          -0.301285   -0.365615         -0.991080          -0.571636   \n",
       "2           2.153720    2.431658          2.208869           0.686330   \n",
       "3           0.548805    0.148676          1.641280           2.576431   \n",
       "4           0.530601    0.216889          0.465880           1.372666   \n",
       "..               ...         ...               ...                ...   \n",
       "421        -0.635314   -0.608668          0.635709          -0.546426   \n",
       "422         1.495371    1.435389          0.291581           0.845152   \n",
       "423        -0.557343   -0.486244          0.282642          -0.576048   \n",
       "424        -0.425370   -0.409774         -1.277109           0.026465   \n",
       "425        -1.481763   -1.099264         -0.244723          -1.043058   \n",
       "\n",
       "     worst concavity  worst concave points  worst symmetry  \\\n",
       "0          -0.945581             -1.071466        0.045291   \n",
       "1          -0.746366             -0.373377       -0.946751   \n",
       "2           0.959381              1.530277        1.317964   \n",
       "3           2.050216              0.940582        2.399379   \n",
       "4           1.505501              1.437897        0.318773   \n",
       "..               ...                   ...             ...   \n",
       "421        -0.390242             -0.356133        0.173988   \n",
       "422         1.050635              0.954439       -1.279219   \n",
       "423        -0.529229             -0.636662       -0.742980   \n",
       "424         0.310308             -0.313022       -1.479415   \n",
       "425        -1.237734             -1.695343        0.325922   \n",
       "\n",
       "     worst fractal dimension  \n",
       "0                  -0.856306  \n",
       "1                  -0.182492  \n",
       "2                   0.652452  \n",
       "3                   2.738998  \n",
       "4                   0.628038  \n",
       "..                       ...  \n",
       "421                -0.334398  \n",
       "422                 0.509226  \n",
       "423                -0.596437  \n",
       "424                -0.397874  \n",
       "425                 0.855356  \n",
       "\n",
       "[426 rows x 30 columns]"
      ]
     },
     "execution_count": 29,
     "metadata": {},
     "output_type": "execute_result"
    }
   ],
   "source": [
    "scaler = StandardScaler()\n",
    "X_train_sca = pd.DataFrame(scaler.fit_transform(X_train),columns=X_train.columns)\n",
    "X_test_sca = pd.DataFrame(scaler.transform(X_test),columns=X_test.columns)\n",
    "X_train_sca"
   ]
  },
  {
   "cell_type": "markdown",
   "metadata": {},
   "source": [
    "## Binarizing our Labels\n",
    "\n",
    "If you took a look at the data dictionary on Kaggle, then you probably noticed the target for this dataset is to predict if the sample is \"M\" (Malignant) or \"B\" (Benign). This means that this is a **_Binary Classification_** task, so we'll need to binarize our labels. \n",
    "\n",
    "In the cell below, make use of scikit-learn's `LabelBinarizer()` class to create a binarized version of our labels. "
   ]
  },
  {
   "cell_type": "code",
   "execution_count": 30,
   "metadata": {
    "ExecuteTime": {
     "end_time": "2020-11-04T22:59:07.710473Z",
     "start_time": "2020-11-04T22:59:07.708426Z"
    }
   },
   "outputs": [],
   "source": [
    "# binarizer = LabelBinarizer()\n",
    "# labels = binarizer.fit_transform(target)\n",
    "# labels[0]"
   ]
  },
  {
   "cell_type": "markdown",
   "metadata": {},
   "source": [
    "## Building our MLP\n",
    "\n",
    "Now, we'll build a small **_Multi-Layer Perceptron_** using Keras in the cell below. Our first model will act as a baseline, and then we'll make it bigger to see what happens to model performance. \n",
    "\n",
    "In the cell below:\n",
    "\n",
    "* Instantiate a `Sequential()` Keras model   \n",
    "* Use the model's `.add()` method to add a `Dense` layer with 10 neurons and a `'tanh'` activation function. Also set the `input_shape` attribute to `(30,)`, since we have 30 features  \n",
    "* Since this is a binary classification task, the output layer should be a `Dense` layer with a single neuron, and the activation set to `'sigmoid'` "
   ]
  },
  {
   "cell_type": "code",
   "execution_count": 31,
   "metadata": {
    "ExecuteTime": {
     "end_time": "2020-11-04T22:59:13.145105Z",
     "start_time": "2020-11-04T22:59:13.126434Z"
    }
   },
   "outputs": [],
   "source": [
    "model_1 = Sequential()\n",
    "model_1.add(Dense(5, activation='tanh', input_shape=(30,)))\n",
    "model_1.add(Dense(1, activation='sigmoid'))"
   ]
  },
  {
   "cell_type": "markdown",
   "metadata": {},
   "source": [
    "### Compiling the Model\n",
    "\n",
    "Now that we've created the model, the next step is to compile it. \n",
    "\n",
    "In the cell below, compile the model. Set the following hyperparameters:\n",
    "\n",
    "* `loss='binary_crossentropy'`\n",
    "* `optimizer='sgd'`\n",
    "* `metrics=['acc']`"
   ]
  },
  {
   "cell_type": "code",
   "execution_count": 32,
   "metadata": {
    "ExecuteTime": {
     "end_time": "2020-11-04T22:59:14.102034Z",
     "start_time": "2020-11-04T22:59:14.092505Z"
    }
   },
   "outputs": [],
   "source": [
    "model_1.compile(loss='binary_crossentropy', optimizer='sgd', metrics=['acc'])"
   ]
  },
  {
   "cell_type": "markdown",
   "metadata": {},
   "source": [
    "### Fitting the Model\n",
    "\n",
    "Now, let's fit the model. Set the following hyperparameters:\n",
    "\n",
    "* `epochs=25`\n",
    "* `batch_size=1`\n",
    "* `validation_split=0.2`"
   ]
  },
  {
   "cell_type": "code",
   "execution_count": 33,
   "metadata": {
    "ExecuteTime": {
     "end_time": "2020-11-04T22:59:27.143342Z",
     "start_time": "2020-11-04T22:59:22.107341Z"
    }
   },
   "outputs": [
    {
     "name": "stdout",
     "output_type": "stream",
     "text": [
      "Epoch 1/25\n",
      "340/340 [==============================] - 0s 1ms/step - loss: 0.2484 - acc: 0.9147 - val_loss: 0.1510 - val_acc: 0.9651\n",
      "Epoch 2/25\n",
      "340/340 [==============================] - 0s 510us/step - loss: 0.1357 - acc: 0.9647 - val_loss: 0.1069 - val_acc: 0.9884\n",
      "Epoch 3/25\n",
      "340/340 [==============================] - 0s 515us/step - loss: 0.1038 - acc: 0.9765 - val_loss: 0.0915 - val_acc: 0.9767\n",
      "Epoch 4/25\n",
      "340/340 [==============================] - 0s 525us/step - loss: 0.0885 - acc: 0.9765 - val_loss: 0.0842 - val_acc: 0.9651\n",
      "Epoch 5/25\n",
      "340/340 [==============================] - 0s 523us/step - loss: 0.0784 - acc: 0.9794 - val_loss: 0.0886 - val_acc: 0.9651\n",
      "Epoch 6/25\n",
      "340/340 [==============================] - 0s 513us/step - loss: 0.0714 - acc: 0.9794 - val_loss: 0.0815 - val_acc: 0.9651\n",
      "Epoch 7/25\n",
      "340/340 [==============================] - 0s 513us/step - loss: 0.0676 - acc: 0.9765 - val_loss: 0.0840 - val_acc: 0.9651\n",
      "Epoch 8/25\n",
      "340/340 [==============================] - 0s 514us/step - loss: 0.0645 - acc: 0.9794 - val_loss: 0.0886 - val_acc: 0.9651\n",
      "Epoch 9/25\n",
      "340/340 [==============================] - 0s 512us/step - loss: 0.0617 - acc: 0.9794 - val_loss: 0.0920 - val_acc: 0.9651\n",
      "Epoch 10/25\n",
      "340/340 [==============================] - 0s 494us/step - loss: 0.0593 - acc: 0.9824 - val_loss: 0.0959 - val_acc: 0.9651\n",
      "Epoch 11/25\n",
      "340/340 [==============================] - 0s 513us/step - loss: 0.0570 - acc: 0.9794 - val_loss: 0.1009 - val_acc: 0.9651\n",
      "Epoch 12/25\n",
      "340/340 [==============================] - 0s 512us/step - loss: 0.0545 - acc: 0.9853 - val_loss: 0.1098 - val_acc: 0.9651\n",
      "Epoch 13/25\n",
      "340/340 [==============================] - 0s 539us/step - loss: 0.0540 - acc: 0.9824 - val_loss: 0.1134 - val_acc: 0.9651\n",
      "Epoch 14/25\n",
      "340/340 [==============================] - 0s 559us/step - loss: 0.0525 - acc: 0.9824 - val_loss: 0.1131 - val_acc: 0.9651\n",
      "Epoch 15/25\n",
      "340/340 [==============================] - 0s 555us/step - loss: 0.0505 - acc: 0.9853 - val_loss: 0.1208 - val_acc: 0.9651\n",
      "Epoch 16/25\n",
      "340/340 [==============================] - 0s 584us/step - loss: 0.0506 - acc: 0.9824 - val_loss: 0.1182 - val_acc: 0.9651\n",
      "Epoch 17/25\n",
      "340/340 [==============================] - 0s 560us/step - loss: 0.0493 - acc: 0.9853 - val_loss: 0.1211 - val_acc: 0.9651\n",
      "Epoch 18/25\n",
      "340/340 [==============================] - 0s 590us/step - loss: 0.0483 - acc: 0.9824 - val_loss: 0.1296 - val_acc: 0.9535\n",
      "Epoch 19/25\n",
      "340/340 [==============================] - 0s 517us/step - loss: 0.0473 - acc: 0.9853 - val_loss: 0.1302 - val_acc: 0.9535\n",
      "Epoch 20/25\n",
      "340/340 [==============================] - 0s 521us/step - loss: 0.0460 - acc: 0.9882 - val_loss: 0.1387 - val_acc: 0.9535\n",
      "Epoch 21/25\n",
      "340/340 [==============================] - 0s 605us/step - loss: 0.0457 - acc: 0.9853 - val_loss: 0.1410 - val_acc: 0.9535\n",
      "Epoch 22/25\n",
      "340/340 [==============================] - 0s 514us/step - loss: 0.0450 - acc: 0.9853 - val_loss: 0.1387 - val_acc: 0.9535\n",
      "Epoch 23/25\n",
      "340/340 [==============================] - 0s 580us/step - loss: 0.0440 - acc: 0.9882 - val_loss: 0.1429 - val_acc: 0.9535\n",
      "Epoch 24/25\n",
      "340/340 [==============================] - 0s 543us/step - loss: 0.0431 - acc: 0.9882 - val_loss: 0.1481 - val_acc: 0.9535\n",
      "Epoch 25/25\n",
      "340/340 [==============================] - 0s 495us/step - loss: 0.0429 - acc: 0.9853 - val_loss: 0.1444 - val_acc: 0.9535\n"
     ]
    }
   ],
   "source": [
    "results_1 = model_1.fit(X_train_sca, y_train, epochs=25, batch_size=1, validation_split=0.2)"
   ]
  },
  {
   "cell_type": "markdown",
   "metadata": {},
   "source": [
    "Note that when you call a Keras model's `.fit()` method, it returns a Keras callback containing information on the training process of the model. If you examine the callback's `.history` attribute, you'll find a dictionary containing both the training and validation loss, as well as any metrics we specified when compiling the model (in this case, just accuracy). \n",
    "\n",
    "Let's quickly plot our validation and accuracy curves and see if we notice anything. Since we'll want to do this anytime we train an MLP, its worth wrapping this code in a function so that we can easily reuse it. \n",
    "\n",
    "In the cell below, we created a function for visualizing the loss and accuracy metrics. "
   ]
  },
  {
   "cell_type": "code",
   "execution_count": 34,
   "metadata": {
    "ExecuteTime": {
     "end_time": "2020-11-04T22:59:31.180157Z",
     "start_time": "2020-11-04T22:59:31.175187Z"
    }
   },
   "outputs": [],
   "source": [
    "def visualize_training_results(results):\n",
    "    history = results.history\n",
    "    plt.figure()\n",
    "    plt.plot(history['val_loss'])\n",
    "    plt.plot(history['loss'])\n",
    "    plt.legend(['val_loss', 'loss'])\n",
    "    plt.title('Loss')\n",
    "    plt.xlabel('Epochs')\n",
    "    plt.ylabel('Loss')\n",
    "    plt.show()\n",
    "    \n",
    "    plt.figure()\n",
    "    plt.plot(history['val_acc'])\n",
    "    plt.plot(history['acc'])\n",
    "    plt.legend(['val_acc', 'acc'])\n",
    "    plt.title('Accuracy')\n",
    "    plt.xlabel('Epochs')\n",
    "    plt.ylabel('Accuracy')\n",
    "    plt.show()"
   ]
  },
  {
   "cell_type": "code",
   "execution_count": 35,
   "metadata": {
    "ExecuteTime": {
     "end_time": "2020-11-04T22:59:31.749095Z",
     "start_time": "2020-11-04T22:59:31.459756Z"
    }
   },
   "outputs": [
    {
     "data": {
      "image/png": "[encoded data removed]",
      "text/plain": [
       "<Figure size 432x288 with 1 Axes>"
      ]
     },
     "metadata": {
      "needs_background": "light"
     },
     "output_type": "display_data"
    },
    {
     "data": {
      "image/png": "[encoded data removed]",
      "text/plain": [
       "<Figure size 432x288 with 1 Axes>"
      ]
     },
     "metadata": {
      "needs_background": "light"
     },
     "output_type": "display_data"
    }
   ],
   "source": [
    "visualize_training_results(results_1)"
   ]
  },
  {
   "cell_type": "code",
   "execution_count": 42,
   "metadata": {
    "ExecuteTime": {
     "end_time": "2020-11-04T23:00:47.453990Z",
     "start_time": "2020-11-04T23:00:47.352005Z"
    }
   },
   "outputs": [
    {
     "data": {
      "text/plain": [
       "array([[1.],\n",
       "       [0.],\n",
       "       [1.],\n",
       "       [1.],\n",
       "       [1.],\n",
       "       [0.],\n",
       "       [1.],\n",
       "       [1.],\n",
       "       [1.],\n",
       "       [0.],\n",
       "       [0.],\n",
       "       [0.],\n",
       "       [1.],\n",
       "       [0.],\n",
       "       [0.],\n",
       "       [0.],\n",
       "       [1.],\n",
       "       [1.],\n",
       "       [1.],\n",
       "       [0.],\n",
       "       [1.],\n",
       "       [0.],\n",
       "       [1.],\n",
       "       [1.],\n",
       "       [1.],\n",
       "       [0.],\n",
       "       [1.],\n",
       "       [0.],\n",
       "       [1.],\n",
       "       [0.],\n",
       "       [1.],\n",
       "       [0.],\n",
       "       [0.],\n",
       "       [1.],\n",
       "       [1.],\n",
       "       [0.],\n",
       "       [1.],\n",
       "       [1.],\n",
       "       [1.],\n",
       "       [1.],\n",
       "       [1.],\n",
       "       [1.],\n",
       "       [1.],\n",
       "       [1.],\n",
       "       [1.],\n",
       "       [0.],\n",
       "       [1.],\n",
       "       [1.],\n",
       "       [1.],\n",
       "       [0.],\n",
       "       [1.],\n",
       "       [1.],\n",
       "       [0.],\n",
       "       [0.],\n",
       "       [0.],\n",
       "       [1.],\n",
       "       [0.],\n",
       "       [0.],\n",
       "       [1.],\n",
       "       [0.],\n",
       "       [1.],\n",
       "       [1.],\n",
       "       [1.],\n",
       "       [0.],\n",
       "       [1.],\n",
       "       [1.],\n",
       "       [0.],\n",
       "       [1.],\n",
       "       [0.],\n",
       "       [0.],\n",
       "       [1.],\n",
       "       [0.],\n",
       "       [1.],\n",
       "       [0.],\n",
       "       [1.],\n",
       "       [1.],\n",
       "       [0.],\n",
       "       [0.],\n",
       "       [0.],\n",
       "       [0.],\n",
       "       [1.],\n",
       "       [0.],\n",
       "       [0.],\n",
       "       [0.],\n",
       "       [1.],\n",
       "       [0.],\n",
       "       [0.],\n",
       "       [1.],\n",
       "       [0.],\n",
       "       [1.],\n",
       "       [1.],\n",
       "       [0.],\n",
       "       [1.],\n",
       "       [1.],\n",
       "       [0.],\n",
       "       [1.],\n",
       "       [0.],\n",
       "       [0.],\n",
       "       [1.],\n",
       "       [0.],\n",
       "       [1.],\n",
       "       [1.],\n",
       "       [1.],\n",
       "       [0.],\n",
       "       [0.],\n",
       "       [0.],\n",
       "       [1.],\n",
       "       [1.],\n",
       "       [0.],\n",
       "       [1.],\n",
       "       [0.],\n",
       "       [1.],\n",
       "       [1.],\n",
       "       [0.],\n",
       "       [0.],\n",
       "       [1.],\n",
       "       [1.],\n",
       "       [1.],\n",
       "       [1.],\n",
       "       [1.],\n",
       "       [0.],\n",
       "       [1.],\n",
       "       [1.],\n",
       "       [0.],\n",
       "       [1.],\n",
       "       [1.],\n",
       "       [0.],\n",
       "       [0.],\n",
       "       [0.],\n",
       "       [0.],\n",
       "       [1.],\n",
       "       [1.],\n",
       "       [1.],\n",
       "       [1.],\n",
       "       [0.],\n",
       "       [1.],\n",
       "       [0.],\n",
       "       [1.],\n",
       "       [0.],\n",
       "       [0.],\n",
       "       [1.],\n",
       "       [1.],\n",
       "       [0.]], dtype=float32)"
      ]
     },
     "execution_count": 42,
     "metadata": {},
     "output_type": "execute_result"
    }
   ],
   "source": [
    "from sklearn import metrics\n",
    "y_hat_test = model_1.predict(X_test_sca).round()\n",
    "y_hat_train = model_1.predict(X_train_sca).round()\n",
    "\n",
    "y_hat_test"
   ]
  },
  {
   "cell_type": "code",
   "execution_count": 43,
   "metadata": {
    "ExecuteTime": {
     "end_time": "2020-11-04T23:00:56.441943Z",
     "start_time": "2020-11-04T23:00:56.434229Z"
    }
   },
   "outputs": [
    {
     "name": "stdout",
     "output_type": "stream",
     "text": [
      "              precision    recall  f1-score   support\n",
      "\n",
      "           0       0.99      0.96      0.97       150\n",
      "           1       0.98      0.99      0.99       276\n",
      "\n",
      "    accuracy                           0.98       426\n",
      "   macro avg       0.98      0.98      0.98       426\n",
      "weighted avg       0.98      0.98      0.98       426\n",
      "\n"
     ]
    }
   ],
   "source": [
    "print(metrics.classification_report(y_train ,y_hat_train))"
   ]
  },
  {
   "cell_type": "code",
   "execution_count": 44,
   "metadata": {
    "ExecuteTime": {
     "end_time": "2020-11-04T23:00:57.045640Z",
     "start_time": "2020-11-04T23:00:57.038190Z"
    }
   },
   "outputs": [
    {
     "name": "stdout",
     "output_type": "stream",
     "text": [
      "              precision    recall  f1-score   support\n",
      "\n",
      "           0       0.94      0.95      0.94        62\n",
      "           1       0.96      0.95      0.96        81\n",
      "\n",
      "    accuracy                           0.95       143\n",
      "   macro avg       0.95      0.95      0.95       143\n",
      "weighted avg       0.95      0.95      0.95       143\n",
      "\n"
     ]
    }
   ],
   "source": [
    "print(metrics.classification_report(y_test,y_hat_test))"
   ]
  },
  {
   "cell_type": "markdown",
   "metadata": {},
   "source": [
    "## Detecting Overfitting\n",
    "\n",
    "You'll probably notice that the model did pretty well! It's always recommended to visualize your training and validation metrics against each other after training a model. By plotting them like this, we can easily detect when the model is starting to overfit. We can tell that this is happening by seeing the model's training performance steadily improve long after the validation performance plateaus. We can see that in the plots above as the training loss continues to decrease and the training accuracy continues to increase, and the distance between the two lines gets greater as the epochs gets higher. \n",
    "\n",
    "## Iterating on the Model\n",
    "\n",
    "By adding another hidden layer, we can a given the model the ability to capture more high-level abstraction in the data. However, increasing the depth of the model also increases the amount of data the model needs to converge to answer, because with a more complex model comes the \"Curse of Dimensionality\", thanks to all the extra trainable parameters that come from adding more size to our network. \n",
    "\n",
    "If there is complexity in the data that our smaller model was not big enough to catch, then a larger model may improve performance. However, if our dataset isn't big enough for the new, larger model, then we may see performance decrease as then model \"thrashes\" about a bit, failing to converge. Let's try and see what happens. \n",
    "\n",
    "In the cell below, recreate the model that you created above, with one exception. In the model below, add a second `Dense` layer with `'tanh'` activation function and 5 neurons after the first. The network's output layer should still be a `Dense` layer with a single neuron and a `'sigmoid'` activation function, since this is still a binary classification task. \n",
    "\n",
    "Create, compile, and fit the model in the cells below, and then visualize the results to compare the history. "
   ]
  },
  {
   "cell_type": "code",
   "execution_count": 16,
   "metadata": {
    "ExecuteTime": {
     "end_time": "2020-11-04T22:49:28.718220Z",
     "start_time": "2020-11-04T22:49:28.695547Z"
    }
   },
   "outputs": [],
   "source": [
    "model_2 = Sequential()\n",
    "model_2.add(Dense(10, activation='tanh', input_shape=(30,)))\n",
    "model_2.add(Dense(5, activation='tanh'))\n",
    "model_2.add(Dense(1, activation='sigmoid'))"
   ]
  },
  {
   "cell_type": "code",
   "execution_count": 17,
   "metadata": {
    "ExecuteTime": {
     "end_time": "2020-11-04T22:49:28.729558Z",
     "start_time": "2020-11-04T22:49:28.720008Z"
    }
   },
   "outputs": [],
   "source": [
    "model_2.compile(loss='binary_crossentropy', optimizer='sgd', metrics=['acc'])"
   ]
  },
  {
   "cell_type": "code",
   "execution_count": 18,
   "metadata": {
    "ExecuteTime": {
     "end_time": "2020-11-04T22:49:35.839667Z",
     "start_time": "2020-11-04T22:49:28.731529Z"
    }
   },
   "outputs": [
    {
     "name": "stdout",
     "output_type": "stream",
     "text": [
      "Epoch 1/25\n",
      "455/455 [==============================] - 0s 751us/step - loss: 0.2209 - acc: 0.9385 - val_loss: 0.2006 - val_acc: 0.9298\n",
      "Epoch 2/25\n",
      "455/455 [==============================] - 0s 645us/step - loss: 0.1085 - acc: 0.9670 - val_loss: 0.1575 - val_acc: 0.9298\n",
      "Epoch 3/25\n",
      "455/455 [==============================] - 0s 608us/step - loss: 0.0867 - acc: 0.9692 - val_loss: 0.1333 - val_acc: 0.9386\n",
      "Epoch 4/25\n",
      "455/455 [==============================] - 0s 656us/step - loss: 0.0761 - acc: 0.9736 - val_loss: 0.1184 - val_acc: 0.9474\n",
      "Epoch 5/25\n",
      "455/455 [==============================] - 0s 554us/step - loss: 0.0698 - acc: 0.9780 - val_loss: 0.1139 - val_acc: 0.9737\n",
      "Epoch 6/25\n",
      "455/455 [==============================] - 0s 609us/step - loss: 0.0655 - acc: 0.9802 - val_loss: 0.1011 - val_acc: 0.9649\n",
      "Epoch 7/25\n",
      "455/455 [==============================] - 0s 588us/step - loss: 0.0618 - acc: 0.9780 - val_loss: 0.0948 - val_acc: 0.9737\n",
      "Epoch 8/25\n",
      "455/455 [==============================] - 0s 597us/step - loss: 0.0599 - acc: 0.9802 - val_loss: 0.0854 - val_acc: 0.9737\n",
      "Epoch 9/25\n",
      "455/455 [==============================] - 0s 581us/step - loss: 0.0580 - acc: 0.9802 - val_loss: 0.1017 - val_acc: 0.9649\n",
      "Epoch 10/25\n",
      "455/455 [==============================] - 0s 603us/step - loss: 0.0552 - acc: 0.9824 - val_loss: 0.0789 - val_acc: 0.9825\n",
      "Epoch 11/25\n",
      "455/455 [==============================] - 0s 610us/step - loss: 0.0541 - acc: 0.9802 - val_loss: 0.0749 - val_acc: 0.9825\n",
      "Epoch 12/25\n",
      "455/455 [==============================] - 0s 589us/step - loss: 0.0518 - acc: 0.9802 - val_loss: 0.0793 - val_acc: 0.9825\n",
      "Epoch 13/25\n",
      "455/455 [==============================] - 0s 606us/step - loss: 0.0487 - acc: 0.9824 - val_loss: 0.0951 - val_acc: 0.9737\n",
      "Epoch 14/25\n",
      "455/455 [==============================] - 0s 578us/step - loss: 0.0488 - acc: 0.9802 - val_loss: 0.1132 - val_acc: 0.9561\n",
      "Epoch 15/25\n",
      "455/455 [==============================] - 0s 600us/step - loss: 0.0483 - acc: 0.9802 - val_loss: 0.0964 - val_acc: 0.9474\n",
      "Epoch 16/25\n",
      "455/455 [==============================] - 0s 546us/step - loss: 0.0441 - acc: 0.9868 - val_loss: 0.0799 - val_acc: 0.9737\n",
      "Epoch 17/25\n",
      "455/455 [==============================] - 0s 575us/step - loss: 0.0436 - acc: 0.9780 - val_loss: 0.0855 - val_acc: 0.9649\n",
      "Epoch 18/25\n",
      "455/455 [==============================] - 0s 578us/step - loss: 0.0417 - acc: 0.9868 - val_loss: 0.0958 - val_acc: 0.9561\n",
      "Epoch 19/25\n",
      "455/455 [==============================] - 0s 547us/step - loss: 0.0405 - acc: 0.9846 - val_loss: 0.0785 - val_acc: 0.9649\n",
      "Epoch 20/25\n",
      "455/455 [==============================] - 0s 581us/step - loss: 0.0392 - acc: 0.9846 - val_loss: 0.0910 - val_acc: 0.9561\n",
      "Epoch 21/25\n",
      "455/455 [==============================] - 0s 565us/step - loss: 0.0363 - acc: 0.9868 - val_loss: 0.0779 - val_acc: 0.9649\n",
      "Epoch 22/25\n",
      "455/455 [==============================] - 0s 603us/step - loss: 0.0369 - acc: 0.9868 - val_loss: 0.0817 - val_acc: 0.9737\n",
      "Epoch 23/25\n",
      "455/455 [==============================] - 0s 603us/step - loss: 0.0357 - acc: 0.9824 - val_loss: 0.0981 - val_acc: 0.9561\n",
      "Epoch 24/25\n",
      "455/455 [==============================] - 0s 610us/step - loss: 0.0323 - acc: 0.9890 - val_loss: 0.0784 - val_acc: 0.9649\n",
      "Epoch 25/25\n",
      "455/455 [==============================] - 0s 597us/step - loss: 0.0322 - acc: 0.9890 - val_loss: 0.0968 - val_acc: 0.9561\n"
     ]
    }
   ],
   "source": [
    "results_2 = model_2.fit(scaled_data, labels, epochs=25, batch_size=1, validation_split=0.2)"
   ]
  },
  {
   "cell_type": "code",
   "execution_count": 19,
   "metadata": {
    "ExecuteTime": {
     "end_time": "2020-11-04T22:49:36.232198Z",
     "start_time": "2020-11-04T22:49:35.841208Z"
    }
   },
   "outputs": [
    {
     "data": {
      "image/png": "[encoded data removed]",
      "text/plain": [
       "<Figure size 432x288 with 1 Axes>"
      ]
     },
     "metadata": {
      "needs_background": "light"
     },
     "output_type": "display_data"
    },
    {
     "data": {
      "image/png": "[encoded data removed]",
      "text/plain": [
       "<Figure size 432x288 with 1 Axes>"
      ]
     },
     "metadata": {
      "needs_background": "light"
     },
     "output_type": "display_data"
    }
   ],
   "source": [
    "visualize_training_results(results_2)"
   ]
  },
  {
   "cell_type": "markdown",
   "metadata": {},
   "source": [
    "## What Happened?\n",
    "\n",
    "Although the final validation score for both models is the same, this model is clearly worse because it hasn't converged yet. We can tell because of the greater variance in the movement of the `val_loss` and `val_acc` lines. This suggests that we can remedy this by either:\n",
    "\n",
    "* Decreasing the size of the network, or\n",
    "* Increasing the size of our training data \n",
    "\n",
    "## Visualizing why we Normalize our Data\n",
    "\n",
    "As a final exercise, let's create a third model that is the same as the first model we created earlier. The only difference is that we will train it on our raw dataset, not the normalized version. This way, we can see how much of a difference normalizing our input data makes.\n",
    "\n",
    "Create, compile, and fit a model in the cell below. The only change in parameters will be using `data` instead of `scaled_data` during the `.fit()` step. "
   ]
  },
  {
   "cell_type": "code",
   "execution_count": 20,
   "metadata": {
    "ExecuteTime": {
     "end_time": "2020-11-04T22:49:36.251803Z",
     "start_time": "2020-11-04T22:49:36.234036Z"
    }
   },
   "outputs": [],
   "source": [
    "model_3 = Sequential()\n",
    "model_3.add(Dense(5, activation='tanh', input_shape=(30,)))\n",
    "model_3.add(Dense(1, activation='sigmoid'))"
   ]
  },
  {
   "cell_type": "code",
   "execution_count": 21,
   "metadata": {
    "ExecuteTime": {
     "end_time": "2020-11-04T22:49:36.264157Z",
     "start_time": "2020-11-04T22:49:36.253711Z"
    }
   },
   "outputs": [],
   "source": [
    "model_3.compile(loss='binary_crossentropy', optimizer='sgd', metrics=['acc'])"
   ]
  },
  {
   "cell_type": "code",
   "execution_count": 22,
   "metadata": {
    "ExecuteTime": {
     "end_time": "2020-11-04T22:49:42.964104Z",
     "start_time": "2020-11-04T22:49:36.266163Z"
    }
   },
   "outputs": [
    {
     "name": "stdout",
     "output_type": "stream",
     "text": [
      "Epoch 1/25\n",
      "455/455 [==============================] - 0s 738us/step - loss: 0.6767 - acc: 0.5912 - val_loss: 0.5603 - val_acc: 0.7719\n",
      "Epoch 2/25\n",
      "455/455 [==============================] - 0s 565us/step - loss: 0.6817 - acc: 0.5912 - val_loss: 0.6198 - val_acc: 0.7719\n",
      "Epoch 3/25\n",
      "455/455 [==============================] - 0s 599us/step - loss: 0.6815 - acc: 0.5934 - val_loss: 0.5958 - val_acc: 0.7719\n",
      "Epoch 4/25\n",
      "455/455 [==============================] - 0s 536us/step - loss: 0.6777 - acc: 0.5868 - val_loss: 0.6026 - val_acc: 0.7719\n",
      "Epoch 5/25\n",
      "455/455 [==============================] - 0s 528us/step - loss: 0.6786 - acc: 0.5934 - val_loss: 0.6480 - val_acc: 0.7719\n",
      "Epoch 6/25\n",
      "455/455 [==============================] - 0s 537us/step - loss: 0.6823 - acc: 0.5890 - val_loss: 0.5890 - val_acc: 0.7719\n",
      "Epoch 7/25\n",
      "455/455 [==============================] - 0s 540us/step - loss: 0.6805 - acc: 0.5934 - val_loss: 0.6154 - val_acc: 0.7719\n",
      "Epoch 8/25\n",
      "455/455 [==============================] - 0s 547us/step - loss: 0.6807 - acc: 0.5890 - val_loss: 0.6047 - val_acc: 0.7719\n",
      "Epoch 9/25\n",
      "455/455 [==============================] - 0s 606us/step - loss: 0.6798 - acc: 0.5934 - val_loss: 0.6458 - val_acc: 0.7719\n",
      "Epoch 10/25\n",
      "455/455 [==============================] - 0s 592us/step - loss: 0.6800 - acc: 0.5912 - val_loss: 0.6302 - val_acc: 0.7719\n",
      "Epoch 11/25\n",
      "455/455 [==============================] - 0s 543us/step - loss: 0.6798 - acc: 0.5824 - val_loss: 0.6410 - val_acc: 0.7719\n",
      "Epoch 12/25\n",
      "455/455 [==============================] - 0s 551us/step - loss: 0.6793 - acc: 0.5868 - val_loss: 0.6350 - val_acc: 0.7719\n",
      "Epoch 13/25\n",
      "455/455 [==============================] - 0s 607us/step - loss: 0.6739 - acc: 0.5802 - val_loss: 0.5808 - val_acc: 0.7719\n",
      "Epoch 14/25\n",
      "455/455 [==============================] - 0s 553us/step - loss: 0.6781 - acc: 0.5912 - val_loss: 0.5967 - val_acc: 0.7719\n",
      "Epoch 15/25\n",
      "455/455 [==============================] - 0s 578us/step - loss: 0.6817 - acc: 0.5934 - val_loss: 0.6130 - val_acc: 0.7719\n",
      "Epoch 16/25\n",
      "455/455 [==============================] - 0s 544us/step - loss: 0.6806 - acc: 0.5912 - val_loss: 0.5917 - val_acc: 0.7719\n",
      "Epoch 17/25\n",
      "455/455 [==============================] - 0s 548us/step - loss: 0.6820 - acc: 0.5934 - val_loss: 0.6224 - val_acc: 0.7719\n",
      "Epoch 18/25\n",
      "455/455 [==============================] - 0s 528us/step - loss: 0.6821 - acc: 0.5934 - val_loss: 0.6008 - val_acc: 0.7719\n",
      "Epoch 19/25\n",
      "455/455 [==============================] - 0s 537us/step - loss: 0.6762 - acc: 0.5890 - val_loss: 0.6405 - val_acc: 0.7719\n",
      "Epoch 20/25\n",
      "455/455 [==============================] - 0s 544us/step - loss: 0.6802 - acc: 0.5912 - val_loss: 0.5978 - val_acc: 0.7719\n",
      "Epoch 21/25\n",
      "455/455 [==============================] - 0s 536us/step - loss: 0.6808 - acc: 0.5934 - val_loss: 0.6216 - val_acc: 0.7719\n",
      "Epoch 22/25\n",
      "455/455 [==============================] - 0s 550us/step - loss: 0.6815 - acc: 0.5934 - val_loss: 0.6067 - val_acc: 0.7719\n",
      "Epoch 23/25\n",
      "455/455 [==============================] - 0s 537us/step - loss: 0.6817 - acc: 0.5934 - val_loss: 0.6109 - val_acc: 0.7719\n",
      "Epoch 24/25\n",
      "455/455 [==============================] - 0s 538us/step - loss: 0.6809 - acc: 0.5890 - val_loss: 0.5996 - val_acc: 0.7719\n",
      "Epoch 25/25\n",
      "455/455 [==============================] - 0s 549us/step - loss: 0.6812 - acc: 0.5934 - val_loss: 0.5977 - val_acc: 0.7719\n"
     ]
    }
   ],
   "source": [
    "results_3 = model_3.fit(data, labels, epochs=25, batch_size=1, validation_split=0.2)"
   ]
  },
  {
   "cell_type": "code",
   "execution_count": 23,
   "metadata": {
    "ExecuteTime": {
     "end_time": "2020-11-04T22:49:43.241793Z",
     "start_time": "2020-11-04T22:49:42.968142Z"
    }
   },
   "outputs": [
    {
     "data": {
      "image/png": "[encoded data removed]",
      "text/plain": [
       "<Figure size 432x288 with 1 Axes>"
      ]
     },
     "metadata": {
      "needs_background": "light"
     },
     "output_type": "display_data"
    },
    {
     "data": {
      "image/png": "[encoded data removed]",
      "text/plain": [
       "<Figure size 432x288 with 1 Axes>"
      ]
     },
     "metadata": {
      "needs_background": "light"
     },
     "output_type": "display_data"
    }
   ],
   "source": [
    "visualize_training_results(results_3)"
   ]
  },
  {
   "cell_type": "markdown",
   "metadata": {},
   "source": [
    "Wow! Our results were much worse -- over 20% poorer performance when working with non-normalized input data!  \n",
    "\n",
    "\n",
    "## Summary\n",
    "\n",
    "In this lab, we got some practice creating **_Multi-Layer Perceptrons_**, and explored how things like the number of layers in a model and data normalization affect our overall training results!"
   ]
  },
  {
   "cell_type": "markdown",
   "metadata": {},
   "source": [
    "# Study Group Level-UP"
   ]
  },
  {
   "cell_type": "markdown",
   "metadata": {},
   "source": [
    "> Compare the training results for StandardScaled vs MinMaxScaled data"
   ]
  },
  {
   "cell_type": "code",
   "execution_count": 24,
   "metadata": {
    "ExecuteTime": {
     "end_time": "2020-11-04T22:49:43.247052Z",
     "start_time": "2020-11-04T22:49:43.243780Z"
    }
   },
   "outputs": [],
   "source": [
    "from sklearn.preprocessing import MinMaxScaler\n",
    "scaler = MinMaxScaler()\n",
    "\n",
    "min_scaled_data = scaler.fit_transform(data)"
   ]
  },
  {
   "cell_type": "code",
   "execution_count": 25,
   "metadata": {
    "ExecuteTime": {
     "end_time": "2020-11-04T22:49:50.056153Z",
     "start_time": "2020-11-04T22:49:43.248478Z"
    }
   },
   "outputs": [
    {
     "name": "stdout",
     "output_type": "stream",
     "text": [
      "Model: \"sequential_3\"\n",
      "_________________________________________________________________\n",
      "Layer (type)                 Output Shape              Param #   \n",
      "=================================================================\n",
      "dense_7 (Dense)              (None, 10)                310       \n",
      "_________________________________________________________________\n",
      "dense_8 (Dense)              (None, 1)                 11        \n",
      "=================================================================\n",
      "Total params: 321\n",
      "Trainable params: 321\n",
      "Non-trainable params: 0\n",
      "_________________________________________________________________\n",
      "Epoch 1/25\n",
      "455/455 [==============================] - 0s 727us/step - loss: 0.5215 - acc: 0.8549 - val_loss: 0.3859 - val_acc: 0.9298\n",
      "Epoch 2/25\n",
      "455/455 [==============================] - 0s 561us/step - loss: 0.3690 - acc: 0.9099 - val_loss: 0.2907 - val_acc: 0.9211\n",
      "Epoch 3/25\n",
      "455/455 [==============================] - 0s 529us/step - loss: 0.2793 - acc: 0.9165 - val_loss: 0.2132 - val_acc: 0.9386\n",
      "Epoch 4/25\n",
      "455/455 [==============================] - 0s 536us/step - loss: 0.2266 - acc: 0.9385 - val_loss: 0.2283 - val_acc: 0.9211\n",
      "Epoch 5/25\n",
      "455/455 [==============================] - 0s 582us/step - loss: 0.1945 - acc: 0.9429 - val_loss: 0.1546 - val_acc: 0.9474\n",
      "Epoch 6/25\n",
      "455/455 [==============================] - 0s 587us/step - loss: 0.1704 - acc: 0.9516 - val_loss: 0.2039 - val_acc: 0.9211\n",
      "Epoch 7/25\n",
      "455/455 [==============================] - 0s 567us/step - loss: 0.1562 - acc: 0.9495 - val_loss: 0.1696 - val_acc: 0.9474\n",
      "Epoch 8/25\n",
      "455/455 [==============================] - 0s 551us/step - loss: 0.1436 - acc: 0.9495 - val_loss: 0.1638 - val_acc: 0.9474\n",
      "Epoch 9/25\n",
      "455/455 [==============================] - 0s 584us/step - loss: 0.1332 - acc: 0.9582 - val_loss: 0.1109 - val_acc: 0.9737\n",
      "Epoch 10/25\n",
      "455/455 [==============================] - 0s 531us/step - loss: 0.1275 - acc: 0.9582 - val_loss: 0.1398 - val_acc: 0.9737\n",
      "Epoch 11/25\n",
      "455/455 [==============================] - 0s 619us/step - loss: 0.1204 - acc: 0.9714 - val_loss: 0.1331 - val_acc: 0.9737\n",
      "Epoch 12/25\n",
      "455/455 [==============================] - 0s 559us/step - loss: 0.1138 - acc: 0.9648 - val_loss: 0.1583 - val_acc: 0.9474\n",
      "Epoch 13/25\n",
      "455/455 [==============================] - 0s 549us/step - loss: 0.1090 - acc: 0.9648 - val_loss: 0.1031 - val_acc: 0.9912\n",
      "Epoch 14/25\n",
      "455/455 [==============================] - 0s 539us/step - loss: 0.1053 - acc: 0.9670 - val_loss: 0.1508 - val_acc: 0.9649\n",
      "Epoch 15/25\n",
      "455/455 [==============================] - 0s 559us/step - loss: 0.1023 - acc: 0.9692 - val_loss: 0.1136 - val_acc: 0.9912\n",
      "Epoch 16/25\n",
      "455/455 [==============================] - 0s 569us/step - loss: 0.0968 - acc: 0.9758 - val_loss: 0.1113 - val_acc: 0.9912\n",
      "Epoch 17/25\n",
      "455/455 [==============================] - 0s 550us/step - loss: 0.0959 - acc: 0.9736 - val_loss: 0.0972 - val_acc: 0.9912\n",
      "Epoch 18/25\n",
      "455/455 [==============================] - 0s 555us/step - loss: 0.0929 - acc: 0.9670 - val_loss: 0.1376 - val_acc: 0.9649\n",
      "Epoch 19/25\n",
      "455/455 [==============================] - 0s 548us/step - loss: 0.0875 - acc: 0.9714 - val_loss: 0.1265 - val_acc: 0.9825\n",
      "Epoch 20/25\n",
      "455/455 [==============================] - 0s 550us/step - loss: 0.0895 - acc: 0.9714 - val_loss: 0.1126 - val_acc: 0.9825\n",
      "Epoch 21/25\n",
      "455/455 [==============================] - 0s 553us/step - loss: 0.0839 - acc: 0.9780 - val_loss: 0.1740 - val_acc: 0.9211\n",
      "Epoch 22/25\n",
      "455/455 [==============================] - 0s 557us/step - loss: 0.0859 - acc: 0.9692 - val_loss: 0.0908 - val_acc: 0.9912\n",
      "Epoch 23/25\n",
      "455/455 [==============================] - 0s 550us/step - loss: 0.0835 - acc: 0.9780 - val_loss: 0.1290 - val_acc: 0.9649\n",
      "Epoch 24/25\n",
      "455/455 [==============================] - 0s 591us/step - loss: 0.0820 - acc: 0.9714 - val_loss: 0.1010 - val_acc: 0.9825\n",
      "Epoch 25/25\n",
      "455/455 [==============================] - 0s 592us/step - loss: 0.0806 - acc: 0.9758 - val_loss: 0.0922 - val_acc: 0.9825\n"
     ]
    }
   ],
   "source": [
    "\n",
    "model_4 =Sequential()\n",
    "model_4.add(Dense(10,activation='tanh',input_shape=(30,)))\n",
    "model_4.add(Dense(1, activation='sigmoid'))\n",
    "\n",
    "model_4.compile(loss='binary_crossentropy',optimizer='sgd',metrics=['acc'])\n",
    "model_4.summary()\n",
    "\n",
    "results_4 = model_4.fit(min_scaled_data,target,epochs=25,batch_size=1,validation_split=0.2)"
   ]
  },
  {
   "cell_type": "code",
   "execution_count": 26,
   "metadata": {
    "ExecuteTime": {
     "end_time": "2020-11-04T22:49:50.362574Z",
     "start_time": "2020-11-04T22:49:50.057539Z"
    }
   },
   "outputs": [
    {
     "data": {
      "image/png": "[encoded data removed]",
      "text/plain": [
       "<Figure size 432x288 with 1 Axes>"
      ]
     },
     "metadata": {
      "needs_background": "light"
     },
     "output_type": "display_data"
    },
    {
     "data": {
      "image/png": "[encoded data removed]",
      "text/plain": [
       "<Figure size 432x288 with 1 Axes>"
      ]
     },
     "metadata": {
      "needs_background": "light"
     },
     "output_type": "display_data"
    }
   ],
   "source": [
    "visualize_training_results(results_4)"
   ]
  },
  {
   "cell_type": "code",
   "execution_count": 27,
   "metadata": {
    "ExecuteTime": {
     "end_time": "2020-11-04T22:49:50.683748Z",
     "start_time": "2020-11-04T22:49:50.364268Z"
    }
   },
   "outputs": [
    {
     "data": {
      "image/png": "[encoded data removed]",
      "text/plain": [
       "<Figure size 432x288 with 1 Axes>"
      ]
     },
     "metadata": {
      "needs_background": "light"
     },
     "output_type": "display_data"
    },
    {
     "data": {
      "image/png": "[encoded data removed]",
      "text/plain": [
       "<Figure size 432x288 with 1 Axes>"
      ]
     },
     "metadata": {
      "needs_background": "light"
     },
     "output_type": "display_data"
    }
   ],
   "source": [
    "visualize_training_results(results_2)"
   ]
  },
  {
   "cell_type": "code",
   "execution_count": null,
   "metadata": {},
   "outputs": [],
   "source": []
  }
 ],
 "metadata": {
  "kernelspec": {
   "display_name": "Python 3",
   "language": "python",
   "name": "python3"
  },
  "language_info": {
   "codemirror_mode": {
    "name": "ipython",
    "version": 3
   },
   "file_extension": ".py",
   "mimetype": "text/x-python",
   "name": "python",
   "nbconvert_exporter": "python",
   "pygments_lexer": "ipython3",
   "version": "3.6.11"
  },
  "toc": {
   "base_numbering": 1,
   "nav_menu": {},
   "number_sections": true,
   "sideBar": true,
   "skip_h1_title": false,
   "title_cell": "Table of Contents",
   "title_sidebar": "Contents",
   "toc_cell": false,
   "toc_position": {},
   "toc_section_display": true,
   "toc_window_display": false
  }
 },
 "nbformat": 4,
 "nbformat_minor": 2
}
