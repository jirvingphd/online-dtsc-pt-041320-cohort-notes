{
 "cells": [
  {
   "cell_type": "markdown",
   "metadata": {},
   "source": [
    "# Sect 37: Intro to Time Series"
   ]
  },
  {
   "cell_type": "markdown",
   "metadata": {},
   "source": [
    "- online-ds-pt-041320\n",
    "- 10/21/20"
   ]
  },
  {
   "cell_type": "markdown",
   "metadata": {},
   "source": [
    "## Learning Objectives:"
   ]
  },
  {
   "cell_type": "markdown",
   "metadata": {},
   "source": [
    "- Learn how to load in timeseries data into pandas\n",
    "- Learn how to plot timeseries in pandas\n",
    "- Learn how to resample at different time frequencies\n",
    "- Learn about types of time series trends and how to remove them.\n",
    "- Learn about seasonal decomposition\n",
    "\n",
    "- Prepare a time series dataset to use for modeling next class"
   ]
  },
  {
   "cell_type": "markdown",
   "metadata": {},
   "source": [
    "## Questions?"
   ]
  },
  {
   "cell_type": "markdown",
   "metadata": {},
   "source": []
  },
  {
   "cell_type": "markdown",
   "metadata": {},
   "source": [
    "## Announcements"
   ]
  },
  {
   "cell_type": "markdown",
   "metadata": {},
   "source": [
    "> For section 38: Time Series Models, you **NEED to do one of the appendix labs in order to fully learn time series modeling**.\n",
    "- Appendix > More Time Series > SARIMA Lab"
   ]
  },
  {
   "cell_type": "markdown",
   "metadata": {
    "heading_collapsed": true
   },
   "source": [
    "# Intro to Time Series"
   ]
  },
  {
   "cell_type": "markdown",
   "metadata": {
    "hidden": true
   },
   "source": [
    "## References"
   ]
  },
  {
   "cell_type": "markdown",
   "metadata": {
    "hidden": true
   },
   "source": [
    "- [Pandas Timeseries Documentation](https://pandas.pydata.org/pandas-docs/stable/user_guide/timeseries.html)\n",
    "- ['Timeseries Offset Aliases'](https://pandas.pydata.org/pandas-docs/stable/user_guide/timeseries.html#timeseries-offset-aliases)\n",
    "- [Anchored Offsets](https://pandas.pydata.org/pandas-docs/stable/user_guide/timeseries.html#anchored-offsets)\n",
    "\n",
    "\n",
    "- https://pandas.pydata.org/pandas-docs/stable/reference/api/pandas.Timestamp.html"
   ]
  },
  {
   "cell_type": "markdown",
   "metadata": {
    "hidden": true
   },
   "source": [
    "## Working with Time Series"
   ]
  },
  {
   "cell_type": "code",
   "execution_count": null,
   "metadata": {
    "ExecuteTime": {
     "end_time": "2020-10-21T22:14:54.497097Z",
     "start_time": "2020-10-21T22:14:52.551855Z"
    },
    "hidden": true
   },
   "outputs": [],
   "source": [
    "# !pip install -U fsds \n",
    "from fsds.imports import *\n",
    "\n",
    "import warnings\n",
    "warnings.filterwarnings('ignore')\n",
    "\n",
    "## Setting figures to timeseries-friendly\n",
    "mpl.rcParams['figure.figsize'] = (12,6)\n",
    "\n",
    "import os,sys"
   ]
  },
  {
   "cell_type": "code",
   "execution_count": null,
   "metadata": {
    "ExecuteTime": {
     "end_time": "2020-10-21T22:14:54.502512Z",
     "start_time": "2020-10-21T22:14:54.499095Z"
    },
    "hidden": true
   },
   "outputs": [],
   "source": [
    "sns.__version__"
   ]
  },
  {
   "cell_type": "markdown",
   "metadata": {
    "hidden": true
   },
   "source": [
    "### Creating a Time Series from a DataFrame"
   ]
  },
  {
   "cell_type": "code",
   "execution_count": null,
   "metadata": {
    "ExecuteTime": {
     "end_time": "2020-10-21T22:14:55.220247Z",
     "start_time": "2020-10-21T22:14:54.504773Z"
    },
    "hidden": true
   },
   "outputs": [],
   "source": [
    "df = pd.read_csv('baltimore_crime_2020.csv',low_memory=False,\n",
    "                usecols=range(12))\n",
    "\n",
    "df"
   ]
  },
  {
   "cell_type": "code",
   "execution_count": null,
   "metadata": {
    "ExecuteTime": {
     "end_time": "2020-10-21T22:14:55.354250Z",
     "start_time": "2020-10-21T22:14:55.230334Z"
    },
    "hidden": true
   },
   "outputs": [],
   "source": [
    "## Check info\n",
    "df.info()"
   ]
  },
  {
   "cell_type": "markdown",
   "metadata": {
    "hidden": true
   },
   "source": [
    "## Preparing Data for Time Series Visualization"
   ]
  },
  {
   "cell_type": "markdown",
   "metadata": {
    "hidden": true
   },
   "source": [
    "- Index must be a `datetimeindex`"
   ]
  },
  {
   "cell_type": "code",
   "execution_count": null,
   "metadata": {
    "ExecuteTime": {
     "end_time": "2020-10-21T22:26:55.962737Z",
     "start_time": "2020-10-21T22:26:55.960513Z"
    },
    "hidden": true
   },
   "outputs": [],
   "source": [
    "## Check the index\n"
   ]
  },
  {
   "cell_type": "markdown",
   "metadata": {
    "hidden": true
   },
   "source": [
    "> #### Queston: We need to make a datetime index from the CrimeDate and CrimeTime. How might we do that?"
   ]
  },
  {
   "cell_type": "code",
   "execution_count": null,
   "metadata": {
    "ExecuteTime": {
     "end_time": "2020-10-21T22:27:12.256392Z",
     "start_time": "2020-10-21T22:27:12.254280Z"
    },
    "hidden": true
   },
   "outputs": [],
   "source": [
    "# Make datetime variable from two columns\n"
   ]
  },
  {
   "cell_type": "code",
   "execution_count": null,
   "metadata": {
    "ExecuteTime": {
     "end_time": "2020-10-21T22:27:15.444802Z",
     "start_time": "2020-10-21T22:27:15.442512Z"
    },
    "hidden": true
   },
   "outputs": [],
   "source": [
    "## Set dataframe index to be time series\n"
   ]
  },
  {
   "cell_type": "code",
   "execution_count": null,
   "metadata": {
    "ExecuteTime": {
     "end_time": "2020-10-21T22:27:39.061855Z",
     "start_time": "2020-10-21T22:27:39.059777Z"
    },
    "hidden": true
   },
   "outputs": [],
   "source": [
    "## Save a copy of the original dataframe as df_orig (IF IT DOESN\"T ALREADY EXIST)\n"
   ]
  },
  {
   "cell_type": "code",
   "execution_count": null,
   "metadata": {
    "ExecuteTime": {
     "end_time": "2020-10-21T22:15:24.255358Z",
     "start_time": "2020-10-21T22:15:24.218528Z"
    },
    "hidden": true
   },
   "outputs": [],
   "source": [
    "## Remaking df using only some of the columns\n",
    "keep_cols = ['Description','Longitude','Latitude','District','Neighborhood']\n",
    "df = df_orig[keep_cols].copy()\n",
    "df"
   ]
  },
  {
   "cell_type": "code",
   "execution_count": null,
   "metadata": {
    "ExecuteTime": {
     "end_time": "2020-10-21T22:28:37.731137Z",
     "start_time": "2020-10-21T22:28:37.729276Z"
    },
    "hidden": true
   },
   "outputs": [],
   "source": [
    "## Inspect the value_counts for the different types of crimes\n",
    "\n",
    "# display with an inline-barplot inside your df\n"
   ]
  },
  {
   "cell_type": "code",
   "execution_count": null,
   "metadata": {
    "ExecuteTime": {
     "end_time": "2020-10-21T22:28:42.484977Z",
     "start_time": "2020-10-21T22:28:42.482697Z"
    },
    "hidden": true
   },
   "outputs": [],
   "source": [
    "## Lets get just Shootings in a new df\n"
   ]
  },
  {
   "cell_type": "code",
   "execution_count": null,
   "metadata": {
    "ExecuteTime": {
     "end_time": "2020-10-21T22:28:46.456362Z",
     "start_time": "2020-10-21T22:28:46.454272Z"
    },
    "hidden": true
   },
   "outputs": [],
   "source": [
    "## Make a new SHOOTING column that is an integer\n"
   ]
  },
  {
   "cell_type": "code",
   "execution_count": null,
   "metadata": {
    "ExecuteTime": {
     "end_time": "2020-10-21T22:28:50.416272Z",
     "start_time": "2020-10-21T22:28:50.414296Z"
    },
    "hidden": true
   },
   "outputs": [],
   "source": [
    "## Get list of crimes to iterate through\n"
   ]
  },
  {
   "cell_type": "code",
   "execution_count": null,
   "metadata": {
    "ExecuteTime": {
     "end_time": "2020-10-21T22:29:11.545420Z",
     "start_time": "2020-10-21T22:29:11.543211Z"
    },
    "hidden": true
   },
   "outputs": [],
   "source": [
    "## make a dict of all crime types' DataFrames \n",
    "\n",
    "## For each crime type\n",
    "\n",
    "    ## Get the group df\n",
    "\n",
    "    \n",
    "    ## Create a new column for that crime as we did for SHOOTINGS above\n",
    "\n",
    "    \n",
    "    ## Save the group_df into the CRIMES dict (and slice out crime column)\n",
    "    \n",
    "## Display the keys\n"
   ]
  },
  {
   "cell_type": "code",
   "execution_count": null,
   "metadata": {
    "ExecuteTime": {
     "end_time": "2020-10-21T22:29:21.120222Z",
     "start_time": "2020-10-21T22:29:21.118064Z"
    },
    "hidden": true
   },
   "outputs": [],
   "source": [
    "## Check out the value for LARCENY\n"
   ]
  },
  {
   "cell_type": "markdown",
   "metadata": {
    "heading_collapsed": true
   },
   "source": [
    "# Visualizing Time Series"
   ]
  },
  {
   "cell_type": "code",
   "execution_count": null,
   "metadata": {
    "ExecuteTime": {
     "end_time": "2020-10-21T22:29:37.422068Z",
     "start_time": "2020-10-21T22:29:37.419884Z"
    },
    "hidden": true
   },
   "outputs": [],
   "source": [
    "## Save SHOOTING as ts\n"
   ]
  },
  {
   "cell_type": "code",
   "execution_count": null,
   "metadata": {
    "ExecuteTime": {
     "end_time": "2020-10-21T22:29:41.575218Z",
     "start_time": "2020-10-21T22:29:41.573030Z"
    },
    "hidden": true
   },
   "outputs": [],
   "source": [
    "## Plot shooting\n"
   ]
  },
  {
   "cell_type": "markdown",
   "metadata": {
    "hidden": true
   },
   "source": [
    "> #### Q: What went wrong? What are we looking at?"
   ]
  },
  {
   "cell_type": "markdown",
   "metadata": {
    "hidden": true
   },
   "source": [
    "## Resampling Time Series"
   ]
  },
  {
   "cell_type": "code",
   "execution_count": null,
   "metadata": {
    "ExecuteTime": {
     "end_time": "2020-10-21T22:29:45.813969Z",
     "start_time": "2020-10-21T22:29:45.811842Z"
    },
    "hidden": true
   },
   "outputs": [],
   "source": [
    "## Resample to daily data\n"
   ]
  },
  {
   "cell_type": "markdown",
   "metadata": {
    "hidden": true
   },
   "source": [
    "### Time series Frequencies\n"
   ]
  },
  {
   "cell_type": "markdown",
   "metadata": {
    "hidden": true
   },
   "source": [
    "#### Pandas Frequency Aliases"
   ]
  },
  {
   "cell_type": "markdown",
   "metadata": {
    "hidden": true
   },
   "source": [
    "https://pandas.pydata.org/pandas-docs/stable/user_guide/timeseries.html#timeseries-offset-aliases\n",
    "\n",
    "\n",
    "|Alias\t| Description|\n",
    "| --- | --- |\n",
    "|B |\tbusiness day frequency|\n",
    "|C |\tcustom business day frequency|\n",
    "|D |\tcalendar day frequency|\n",
    "|W |\tweekly frequency|\n",
    "|M |\tmonth end frequency|\n",
    "|SM |\tsemi-month end frequency (15th and end of month)|\n",
    "|BM |\tbusiness month end frequency|\n",
    "|CBM |\tcustom business month end frequency|\n",
    "|MS |\tmonth start frequency|\n",
    "|SMS |\tsemi-month start frequency (1st and 15th)|\n",
    "|BMS |\tbusiness month start frequency|\n",
    "|CBMS |\tcustom business month start frequency|\n",
    "|Q |\tquarter end frequency|\n",
    "|BQ |\tbusiness quarter end frequency|\n",
    "|QS |\tquarter start frequency|\n",
    "|BQS |\tbusiness quarter start frequency|\n",
    "|A, Y |\tyear end frequency|\n",
    "|BA, BY |\tbusiness year end frequency|\n",
    "|AS, YS |\tyear start frequency|\n",
    "|BAS, BYS |\tbusiness year start frequency|\n",
    "|BH | business hour frequency|\n",
    "|H | hourly frequency|\n",
    "|T |  min\tminutely frequency|\n",
    "|S | secondly frequency|\n",
    "|L |  ms\tmilliseconds|\n",
    "|U |  us\tmicroseconds|\n",
    "|N | nanoseconds|"
   ]
  },
  {
   "cell_type": "markdown",
   "metadata": {
    "hidden": true
   },
   "source": [
    "#### Compare Resampled ts"
   ]
  },
  {
   "cell_type": "code",
   "execution_count": null,
   "metadata": {
    "ExecuteTime": {
     "end_time": "2020-10-21T22:31:58.131886Z",
     "start_time": "2020-10-21T22:31:58.129647Z"
    },
    "hidden": true,
    "scrolled": false
   },
   "outputs": [],
   "source": [
    "## Plot the same ts as different frequencies\n",
    "## Specify freq codes\n",
    "freq_codes = []\n",
    "\n",
    "## For each freq code, resample and plot\n",
    "    \n",
    "    ## Create a figure\n",
    "    \n",
    "    ## Resample ts and plot\n"
   ]
  },
  {
   "cell_type": "code",
   "execution_count": null,
   "metadata": {
    "ExecuteTime": {
     "end_time": "2020-10-21T22:33:16.312829Z",
     "start_time": "2020-10-21T22:33:16.310625Z"
    },
    "hidden": true
   },
   "outputs": [],
   "source": [
    "## Repeat the above loop,but plot it all on one figure\n",
    "\n",
    "\n",
    "\n",
    "## Move the legend to OUTSIDE the plot\n"
   ]
  },
  {
   "cell_type": "markdown",
   "metadata": {
    "hidden": true
   },
   "source": [
    "## Visualize all CRIMES as \"D\" Freq"
   ]
  },
  {
   "cell_type": "markdown",
   "metadata": {
    "hidden": true
   },
   "source": [
    "> **Loop through CRIMES and resample and plot all crimes**"
   ]
  },
  {
   "cell_type": "code",
   "execution_count": null,
   "metadata": {
    "ExecuteTime": {
     "end_time": "2020-10-21T22:33:35.578906Z",
     "start_time": "2020-10-21T22:33:35.576888Z"
    },
    "hidden": true,
    "scrolled": false
   },
   "outputs": [],
   "source": [
    "## Plot all crimes the same way\n"
   ]
  },
  {
   "cell_type": "markdown",
   "metadata": {
    "hidden": true
   },
   "source": [
    "> What do we notice about the different time series? "
   ]
  },
  {
   "cell_type": "markdown",
   "metadata": {
    "hidden": true
   },
   "source": [
    "## Slicing With Time Series"
   ]
  },
  {
   "cell_type": "markdown",
   "metadata": {
    "hidden": true
   },
   "source": [
    "- Make sure you're index is sorted first'\n",
    "- Feed in 2 dates as strings for slicing.\n",
    "- Always use .loc when slicing dates"
   ]
  },
  {
   "cell_type": "code",
   "execution_count": null,
   "metadata": {
    "ExecuteTime": {
     "end_time": "2020-10-21T22:34:07.770389Z",
     "start_time": "2020-10-21T22:34:07.760535Z"
    },
    "hidden": true,
    "scrolled": true
   },
   "outputs": [],
   "source": [
    "## Slice 2014:\n",
    "ts = CRIMES['SHOOTING'].loc['2014':].resample('D').sum()\n",
    "ts\n"
   ]
  },
  {
   "cell_type": "markdown",
   "metadata": {
    "hidden": true
   },
   "source": [
    "## Using Dictionaries for Time Series preprocessing"
   ]
  },
  {
   "cell_type": "code",
   "execution_count": null,
   "metadata": {
    "ExecuteTime": {
     "end_time": "2020-10-21T22:34:27.386561Z",
     "start_time": "2020-10-21T22:34:27.382935Z"
    },
    "hidden": true
   },
   "outputs": [],
   "source": [
    "## Save all crimes from 2014 on with freq=D in new TS dict\n",
    "TS ={}\n",
    "## For each crime\n",
    "    \n",
    "    ## Resample and slice and save ts\n",
    "\n",
    "## Display the key\n",
    "TS.keys()"
   ]
  },
  {
   "cell_type": "code",
   "execution_count": null,
   "metadata": {
    "ExecuteTime": {
     "end_time": "2020-10-21T22:34:24.424117Z",
     "start_time": "2020-10-21T22:34:24.421879Z"
    },
    "hidden": true
   },
   "outputs": [],
   "source": [
    "## Check shooting\n"
   ]
  },
  {
   "cell_type": "markdown",
   "metadata": {
    "hidden": true
   },
   "source": [
    "### Visualize all ts with the differnet requency codes"
   ]
  },
  {
   "cell_type": "code",
   "execution_count": null,
   "metadata": {
    "ExecuteTime": {
     "end_time": "2020-10-21T22:19:36.814678Z",
     "start_time": "2020-10-21T22:19:34.649755Z"
    },
    "hidden": true,
    "scrolled": false
   },
   "outputs": [],
   "source": [
    "## Plot the same ts as different frequencies\n",
    "freq_codes = ['D','3D','W','M','Q']\n",
    "\n",
    "for freq in freq_codes:\n",
    "    \n",
    "    fig, ax = plt.subplots()\n",
    "\n",
    "    for crime,ts in TS.items():\n",
    "        ts.loc['2015':'2019'].resample(freq).sum().plot(title=f\"Freq Code = {freq}\",ax=ax)\n",
    "        \n",
    "    ax.legend(bbox_to_anchor=(1.05,1),loc='upper left')"
   ]
  },
  {
   "cell_type": "markdown",
   "metadata": {
    "hidden": true
   },
   "source": [
    "### Save Final TS and `ts_df`"
   ]
  },
  {
   "cell_type": "code",
   "execution_count": null,
   "metadata": {
    "ExecuteTime": {
     "end_time": "2020-10-21T22:34:57.733760Z",
     "start_time": "2020-10-21T22:34:57.731606Z"
    },
    "hidden": true
   },
   "outputs": [],
   "source": [
    "## Concatenate the TS dict to a single DataFrame and display .head()\n"
   ]
  },
  {
   "cell_type": "code",
   "execution_count": null,
   "metadata": {
    "ExecuteTime": {
     "end_time": "2020-10-21T22:35:03.161422Z",
     "start_time": "2020-10-21T22:35:03.159614Z"
    },
    "hidden": true
   },
   "outputs": [],
   "source": [
    "## Check For Null Values\n",
    "\n",
    "\n",
    "## Save List of columns with null values\n"
   ]
  },
  {
   "cell_type": "code",
   "execution_count": null,
   "metadata": {
    "ExecuteTime": {
     "end_time": "2020-10-21T22:35:05.460828Z",
     "start_time": "2020-10-21T22:35:05.458660Z"
    },
    "hidden": true
   },
   "outputs": [],
   "source": [
    "## Show rows with null values\n"
   ]
  },
  {
   "cell_type": "code",
   "execution_count": null,
   "metadata": {
    "ExecuteTime": {
     "end_time": "2020-10-21T22:35:08.130275Z",
     "start_time": "2020-10-21T22:35:08.128073Z"
    },
    "hidden": true
   },
   "outputs": [],
   "source": [
    "## save index of null rows to compare before and after\n"
   ]
  },
  {
   "cell_type": "code",
   "execution_count": null,
   "metadata": {
    "ExecuteTime": {
     "end_time": "2020-10-21T22:35:10.059893Z",
     "start_time": "2020-10-21T22:35:10.057639Z"
    },
    "hidden": true
   },
   "outputs": [],
   "source": [
    "## Slice out the rows that contained null values in the null columns\n"
   ]
  },
  {
   "cell_type": "markdown",
   "metadata": {
    "hidden": true
   },
   "source": [
    "> More columns would benefit from ffill than bfill so we are going to ffill and then dropna to remove the few days at the beginning of 2014 without data"
   ]
  },
  {
   "cell_type": "code",
   "execution_count": null,
   "metadata": {
    "ExecuteTime": {
     "end_time": "2020-10-21T22:35:14.323484Z",
     "start_time": "2020-10-21T22:35:14.321541Z"
    },
    "hidden": true
   },
   "outputs": [],
   "source": [
    "## FFill null values\n",
    "\n",
    "## check null rows/cols\n"
   ]
  },
  {
   "cell_type": "code",
   "execution_count": null,
   "metadata": {
    "ExecuteTime": {
     "end_time": "2020-10-21T22:35:30.925296Z",
     "start_time": "2020-10-21T22:35:30.923435Z"
    },
    "hidden": true
   },
   "outputs": [],
   "source": [
    "## Bfill remaining nulls\n",
    "\n",
    "## check null rows/cols\n"
   ]
  },
  {
   "cell_type": "code",
   "execution_count": null,
   "metadata": {
    "ExecuteTime": {
     "end_time": "2020-10-21T22:35:33.425486Z",
     "start_time": "2020-10-21T22:35:33.423377Z"
    },
    "hidden": true
   },
   "outputs": [],
   "source": [
    "## Final null check\n"
   ]
  },
  {
   "cell_type": "code",
   "execution_count": null,
   "metadata": {
    "ExecuteTime": {
     "end_time": "2020-10-21T22:35:35.924481Z",
     "start_time": "2020-10-21T22:35:35.922352Z"
    },
    "hidden": true
   },
   "outputs": [],
   "source": [
    "## Save df to csv for time series modeling next class\n"
   ]
  },
  {
   "cell_type": "markdown",
   "metadata": {
    "heading_collapsed": true
   },
   "source": [
    "# Time Series Trends"
   ]
  },
  {
   "cell_type": "markdown",
   "metadata": {
    "hidden": true
   },
   "source": [
    "## Types of Trends"
   ]
  },
  {
   "cell_type": "markdown",
   "metadata": {
    "hidden": true
   },
   "source": [
    "<img src=\"https://raw.githubusercontent.com/learn-co-students/dsc-removing-trends-online-ds-ft-100719/master/images/new_trendseasonal.png\" width=80%>"
   ]
  },
  {
   "cell_type": "markdown",
   "metadata": {
    "hidden": true
   },
   "source": [
    "## Stationarity"
   ]
  },
  {
   "cell_type": "markdown",
   "metadata": {
    "hidden": true
   },
   "source": [
    "<div style=\"text-align:center;font-size:2em\">Mean</div>\n",
    "    \n",
    "<img src=\"https://raw.githubusercontent.com/jirvingphd/dsc-types-of-trends-online-ds-ft-100719/master/images/new_mean_nonstationary.png\" width=70%>\n",
    "<br><br>\n",
    "<div style=\"text-align:center;font-size:3em\">Variance</div>\n",
    "<img src=\"https://raw.githubusercontent.com/jirvingphd/dsc-types-of-trends-online-ds-ft-100719/master/images/new_cov_nonstationary.png\" width=70%>\n",
    "</div>"
   ]
  },
  {
   "cell_type": "code",
   "execution_count": null,
   "metadata": {
    "ExecuteTime": {
     "end_time": "2020-10-21T22:35:41.338635Z",
     "start_time": "2020-10-21T22:35:41.330559Z"
    },
    "code_folding": [],
    "hidden": true
   },
   "outputs": [],
   "source": [
    "## Lab Function\n",
    "from statsmodels.tsa.stattools import adfuller\n",
    "\n",
    "def stationarity_check(TS,plot=True,col=None):\n",
    "    \"\"\"From: https://learn.co/tracks/data-science-career-v2/module-4-a-complete-data-science-project-using-multiple-regression/working-with-time-series-data/time-series-decomposition\n",
    "    \"\"\"\n",
    "    \n",
    "    # Import adfuller\n",
    "    from statsmodels.tsa.stattools import adfuller\n",
    "\n",
    "    if col is not None:\n",
    "        # Perform the Dickey Fuller Test\n",
    "        dftest = adfuller(TS[col]) # change the passengers column as required \n",
    "    else:\n",
    "        dftest=adfuller(TS)\n",
    " \n",
    "    if plot:\n",
    "        # Calculate rolling statistics\n",
    "        rolmean = TS.rolling(window = 8, center = False).mean()\n",
    "        rolstd = TS.rolling(window = 8, center = False).std()\n",
    "\n",
    "        #Plot rolling statistics:\n",
    "        fig = plt.figure(figsize=(12,6))\n",
    "        orig = plt.plot(TS, color='blue',label='Original')\n",
    "        mean = plt.plot(rolmean, color='red', label='Rolling Mean')\n",
    "        std = plt.plot(rolstd, color='black', label = 'Rolling Std')\n",
    "        plt.legend(loc='best')\n",
    "        plt.title('Rolling Mean & Standard Deviation')\n",
    "#     plt.show(block=False)\n",
    "    \n",
    "    # Print Dickey-Fuller test results\n",
    "    print ('Results of Dickey-Fuller Test:')\n",
    "\n",
    "    dfoutput = pd.Series(dftest[0:4],\n",
    "                         index=['Test Statistic','p-value','#Lags Used','Number of Observations Used'])\n",
    "    for key,value in dftest[4].items():\n",
    "        dfoutput['Critical Value (%s)'%key] = value\n",
    "        \n",
    "    dfoutput['sig'] = dfoutput['p-value']<.05\n",
    "    display (dfoutput.round(3))\n",
    "    \n",
    "    return dfoutput"
   ]
  },
  {
   "cell_type": "code",
   "execution_count": null,
   "metadata": {
    "ExecuteTime": {
     "end_time": "2020-10-21T22:35:54.553579Z",
     "start_time": "2020-10-21T22:35:54.551740Z"
    },
    "hidden": true
   },
   "outputs": [],
   "source": [
    "## Save LARCENY for 2017-End as our ts\n",
    "\n",
    "## Run a stationarity check\n"
   ]
  },
  {
   "cell_type": "markdown",
   "metadata": {
    "hidden": true
   },
   "source": [
    "> Since our AD Fuller Test p-value is > .05 we conclude that we have non-stationary data. So now what??"
   ]
  },
  {
   "cell_type": "markdown",
   "metadata": {
    "heading_collapsed": true
   },
   "source": [
    "# Removing Trends"
   ]
  },
  {
   "cell_type": "markdown",
   "metadata": {
    "hidden": true
   },
   "source": [
    "#### Trend Removal Methods\n",
    "- Log-Transformation (`np.log`)\n",
    "- Differencing (`.diff()`)\n",
    "- Subtract Rolling Mean (`ts-ts.rolling().mean()`)\n",
    "- Subtract Exponentially-Weighted Mean (`ts-ts.ewm().mean()`)\n",
    "- Seasonal Decomposition (`from statsmodels.tsa.seasonal import seasonal_decompose`\n",
    ")"
   ]
  },
  {
   "cell_type": "code",
   "execution_count": null,
   "metadata": {
    "ExecuteTime": {
     "end_time": "2020-10-21T22:15:30.909041Z",
     "start_time": "2020-10-21T22:15:30.566669Z"
    },
    "hidden": true
   },
   "outputs": [],
   "source": [
    "## Simpler Version of ADfullter func\n",
    "def adfuller_test_df(ts):\n",
    "    \"\"\"Returns the AD Fuller Test Results and p-values for the null hypothesis\n",
    "    that there the data is non-stationary (that there is a unit root in the data)\"\"\"\n",
    "    df_res = adfuller(ts)\n",
    "    names = ['Test Statistic','p-value','#Lags Used','# of Observations Used']\n",
    "    res  = dict(zip(names,df_res[:4]))\n",
    "    res['p<.05'] = res['p-value']<.05\n",
    "    res['Stationary?'] = res['p<.05']\n",
    "    \n",
    "    return pd.DataFrame(res,index=['AD Fuller Results'])"
   ]
  },
  {
   "cell_type": "code",
   "execution_count": null,
   "metadata": {
    "ExecuteTime": {
     "end_time": "2020-10-21T22:36:00.241076Z",
     "start_time": "2020-10-21T22:36:00.239055Z"
    },
    "hidden": true
   },
   "outputs": [],
   "source": [
    "## Plot ts and show adfuller results\n"
   ]
  },
  {
   "cell_type": "code",
   "execution_count": null,
   "metadata": {
    "ExecuteTime": {
     "end_time": "2020-10-21T22:36:02.694039Z",
     "start_time": "2020-10-21T22:36:02.691905Z"
    },
    "hidden": true
   },
   "outputs": [],
   "source": [
    "## Log Transform\n"
   ]
  },
  {
   "cell_type": "code",
   "execution_count": null,
   "metadata": {
    "ExecuteTime": {
     "end_time": "2020-10-21T22:36:06.783127Z",
     "start_time": "2020-10-21T22:36:06.781259Z"
    },
    "hidden": true
   },
   "outputs": [],
   "source": [
    "## Differencing \n"
   ]
  },
  {
   "cell_type": "code",
   "execution_count": null,
   "metadata": {
    "ExecuteTime": {
     "end_time": "2020-10-21T22:36:18.981877Z",
     "start_time": "2020-10-21T22:36:18.979831Z"
    },
    "hidden": true
   },
   "outputs": [],
   "source": [
    "## Subtract Rolling mean\n"
   ]
  },
  {
   "cell_type": "code",
   "execution_count": null,
   "metadata": {
    "ExecuteTime": {
     "end_time": "2020-10-21T22:36:22.508283Z",
     "start_time": "2020-10-21T22:36:22.506422Z"
    },
    "hidden": true
   },
   "outputs": [],
   "source": [
    "## Subtract Exponentially Weight Mean Rolling mean\n",
    "\n"
   ]
  },
  {
   "cell_type": "markdown",
   "metadata": {
    "hidden": true
   },
   "source": [
    "## Seasonal Decomposition"
   ]
  },
  {
   "cell_type": "code",
   "execution_count": null,
   "metadata": {
    "ExecuteTime": {
     "end_time": "2020-10-21T22:22:33.099511Z",
     "start_time": "2020-10-21T22:22:32.481165Z"
    },
    "hidden": true,
    "scrolled": false
   },
   "outputs": [],
   "source": [
    "from statsmodels.tsa.seasonal import seasonal_decompose\n",
    "## Save decomposed time series and plot\n"
   ]
  },
  {
   "cell_type": "code",
   "execution_count": null,
   "metadata": {
    "ExecuteTime": {
     "end_time": "2020-10-21T22:36:37.944463Z",
     "start_time": "2020-10-21T22:36:37.942374Z"
    },
    "hidden": true
   },
   "outputs": [],
   "source": [
    "## Get ADFuller Results for seasonal component\n"
   ]
  },
  {
   "cell_type": "code",
   "execution_count": null,
   "metadata": {
    "ExecuteTime": {
     "end_time": "2020-10-21T22:36:39.628694Z",
     "start_time": "2020-10-21T22:36:39.626456Z"
    },
    "hidden": true
   },
   "outputs": [],
   "source": [
    "## Get ADFuller Results for trend component\n"
   ]
  },
  {
   "cell_type": "code",
   "execution_count": null,
   "metadata": {
    "ExecuteTime": {
     "end_time": "2020-10-21T22:36:41.043196Z",
     "start_time": "2020-10-21T22:36:41.041096Z"
    },
    "hidden": true
   },
   "outputs": [],
   "source": [
    "## Get ADFuller Results for resid component\n"
   ]
  },
  {
   "cell_type": "markdown",
   "metadata": {
    "heading_collapsed": true
   },
   "source": [
    "# APPENDIX"
   ]
  },
  {
   "cell_type": "markdown",
   "metadata": {
    "hidden": true
   },
   "source": [
    "### Date Str Formatting\n",
    "\n"
   ]
  },
  {
   "cell_type": "markdown",
   "metadata": {
    "hidden": true
   },
   "source": [
    "\n",
    "Formatting follows the Python datetime <strong><a href='http://strftime.org/'>strftime</a></strong> codes.<br>\n",
    "The following examples are based on <tt>datetime.datetime(2001, 2, 3, 16, 5, 6)</tt>:\n",
    "<br><br>\n",
    "\n",
    "<table style=\"display: inline-block\">  \n",
    "<tr><th>CODE</th><th>MEANING</th><th>EXAMPLE</th><tr>\n",
    "<tr><td>%Y</td><td>Year with century as a decimal number.</td><td>2001</td></tr>\n",
    "<tr><td>%y</td><td>Year without century as a zero-padded decimal number.</td><td>01</td></tr>\n",
    "<tr><td>%m</td><td>Month as a zero-padded decimal number.</td><td>02</td></tr>\n",
    "<tr><td>%B</td><td>Month as locale’s full name.</td><td>February</td></tr>\n",
    "<tr><td>%b</td><td>Month as locale’s abbreviated name.</td><td>Feb</td></tr>\n",
    "<tr><td>%d</td><td>Day of the month as a zero-padded decimal number.</td><td>03</td></tr>  \n",
    "<tr><td>%A</td><td>Weekday as locale’s full name.</td><td>Saturday</td></tr>\n",
    "<tr><td>%a</td><td>Weekday as locale’s abbreviated name.</td><td>Sat</td></tr>\n",
    "<tr><td>%H</td><td>Hour (24-hour clock) as a zero-padded decimal number.</td><td>16</td></tr>\n",
    "<tr><td>%I</td><td>Hour (12-hour clock) as a zero-padded decimal number.</td><td>04</td></tr>\n",
    "<tr><td>%p</td><td>Locale’s equivalent of either AM or PM.</td><td>PM</td></tr>\n",
    "<tr><td>%M</td><td>Minute as a zero-padded decimal number.</td><td>05</td></tr>\n",
    "<tr><td>%S</td><td>Second as a zero-padded decimal number.</td><td>06</td></tr>\n",
    "</table>\n",
    "<table style=\"display: inline-block\">\n",
    "<tr><th>CODE</th><th>MEANING</th><th>EXAMPLE</th><tr>\n",
    "<tr><td>%#m</td><td>Month as a decimal number. (Windows)</td><td>2</td></tr>\n",
    "<tr><td>%-m</td><td>Month as a decimal number. (Mac/Linux)</td><td>2</td></tr>\n",
    "<tr><td>%#x</td><td>Long date</td><td>Saturday, February 03, 2001</td></tr>\n",
    "<tr><td>%#c</td><td>Long date and time</td><td>Saturday, February 03, 2001 16:05:06</td></tr>\n",
    "</table>  \n",
    "    "
   ]
  }
 ],
 "metadata": {
  "kernelspec": {
   "display_name": "learn-env",
   "language": "python",
   "name": "learn-env"
  },
  "language_info": {
   "codemirror_mode": {
    "name": "ipython",
    "version": 3
   },
   "file_extension": ".py",
   "mimetype": "text/x-python",
   "name": "python",
   "nbconvert_exporter": "python",
   "pygments_lexer": "ipython3",
   "version": "3.6.11"
  },
  "toc": {
   "base_numbering": 1,
   "nav_menu": {},
   "number_sections": true,
   "sideBar": true,
   "skip_h1_title": false,
   "title_cell": "Table of Contents",
   "title_sidebar": "Contents",
   "toc_cell": false,
   "toc_position": {
    "height": "calc(100% - 180px)",
    "left": "10px",
    "top": "150px",
    "width": "284.438px"
   },
   "toc_section_display": true,
   "toc_window_display": true
  }
 },
 "nbformat": 4,
 "nbformat_minor": 2
}
