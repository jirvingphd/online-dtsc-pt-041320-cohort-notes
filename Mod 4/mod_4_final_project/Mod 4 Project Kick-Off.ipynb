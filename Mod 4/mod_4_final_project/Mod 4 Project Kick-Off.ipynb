{
 "cells": [
  {
   "cell_type": "markdown",
   "metadata": {},
   "source": [
    "# Module 4 Final Project Kick-Off\n"
   ]
  },
  {
   "cell_type": "markdown",
   "metadata": {},
   "source": [
    "- 11/13/20\n",
    "- online-ds-pt-041320"
   ]
  },
  {
   "cell_type": "markdown",
   "metadata": {},
   "source": [
    "## Project Timeline & Due Dates"
   ]
  },
  {
   "cell_type": "markdown",
   "metadata": {},
   "source": [
    "- **Today: Friday 11/13:**\n",
    "    - **Mod 4 Project kick-off**.\n",
    "    \n",
    "- **Wednesday 11/18: Notify me by which project option you are choosing** and to get dataset approval (if choosing your own dataset). \n",
    "\n",
    "\n",
    "- **Project Weeks:**\n",
    "    - **Week One: Week of 11/16**\n",
    "        - Office Hours Study Groups:\n",
    "            - Wednesday 11/18\n",
    "            - Friday 11/20\n",
    "            \n",
    "    - **Week Two: Week of 11/23**\n",
    "        - Office Hours Study Groups:\n",
    "            - Wednesday 11/25\n",
    "            \n",
    "    - **Friday 11/27: Flatiron is closed for Thanksgiving**\n",
    "        - No one on ones or study group.\n",
    "\n",
    "    \n",
    "- **SOFT DEADLINE: 11/28/20**\n",
    "    - Links submitted on Learn.co\n",
    "    - Schedule your project review. \n",
    "        - https://go.oncehub.com/OfficeHoursfor041320PT\n",
    "            \n",
    "            \n",
    "- **BREAK WEEK: 11/30 - 12/05**\n",
    "    - No study group, one on ones, or project reviews. \n",
    "\n",
    "\n",
    "- **Project Reviews**:\n",
    "    - Week One: 12/07 - 12/12\n",
    "    - Week Two: 12/14 - 12/19\n",
    "    \n",
    "    \n",
    "- **HARD DEADLINE: 12/19/20**\n",
    "    - You must pass your project review by this date.\n",
    "    "
   ]
  },
  {
   "cell_type": "markdown",
   "metadata": {},
   "source": [
    "# Module 4 Final Project README\n",
    "[Lesson Link](https://learn.co/tracks/module-4-data-science-career-2-1/final-project/final-project/module-4-final-project)"
   ]
  },
  {
   "cell_type": "markdown",
   "metadata": {},
   "source": [
    "## Introduction\n",
    "\n",
    "In this lesson, we'll review all of the guidelines and specifications for the final project for Module 4.\n",
    "\n",
    "## Objectives\n",
    "\n",
    "* Understand all required aspects of the Final Project for Module 4\n",
    "* Understand all required deliverables\n",
    "* Understand what constitutes a successful project\n",
    "\n",
    "## Final Project Summary\n",
    "\n",
    "Final module down -- you're absolutely crushing it! You've made it all the way through one of the toughest modules of this course. You must have an amazing brain in your head!\n",
    "\n",
    "<img src='https://raw.githubusercontent.com/learn-co-students/dsc-mod-4-project-seattle-ds-102819/master/images/brain.gif'>\n",
    "\n",
    "## The Datasets\n",
    "\n",
    "For this module's final project, you have the choice of four problems:\n",
    "\n",
    "- Time Series Modeling\n",
    "- Recommendation System\n",
    "- Image Classification with Deep Learning\n",
    "- Natural Language Processing\n",
    "\n",
    "For each problem, we have provided a dataset. You may use a dataset of your own choosing with your instructor's approval.\n",
    "\n",
    "Like Project \\#3, the focus here is on *prediction*. It will be up to you to determine how best to evaluate your model, but for any of these projects your goal is to build something that **works**.\n",
    "\n",
    "When choosing a problem, consider:\n",
    "\n",
    "1. **Portfolio Depth:** One option is to choose the same type of problem you plan to tackle in Module 5 (capstone).  This will allow you to practice the necessary skills in a group setting, before diving into your individual project.  You will likely produce a capstone project that is more polished and sophisticated, but your portfolio will demonstrate less breadth.\n",
    "2. **Portfolio Breadth:** Another option is to choose a type of problem that interests you, but that you don't plan to use in your capstone project.  Each of your individual projects will end up less polished and sophisticated, but you will end up with a portfolio that demonstrates a wider range of skills.\n",
    "\n",
    "### Problem 1: Time Series Modeling\n",
    "\n",
    "If you choose the Time Series option, you will be forecasting real estate prices of various zip codes using data from [Zillow](https://www.zillow.com/research/data/). However, this won't be as straightforward as just running a time-series analysis -- you're going to have to make some data-driven decisions and think critically along the way!\n",
    "\n",
    "For this project, you will be acting as a consultant for a fictional real-estate investment firm. The firm has asked you what seems like a simple question:\n",
    "\n",
    "> What are the top 5 best zip codes for us to invest in?\n",
    "\n",
    "This may seem like a simple question at first glance, but there's more than a little ambiguity here that you'll have to think through in order to provide a solid recommendation. Should your recommendation be focused on profit margins only? What about risk? What sort of time horizon are you predicting against?  Your recommendation will need to detail your rationale and answer any sort of lingering questions like these in order to demonstrate how you define \"best\".\n",
    "\n",
    "As mentioned previously, the data you'll be working with comes from the [Zillow Research Page](https://www.zillow.com/research/data/). However, there are many options on that page, and making sure you have exactly what you need can be a bit confusing. For simplicity's sake, we have already provided the dataset for you in this repo -- you will find it in the file `time-series/zillow_data.csv`.\n",
    "\n",
    "The goal of this project is to have you complete a very common real-world task in regard to time series modeling. However, real world problems often come with a significant degree of ambiguity, which requires you to use your knowledge of statistics and data science to think critically about and answer. While the main task in this project is time series modeling, that isn't the overall goal -- it is important to understand that time series modeling is a tool in your toolbox, and the forecasts it provides you are what you'll use to answer important questions.\n",
    "\n",
    "In short, to pass this project, demonstrating the quality and thoughtfulness of your overall recommendation is at least as important as successfully building a time series model!\n",
    "\n",
    "#### Starter Jupyter Notebook\n",
    "\n",
    "For this project, you will be provided with a Jupyter notebook, `time-series/starter_notebook.ipynb`, containing some starter code. If you inspect the Zillow dataset file, you'll notice that the datetimes for each sale are the actual column names -- this is a format you probably haven't seen before. To ensure that you're not blocked by preprocessing, we've provided some helper functions to help simplify getting the data into the correct format. You're not required to use this notebook or keep it in its current format, but we strongly recommend you consider making use of the helper functions so you can spend your time working on the parts of the project that matter.\n",
    "\n",
    "#### Evaluation\n",
    "\n",
    "In addition to deciding which quantitative metric(s) you want to target (e.g. minimizing mean squared error), you need to start with a definition of \"best investment\".  Consider additional metrics like risk vs. profitability, or ROI yield.\n",
    "\n",
    "### Problem 2: Recommendation System\n",
    "\n",
    "If you choose the Recommendation System option, you will be making movie recommendations based on the [MovieLens](https://grouplens.org/datasets/movielens/latest/) dataset from the GroupLens research lab at the University of Minnesota.  Unless you are planning to run your analysis on a paid cloud platform, we recommend that you use the \"small\" dataset containing 100,000 user ratings (and potentially, only a particular subset of that dataset).\n",
    "\n",
    "Your task is to:\n",
    "\n",
    "> Build a model that provides top 5 movie recommendations to a user, based on their ratings of other movies.\n",
    "\n",
    "The MovieLens dataset is a \"classic\" recommendation system dataset, that is used in numerous academic papers and machine learning proofs-of-concept.  You will need to create the specific details about how the user will provide their ratings of other movies, in addition to formulating a more specific business problem within the general context of \"recommending movies\".\n",
    "\n",
    "#### Collaborative Filtering\n",
    "\n",
    "At minimum, your recommendation system must use collaborative filtering.  If you have time, consider implementing a hybrid approach, e.g. using collaborative filtering as the primary mechanism, but using content-based filtering to address the [cold start problem](https://en.wikipedia.org/wiki/Cold_start_(computing)).\n",
    "\n",
    "#### Evaluation\n",
    "\n",
    "The MovieLens dataset has explicit ratings, so achieving some sort of evaluation of your model is simple enough.  But you should give some thought to the question of metrics.  Since the rankings are ordinal, we know we can treat this like a regression problem.  But when it comes to regression metrics there are several choices: RMSE, MAE, etc.  [Here](http://fastml.com/evaluating-recommender-systems/) are some further ideas.\n",
    "\n",
    "### Problem 3: Image Classification with Deep Learning\n",
    "\n",
    "If you choose this option, you'll put everything you've learned together to build a deep neural network that trains on a large dataset for classification on a non-trivial task.  In this case, using x-ray images of pediatric patients to identify whether or not they have pneumonia.  The dataset comes from Kermany et al. on [Mendeley](https://data.mendeley.com/datasets/rscbjbr9sj/3), although there is also a version on [Kaggle](https://www.kaggle.com/paultimothymooney/chest-xray-pneumonia) that may be easier to use.\n",
    "\n",
    "Your task is to:\n",
    "\n",
    "> Build a model that can classify whether a given patient has pneumonia, given a chest x-ray image.\n",
    "\n",
    "#### Aim for a Proof of Concept\n",
    "\n",
    "With Deep Learning, data is king -- the more of it, the better. However, the goal of this project isn't to build the best model possible -- it's to demonstrate your understanding by building a model that works. You should try to avoid datasets and model architectures that won't run in reasonable time on your own machine. For many problems, this means downsampling your dataset and only training on a portion of it. Once you're absolutely sure that you've found the best possible architecture and other hyperparameters for your model, then consider training your model on your entire dataset overnight (or, as larger portion of the dataset that will still run in a feasible amount of time).\n",
    "\n",
    "At the end of the day, we want to see your thought process as you iterate and improve on a model. A project that achieves a lower level of accuracy but has clearly iterated on the model and the problem until it found the best possible approach is more impressive than a model with high accuracy that did no iteration. We're not just interested in seeing you finish a model -- we want to see that you understand it, and can use this knowledge to try and make it even better!\n",
    "\n",
    "#### Evaluation\n",
    "\n",
    "Evaluation is fairly straightforward for this project.  But you'll still need to think about which metric to use and about how best to cross-validate your results.\n",
    "\n",
    "### Problem 4: Natural Language Processing (NLP)\n",
    "\n",
    "If you choose this option, you'll build an NLP model to analyze Twitter sentiment about Apple and Google products. The dataset comes from CrowdFlower via [data.world][]. Human raters rated the sentiment in over 9,000 Tweets as positive, negative, or neither.\n",
    "\n",
    "Your task is to:\n",
    "\n",
    "> Build a model that can rate the sentiment of a Tweet based on its content.\n",
    "\n",
    "#### Aim for a Proof of Concept\n",
    "\n",
    "There are many approaches to NLP problems - start with something simple and iterate from there. For example, you could start by limiting your analysis to positive and negative Tweets only, allowing you to build a binary classifier. Then you could add in the neutral Tweets to build out a multiclass classifier. You may also consider using some of the more advanced NLP methods in the Mod 4 Appendix.\n",
    "\n",
    "#### Evaluation\n",
    "\n",
    "Evaluating multiclass classifiers can be trickier than binary classifiers because there are multiple ways to mis-classify an observation, and some errors are more problematic than others. Use the business problem that your NLP project sets out to solve to inform your choice of evaluation metrics.\n",
    "\n",
    "## The Deliverables\n",
    "\n",
    "For online students, your completed project should contain the following four deliverables:\n",
    "\n",
    "1. A **_Jupyter Notebook_** containing any code you've written for this project. This work will need to be pushed to a public GitHub repository dedicated for this project.\n",
    "\n",
    "2. An organized **README.md** file in the GitHub repository that describes the contents of the repository. This file should be the source of information for navigating through the repository.\n",
    "\n",
    "3. A **_[Blog Post](https://github.com/learn-co-curriculum/dsc-welcome-blogging-v2-1)_**.\n",
    "\n",
    "4. An **_\"Executive Summary\" PowerPoint Presentation_** that gives a brief overview of your problem/dataset, and each step of the data science process.\n",
    "\n",
    "Note: On-campus students may have different deliverables, please speak with your instructor.\n",
    "\n",
    "### Jupyter Notebook Must-Haves\n",
    "\n",
    "For this project, your Jupyter Notebook should meet the following specifications:\n",
    "\n",
    "**_Organization/Code Cleanliness_**\n",
    "\n",
    "* The notebook should be well organized, easy to follow, and code is commented where appropriate.  \n",
    "    * Level Up: The notebook contains well-formatted, professional looking markdown cells explaining any substantial code. All functions have docstrings that act as professional-quality documentation.  \n",
    "* The notebook is written to technical audiences with a way to both understand your approach and reproduce your results. The target audience for this deliverable is other data scientists looking to validate your findings.  \n",
    "\n",
    "**_Process, Methodology, and Findings_**\n",
    "\n",
    "* Your notebook should contain a clear record of your process and methodology for exploring and preprocessing your data, building and tuning a model, and interpreting your results.\n",
    "* We recommend you use the OSEMN process to help organize your thoughts and stay on track.\n",
    "\n",
    "\n",
    "### Visualizations\n",
    "\n",
    "As usual, the best way to present findings is often visually, and the tips and reminders below should apply to any of these projects.\n",
    "\n",
    "But please pay special attention to this section if choosing Project \\#1 because time series analysis is an area of data science that lends itself well to intuitive data visualizations. Whereas we may not be able to visualize the best choice in a classification or clustering problem with a high-dimensional dataset, that isn't an issue with time series data. As such, **_any findings worth mentioning in this problem are probably also worth visualizing_**.\n",
    "\n",
    "Your notebook should make use of data visualizations as appropriate to make your findings obvious to any readers. And, when it comes to moving images out of notebooks, make an effort to *export* them rather than taking screen shots. Note e.g. `matplotlib.pyplot.savefig()`, an in-built exportation tool. See [here](https://medium.com/analytics-vidhya/export-images-from-jupyter-notebook-with-a-single-command-422db2b66e92) for more sophisticated possibilities.\n",
    "\n",
    "Remember that if a visualization is worth creating, then it's also worth taking the extra few minutes to make sure that it is easily understandable and well-formatted. When creating visualizations, make sure that they have:\n",
    "\n",
    "* A title\n",
    "* Clearly labeled X and Y axes, with appropriate scale for each\n",
    "* A legend, when necessary\n",
    "* No overlapping text that makes it hard to read\n",
    "* An intelligent use of color -- multiple lines should have different colors and/or symbols to make them easily differentiable to the eye\n",
    "* An appropriate amount of information -- avoid creating graphs that are \"too busy\". For instance, don't create a line graph with 25 different lines on it.\n",
    "\n",
    "<center><img src='images/bad-graph-1.png' height=100% width=100%>\n",
    "There's just too much going on in this graph for it to be readable -- don't make the same mistake! (<a href='http://genywealth.com/wp-content/uploads/2010/03/line-graph.php_.png'>Source</a>)</center>\n",
    "\n",
    "### Blog Post Must-Haves\n",
    "\n",
    "Refer back to the [Blogging Guidelines](https://github.com/learn-co-curriculum/dsc-welcome-blogging-v2-1) for the technical requirements and blog ideas.\n",
    "\n",
    "## The Process\n",
    "\n",
    "These steps are informed by Smart Vision's<sup>1</sup> description of the CRISP-DM process.\n",
    "\n",
    "### 1. Business Understanding\n",
    "\n",
    "Start by reading this document, and making sure that you understand the kinds of questions being asked.  In order to narrow your focus, you will likely want to make some design choices about your specific audience, rather than attempting to address all potentially-relevant concerns. Think about what kinds of predictions you want to be able to make, and about which kinds of wrong predictions are most concerning.\n",
    "\n",
    "Three things to be sure you establish during this phase are:\n",
    "\n",
    "1. **Objectives:** what questions are you trying to answer, and for whom?\n",
    "2. **Project plan:** you may want to establish more formal project management practices, such as daily stand-ups or using a Trello board, to plan the time you have remaining.  Regardless you should determine the division of labor, communication expectations, and timeline.\n",
    "3. **Success criteria:** what does a successful project look like?  How will you know when you have achieved it?  At this point you should be able to establish at least one quantitative success metric, before you even decide on which model(s) you are going to try.\n",
    "\n",
    "### 2. Data Understanding\n",
    "\n",
    "Write a script to download the data (or instructions for future users on how to manually download it), and explore it.  Do you understand what the columns mean?  If the dataset has more than one table, how do they relate to each other?  How will you select the subset of relevant data?  What kind of data cleaning is required?\n",
    "\n",
    "It may be useful to generate visualizations of the data during this phase.\n",
    "\n",
    "### 3. Data Preparation\n",
    "\n",
    "Through SQL and Pandas, perform any necessary data cleaning and develop a query that pulls in all relevant data for modeling, including any merging of tables.  Be sure to document any data that you choose to drop or otherwise exclude.  This is also the phase to consider any feature scaling or one-hot encoding required to feed the data into your particular model.\n",
    "\n",
    "### 4. Modeling\n",
    "\n",
    "Similar to the Mod 3 project, the focus is on prediction. Good prediction is a matter of the model generalizing well. Steps we can take to assure good generalization include: testing the model on unseen data, cross-validation, and regularization. What sort of model should you build?\n",
    "\n",
    "Here you will also likely encounter problems with computational capacity.  Figure out how to use smaller samples of your data in order to tweak hyperparameters.  Investigate cloud tools with hardware acceleration (e.g. Google Colab is a free one) in order to run your analysis with larger sets of data and more versions of the model.\n",
    "\n",
    "### 5. Evaluation\n",
    "\n",
    "Recall that there are many different metrics we might use for evaluating a classification model. Accuracy is intuitive, but can be misleading, especially if you have class imbalances in your target. Perhaps, depending on you're defining things, it is more important to minimize false positives, or false negatives. It might therefore be more appropriate to focus on precision or recall. You might also calculate the AUC-ROC to measure your model's *discrimination*.\n",
    "\n",
    "### 6. Deployment\n",
    "\n",
    "In this case, your \"deployment\" comes in the form of the deliverables listed above. Make sure you can answer the following questions about your process:\n",
    "\n",
    " - \"How did you pick the question(s) that you did?\"\n",
    " - \"Why are these questions important from a business perspective?\"\n",
    " - \"How did you decide on the data cleaning options you performed?\"\n",
    " - \"Why did you choose a given method or library?\"\n",
    " - \"Why did you select these visualizations and what did you learn from each of them?\"\n",
    " - \"Why did you pick those features as predictors?\"\n",
    " - \"How would you interpret the results?\"\n",
    " - \"How confident are you in the predictive quality of the results?\"\n",
    " - \"What are some of the things that could cause the results to be wrong?\"\n",
    "\n",
    "## Grading Rubric\n",
    "\n",
    "Online students can find a PDF of the grading rubric for the project [here](TODO). _Note: On-campus students may have different requirements, please speak with your instructor._\n",
    "\n",
    "## Citation\n",
    "\n",
    "1. \"What is the CRISP-DM Methodology?\" Smart Vision Europe. Available at: https://www.sv-europe.com/crisp-dm-methodology/\n",
    "\n",
    "[data.world]: https://data.world/crowdflower/brands-and-product-emotions"
   ]
  },
  {
   "cell_type": "markdown",
   "metadata": {},
   "source": [
    "___"
   ]
  },
  {
   "cell_type": "markdown",
   "metadata": {},
   "source": [
    "# James' Advice/Tips"
   ]
  },
  {
   "cell_type": "markdown",
   "metadata": {},
   "source": [
    "## Choosing a Project Option"
   ]
  },
  {
   "cell_type": "markdown",
   "metadata": {},
   "source": [
    "### **Approaches to choosing a project:**\n",
    "- **Consider what types of jobs** you may want to apply for/focus on.\n",
    "\n",
    "    - **If you want to work in...**\n",
    "        - If you want to work in finance:\n",
    "            - Time Series option is highly recommended.\n",
    "\n",
    "        - If you want the broadest skilset used in more areas:\n",
    "            - NLP Option\n",
    "\n",
    "        - If you want to work for Amazon/Netflix, etc.\n",
    "            - Recommendation System option \n",
    "            - Maybe NLP option\n",
    "        - If you want to work on self-driving cars:\n",
    "            - Computer Vision option\n",
    "        - If you want to work in health care:\n",
    "            - Computer Vision with preapproved dataset\n",
    "            - NLP\n",
    "\n",
    "    - **If you have no idea what type of job:**\n",
    "        - check job listings for data scientist and data analyst positions in your area to see what is in demand.\n",
    "\n",
    "\n",
    "- **Think ahead to your capstone and what you may want to do for it.**\n",
    "    - Mod 4 project is a great time to practice a difficult skill set that you to use in your capstone project.\n",
    "\n",
    "- **Pick something you find interesting**"
   ]
  },
  {
   "cell_type": "markdown",
   "metadata": {},
   "source": [
    "## Project-Specific Tips"
   ]
  },
  {
   "cell_type": "markdown",
   "metadata": {},
   "source": [
    "### Time Series Project"
   ]
  },
  {
   "cell_type": "markdown",
   "metadata": {},
   "source": [
    "1. Make sure to use the starter notebook provided in the project repo's `time-series` folder.\n",
    "\n",
    "2. I recommend updating the provided function as follows:\n",
    "\n",
    "```python\n",
    "def melt_data(df):\n",
    "    melted = pd.melt(df, id_vars=['RegionName', 'City', 'State', 'Metro', 'CountyName'], var_name='time')\n",
    "    melted['time'] = pd.to_datetime(melted['time'], infer_datetime_format=True)\n",
    "    melted = melted.dropna(subset=['value'])\n",
    "    return melted#melted.groupby('time').aggregate({'value':'mean'})\n",
    "```\n",
    "\n",
    "3. Do NOT use the entire dataset as a starting point.\n",
    "    - Reduce the dataset to one geographic region (state or metro area) OR some other rationale/grouping\n",
    "\n",
    "\n",
    "4. Workflow Suggestions:\n",
    "    - Use dictionaries using the zipcodes of interest as the keys.\n",
    "    \n",
    "    \n",
    "5. Your Top 5 Zipcodes to Invest In should be based on forecasts into the future (beyond the dataset)\n"
   ]
  },
  {
   "cell_type": "markdown",
   "metadata": {},
   "source": [
    "### Computer Vision Project"
   ]
  },
  {
   "cell_type": "markdown",
   "metadata": {},
   "source": [
    "- Consider using Google Colab if you local machine has limited resources.\n",
    "    - Example Notebook demonstrating using computer vision in colab with the Dogs vs Cats dataset:\n",
    "        - [Link](https://colab.research.google.com/drive/1qZ4uPq94ZV0UcONdhepiTFV6HIUCsvpq?usp=sharing)\n",
    "    - Consider paying for Colab Pro for a month ($9.99/mo)\n",
    "    \n",
    "- **Do the Convolutional Neural Networks section in the appendix.**\n",
    "- Try smaller image sizes:\n",
    "    - I've seen students get great results using 32 x 32 pixels - 64 x 64 pixels\n",
    "    \n"
   ]
  },
  {
   "cell_type": "markdown",
   "metadata": {},
   "source": [
    "### NLP Project"
   ]
  },
  {
   "cell_type": "markdown",
   "metadata": {},
   "source": [
    "- You have the choice of regular and/or Deep NLP\n",
    "- You should focus on predicting the sentiment of the provided dataset, not the products."
   ]
  },
  {
   "cell_type": "markdown",
   "metadata": {},
   "source": [
    "### Recommendation System Project"
   ]
  },
  {
   "cell_type": "markdown",
   "metadata": {},
   "source": [
    "- You can use `surprise` or PySpark or something else. You are not required to use any particular approach/package.\n",
    "- Consider finding your own dataset\n",
    "    - The preapproved one is kind of boring."
   ]
  },
  {
   "cell_type": "markdown",
   "metadata": {},
   "source": [
    "## Office Hours Material"
   ]
  },
  {
   "cell_type": "markdown",
   "metadata": {},
   "source": [
    "- Add questions to the questions gdoc:\n",
    "    - https://docs.google.com/document/d/196yIMNSRSRspBdBmjHq7vMhFF-YdpvkyYEHYV5nm8xg/edit?usp=sharing\n",
    "    \n",
    "- We will cover some of the appendix sections during office hours as requested by the group/vote."
   ]
  },
  {
   "cell_type": "markdown",
   "metadata": {},
   "source": [
    "## Rubic"
   ]
  },
  {
   "cell_type": "markdown",
   "metadata": {},
   "source": [
    "- The pdf of the rubric is missing from the project repo. \n",
    "- I have added a pdf copy to this repository\n",
    "    - `Mod 4 > mod_4_final_project >Module 4 - Final Project Review - Data Science Online - Rubric.pdf`"
   ]
  },
  {
   "cell_type": "markdown",
   "metadata": {},
   "source": [
    "## Thinking of Recommendations "
   ]
  },
  {
   "cell_type": "markdown",
   "metadata": {},
   "source": [
    "- If you're having trouble thinking of recommendations for the powerpoint and in your notebook:\n",
    "    - Consider making model-based recommendations.\n",
    "        - Assume your audience wants to make their own model. What would you advise them to do or to avoid?\n",
    "        "
   ]
  },
  {
   "cell_type": "code",
   "execution_count": null,
   "metadata": {},
   "outputs": [],
   "source": []
  }
 ],
 "metadata": {
  "kernelspec": {
   "display_name": "learn-env",
   "language": "python",
   "name": "learn-env"
  },
  "language_info": {
   "codemirror_mode": {
    "name": "ipython",
    "version": 3
   },
   "file_extension": ".py",
   "mimetype": "text/x-python",
   "name": "python",
   "nbconvert_exporter": "python",
   "pygments_lexer": "ipython3",
   "version": "3.6.11"
  },
  "toc": {
   "base_numbering": 1,
   "nav_menu": {},
   "number_sections": true,
   "sideBar": true,
   "skip_h1_title": false,
   "title_cell": "Table of Contents",
   "title_sidebar": "Contents",
   "toc_cell": false,
   "toc_position": {},
   "toc_section_display": true,
   "toc_window_display": true
  }
 },
 "nbformat": 4,
 "nbformat_minor": 4
}
