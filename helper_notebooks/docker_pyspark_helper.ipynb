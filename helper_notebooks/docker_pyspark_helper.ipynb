{
 "cells": [
  {
   "cell_type": "markdown",
   "metadata": {},
   "source": [
    "# Load PySpark - Docker Helper Notebook for Loading Repos in Pyspark Container"
   ]
  },
  {
   "cell_type": "markdown",
   "metadata": {},
   "source": [
    "## How to Use"
   ]
  },
  {
   "cell_type": "markdown",
   "metadata": {},
   "source": [
    "- SET THE LOCAL FOLDER:\n",
    "    - Create a folder for cloning repositories to run with PySpark container.\n",
    "    - Paste the ABSOLUTE FILEPATH for this folder as `storage_folder_abs_path` below\n",
    "\n",
    "\n",
    "- SET THE REPOSITORY URL:\n",
    "    - Fork the repository to clone and copy its url.\n",
    "    - Paste the URL into the \"repo_url\" variable and run the remaining cells.\n",
    "\n",
    "- RUN ALL CELLS THEN:\n",
    "    - Copy the command printed at the bottom of the notebook and paste into your terminal to boot up Docker\n",
    "    - The repo contents will be located inside the \"work\" folder that appears in Jupyter"
   ]
  },
  {
   "cell_type": "code",
   "execution_count": 1,
   "metadata": {
    "ExecuteTime": {
     "end_time": "2020-10-10T22:23:19.386102Z",
     "start_time": "2020-10-10T22:23:19.376976Z"
    }
   },
   "outputs": [
    {
     "data": {
      "text/plain": [
       "'ds-spark-sparkcontext-onl01-dtsc-ft-070620'"
      ]
     },
     "execution_count": 1,
     "metadata": {},
     "output_type": "execute_result"
    }
   ],
   "source": [
    "## Specify Repo URL to clone\n",
    "repo_url = \"https://github.com/jirvingphd/ds-spark-sparkcontext-onl01-dtsc-ft-070620\"\n",
    "folder = repo_url.split('/')[-1]\n",
    "folder"
   ]
  },
  {
   "cell_type": "code",
   "execution_count": 2,
   "metadata": {
    "ExecuteTime": {
     "end_time": "2020-10-10T22:23:20.580988Z",
     "start_time": "2020-10-10T22:23:20.577019Z"
    }
   },
   "outputs": [
    {
     "data": {
      "text/plain": [
       "'/Users/jamesirving/Documents/GitHub/Docker'"
      ]
     },
     "execution_count": 2,
     "metadata": {},
     "output_type": "execute_result"
    }
   ],
   "source": [
    "import os\n",
    "## Absolute filepath of folder to clone repository into \n",
    "storage_folder_abs_path =  \"/Users/jamesirving/Documents/GitHub/Docker/\"\n",
    "os.chdir(storage_folder_abs_path)\n",
    "os.getcwd()"
   ]
  },
  {
   "cell_type": "code",
   "execution_count": 3,
   "metadata": {
    "ExecuteTime": {
     "end_time": "2020-10-10T22:23:22.994520Z",
     "start_time": "2020-10-10T22:23:22.049009Z"
    }
   },
   "outputs": [
    {
     "name": "stdout",
     "output_type": "stream",
     "text": [
      "Cloning into 'ds-spark-sparkcontext-onl01-dtsc-ft-070620'...\n",
      "remote: Enumerating objects: 26, done.\u001b[K\n",
      "remote: Counting objects: 100% (26/26), done.\u001b[K\n",
      "remote: Compressing objects: 100% (16/16), done.\u001b[K\n",
      "remote: Total 26 (delta 7), reused 25 (delta 6), pack-reused 0\u001b[K\n",
      "\u001b[KUnpacking objects: 100% (26/26), done.\n"
     ]
    }
   ],
   "source": [
    "## Clones repo and saves absolute file path\n",
    "!git clone {repo_url}\n",
    "abs_path = os.path.abspath(folder)"
   ]
  },
  {
   "cell_type": "code",
   "execution_count": 4,
   "metadata": {
    "ExecuteTime": {
     "end_time": "2020-10-10T22:23:24.411312Z",
     "start_time": "2020-10-10T22:23:24.408367Z"
    }
   },
   "outputs": [
    {
     "name": "stdout",
     "output_type": "stream",
     "text": [
      "docker run -it -p 8888:8888 -v /Users/jamesirving/Documents/GitHub/Docker/ds-spark-sparkcontext-onl01-dtsc-ft-070620:/home/jovyan/work --rm jupyter/pyspark-notebook\n"
     ]
    }
   ],
   "source": [
    "## Prints the command to boot folder in docker container. Paste into your terminal\n",
    "docker_command = f\"docker run -it -p 8888:8888 -v {abs_path}:/home/jovyan/work --rm jupyter/pyspark-notebook\"\n",
    "print(docker_command)"
   ]
  },
  {
   "cell_type": "code",
   "execution_count": null,
   "metadata": {},
   "outputs": [],
   "source": []
  }
 ],
 "metadata": {
  "kernelspec": {
   "display_name": "Python [conda env:learn-env] *",
   "language": "python",
   "name": "conda-env-learn-env-py"
  },
  "language_info": {
   "codemirror_mode": {
    "name": "ipython",
    "version": 3
   },
   "file_extension": ".py",
   "mimetype": "text/x-python",
   "name": "python",
   "nbconvert_exporter": "python",
   "pygments_lexer": "ipython3",
   "version": "3.6.11"
  },
  "toc": {
   "base_numbering": 1,
   "nav_menu": {},
   "number_sections": true,
   "sideBar": true,
   "skip_h1_title": false,
   "title_cell": "Table of Contents",
   "title_sidebar": "Contents",
   "toc_cell": false,
   "toc_position": {},
   "toc_section_display": true,
   "toc_window_display": false
  }
 },
 "nbformat": 4,
 "nbformat_minor": 2
}
