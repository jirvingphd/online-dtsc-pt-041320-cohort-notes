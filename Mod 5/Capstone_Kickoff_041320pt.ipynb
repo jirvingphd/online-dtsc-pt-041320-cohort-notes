{
 "cells": [
  {
   "cell_type": "markdown",
   "metadata": {},
   "source": [
    "# Capstone Kickoff"
   ]
  },
  {
   "cell_type": "markdown",
   "metadata": {},
   "source": [
    "- online-ds-pt-041320\n",
    "- 12/09/20"
   ]
  },
  {
   "cell_type": "markdown",
   "metadata": {},
   "source": [
    "## Announcements/Reminders"
   ]
  },
  {
   "cell_type": "markdown",
   "metadata": {},
   "source": [
    "- **MOD 4 PROJECT REVIEW HARD DEADLINE = 12/19/20**\n",
    "    - If you haven't yet, SCHEDULE YOUR REVIEW!!!\n",
    "        - https://go.oncehub.com/041320PTProjectReviews"
   ]
  },
  {
   "cell_type": "markdown",
   "metadata": {},
   "source": [
    "## Learning Objectives"
   ]
  },
  {
   "cell_type": "markdown",
   "metadata": {},
   "source": [
    "- Learn the deadlines for the capstone project.\n",
    "- [Review the learn.co capstone project README.](https://learn.co/tracks/module-5-data-science-career-2-1/capstone-project/capstone-project/capstone-project)\n",
    "- Discuss some strategies/goals for deciding what to do for your capstone.\n",
    "- Example capstone projects\n"
   ]
  },
  {
   "cell_type": "markdown",
   "metadata": {},
   "source": [
    "# Timeline [041320PT]"
   ]
  },
  {
   "cell_type": "markdown",
   "metadata": {},
   "source": [
    "### CAPSTONE DEADLINES"
   ]
  },
  {
   "cell_type": "markdown",
   "metadata": {},
   "source": [
    "| Deadline/Period| Project Component | Date|\n",
    "| --- |---|---|\n",
    "| **Deadline** | **Datasets chosen/proposed** | **12/18/20**|\n",
    "|**BREAK**|**HOLIDAY BREAK** (No study group or 1:1s)|12/24/20 - 01/02/21|\n",
    "| **Deadline**| **Turn in your links and schedule Your Review**<br>https://go.oncehub.com/041320PTProjectReviews| **01/23/21**|\n",
    "| **PROJECT REVIEWS** | **WEEK ONE (First Review)** |01/23/21 -01/29/21|\n",
    "|**PROJECT REVIEWS** | **WEEK TWO (Follow-Up Reviews**|01/30/21 - 02/05/21|\n",
    "|**HARD DEADLINE**| **Successfully Pass Project Review**|**02/05/21**|"
   ]
  },
  {
   "cell_type": "markdown",
   "metadata": {},
   "source": [
    "### GUIDELINES"
   ]
  },
  {
   "cell_type": "markdown",
   "metadata": {},
   "source": [
    "| Guideline| Project Component | Date|\n",
    "| --- |---|---|\n",
    "| Guideline |Majority of EDA/analysis/modeling | ~01/13/21 |\n",
    "| Guideline| Presentation & Dashboard building|Week of 01/18/21|"
   ]
  },
  {
   "cell_type": "markdown",
   "metadata": {},
   "source": [
    "### GRADUATION DEADLINE"
   ]
  },
  {
   "cell_type": "markdown",
   "metadata": {},
   "source": [
    "> #### **ALL GRADUATION REQUIREMENTS MUST BE COMPLETED BY 02/05/21**\n",
    "- [ ] Passed all project reviews.\n",
    "- [ ] 7 Blog Posts completed."
   ]
  },
  {
   "cell_type": "markdown",
   "metadata": {},
   "source": [
    "# CAPSTONE README"
   ]
  },
  {
   "cell_type": "markdown",
   "metadata": {},
   "source": [
    "## Topic:\n",
    ">- Your project should develop a data product or analysis related to a single topic.\n",
    "- You're completely free to choose any project topic that interests you. \n",
    "- However, the project scope must be end-to-end, from data sourcing and cleaning all the way through tuning and analysis of your trained model(s).\n",
    "\n",
    "\n",
    "\n",
    "- **When choosing a topic, think through these questions:**\n",
    "    * What would I be motivated to work on?\n",
    "    * What data could I use?\n",
    "    * How could an individual or organization use my product or findings?\n",
    "    * What will I be able to accomplish in the time I have available?\n",
    "    * What challenges do I foresee with this project?"
   ]
  },
  {
   "cell_type": "markdown",
   "metadata": {},
   "source": [
    "## Technical Requirements\n",
    "\n",
    "Your project must meet the following technical requirements:\n",
    "\n",
    "1. **_No Off-The-Shelf Datasets_**. \n",
    "    - From Learn:\n",
    "        - This project is a chance for you to highlight your critical thinking and data sourcing skills by finding a good dataset to answer a useful question. You _can_ use a pre-existing dataset, but you should consider combining it with other datasets and/or engineering your own features. The goal is to showcase your ability to find and work with data, so just grabbing a squeaky-clean dataset is out of the question.\n",
    "    - **Note from James:**\n",
    "        - Adding additional source of data/APIs or using unsupervised learning like autoencoders or clustering can be used to turn an off-the-shelf dataset into something appropriate for the capstone. \n",
    "    \n",
    "    \n",
    "    \n",
    "2. **_Strong Data Exploration, with at least 4 relevant data visualizations._** \n",
    "    - From Learn:\n",
    "        - There are few skills that impress employers more than the ability to dive into a new dataset and produce engaging visualizations that communicate important information. For this project, anything worth knowing is worth visualizing. Level up your project by digging into more advanced visualization libraries like seaborn!\n",
    "\n",
    "    - **Note from James**:\n",
    "        - If you plan to make a dashboard, experiment with using Plotly/PlotlyExpress figures, which are very easy to use with Dash dashboards.\n",
    "        - Plotly Express: https://plot.ly/python/plotly-express/\n",
    "        - [Dash User guide](https://dash.plot.ly/?_ga=2.156178875.1650132709.1582051288-909099599.1571873348)\n",
    "\n",
    "\n",
    "\n",
    "3. **_Makes use of Supervised Learning_**.\n",
    "    - From Learn:\n",
    "        - It is great to use **_Unsupervised Learning_** techniques as needed in your project (for instance, segmentation with clustering algorithms), but supervised learning should play a central role in answering your question. \n",
    "\n",
    "\n",
    "4. **_Explicitly makes use of a Data Science Process such as OSEMN or CRISP-DM_**. \n",
    "    - From learn:\n",
    "        - Select a Data Science Process to use to give structure to your project. Each step in the process should correspond to a section in your Jupyter Notebook.  \n",
    "\n",
    "    - **Note from James:**\n",
    "        - I have a template project repo with a template README and the OSEMN framework notebook.\n",
    "        - Repo: https://github.com/jirvingphd/osemn-project-template\n",
    "            - **Fork the repo then click the green \"Use template\" button**\n",
    "\n",
    "\n",
    "5. **_A well-defined question, with a well-defined answer._** \n",
    "    - Your project should clearly state the question you are trying to answer, and provide any background context needed to understand it. \n",
    "        - For instance, if you are trying to detect fault lines using Earthquake data, you should provide a brief primer on both the topic and your dataset so that the reader can better understand your work. \n",
    "    - Similarly, the results of your project should be clearly communicated. **Do not just tell your audience the final accuracy of your models--be sure to answer \"big picture\" questions as well.** \n",
    "        - For instance: Would you recommend shipping this model to production, or is more work needed? \n",
    "        \n",
    "        \n",
    "        \n",
    "- **NOTE FROM JAMES (originally part of learn lesson): Think of 2 versions of your question:**\n",
    "    - One that could be answered in ~3 days. \n",
    "    - One that you're excited/motivated to tackle and would want to continue working on post-graduation.\n",
    "        "
   ]
  },
  {
   "cell_type": "markdown",
   "metadata": {
    "ExecuteTime": {
     "end_time": "2020-02-18T16:58:35.959856Z",
     "start_time": "2020-02-18T16:58:35.948545Z"
    }
   },
   "source": [
    "\n",
    "## Deliverables\n",
    "\n",
    "For online students, the deliverables for mthis project consist of the following three components:\n",
    "\n",
    ">1. A Jupyter notebook for a presentation.\n",
    "  * The Jupyter notebook will have two components:\n",
    "    1. An **_Abstract_** section that briefly explains your problem, your methodology, and your findings, and business recommendations as a result of your findings. This section should be 1-2 paragraphs long.<br><br>\n",
    "    2. The technical analysis for a data science audience. This detailed technical analysis should explicitly follow a Data Science Process as outlined in the previous section. It should be well-formatted and organized, and should contain all code, visualizations, and detailed explanations/analysis.\n",
    "    \n",
    "> 2. An organized **README.md** file in the GitHub repository containing your project code that describes the contents of the repository. This file should be the source of information for navigating through all the code in your repository. \n",
    "    \n",
    "> 3. A blog post showcasing your project, with a focus on your methodology and findings. A well-written blog post about your project will probably be the first thing most recruiters and hiring managers see, so really take the time to polish up this blog post and explain your project, methodology, and findings/business recommendations in a clear, concise manner. This blog post should cover everything important about your project, but remember that your audience for this blog post will largely be non-technical. Your blog post should definitely contain visualizations, code snippets, and anything else you find important, but don't get bogged down trying to explain highly technical concepts. Your blog post should provide a link to the Github repository containing your actual project, for people that want to really dive into the technical aspects of your project.\n",
    "    * Refer back to the [Blogging Guidelines](https://github.com/learn-co-curriculum/dsc-welcome-blogging) for the technical requirements and blog ideas.\n"
   ]
  },
  {
   "cell_type": "markdown",
   "metadata": {},
   "source": [
    "# EXAMPLES"
   ]
  },
  {
   "cell_type": "markdown",
   "metadata": {},
   "source": [
    "#### From Capstone README:\n",
    "Take a look at this [technical report](https://github.com/paulinaczheng/twitter_flu_tracking) from a Flatiron student that used tweet data to predict the weekly number of flu cases during flu season. Pay attention to how well structured the project is, and how much she relies on great visualizations to tell her story for her. Your explanations don't have to be wordy - a visualization is worth a thousand words!"
   ]
  },
  {
   "cell_type": "markdown",
   "metadata": {},
   "source": [
    "## Example Capstones"
   ]
  },
  {
   "cell_type": "markdown",
   "metadata": {},
   "source": [
    "- https://github.com/slieb74/NBA-Shot-Analysis\n",
    "- https://github.com/NaokoSuga/gentrification_yelp\n",
    "- https://github.com/paulinaczheng/twitter_flu_tracking\n",
    "- https://github.com/mrethana/news_bias_final\n",
    "- https://github.com/cpease00/etf_forecasting\n",
    "- https://github.com/davidmasse/freelancer-rates\n",
    "- https://github.com/lpilossoph/Capstone-Project\n",
    "- https://github.com/whitcrrd/puzzle-image-segmentation\n",
    "\n",
    "### Recent Graduates (070620FT)\n",
    "- https://github.com/spags093/dsc-capstone-project-v2-onl01-dtsc-ft-070620/\n",
    "- https://github.com/emperorner0/AI_Generated_Review_Detection_in_Book_Reviews\n",
    "- https://github.com/msantana269/Capstone"
   ]
  },
  {
   "cell_type": "markdown",
   "metadata": {},
   "source": [
    "### My Cohort (online-ds-ft-021119)"
   ]
  },
  {
   "cell_type": "markdown",
   "metadata": {},
   "source": [
    "- https://github.com/whitcrrd/puzzle-image-segmentation\n",
    "- https://github.com/kpokrass/Global_Warming\n",
    "\n",
    "- https://github.com/jirvingphd/dsc-5-capstone-project-online-ds-ft-021119"
   ]
  },
  {
   "cell_type": "markdown",
   "metadata": {},
   "source": [
    "## Example Dashboards"
   ]
  },
  {
   "cell_type": "markdown",
   "metadata": {},
   "source": [
    "#### Hosted Online:\n",
    "- https://still-plateau-25734.herokuapp.com/ (Dash)\n",
    "- http://burlington-app.herokuapp.com/ (Dash)\n",
    "\n",
    "- https://datastudio.google.com/reporting/20efa577-3f3f-448c-a11b-0ccbba069500 (Google Data Studio)\n",
    "\n",
    "#### Must Clone Repo: \n",
    "- https://github.com/spags093/dsc-capstone-project-v2-onl01-dtsc-ft-070620/ (Flask)\n",
    "    - Check the `App instructions.txt` [inside this folder](https://github.com/spags093/dsc-capstone-project-v2-onl01-dtsc-ft-070620/tree/master/Deepfake%20Detection%20App) for how to run locally"
   ]
  },
  {
   "cell_type": "markdown",
   "metadata": {},
   "source": [
    "## Resources"
   ]
  },
  {
   "cell_type": "markdown",
   "metadata": {},
   "source": [
    "- **Note from James:**\n",
    "    - I have a template project repo with a template README and the OSEMN framework notebook.\n",
    "    - Repo: https://github.com/jirvingphd/osemn-project-template\n",
    "        - **Fork the repo then click the green \"Use template\" button**"
   ]
  },
  {
   "cell_type": "code",
   "execution_count": null,
   "metadata": {},
   "outputs": [],
   "source": []
  }
 ],
 "metadata": {
  "kernelspec": {
   "display_name": "learn-env",
   "language": "python",
   "name": "learn-env"
  },
  "language_info": {
   "codemirror_mode": {
    "name": "ipython",
    "version": 3
   },
   "file_extension": ".py",
   "mimetype": "text/x-python",
   "name": "python",
   "nbconvert_exporter": "python",
   "pygments_lexer": "ipython3",
   "version": "3.6.11"
  },
  "toc": {
   "base_numbering": 1,
   "nav_menu": {},
   "number_sections": false,
   "sideBar": true,
   "skip_h1_title": false,
   "title_cell": "Table of Contents",
   "title_sidebar": "Contents",
   "toc_cell": false,
   "toc_position": {},
   "toc_section_display": true,
   "toc_window_display": false
  }
 },
 "nbformat": 4,
 "nbformat_minor": 2
}
