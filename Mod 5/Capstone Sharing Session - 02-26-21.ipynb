{
 "cells": [
  {
   "cell_type": "markdown",
   "metadata": {},
   "source": [
    "# Capstone Sharing Session"
   ]
  },
  {
   "cell_type": "markdown",
   "metadata": {},
   "source": [
    "- Cohort: online-ds-pt-041320\n",
    "- 02/26/21"
   ]
  },
  {
   "cell_type": "markdown",
   "metadata": {},
   "source": [
    "##  📢 Announcements/Reminders"
   ]
  },
  {
   "cell_type": "markdown",
   "metadata": {},
   "source": [
    "\n",
    "> ### 👨‍🎓 🎉Graduation Ceremony is 03/11/21 at 7 pm EST. 🎉👩‍🎓    \n",
    "- **Look out for an email invite from Ashlyn King** and **make sure to fill out the survey** if you want your comments included when they read your name.\n",
    "\n",
    "- Note: You have until this Tuesday (03/02/21) at 12pm EST to submit your final graduation requirements and still be included in this ceremony. "
   ]
  },
  {
   "cell_type": "markdown",
   "metadata": {},
   "source": [
    "## 🎥 Presentations"
   ]
  },
  {
   "cell_type": "markdown",
   "metadata": {},
   "source": [
    "| # | Student | Capstone Title | Repo Link| App Link |\n",
    "| --- | --- | --- | --- | --- |\n",
    "|1. | Chris Lewis | COVID-19 Classification Through Various Method | [Repo Link](https://github.com/Lewis34cs/corona_audio) | N/A|\n",
    "|2. | Claude Fried | Predicting and Simulating Baseball Lineups | [Repo Link](https://github.com/cwf231/predicting_and_simulating_baseball_outcomes) | [App Link](https://capstone-baseball-simulator.herokuapp.com/)|\n",
    "|3. | Michael Mahoney | Modeling Truth: Can Neural Networks Sniff Out Lies | [Repo Link](https://github.com/minthammock/cap-stone)|[App Link](https://capstone-dash-app.herokuapp.com/)|\n",
    "|4. | Collin Loo | Sentiment Analysis with Deep NLP | [Repo Link](https://github.com/collinloo/Sentiment-Analysis-with-Deep-NLP) | [App Link](http://collinloo.pythonanywhere.com/) |\n"
   ]
  },
  {
   "cell_type": "code",
   "execution_count": null,
   "metadata": {},
   "outputs": [],
   "source": []
  }
 ],
 "metadata": {
  "kernelspec": {
   "display_name": "learn-env",
   "language": "python",
   "name": "learn-env"
  },
  "language_info": {
   "codemirror_mode": {
    "name": "ipython",
    "version": 3
   },
   "file_extension": ".py",
   "mimetype": "text/x-python",
   "name": "python",
   "nbconvert_exporter": "python",
   "pygments_lexer": "ipython3",
   "version": "3.6.11"
  },
  "toc": {
   "base_numbering": 1,
   "nav_menu": {},
   "number_sections": false,
   "sideBar": true,
   "skip_h1_title": false,
   "title_cell": "Table of Contents",
   "title_sidebar": "Contents",
   "toc_cell": false,
   "toc_position": {
    "height": "calc(100% - 180px)",
    "left": "10px",
    "top": "150px",
    "width": "256px"
   },
   "toc_section_display": true,
   "toc_window_display": false
  },
  "varInspector": {
   "cols": {
    "lenName": 16,
    "lenType": 16,
    "lenVar": 40
   },
   "kernels_config": {
    "python": {
     "delete_cmd_postfix": "",
     "delete_cmd_prefix": "del ",
     "library": "var_list.py",
     "varRefreshCmd": "print(var_dic_list())"
    },
    "r": {
     "delete_cmd_postfix": ") ",
     "delete_cmd_prefix": "rm(",
     "library": "var_list.r",
     "varRefreshCmd": "cat(var_dic_list()) "
    }
   },
   "types_to_exclude": [
    "module",
    "function",
    "builtin_function_or_method",
    "instance",
    "_Feature"
   ],
   "window_display": false
  }
 },
 "nbformat": 4,
 "nbformat_minor": 4
}
