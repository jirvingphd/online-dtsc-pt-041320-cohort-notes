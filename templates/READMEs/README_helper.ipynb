{
 "cells": [
  {
   "cell_type": "markdown",
   "metadata": {},
   "source": [
    "# README Helper Notebook"
   ]
  },
  {
   "cell_type": "markdown",
   "metadata": {},
   "source": [
    "## Goal/Purpose"
   ]
  },
  {
   "cell_type": "markdown",
   "metadata": {},
   "source": [
    "- This notebook is meant to be a helper tool when writing your own project READMEs. \n",
    "- It will load and preview your README.md inside of this notebook so you can see the final product inside of Jupyter.\n",
    "\n",
    "- TO DO:\n",
    "    - [ ] Add code to edit the text for any local image references to automatically move the images to a `images/` folder and change their links inside the READMDE.md"
   ]
  },
  {
   "cell_type": "markdown",
   "metadata": {},
   "source": [
    "# Preview README.MD"
   ]
  },
  {
   "cell_type": "code",
   "execution_count": 1,
   "metadata": {
    "ExecuteTime": {
     "end_time": "2020-08-28T16:10:56.146672Z",
     "start_time": "2020-08-28T16:10:56.134732Z"
    },
    "scrolled": false
   },
   "outputs": [
    {
     "data": {
      "text/markdown": [
       "# Title that recommends an action\n",
       "## Subtitle describing the analysis \n",
       "\n",
       "**Authors**: Student1, Student2, Student3\n",
       "\n",
       "The contents of this repository detail an analysis of the module one project. This analysis is detailed in hopes of making the work accessible and replicable.\n",
       "\n",
       "\n",
       "### Business problem:\n",
       "\n",
       "Here is where you state the business problem you were trying to solve\n",
       "\n",
       "\n",
       "### Data\n",
       "Data can include source and high-level description (e.g. # obs)\n",
       "\n",
       "\n",
       "## Methods\n",
       "- descriptive analysis\n",
       "- choices made\n",
       "- key relevant findings from exploritory data analysis for mod 1, will be more involved in future mod\n",
       "\n",
       "## Results\n",
       "\n",
       "### Here are examples of how to embed images from your sub-folder\n",
       "\n",
       "\n",
       "#### Visual 1\n",
       "![graph1](./images/visual1.png)\n",
       "> Sentence about visualization.\n",
       "\n",
       "#### Visual 2\n",
       "![graph2](./images/visual2.png)\n",
       "> Sentence about visualization.\n",
       "\n",
       "\n",
       "## Recommendations:\n",
       "\n",
       "More of your own text here\n",
       "\n",
       "\n",
       "## Limitations & Next Steps\n",
       "\n",
       "More of your own text here\n",
       "\n",
       "\n",
       "### For further information\n",
       "Please review the narrative of our analysis in [our jupyter notebook](./main_notebook.ipynb) or review our [presentation](./SampleProjectSlides.pdf)\n",
       "\n",
       "For any additional questions, please contact **email, email, email)\n",
       "\n",
       "\n",
       "##### Repository Structure:\n",
       "\n",
       "Here is where you would describe the structure of your repoistory and its contents, for exampe:\n",
       "\n",
       "```\n",
       "\n",
       "├── README.md                       <- The top-level README for reviewers of this project.\n",
       "├── main_notebook.ipynb             <- narrative documentation of analysis in jupyter notebook\n",
       "├── presentation.pdf                <- pdf version of project presentation\n",
       "└── images\n",
       "    └── images                          <- both sourced externally and generated from code\n",
       "\n",
       "```\n"
      ],
      "text/plain": [
       "<IPython.core.display.Markdown object>"
      ]
     },
     "metadata": {},
     "output_type": "display_data"
    }
   ],
   "source": [
    "from IPython.display import display, Markdown\n",
    "with open('README.md') as f:\n",
    "    readme = f.read()\n",
    "    display(Markdown(readme))\n",
    "    "
   ]
  },
  {
   "cell_type": "markdown",
   "metadata": {},
   "source": [
    "# Edit Image Links"
   ]
  },
  {
   "cell_type": "code",
   "execution_count": null,
   "metadata": {
    "ExecuteTime": {
     "end_time": "2020-08-28T15:15:09.710822Z",
     "start_time": "2020-08-28T15:15:09.707776Z"
    }
   },
   "outputs": [],
   "source": [
    "print(readme)"
   ]
  },
  {
   "cell_type": "code",
   "execution_count": null,
   "metadata": {},
   "outputs": [],
   "source": []
  }
 ],
 "metadata": {
  "kernelspec": {
   "display_name": "learn-env",
   "language": "python",
   "name": "learn-env"
  },
  "language_info": {
   "codemirror_mode": {
    "name": "ipython",
    "version": 3
   },
   "file_extension": ".py",
   "mimetype": "text/x-python",
   "name": "python",
   "nbconvert_exporter": "python",
   "pygments_lexer": "ipython3",
   "version": "3.6.11"
  },
  "toc": {
   "base_numbering": 1,
   "nav_menu": {},
   "number_sections": true,
   "sideBar": true,
   "skip_h1_title": false,
   "title_cell": "Table of Contents",
   "title_sidebar": "Contents",
   "toc_cell": false,
   "toc_position": {},
   "toc_section_display": true,
   "toc_window_display": false
  }
 },
 "nbformat": 4,
 "nbformat_minor": 4
}
